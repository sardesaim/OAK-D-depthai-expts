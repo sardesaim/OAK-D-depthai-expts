{
 "cells": [
  {
   "cell_type": "markdown",
   "metadata": {
    "id": "ZZeseAfnTlbu"
   },
   "source": [
    "# Mount Google Drive. \n",
    "\n",
    "Make sure you have shortcut to PSA-oak-d-images on the root of your gdrive\n"
   ]
  },
  {
   "cell_type": "code",
   "execution_count": 1,
   "metadata": {
    "colab": {
     "base_uri": "https://localhost:8080/",
     "height": 34
    },
    "id": "eDoO6r5mKdf6",
    "outputId": "75304787-011d-4462-b73e-e9d323aec263"
   },
   "outputs": [],
   "source": [
    "# from google.colab import drive\n",
    "# drive.mount('/content/gdrive', force_remount=True)"
   ]
  },
  {
   "cell_type": "markdown",
   "metadata": {
    "id": "WcZElkuYT3N_"
   },
   "source": [
    "# Install Dependencies \n",
    "\n",
    "The model is tested on tf 1.15 so, installing it would make sure that it works as expected. Can change this later to NCS2 mode/ TFLite. "
   ]
  },
  {
   "cell_type": "code",
   "execution_count": 2,
   "metadata": {
    "colab": {
     "base_uri": "https://localhost:8080/",
     "height": 428
    },
    "id": "Vo2mBuvsVgm0",
    "outputId": "49a31110-0691-4a06-f1f8-f824a23900e3"
   },
   "outputs": [],
   "source": [
    "# !pip install tensorflow==1.15"
   ]
  },
  {
   "cell_type": "markdown",
   "metadata": {
    "id": "O3tptfNdUJLy"
   },
   "source": [
    "# Import libraries. \n",
    "\n",
    "Import necessary libraries. "
   ]
  },
  {
   "cell_type": "code",
   "execution_count": 3,
   "metadata": {
    "id": "6FjvUz3CIXt5"
   },
   "outputs": [],
   "source": [
    "import numpy as np\n",
    "import cv2 \n",
    "import matplotlib.pyplot as plt\n",
    "import tensorflow as tf\n",
    "from PIL import Image\n",
    "import imageio\n",
    "import glob\n",
    "import ntpath\n",
    "import time\n",
    "import os\n",
    "%matplotlib inline\n",
    "import argparse\n",
    "from pathlib import Path\n",
    "from multiprocessing import Process\n",
    "from time import time\n",
    "import pandas as pd\n",
    "# import imutils\n",
    "from skimage.transform import resize\n",
    "from concurrent.futures import ThreadPoolExecutor\n",
    "executor = ThreadPoolExecutor(max_workers=16)"
   ]
  },
  {
   "cell_type": "markdown",
   "metadata": {
    "id": "HDw_ZJYCUOpe"
   },
   "source": [
    "# Dummy Argparser\n",
    "\n",
    "set up a dummy argparser for making changes to input paths and models easily\n"
   ]
  },
  {
   "cell_type": "code",
   "execution_count": 4,
   "metadata": {
    "id": "_M4vD0DsIeNN"
   },
   "outputs": [],
   "source": [
    "class Args:\n",
    "    input_path='D:/00_NCSU/00_Resources/00_Datasets/PSA-oak-d-images/'\n",
    "    model_path='D:/00_NCSU/Fall2020/ECE633_IndividualTopics/OAK-D-Weed-Cam/Model/deeplabv3+/models/3_class_model_mobilenet_v3_small_v2.1/3_class_model_mobilenet_v3_small_v2.1_1080x1920.pb'\n",
    "    model_size=(1080,1920)\n",
    "\n",
    "args = Args()\n",
    "input_path = args.input_path\n",
    "current_input_size=args.model_size\n",
    "current_model = args.model_path"
   ]
  },
  {
   "cell_type": "code",
   "execution_count": 5,
   "metadata": {},
   "outputs": [],
   "source": [
    "import pickle\n",
    "\n",
    "biomass_availability = [\n",
    "    '2020_09_23_09_39_44',\n",
    "    '2020_09_23_09_41_08',\n",
    "    '2020_09_23_09_42_34',\n",
    "    '2020_09_23_09_43_53',\n",
    "    '2020_09_23_09_44_44',\n",
    "    '2020_09_23_09_45_44',\n",
    "    '2020_09_23_09_47_05',\n",
    "    '2020_09_23_09_48_05',\n",
    "    '2020_09_23_09_48_58',\n",
    "    '2020_09_23_09_49_56',\n",
    "    '2020_09_23_09_51_34',\n",
    "    '2020_09_23_09_52_18',\n",
    "    '2020_10_02_09_48_46',\n",
    "    '2020_10_02_09_59_14',\n",
    "    '2020_10_02_09_56_26',\n",
    "    '2020_10_02_10_07_35',\n",
    "    '2020_10_02_10_05_44',\n",
    "    '2020_10_02_10_06_03',\n",
    "    '2020_10_02_10_17_15',\n",
    "    '2020_10_02_10_51_00',\n",
    "    '2020_10_02_10_52_34',\n",
    "    '2020_10_02_10_58_15',\n",
    "    '2020_10_02_11_00_36',\n",
    "    '2020_10_09_10_22_21',\n",
    "    '2020_10_09_10_22_57',\n",
    "    '2020_10_09_10_35_10',\n",
    "    '2020_10_09_10_35_43',\n",
    "    '2020_10_09_10_42_33',\n",
    "    '2020_10_09_10_43_20',\n",
    "    '2020_10_09_10_52_09',\n",
    "    '2020_10_09_10_52_40',\n",
    "    '2020_10_09_10_59_08',\n",
    "    '2020_10_09_11_00_34',\n",
    "    '2020_10_09_11_07_13',\n",
    "    '2020_10_09_11_08_47',\n",
    "    '2020_10_09_11_15_26',\n",
    "    '2020_10_09_11_16_44',\n",
    "    '2020_10_09_11_27_14',\n",
    "    '2020_10_09_11_27_55',\n",
    "    '2020_10_09_11_33_58',\n",
    "    '2020_10_09_11_34_38',\n",
    "    '2020_10_09_11_40_49',\n",
    "    '2020_10_09_11_41_47',\n",
    "    '2020_10_09_11_47_33',\n",
    "    '2020_10_09_11_48_22'\n",
    "]\n",
    "\n",
    "data_dir = 'D:/00_NCSU/00_Resources/00_Datasets/PSA-oak-d-images/'"
   ]
  },
  {
   "cell_type": "code",
   "execution_count": 6,
   "metadata": {
    "id": "rYKLknvgOyf0"
   },
   "outputs": [],
   "source": [
    "# data = pd.read_csv(input_path+'annotation.txt', sep=\"\\t\", header=None)\n",
    "# data.columns=[\"Path\", \"good_bad\",\"labeler\"]\n",
    "# data.shape"
   ]
  },
  {
   "cell_type": "markdown",
   "metadata": {
    "id": "37gTEuZhUcsF"
   },
   "source": [
    "# Deeplabv3 model \n",
    "\n",
    "class to run the deeplab model inference. Returns semantic probabilities and segmentation map. "
   ]
  },
  {
   "cell_type": "code",
   "execution_count": 7,
   "metadata": {
    "id": "zn_1DdDUVaRW"
   },
   "outputs": [],
   "source": [
    "class DeepLabModel():\n",
    "    \"\"\"Class to load deeplab model and run inference.\"\"\"\n",
    "\n",
    "    INPUT_TENSOR_NAME = 'ImageTensor:0'\n",
    "    OUTPUT_TENSOR_NAME = 'SemanticPredictions:0'\n",
    "    SOFTMAX_TENSOR_NAME = 'SemanticProbabilities:0'\n",
    "    INPUT_SIZE = current_input_size\n",
    "\n",
    "\n",
    "    def __init__(self, path):\n",
    "        \"\"\"Creates and loads pretrained deeplab model.\"\"\"\n",
    "        self.graph = tf.Graph()\n",
    "\n",
    "        graph_def = None\n",
    "        # Extract frozen graph from tar archive.\n",
    "\n",
    "        with tf.gfile.GFile(path, 'rb')as file_handle:\n",
    "            graph_def = tf.GraphDef.FromString(file_handle.read())\n",
    "\n",
    "        if graph_def is None:\n",
    "            raise RuntimeError('Cannot find inference graph')\n",
    "\n",
    "        with self.graph.as_default():\n",
    "            tf.import_graph_def(graph_def, name='')\n",
    "        \n",
    "        # To Run on CPU, uncomment below and add config to self.session as: \", config=config\"\n",
    "        config = tf.ConfigProto(\n",
    "            device_count = {'GPU': 0}\n",
    "            )\n",
    "\n",
    "        self.sess = tf.Session(graph=self.graph, config=config)\n",
    "\n",
    "\n",
    "    def run(self, image):\n",
    "        \"\"\"Runs inference on a single image.\n",
    "\n",
    "        Args:\n",
    "          image: A PIL.Image object, raw input image.\n",
    "\n",
    "        Returns:\n",
    "          seg_map: np.array. values of pixels are classes\n",
    "        \"\"\"\n",
    "\n",
    "        # width, height,ch = image.shape\n",
    "\n",
    "        # resize_ratio = 1.0 * self.INPUT_SIZE / max(width, height)\n",
    "        # target_size = (int(resize_ratio * width), int(resize_ratio * height))\n",
    "\n",
    "        resized_image = cv2.resize(image, (current_input_size))\n",
    "\n",
    "        batch_seg_map, batch_prob_map = self.sess.run(\n",
    "           [self.OUTPUT_TENSOR_NAME,\n",
    "           self.SOFTMAX_TENSOR_NAME],\n",
    "           feed_dict={self.INPUT_TENSOR_NAME: [np.asarray(image)]})\n",
    "\n",
    "        seg_map = batch_seg_map[0]        \n",
    "        # seg_map = resize(seg_map.astype(np.uint8), (height, width), preserve_range=True, order=0, anti_aliasing=False)\n",
    "        prob_map = batch_prob_map[0]        \n",
    "        return seg_map, prob_map"
   ]
  },
  {
   "cell_type": "markdown",
   "metadata": {},
   "source": [
    "# Disparity color to Depth \n",
    "\n",
    "\n",
    "Disparity color is a colorized version of the disparity stream, so to retrieve the actual disparity values from that, we will need to convert it back using the LUT shown below. \n",
    "\n",
    "### Two approaches\n",
    "1. So, using the two LUTs, we would get depth values from disparity_color. \n",
    "2. Direct calculation of depth using vectorization\n"
   ]
  },
  {
   "cell_type": "code",
   "execution_count": 8,
   "metadata": {},
   "outputs": [],
   "source": [
    "def gen_depth(disparity_color):\n",
    "    c_disp_to_color =[   (0,0,0), (110,0,0), (120,0,0), (130,0,0),\n",
    "    (140,0,0), (150,0,0), (160,0,0), (170,0,0), (180,0,0), (190,0,0), (200,0,0),\n",
    "    (210,0,0), (220,0,0), (230,0,0), (240,0,0), (250,0,0), (255,0,0), (255,10,0),\n",
    "    (255,20,0), (255,30,0), (255,40,0), (255,50,0), (255,60,0), (255,70,0),\n",
    "    (255,80,0), (255,90,0), (255,100,0), (255,110,0), (255,120,0), (255,130,0),\n",
    "    (255,140,0), (255,150,0), (255,160,0), (255,170,0), (255,180,0), (255,190,0),\n",
    "    (255,200,0), (255,210,0), (255,220,0), (255,230,0), (255,240,0), (255,250,0),\n",
    "    (255,255,0), (245,255,10), (235,255,20), (225,255,30), (215,255,40),\n",
    "    (205,255,50), (195,255,60), (185,255,70), (175,255,80), (165,255,90),\n",
    "    (155,255,100), (145,255,110), (135,255,120), (125,255,130), (115,255,140),\n",
    "    (105,255,150), (95,255,160), (85,255,170), (75,255,180), (65,255,190),\n",
    "    (55,255,200), (45,255,210), (35,255,220), (25,255,230), (15,255,240),\n",
    "    (5,255,250), (0,245,255), (0,235,255), (0,225,255), (0,215,255), (0,205,255),\n",
    "    (0,195,255), (0,185,255), (0,175,255), (0,165,255), (0,155,255), (0,145,255),\n",
    "    (0,135,255), (0,125,255), (0,115,255), (0,105,255), (0,95,255), (0,85,255),\n",
    "    (0,75,255), (0,65,255), (0,55,255), (0,45,255), (0,35,255), (0,25,255),\n",
    "    (0,15,255), (0,5,255), (0,0,245), (0,0,235), (0,0,225)]\n",
    "    disparity=np.zeros((720,1280))\n",
    "    for i in range(len(c_disp_to_color)):\n",
    "        mask = np.all(disparity_color == c_disp_to_color[i],axis=2)\n",
    "        #apply the mask to overwrite the pixels\n",
    "        disparity[ mask ] = i\n",
    "    depth =  27 * 883.14 * np.reciprocal(disparity)\n",
    "    depth=np.where(depth==float('inf'), 65535, depth) \n",
    "    return depth"
   ]
  },
  {
   "cell_type": "markdown",
   "metadata": {
    "id": "r40Rku6OUn3Z"
   },
   "source": [
    "# Calculate Volume \n",
    "\n",
    "Class to calculate volume. Initialized with the annotations.csv read into a dataframe. The DataFrame is traversed and the labels for good or bad images are checked, if the image is labelled to be good, and it is taken after Oct 9th (has the depth.npy arrays) it is sent through the calculation pipeline for volume calculation. \n"
   ]
  },
  {
   "cell_type": "code",
   "execution_count": 9,
   "metadata": {},
   "outputs": [],
   "source": [
    "test_biomass = ['2020_10_02_10_07_35']"
   ]
  },
  {
   "cell_type": "code",
   "execution_count": 12,
   "metadata": {
    "id": "OBLFDgAVVXrH"
   },
   "outputs": [],
   "source": [
    "class CalcVolume:    \n",
    "    def __init__(self, input_path):\n",
    "        self.model = DeepLabModel(current_model)\n",
    "        self.image_basepath=''\n",
    "        self.data_frame=[[],[],[],[],[],[],[]]\n",
    "        self.path = input_path\n",
    "    def get_annotated_directories(self):\n",
    "        global biomass_availability\n",
    "        annotatable = []\n",
    "        for root, dirs, _ in os.walk(self.path):\n",
    "            for d in dirs:\n",
    "                if d in biomass_availability:\n",
    "                    path = os.path.join(root, d)\n",
    "\n",
    "                    images = [os.path.join(path, f) for f in os.listdir(path) if os.path.isdir(os.path.join(path,f))]\n",
    "                    images = [f for f in images \\\n",
    "                               if (('depth.npy' in os.listdir(f)) or ('disparity_color.png' in os.listdir(f))) and \\\n",
    "                                 ('color.png' in os.listdir(f)) \\\n",
    "                                      and ('box_annotation.pkl') in os.listdir(f)]\n",
    "                    annotatable.extend(images)\n",
    "        return (n for n in annotatable)\n",
    "    \n",
    "    def get_height_his_dirs(self):\n",
    "        global biomass_availability\n",
    "        annotatable = []\n",
    "        for root, dirs, _ in os.walk(self.path):\n",
    "            for d in dirs:\n",
    "                if d in biomass_availability:\n",
    "                    path = os.path.join(root, d)\n",
    "\n",
    "                    images = [os.path.join(path, f) for f in os.listdir(path) if os.path.isdir(os.path.join(path,f))]\n",
    "                    # images = [f for f in images if ('depth.npy' in os.listdir(f)) and ('color.png' in os.listdir(f)) and not('box_annotation.pkl') in os.listdir(f)]\n",
    "                    images = [f for f in images \\\n",
    "                               if (('depth.npy' in os.listdir(f)) or ('disparity_color.png' in os.listdir(f))) and \\\n",
    "                                 ('color.png' in os.listdir(f)) \\\n",
    "                                      and ('box_annotation.pkl' in os.listdir(f)) and\\\n",
    "                             ('hist_img.pkl' in os.listdir(f))]\n",
    "                    annotatable.extend(images)\n",
    "        return (n for n in annotatable)\n",
    "    \n",
    "    def detect_white(self, image):\n",
    "        hsv=cv2.cvtColor(image, cv2.COLOR_RGB2HSV)\n",
    "        # define range of white color in HSV\n",
    "        lower_white = np.array([0, 0, 222])\n",
    "        upper_white = np.array([150, 30, 255])\n",
    "        mask = cv2.inRange(hsv, lower_white, upper_white)\n",
    "        # Bitwise-AND mask and original image\n",
    "        res = cv2.bitwise_and(image,image, mask= mask)\n",
    "        return mask, res\n",
    "    \n",
    "    def closing(self, rect):\n",
    "        kernel = np.ones((3,3),np.uint8)\n",
    "        # kernel = cv2.getStructuringElement(cv2.MORPH_RECT,(3,3))\n",
    "        # rect = cv2.morphologyEx(rect, cv2.MORPH_OPEN, kernel, iterations=10)\n",
    "        h,w=rect.shape[0], rect.shape[1]\n",
    "        gray = cv2.cvtColor(rect, cv2.COLOR_BGR2GRAY)\n",
    "        mask1=np.zeros((h,w), np.uint8)    \n",
    "        cv2.rectangle(mask1,(int(0.25*w),int(0.15*h)),(int(0.75*w),int(0.85*h)),(255,255,255),-1)\n",
    "        gray=cv2.bitwise_and(gray, gray, mask=mask1)\n",
    "        b1= cv2.medianBlur(gray, 13)\n",
    "        c1=cv2.dilate(b1, np.ones((3,3)), iterations = 100)\n",
    "        e1 = cv2.erode(c1, np.ones((3,3)), iterations = 85)\n",
    "        return e1\n",
    "    \n",
    "    def floodFill(self,im_in):\n",
    "        h,w=im_in.shape[0],im_in.shape[1]\n",
    "        kernel=np.ones((3,3), np.uint8)\n",
    "        # mask1 = np.zeros((h, w), np.uint8)\n",
    "        im_floodfill = im_in.copy()\n",
    "        mask = np.zeros((h+2, w+2), np.uint8)\n",
    "        # Floodfill from point (0, 0)\n",
    "        cv2.floodFill(im_floodfill, mask, (0,0), (255,255,255));\n",
    "        # Invert floodfilled image\n",
    "        im_floodfill_inv = cv2.bitwise_not(im_floodfill)\n",
    "        im_floodfill=cv2.dilate(im_floodfill, kernel, iterations = 25) \n",
    "        mask1=np.zeros((h,w), np.uint8)    \n",
    "        cv2.rectangle(mask1,(int(0.25*w),int(0.15*h)),(int(0.75*w),int(0.85*h)),(255,255,255),-1)\n",
    "        im_floodfill_inv=cv2.bitwise_and(im_floodfill_inv, im_floodfill_inv, mask=mask1)\n",
    "        _,im_floodfill_inv=cv2.threshold(im_floodfill_inv,127,255,cv2.THRESH_BINARY)\n",
    "        # Combine the two images to get the foreground.\n",
    "        im_out = im_in | im_floodfill_inv    \n",
    "        return im_floodfill, im_floodfill_inv, im_out\n",
    "    \n",
    "    def vis_depth(self,depth):\n",
    "        depth=(65535//depth+(0.0001)).astype(np.uint8)\n",
    "        depth = cv2.applyColorMap(depth, cv2.COLORMAP_HOT)\n",
    "        plt.imshow(depth)\n",
    "    \n",
    "    def est_heights_vol(self,bin_mask, seg_mapr,depth):\n",
    "        vol=0\n",
    "        #get mask for seg mask in roi\n",
    "        mask_seg=cv2.bitwise_and(seg_mapr, bin_mask, mask=None)\n",
    "        # soil mean heights\n",
    "        soil_mask = seg_mapr == 0\n",
    "        soil_dist=depth[soil_mask]\n",
    "        mean_soil_dist = np.mean(soil_dist[np.where(soil_dist!=65535)])\n",
    "        # broadleaf mean heights\n",
    "        broadleaf_mask = seg_mapr == 1\n",
    "        bl_dist=depth[broadleaf_mask]\n",
    "        mean_bl_dist = np.mean(bl_dist[np.where(bl_dist!=65535)])\n",
    "        broad_leaf_count=np.sum(mask_seg==1)\n",
    "        # grass mean heights\n",
    "        grass_mask = seg_mapr == 2\n",
    "        gr_dist=depth[grass_mask]\n",
    "        mean_gr_dist = np.mean(gr_dist[np.where(gr_dist!=65535)])\n",
    "        grass_count=np.sum(mask_seg==2)\n",
    "        #roi area\n",
    "        area = np.count_nonzero(mask_seg)/(np.count_nonzero(bin_mask))*0.25\n",
    "        #depths with invalids replaced by mean soil hts. \n",
    "        dists=np.where(depth ==65535, mean_soil_dist, depth)\n",
    "\n",
    "        height_array=np.abs(mean_soil_dist-dists)\n",
    "        soil_ht_array=height_array.copy()\n",
    "        bl_ht_array=height_array.copy()\n",
    "        gr_ht_array=height_array.copy()\n",
    "        \n",
    "        soil_ht_array[soil_mask] = 0\n",
    "        bl_ht_array[broadleaf_mask] = 0\n",
    "        gr_ht_array[grass_mask] = 0\n",
    "        \n",
    "        mean_soil_ht=np.mean(soil_ht_array)\n",
    "        mean_bl_ht=np.mean(bl_ht_array)\n",
    "        mean_gr_ht=np.mean(gr_ht_array)\n",
    "        mean_heights=[mean_soil_ht, mean_bl_ht, mean_gr_ht]       \n",
    "        height_arrays = [height_array, soil_ht_array, bl_ht_array, gr_ht_array]\n",
    "        \n",
    "        ht_roi = height_array.copy().astype(np.uint16)\n",
    "        ht_roi = cv2.bitwise_and(ht_roi, ht_roi, bin_mask.astype(np.uint16))\n",
    "\n",
    "        plt.figure(figsize=(10,6))\n",
    "        n_a, bins_a, _=plt.hist(depth.ravel(),bins=np.arange(0,65535,250), alpha=0.25, label='depths_all')\n",
    "        n_s, bins_s, _=plt.hist(soil_dist.ravel(),bins=np.arange(0,65535,250), alpha=0.25, label='depths_soil')\n",
    "        n_b, bins_b, _=plt.hist(bl_dist.ravel(),bins=np.arange(0,65535,250), alpha=0.25, label='depths_broadleaf')\n",
    "        n_g, bins_g, _=plt.hist(gr_dist.ravel(),bins=np.arange(0,65535,250),alpha=0.25, label='depths_grass')\n",
    "        plt.legend(loc='upper right'); plt.title('histograms for whole image depths');plt.clf()#plt.show()\n",
    "        hist_image_data = np.hstack((n_a, n_b, n_s, n_g))\n",
    "        # with open(os.path.join(self.image_basepath+'/hist_depth_img.pkl'), 'wb') as f:\n",
    "        #     pickle.dump(hist_image_data, f)\n",
    "        self.data_frame[2].append(hist_image_data)\n",
    "\n",
    "        plt.figure(figsize=(10,6))\n",
    "        n_a, bins_a, _=plt.hist(height_arrays[0].ravel(),bins=np.arange(0,65535,250), alpha=0.25, label='heights_all')\n",
    "        n_s, bins_s, _=plt.hist(height_arrays[1].ravel(),bins=np.arange(0,65535,250), alpha=0.25, label='heights_soil')\n",
    "        n_b, bins_b, _=plt.hist(height_arrays[2].ravel(),bins=np.arange(0,65535,250), alpha=0.25, label='heights_broadleaf')\n",
    "        n_g, bins_g, _=plt.hist(height_arrays[3].ravel(),bins=np.arange(0,65535,250),alpha=0.25, label='heights_grass')\n",
    "        plt.legend(loc='upper right'); plt.title('histograms for whole image heights');plt.clf();# plt.show()\n",
    "        \n",
    "#         with open(os.path.join(self.image_basepath+'/hist_all.pkl'), 'wb') as f:\n",
    "#                 pickle.dump(np.hstack((n_a, bins_a[1:])), f)\n",
    "#         with open(os.path.join(self.image_basepath+'/hist_s.pkl'), 'wb') as f:\n",
    "#                 pickle.dump(np.hstack((n_s, bins_s[1:])), f)\n",
    "#         with open(os.path.join(self.image_basepath+'/hist_b.pkl'), 'wb') as f:\n",
    "#                 pickle.dump(np.hstack((n_b, bins_b[1:])), f)\n",
    "#         with open(os.path.join(self.image_basepath+'/hist_g.pkl'), 'wb') as f:\n",
    "#                 pickle.dump(np.hstack((n_g, bins_g[1:])), f)\n",
    "    \n",
    "        hist_image_data = np.hstack((n_a, n_b, n_s, n_g))\n",
    "        # with open(os.path.join(self.image_basepath+'/hist_img.pkl'), 'wb') as f:\n",
    "        #     pickle.dump(hist_image_data, f)\n",
    "        self.data_frame[3].append(hist_image_data)\n",
    "            \n",
    "        #CALCULATE ROI ON MASKS FOR CLASSES FOR DEPTH ARRAY\n",
    "        soil_dist_roi=cv2.bitwise_and(soil_dist.astype(np.uint16), soil_dist.astype(np.uint16), bin_mask.astype(np.uint16))\n",
    "        soil_dist_roi=soil_dist_roi[soil_dist_roi!=0]\n",
    "        bl_dist_roi=cv2.bitwise_and(bl_dist.astype(np.uint16), bl_dist.astype(np.uint16), bin_mask.astype(np.uint16))\n",
    "        bl_dist_roi=bl_dist_roi[bl_dist_roi!=0]\n",
    "        gr_dist_roi=cv2.bitwise_and(gr_dist.astype(np.uint16), gr_dist.astype(np.uint16), bin_mask.astype(np.uint16))\n",
    "        gr_dist_roi=gr_dist_roi[gr_dist_roi!=0]\n",
    "        \n",
    "        n_a, bins_a, _=plt.hist(mask_seg[mask_seg!=0].ravel(),bins=np.arange(0,65535,250),alpha=0.25, label='depths_roi')\n",
    "        n_s, bins_s, _=plt.hist(soil_dist_roi.ravel(),bins=np.arange(0,65535,250), alpha=0.25, label='depths_soil_roi')\n",
    "        n_b, bins_b, _=plt.hist(bl_dist_roi.ravel(),bins=np.arange(0,65535,250),  alpha=0.25, label='depths_bl_roi')\n",
    "        n_g, bins_g, _=plt.hist(gr_dist_roi.ravel(),bins=np.arange(0,65535,250), alpha=0.25, label='depths_grass_roi')\n",
    "        plt.legend(loc='upper right'); plt.title('histograms for whole image depths'); plt.clf();#plt.show()#plt.clf()\n",
    "        hist_roi_data = np.hstack((n_a, n_b, n_s, n_g))\n",
    "        # with open(os.path.join(self.image_basepath+'/hist_depth_roi.pkl'), 'wb') as f:\n",
    "        #     pickle.dump(hist_image_data, f)\n",
    "        self.data_frame[4].append(hist_roi_data)\n",
    "        #CALCULATE ROI ON MASKS FOR CLASSES FOR HEIGHT ARRAY\n",
    "        soil_ht_array=cv2.bitwise_and(soil_ht_array.astype(np.uint16), soil_ht_array.astype(np.uint16), bin_mask.astype(np.uint16))\n",
    "        soil_ht_array=soil_ht_array[soil_ht_array!=0]\n",
    "        bl_ht_array=cv2.bitwise_and(bl_ht_array.astype(np.uint16), bl_ht_array.astype(np.uint16), bin_mask.astype(np.uint16))\n",
    "        bl_ht_array=bl_ht_array[bl_ht_array!=0]\n",
    "        gr_ht_array=cv2.bitwise_and(gr_ht_array.astype(np.uint16), gr_ht_array.astype(np.uint16), bin_mask.astype(np.uint16))\n",
    "        gr_ht_array=gr_ht_array[gr_ht_array!=0]\n",
    "        \n",
    "        plt.figure(figsize=(10,6))\n",
    "        n_a, bins_a, _=plt.hist(ht_roi[ht_roi!=0].ravel(),bins=np.arange(0,65535,250),alpha=0.25, label='heights_all')\n",
    "        n_s, bins_s, _=plt.hist(soil_ht_array.ravel(),bins=np.arange(0,65535,250), alpha=0.25, label='heights_soil')\n",
    "        n_b, bins_b, _=plt.hist(bl_ht_array.ravel(),bins=np.arange(0,65535,250),  alpha=0.25, label='heights_broadleaf')\n",
    "        n_g, bins_g, _=plt.hist(gr_ht_array.ravel(),bins=np.arange(0,65535,250), alpha=0.25, label='heights_grass')\n",
    "        plt.legend(loc='upper right'); plt.title('histograms for ROI image heights');  plt.clf();#plt.show()\n",
    "#         with open(os.path.join(self.image_basepath+'/hist_all_roi.pkl'), 'wb') as f:\n",
    "#                 pickle.dump(np.hstack((n_a, bins_a[1:])), f)\n",
    "#         with open(os.path.join(self.image_basepath+'/hist_s_roi.pkl'), 'wb') as f:\n",
    "#             pickle.dump(np.hstack((n_s, bins_s[1:])), f)\n",
    "#         with open(os.path.join(self.image_basepath+'/hist_b_roi.pkl'), 'wb') as f:\n",
    "#                 pickle.dump(np.hstack((n_b, bins_b[1:])), f)\n",
    "#         with open(os.path.join(self.image_basepath+'/hist_g_roi.pkl'), 'wb') as f:\n",
    "#             pickle.dump(np.hstack((n_g, bins_g[1:])), f)\n",
    "        # hist_roi_data = np.hstack((n_a, n_b, n_s, n_g))\n",
    "        # with open(os.path.join(self.image_basepath+'/hist_roi.pkl'), 'wb') as f:\n",
    "        #     pickle.dump(hist_image_data, f)\n",
    "        # bins = bins_a\n",
    "        # with open(os.path.join(self.image_basepath+'/bins.pkl'), 'wb') as f:\n",
    "        #     pickle.dump(bins, f)\n",
    "        self.data_frame[5].append(hist_roi_data)\n",
    "        self.data_frame[6].append(bins_a)\n",
    "#         np.save(self.image_basepath+'/hist_all_roi.npy', np.array([n_a, bins_a[1:]]).T)  \n",
    "#         np.save(self.image_basepath+'/hist_s_roi.npy', np.array([n_s, bins_s[1:]]).T)   \n",
    "#         np.save(self.image_basepath+'/hist_b_roi.npy', np.array([n_b, bins_b[1:]]).T)  \n",
    "#         np.save(self.image_basepath+'/hist_g_roi.npy', np.array([n_g, bins_g[1:]]).T)   \n",
    "\n",
    "        vol = np.sum((ht_roi*0.01)/(broad_leaf_count+grass_count)*area)\n",
    "        \n",
    "        return mean_heights, height_arrays,vol\n",
    "\n",
    "    def pipeline(self):\n",
    "        vols=[]\n",
    "        heights=[]\n",
    "        means=[]\n",
    "        # paths=[]\n",
    "        # annots=[]\n",
    "        annotated = self.get_annotated_directories()\n",
    "        while True:\n",
    "            try:\n",
    "                self.image_basepath = next(annotated)\n",
    "            except StopIteration:\n",
    "                break\n",
    "            annotation_path = os.path.join(self.image_basepath, 'box_annotation.pkl')\n",
    "            file = open(annotation_path,'rb')\n",
    "            object_file = pickle.load(file)\n",
    "            file.close()\n",
    "            annotations=object_file\n",
    "            if len(annotations)==0:\n",
    "                continue\n",
    "            self.data_frame[0].append(self.image_basepath)\n",
    "            self.data_frame[1].append(annotations)\n",
    "            color_path = os.path.join(self.image_basepath, 'color.png')\n",
    "#             paths.append(color_path)\n",
    "            depth_path = os.path.join(self.image_basepath, 'depth.npy')\n",
    "            disparity_path = os.path.join(self.image_basepath, 'disparity_color.png')\n",
    "            \n",
    "            print(color_path)\n",
    "            image=cv2.cvtColor(cv2.imread(color_path), cv2.COLOR_BGR2RGB)\n",
    "            try:\n",
    "                depth=np.load(depth_path)\n",
    "            except:\n",
    "                disparity_color = cv2.imread(disparity_path)\n",
    "                depth=gen_depth(disparity_color)\n",
    "\n",
    "            \n",
    "            #visualize original image and depth\n",
    "#             plt.figure(figsize=(10,6))\n",
    "#             plt.imshow(image)\n",
    "#             plt.figure(figsize=(10,6))\n",
    "#             self.vis_depth(depth)\n",
    "\n",
    "\n",
    "            seg_map, prob_map=self.model.run(image)\n",
    "            seg_mapr=cv2.resize(seg_map.astype(np.uint8),(depth.shape[1],depth.shape[0]), interpolation = cv2.INTER_LANCZOS4)\n",
    "#             plt.figure(figsize=(10,6))\n",
    "#             plt.imshow(seg_mapr)\n",
    "            #generate bin_mask from annotations\n",
    "            bin_mask = np.zeros((1080,1920))\n",
    "            bin_mask = cv2.fillConvexPoly(bin_mask, np.array(annotations), 1)\n",
    "            bin_mask=cv2.resize(bin_mask, (1280, 720)).astype(np.uint8)\n",
    "#             plt.figure(figsize=(10,6))\n",
    "#             plt.imshow(bin_mask, cmap='gray') \n",
    "            #estimate the volume and heights using seg masks. \n",
    "            mean_heights, height_arrays,vol=self.est_heights_vol(bin_mask,seg_mapr,depth)\n",
    "            print(vol)\n",
    "            vols.append(vol)\n",
    "            heights.append(height_arrays[0])\n",
    "            means.append(mean_heights)\n",
    "        dat=[paths,heights,means,vols]\n",
    "#         self.data = pd.DataFrame(dat, columns =['Paths', 'Heights', 'Means', 'Vols']) \n",
    "        return dat\n",
    "    def make_path_csv(self):\n",
    "        path_data=[]\n",
    "#         hist_all_series=[]\n",
    "#         hist_all_roi_series=[]\n",
    "#         hist_s_series=[]\n",
    "#         hist_s_roi_series=[]\n",
    "#         hist_b_series=[]\n",
    "#         hist_b_roi_series=[]\n",
    "#         hist_g_series=[]\n",
    "#         hist_g_roi_series=[]\n",
    "#         hist_img_data=[]\n",
    "#         hist_roi_data=[]\n",
    "        hist_img_data_list=[]\n",
    "        hist_roi_data_list=[]\n",
    "        hist_d_img_list=[]\n",
    "        hist_d_roi_list=[]\n",
    "        bins_data_list=[]\n",
    "        annots=[]\n",
    "        height_hist_paths = self.get_height_his_dirs()\n",
    "        while True:\n",
    "            try:\n",
    "                self.image_basepath = next(height_hist_paths)\n",
    "                print(self.image_basepath)\n",
    "            except StopIteration:\n",
    "                break\n",
    "            \n",
    "#             hist_all=self.image_basepath+'/hist_all.pkl'\n",
    "#             hist_all_roi=self.image_basepath+'/hist_all_roi.pkl'\n",
    "#             hist_s=self.image_basepath+'/hist_s.pkl'\n",
    "#             hist_s_roi=self.image_basepath+'/hist_s_roi.pkl'\n",
    "#             hist_b=self.image_basepath+'/hist_b.pkl'\n",
    "#             hist_b_roi=self.image_basepath+'/hist_b_roi.pkl'\n",
    "#             hist_g=self.image_basepath+'/hist_g.pkl'\n",
    "#             hist_g_roi=self.image_basepath+'/hist_g_roi.pkl'\n",
    "#             file = open(hist_all,'rb')\n",
    "#             hist_all_series.append(pickle.load(file))\n",
    "#             file.close()\n",
    "#             file = open(hist_all_roi,'rb')\n",
    "#             hist_all_roi_series.append(pickle.load(file))\n",
    "#             file.close()\n",
    "#             file = open(hist_s,'rb')\n",
    "#             hist_s_series.append(pickle.load(file))\n",
    "#             file.close()\n",
    "#             file = open(hist_s_roi,'rb')\n",
    "#             hist_s_roi_series.append(pickle.load(file))\n",
    "#             file.close()\n",
    "#             file = open(hist_b,'rb')\n",
    "#             hist_b_series.append(pickle.load(file))\n",
    "#             file.close()\n",
    "#             file = open(hist_b_roi,'rb')\n",
    "#             hist_b_roi_series.append(pickle.load(file))\n",
    "#             file.close()\n",
    "#             file = open(hist_g,'rb')\n",
    "#             hist_g_series.append(pickle.load(file))\n",
    "#             file.close()\n",
    "#             file = open(hist_g_roi,'rb')\n",
    "#             hist_g_roi_series.append(pickle.load(file))\n",
    "#             file.close()\n",
    "            annots_p=self.image_basepath + '/box_annotation.pkl'\n",
    "            hist_img=self.image_basepath+'/hist_img.pkl'\n",
    "            hist_dep_img=self.image_basepath+'/hist_depth_img.pkl'\n",
    "            hist_roi=self.image_basepath+'/hist_roi.pkl'\n",
    "            hist_dep_roi=self.image_basepath+'/hist_depth_roi.pkl'\n",
    "            bins=self.image_basepath+'/bins.pkl'\n",
    "            \n",
    "            file = open(annots_p, 'rb')\n",
    "            annot=pickle.load(file)\n",
    "            file.close()\n",
    "            file = open(hist_dep_img, 'rb')\n",
    "            hist_d_img=pickle.load(file)\n",
    "            file.close()\n",
    "            file = open(hist_img,'rb')\n",
    "            hist_img_data = pickle.load(file)\n",
    "            file.close()\n",
    "            file = open(hist_dep_roi, 'rb')\n",
    "            hist_d_roi=pickle.load(file)\n",
    "            file.close()\n",
    "            file = open(hist_roi,'rb')\n",
    "            hist_roi_data = pickle.load(file)\n",
    "            file.close()\n",
    "            file = open(bins,'rb')\n",
    "            bins_data = pickle.load(file)\n",
    "            file.close()\n",
    "            \n",
    "            annots.append(annot)\n",
    "            hist_img_data_list.append(hist_img_data)\n",
    "            hist_roi_data_list.append(hist_roi_data)\n",
    "            bins_data_list.append(bins_data)\n",
    "            hist_d_img_list.append(hist_d_img)\n",
    "            hist_d_roi_list.append(hist_d_roi)\n",
    "#             hist_all_series.append(np.load(hist_all, allow_pickle=True))\n",
    "#             hist_all_roi_series.append(np.load(hist_all_roi,allow_pickle=True))\n",
    "#             hist_s_series.append(np.load(hist_s,allow_pickle=True))\n",
    "#             hist_s_roi_series.append(np.load(hist_s_roi,allow_pickle=True))\n",
    "#             hist_b_series.append(np.load(hist_b,allow_pickle=True))\n",
    "#             hist_b_roi_series.append(np.load(hist_b_roi,allow_pickle=True))\n",
    "#             hist_g_series.append(np.load(hist_g,allow_pickle=True))\n",
    "#             hist_g_roi_series.append(np.load(hist_g_roi,allow_pickle=True))\n",
    "            path_data.append(self.image_basepath)\n",
    "#         return [path_data, hist_all_series, hist_all_roi_series, hist_s_series, hist_s_roi_series\\\n",
    "#                        ,hist_b_series, hist_b_roi_series, hist_g_series, hist_g_roi_series]\n",
    "            h5dat=[path_data, annots,hist_img_data_list,hist_roi_data_list,bins_data_list,hist_d_img_list,hist_d_roi_list]\n",
    "        return h5dat\n",
    "                "
   ]
  },
  {
   "cell_type": "code",
   "execution_count": 13,
   "metadata": {
    "id": "mFlHHfl6n6Ve",
    "scrolled": true
   },
   "outputs": [
    {
     "name": "stdout",
     "output_type": "stream",
     "text": [
      "D:/00_NCSU/00_Resources/00_Datasets/PSA-oak-d-images/NC_09_23_2020\\2020_09_23_09_39_44\\037c5453-56e1-42b5-b2a2-b7b4204d1c4e\\color.png\n"
     ]
    },
    {
     "name": "stderr",
     "output_type": "stream",
     "text": [
      "C:\\Users\\sarde\\Anaconda3\\envs\\tensorflow\\lib\\site-packages\\ipykernel_launcher.py:24: RuntimeWarning: divide by zero encountered in reciprocal\n"
     ]
    },
    {
     "name": "stdout",
     "output_type": "stream",
     "text": [
      "5.877346993269116\n",
      "D:/00_NCSU/00_Resources/00_Datasets/PSA-oak-d-images/NC_09_23_2020\\2020_09_23_09_39_44\\03a825f1-8954-4dff-91e9-c15753d2ce7a\\color.png\n",
      "5.667779797881102\n",
      "D:/00_NCSU/00_Resources/00_Datasets/PSA-oak-d-images/NC_09_23_2020\\2020_09_23_09_39_44\\11b462da-50d3-4206-82d0-b230b086d11c\\color.png\n",
      "5.855145284063619\n",
      "D:/00_NCSU/00_Resources/00_Datasets/PSA-oak-d-images/NC_09_23_2020\\2020_09_23_09_39_44\\167b676f-f7af-4f31-bf45-dd1700e54a94\\color.png\n",
      "5.759028727584193\n",
      "D:/00_NCSU/00_Resources/00_Datasets/PSA-oak-d-images/NC_09_23_2020\\2020_09_23_09_39_44\\192a849d-cbf0-4f00-b93f-56822bd9bf51\\color.png\n",
      "5.73065664647774\n",
      "D:/00_NCSU/00_Resources/00_Datasets/PSA-oak-d-images/NC_09_23_2020\\2020_09_23_09_39_44\\1d37b642-9741-4ea0-b0b8-dea57a0b208b\\color.png\n",
      "5.513078627608128\n",
      "D:/00_NCSU/00_Resources/00_Datasets/PSA-oak-d-images/NC_09_23_2020\\2020_09_23_09_39_44\\28a799dc-4f7e-4d36-8656-3e9dd1c75832\\color.png\n"
     ]
    },
    {
     "name": "stderr",
     "output_type": "stream",
     "text": [
      "C:\\Users\\sarde\\Anaconda3\\envs\\tensorflow\\lib\\site-packages\\ipykernel_launcher.py:187: RuntimeWarning: More than 20 figures have been opened. Figures created through the pyplot interface (`matplotlib.pyplot.figure`) are retained until explicitly closed and may consume too much memory. (To control this warning, see the rcParam `figure.max_open_warning`).\n"
     ]
    },
    {
     "name": "stdout",
     "output_type": "stream",
     "text": [
      "5.420942986166927\n",
      "D:/00_NCSU/00_Resources/00_Datasets/PSA-oak-d-images/NC_09_23_2020\\2020_09_23_09_39_44\\2d7de2a6-2464-4f8f-8a7e-9de4d2b57200\\color.png\n"
     ]
    },
    {
     "name": "stderr",
     "output_type": "stream",
     "text": [
      "C:\\Users\\sarde\\Anaconda3\\envs\\tensorflow\\lib\\site-packages\\ipykernel_launcher.py:130: RuntimeWarning: More than 20 figures have been opened. Figures created through the pyplot interface (`matplotlib.pyplot.figure`) are retained until explicitly closed and may consume too much memory. (To control this warning, see the rcParam `figure.max_open_warning`).\n",
      "C:\\Users\\sarde\\Anaconda3\\envs\\tensorflow\\lib\\site-packages\\ipykernel_launcher.py:141: RuntimeWarning: More than 20 figures have been opened. Figures created through the pyplot interface (`matplotlib.pyplot.figure`) are retained until explicitly closed and may consume too much memory. (To control this warning, see the rcParam `figure.max_open_warning`).\n"
     ]
    },
    {
     "name": "stdout",
     "output_type": "stream",
     "text": [
      "5.461916647961858\n",
      "D:/00_NCSU/00_Resources/00_Datasets/PSA-oak-d-images/NC_09_23_2020\\2020_09_23_09_39_44\\2f524abb-c916-47f3-9f24-4819317b215c\\color.png\n",
      "6.2108268546256635\n",
      "D:/00_NCSU/00_Resources/00_Datasets/PSA-oak-d-images/NC_09_23_2020\\2020_09_23_09_39_44\\3ce4cbcd-4bc4-4e51-a57e-0692adbfe1b2\\color.png\n",
      "5.576935469569547\n",
      "D:/00_NCSU/00_Resources/00_Datasets/PSA-oak-d-images/NC_09_23_2020\\2020_09_23_09_39_44\\3e6e6153-1875-44c5-901f-da266c9eb2cc\\color.png\n",
      "6.2117723880597\n",
      "D:/00_NCSU/00_Resources/00_Datasets/PSA-oak-d-images/NC_09_23_2020\\2020_09_23_09_39_44\\45d8e24d-8618-4119-ab7b-943ed3c53282\\color.png\n",
      "5.834723139827277\n",
      "D:/00_NCSU/00_Resources/00_Datasets/PSA-oak-d-images/NC_09_23_2020\\2020_09_23_09_39_44\\4b65cc37-861b-4a96-bc2e-c4bdf50063f0\\color.png\n",
      "6.207274483630745\n",
      "D:/00_NCSU/00_Resources/00_Datasets/PSA-oak-d-images/NC_09_23_2020\\2020_09_23_09_39_44\\619603a1-3710-4245-ae95-dfcc2cd8ae7a\\color.png\n",
      "5.187064796116109\n",
      "D:/00_NCSU/00_Resources/00_Datasets/PSA-oak-d-images/NC_09_23_2020\\2020_09_23_09_39_44\\64e1dab9-c9c0-465c-9345-a907cca1a889\\color.png\n",
      "6.762093961782213\n",
      "D:/00_NCSU/00_Resources/00_Datasets/PSA-oak-d-images/NC_09_23_2020\\2020_09_23_09_39_44\\6b2a816a-5e5b-4afe-8a4b-7881ec56e9d0\\color.png\n",
      "5.969979557471784\n",
      "D:/00_NCSU/00_Resources/00_Datasets/PSA-oak-d-images/NC_09_23_2020\\2020_09_23_09_39_44\\6d3ca6bd-3c90-49c4-a474-e17181b6f1a4\\color.png\n",
      "6.340569799434483\n",
      "D:/00_NCSU/00_Resources/00_Datasets/PSA-oak-d-images/NC_09_23_2020\\2020_09_23_09_39_44\\6de8cfb0-2d74-477d-af4e-ccd53363358c\\color.png\n",
      "5.965455775152067\n",
      "D:/00_NCSU/00_Resources/00_Datasets/PSA-oak-d-images/NC_09_23_2020\\2020_09_23_09_39_44\\7147acc8-44cb-44ba-a0d0-87d25c493b83\\color.png\n",
      "6.115151801834815\n",
      "D:/00_NCSU/00_Resources/00_Datasets/PSA-oak-d-images/NC_09_23_2020\\2020_09_23_09_39_44\\74a26cdc-74c7-4dfc-b6e6-f16ddd10a652\\color.png\n",
      "6.164887751567422\n",
      "D:/00_NCSU/00_Resources/00_Datasets/PSA-oak-d-images/NC_09_23_2020\\2020_09_23_09_39_44\\85a1a985-9bcf-493d-81bb-df619e5f5411\\color.png\n",
      "5.73410469357558\n",
      "D:/00_NCSU/00_Resources/00_Datasets/PSA-oak-d-images/NC_09_23_2020\\2020_09_23_09_39_44\\9369185d-a490-41fb-95f3-bf6729fc70bc\\color.png\n",
      "5.90383392465401\n",
      "D:/00_NCSU/00_Resources/00_Datasets/PSA-oak-d-images/NC_09_23_2020\\2020_09_23_09_39_44\\94ff346b-9766-4214-8f46-5f791451790a\\color.png\n",
      "5.955958736093063\n",
      "D:/00_NCSU/00_Resources/00_Datasets/PSA-oak-d-images/NC_09_23_2020\\2020_09_23_09_39_44\\ac212128-1059-4f53-8458-214056f09119\\color.png\n",
      "6.405721419702408\n",
      "D:/00_NCSU/00_Resources/00_Datasets/PSA-oak-d-images/NC_09_23_2020\\2020_09_23_09_39_44\\b03217d6-f074-4bc9-b9d6-f6600496c389\\color.png\n",
      "5.362692598236707\n",
      "D:/00_NCSU/00_Resources/00_Datasets/PSA-oak-d-images/NC_09_23_2020\\2020_09_23_09_39_44\\b127cb74-e7e8-45be-bb59-336b4512f7e5\\color.png\n",
      "5.83727197146366\n",
      "D:/00_NCSU/00_Resources/00_Datasets/PSA-oak-d-images/NC_09_23_2020\\2020_09_23_09_39_44\\b5323284-dc42-426d-834b-0bbd0329d1a5\\color.png\n",
      "5.421059082412113\n",
      "D:/00_NCSU/00_Resources/00_Datasets/PSA-oak-d-images/NC_09_23_2020\\2020_09_23_09_39_44\\b6ca20ea-8761-4ad0-94f1-d52a3b076f09\\color.png\n",
      "5.870046422960234\n",
      "D:/00_NCSU/00_Resources/00_Datasets/PSA-oak-d-images/NC_09_23_2020\\2020_09_23_09_39_44\\ba23ec99-5797-4fab-a7b1-0b16938bbfbf\\color.png\n",
      "5.826254255518771\n",
      "D:/00_NCSU/00_Resources/00_Datasets/PSA-oak-d-images/NC_09_23_2020\\2020_09_23_09_39_44\\d23dcf82-57a2-4d5c-b67b-d452d5cb735f\\color.png\n",
      "6.5353551333278945\n",
      "D:/00_NCSU/00_Resources/00_Datasets/PSA-oak-d-images/NC_09_23_2020\\2020_09_23_09_39_44\\d5b28b09-6373-41e3-aff6-c6af1cce46fd\\color.png\n",
      "5.585494245549631\n",
      "D:/00_NCSU/00_Resources/00_Datasets/PSA-oak-d-images/NC_09_23_2020\\2020_09_23_09_39_44\\da76192f-d3d9-441e-8300-40db3a38c2da\\color.png\n",
      "6.02896425653595\n",
      "D:/00_NCSU/00_Resources/00_Datasets/PSA-oak-d-images/NC_09_23_2020\\2020_09_23_09_39_44\\dc7f1ec8-7f75-41ea-ba00-1411255293e4\\color.png\n",
      "6.63831334438061\n",
      "D:/00_NCSU/00_Resources/00_Datasets/PSA-oak-d-images/NC_09_23_2020\\2020_09_23_09_39_44\\f2ee7f05-ee00-4f1a-9061-d026e6952a1c\\color.png\n",
      "5.829829951171744\n",
      "D:/00_NCSU/00_Resources/00_Datasets/PSA-oak-d-images/NC_09_23_2020\\2020_09_23_09_39_44\\fc0cebf2-fbe2-46f2-9d2a-b23ce12e4a61\\color.png\n",
      "5.958977724342919\n",
      "D:/00_NCSU/00_Resources/00_Datasets/PSA-oak-d-images/NC_09_23_2020\\2020_09_23_09_41_08\\05e1bb24-61aa-4ef3-bc7b-21c9ad87da37\\color.png\n",
      "2.814368377548249\n",
      "D:/00_NCSU/00_Resources/00_Datasets/PSA-oak-d-images/NC_09_23_2020\\2020_09_23_09_41_08\\0732d5f3-6a9f-4b31-9352-9c0d6b3717d7\\color.png\n",
      "2.8937684854606633\n",
      "D:/00_NCSU/00_Resources/00_Datasets/PSA-oak-d-images/NC_09_23_2020\\2020_09_23_09_41_08\\09d9cb64-a25f-4be2-b5dc-fd96e94ab1ec\\color.png\n",
      "2.897085162589141\n",
      "D:/00_NCSU/00_Resources/00_Datasets/PSA-oak-d-images/NC_09_23_2020\\2020_09_23_09_41_08\\0bb23379-4918-4409-847c-c60baf77a52b\\color.png\n",
      "2.7448293529947283\n",
      "D:/00_NCSU/00_Resources/00_Datasets/PSA-oak-d-images/NC_09_23_2020\\2020_09_23_09_41_08\\0f0314e5-358b-4a33-aaa3-2a3195b1f6b9\\color.png\n",
      "2.9403443548080768\n",
      "D:/00_NCSU/00_Resources/00_Datasets/PSA-oak-d-images/NC_09_23_2020\\2020_09_23_09_41_08\\1cf148e0-1313-4fdc-85bd-897941315dd6\\color.png\n",
      "2.856031465207411\n",
      "D:/00_NCSU/00_Resources/00_Datasets/PSA-oak-d-images/NC_09_23_2020\\2020_09_23_09_41_08\\269e1ac7-1b8c-429e-80ed-94bbd3229a85\\color.png\n",
      "2.8243177447942855\n",
      "D:/00_NCSU/00_Resources/00_Datasets/PSA-oak-d-images/NC_09_23_2020\\2020_09_23_09_41_08\\2da97e73-5df8-41b2-8c0d-b662e84fcb59\\color.png\n",
      "2.5887142658134756\n",
      "D:/00_NCSU/00_Resources/00_Datasets/PSA-oak-d-images/NC_09_23_2020\\2020_09_23_09_41_08\\32909075-e30b-47cb-b5c1-f901d43db297\\color.png\n",
      "2.842864962556449\n",
      "D:/00_NCSU/00_Resources/00_Datasets/PSA-oak-d-images/NC_09_23_2020\\2020_09_23_09_41_08\\33bbd248-b3bc-468a-8375-df7d6f0a313e\\color.png\n",
      "2.906492357041943\n",
      "D:/00_NCSU/00_Resources/00_Datasets/PSA-oak-d-images/NC_09_23_2020\\2020_09_23_09_41_08\\37910c26-b91b-40c2-8d5f-376bdca69143\\color.png\n",
      "2.800430990572153\n",
      "D:/00_NCSU/00_Resources/00_Datasets/PSA-oak-d-images/NC_09_23_2020\\2020_09_23_09_41_08\\396c0cf2-6e07-454f-98d1-513e6d320253\\color.png\n",
      "2.557769874056541\n",
      "D:/00_NCSU/00_Resources/00_Datasets/PSA-oak-d-images/NC_09_23_2020\\2020_09_23_09_41_08\\3b1d2e73-6ccf-463b-bc03-828a532f6e43\\color.png\n",
      "3.276379043034132\n",
      "D:/00_NCSU/00_Resources/00_Datasets/PSA-oak-d-images/NC_09_23_2020\\2020_09_23_09_41_08\\3c9a40b8-4899-4b33-b936-6a35cdd71455\\color.png\n",
      "2.865755121453896\n",
      "D:/00_NCSU/00_Resources/00_Datasets/PSA-oak-d-images/NC_09_23_2020\\2020_09_23_09_41_08\\48139d48-f1bd-4983-bb8c-401874732bc5\\color.png\n",
      "2.84992021945078\n",
      "D:/00_NCSU/00_Resources/00_Datasets/PSA-oak-d-images/NC_09_23_2020\\2020_09_23_09_41_08\\4d443e6a-1e89-4172-be78-d8361b553db0\\color.png\n",
      "2.5113794334682233\n",
      "D:/00_NCSU/00_Resources/00_Datasets/PSA-oak-d-images/NC_09_23_2020\\2020_09_23_09_41_08\\56cc15a4-aed2-446c-8cbc-35c08e08521d\\color.png\n",
      "2.3562328775015433\n",
      "D:/00_NCSU/00_Resources/00_Datasets/PSA-oak-d-images/NC_09_23_2020\\2020_09_23_09_41_08\\58a3de68-2ad1-4ec1-85c4-7f0326949d8e\\color.png\n",
      "2.979698986088524\n",
      "D:/00_NCSU/00_Resources/00_Datasets/PSA-oak-d-images/NC_09_23_2020\\2020_09_23_09_41_08\\5abc2468-3dfa-43e0-a7bd-4cd02f65a257\\color.png\n",
      "2.9208380066937623\n",
      "D:/00_NCSU/00_Resources/00_Datasets/PSA-oak-d-images/NC_09_23_2020\\2020_09_23_09_41_08\\5b306976-439c-4efc-9d94-9e0c87ac3fee\\color.png\n",
      "2.898959927450642\n",
      "D:/00_NCSU/00_Resources/00_Datasets/PSA-oak-d-images/NC_09_23_2020\\2020_09_23_09_41_08\\5d58f70c-8a8c-4c10-bf38-23afe71a11e9\\color.png\n",
      "3.0865959402305263\n",
      "D:/00_NCSU/00_Resources/00_Datasets/PSA-oak-d-images/NC_09_23_2020\\2020_09_23_09_41_08\\5e58485a-c551-49b9-be0a-cd880460bfcc\\color.png\n",
      "2.8653228998934206\n",
      "D:/00_NCSU/00_Resources/00_Datasets/PSA-oak-d-images/NC_09_23_2020\\2020_09_23_09_41_08\\741b8302-5f5c-49cd-964c-fc71d1a829c1\\color.png\n",
      "2.5495409421530426\n",
      "D:/00_NCSU/00_Resources/00_Datasets/PSA-oak-d-images/NC_09_23_2020\\2020_09_23_09_41_08\\7c99fa9f-834e-4d10-9d50-2189952e7d60\\color.png\n",
      "2.79661893360133\n",
      "D:/00_NCSU/00_Resources/00_Datasets/PSA-oak-d-images/NC_09_23_2020\\2020_09_23_09_41_08\\8b96f1d0-3393-4935-874b-e32e8035611a\\color.png\n",
      "4.838199592817446\n",
      "D:/00_NCSU/00_Resources/00_Datasets/PSA-oak-d-images/NC_09_23_2020\\2020_09_23_09_41_08\\9e0f4e60-4bac-4cc3-bec1-672baf0dc574\\color.png\n",
      "2.964908948669708\n",
      "D:/00_NCSU/00_Resources/00_Datasets/PSA-oak-d-images/NC_09_23_2020\\2020_09_23_09_41_08\\9e752140-9f6d-4c04-8c85-60b120a20841\\color.png\n"
     ]
    },
    {
     "name": "stdout",
     "output_type": "stream",
     "text": [
      "2.96532685813611\n",
      "D:/00_NCSU/00_Resources/00_Datasets/PSA-oak-d-images/NC_09_23_2020\\2020_09_23_09_41_08\\9ea75fb7-1a8d-4264-bdcb-6599792f1019\\color.png\n",
      "2.71353983062842\n",
      "D:/00_NCSU/00_Resources/00_Datasets/PSA-oak-d-images/NC_09_23_2020\\2020_09_23_09_41_08\\a58dac56-8198-43fd-9d9b-dc5cfbec9dfd\\color.png\n",
      "2.5356455917752347\n",
      "D:/00_NCSU/00_Resources/00_Datasets/PSA-oak-d-images/NC_09_23_2020\\2020_09_23_09_41_08\\aa959ea1-c6df-4eca-843a-f3f2317878f0\\color.png\n",
      "2.9773607436069374\n",
      "D:/00_NCSU/00_Resources/00_Datasets/PSA-oak-d-images/NC_09_23_2020\\2020_09_23_09_41_08\\bfa0d11b-c6d2-4802-bc09-4af2ea34a4de\\color.png\n",
      "2.5681433372829603\n",
      "D:/00_NCSU/00_Resources/00_Datasets/PSA-oak-d-images/NC_09_23_2020\\2020_09_23_09_41_08\\c5994347-e7b4-4e6c-baf3-ac4e7a6ed346\\color.png\n",
      "3.205593179842571\n",
      "D:/00_NCSU/00_Resources/00_Datasets/PSA-oak-d-images/NC_09_23_2020\\2020_09_23_09_41_08\\c60b13e0-1e53-4203-a1f1-0f13f9a52974\\color.png\n",
      "2.6742880033629097\n",
      "D:/00_NCSU/00_Resources/00_Datasets/PSA-oak-d-images/NC_09_23_2020\\2020_09_23_09_41_08\\d4797e03-e8a6-45c1-afe4-4b2237bfc3e5\\color.png\n",
      "3.148638092799106\n",
      "D:/00_NCSU/00_Resources/00_Datasets/PSA-oak-d-images/NC_09_23_2020\\2020_09_23_09_41_08\\d99bfcb7-2ac6-4d28-acf1-ce2265c1942c\\color.png\n",
      "2.8935151310161427\n",
      "D:/00_NCSU/00_Resources/00_Datasets/PSA-oak-d-images/NC_09_23_2020\\2020_09_23_09_41_08\\eb751c97-7941-4a33-918e-e58629d3f4e6\\color.png\n",
      "2.5852297895774963\n",
      "D:/00_NCSU/00_Resources/00_Datasets/PSA-oak-d-images/NC_09_23_2020\\2020_09_23_09_41_08\\f05c7825-8c74-4bdd-af05-cca09975f461\\color.png\n",
      "2.9048359316397754\n",
      "D:/00_NCSU/00_Resources/00_Datasets/PSA-oak-d-images/NC_09_23_2020\\2020_09_23_09_41_08\\f11f9c90-a266-4935-a01c-cef99a4f2941\\color.png\n",
      "2.791532947853344\n",
      "D:/00_NCSU/00_Resources/00_Datasets/PSA-oak-d-images/NC_09_23_2020\\2020_09_23_09_41_08\\f5d22be3-9ba7-441c-8f8c-2d1237584ade\\color.png\n",
      "3.327870463745473\n",
      "D:/00_NCSU/00_Resources/00_Datasets/PSA-oak-d-images/NC_09_23_2020\\2020_09_23_09_42_34\\03e7e578-66d0-4a88-a5a7-72aa29f68211\\color.png\n",
      "5.409816233433448\n",
      "D:/00_NCSU/00_Resources/00_Datasets/PSA-oak-d-images/NC_09_23_2020\\2020_09_23_09_42_34\\05da41dd-088d-4d52-99cb-664477cbbc81\\color.png\n",
      "6.856805242772343\n",
      "D:/00_NCSU/00_Resources/00_Datasets/PSA-oak-d-images/NC_09_23_2020\\2020_09_23_09_42_34\\0d9e2bb3-dafc-4420-8dab-9197a77e4378\\color.png\n",
      "5.517123767648489\n",
      "D:/00_NCSU/00_Resources/00_Datasets/PSA-oak-d-images/NC_09_23_2020\\2020_09_23_09_42_34\\12ea2ffa-c6b5-4d71-91b5-b5c6ac01cec8\\color.png\n",
      "5.547045605100184\n",
      "D:/00_NCSU/00_Resources/00_Datasets/PSA-oak-d-images/NC_09_23_2020\\2020_09_23_09_42_34\\1a299732-87a8-4d0c-8e99-569a4766f819\\color.png\n",
      "5.973814091347247\n",
      "D:/00_NCSU/00_Resources/00_Datasets/PSA-oak-d-images/NC_09_23_2020\\2020_09_23_09_42_34\\2c9fddab-0b1a-4634-98d5-c6a2c25a9f1e\\color.png\n",
      "5.677250519180762\n",
      "D:/00_NCSU/00_Resources/00_Datasets/PSA-oak-d-images/NC_09_23_2020\\2020_09_23_09_42_34\\45a54b2c-f668-4390-b71f-2b2bbb4b0b4b\\color.png\n",
      "5.233425900920701\n",
      "D:/00_NCSU/00_Resources/00_Datasets/PSA-oak-d-images/NC_09_23_2020\\2020_09_23_09_42_34\\48c6d15f-f5fe-4c18-8df7-aab8e3c5f01f\\color.png\n",
      "5.721505874159754\n",
      "D:/00_NCSU/00_Resources/00_Datasets/PSA-oak-d-images/NC_09_23_2020\\2020_09_23_09_42_34\\4b50299b-9c34-4f5e-bc32-2138882f64c2\\color.png\n",
      "6.651189266947898\n",
      "D:/00_NCSU/00_Resources/00_Datasets/PSA-oak-d-images/NC_09_23_2020\\2020_09_23_09_42_34\\4c895944-c380-4b66-9f02-9098d26a3f2e\\color.png\n",
      "6.374724558685183\n",
      "D:/00_NCSU/00_Resources/00_Datasets/PSA-oak-d-images/NC_09_23_2020\\2020_09_23_09_42_34\\50d20ca5-2fc6-43e3-b56e-82f5652fee4d\\color.png\n",
      "6.072966297754257\n",
      "D:/00_NCSU/00_Resources/00_Datasets/PSA-oak-d-images/NC_09_23_2020\\2020_09_23_09_42_34\\5f536338-8252-42eb-8929-6f8d977b3d3d\\color.png\n",
      "6.426909127857651\n",
      "D:/00_NCSU/00_Resources/00_Datasets/PSA-oak-d-images/NC_09_23_2020\\2020_09_23_09_42_34\\6a4439c0-4a95-4709-9d66-b7cb6ed316f3\\color.png\n",
      "6.826695981994\n",
      "D:/00_NCSU/00_Resources/00_Datasets/PSA-oak-d-images/NC_09_23_2020\\2020_09_23_09_42_34\\6f1e9785-55ff-40ce-b96d-1ef673321ac9\\color.png\n",
      "7.1185232659874185\n",
      "D:/00_NCSU/00_Resources/00_Datasets/PSA-oak-d-images/NC_09_23_2020\\2020_09_23_09_42_34\\78c2bd3b-9ce8-4408-8fb0-bdfa52f4ee14\\color.png\n",
      "5.904044353302056\n",
      "D:/00_NCSU/00_Resources/00_Datasets/PSA-oak-d-images/NC_09_23_2020\\2020_09_23_09_42_34\\78f8f2ce-d974-4792-94e3-d6fa5510610f\\color.png\n",
      "5.442341907759719\n",
      "D:/00_NCSU/00_Resources/00_Datasets/PSA-oak-d-images/NC_09_23_2020\\2020_09_23_09_42_34\\7d267f1e-1971-41f4-b4e8-c27c64ff76b9\\color.png\n",
      "5.7896848368498475\n",
      "D:/00_NCSU/00_Resources/00_Datasets/PSA-oak-d-images/NC_09_23_2020\\2020_09_23_09_42_34\\8214aa98-0a64-4494-ac52-0bb08ab08103\\color.png\n",
      "6.579424094209274\n",
      "D:/00_NCSU/00_Resources/00_Datasets/PSA-oak-d-images/NC_09_23_2020\\2020_09_23_09_42_34\\86a3b06e-01e0-4671-a449-737428536f7f\\color.png\n",
      "7.843902855308971\n",
      "D:/00_NCSU/00_Resources/00_Datasets/PSA-oak-d-images/NC_09_23_2020\\2020_09_23_09_42_34\\89e166f5-469f-4ae1-94b4-73c597ecfe4d\\color.png\n",
      "5.676476156527252\n",
      "D:/00_NCSU/00_Resources/00_Datasets/PSA-oak-d-images/NC_09_23_2020\\2020_09_23_09_42_34\\8d5e4334-bf8a-4c29-95dc-6f8e2ff1cee7\\color.png\n",
      "5.742508306827659\n",
      "D:/00_NCSU/00_Resources/00_Datasets/PSA-oak-d-images/NC_09_23_2020\\2020_09_23_09_42_34\\90e56dc8-dc14-4cb2-bf7a-f90f1d0b6b15\\color.png\n",
      "5.8709952829302186\n",
      "D:/00_NCSU/00_Resources/00_Datasets/PSA-oak-d-images/NC_09_23_2020\\2020_09_23_09_42_34\\910b4491-540e-45dc-b856-50ef681e0242\\color.png\n",
      "5.71365507568042\n",
      "D:/00_NCSU/00_Resources/00_Datasets/PSA-oak-d-images/NC_09_23_2020\\2020_09_23_09_42_34\\9422e95a-00cd-4d58-9af3-317b80b3985b\\color.png\n",
      "6.443806225683217\n",
      "D:/00_NCSU/00_Resources/00_Datasets/PSA-oak-d-images/NC_09_23_2020\\2020_09_23_09_42_34\\965a32d2-48d6-4391-b426-637509f3aabb\\color.png\n",
      "5.61495132748774\n",
      "D:/00_NCSU/00_Resources/00_Datasets/PSA-oak-d-images/NC_09_23_2020\\2020_09_23_09_42_34\\9692eaca-e129-432c-859a-bd075b3d1dc7\\color.png\n",
      "5.5825459175984795\n",
      "D:/00_NCSU/00_Resources/00_Datasets/PSA-oak-d-images/NC_09_23_2020\\2020_09_23_09_42_34\\a8605ff4-24b7-4dfa-a245-e736b6e391f5\\color.png\n",
      "5.2343030923714835\n",
      "D:/00_NCSU/00_Resources/00_Datasets/PSA-oak-d-images/NC_09_23_2020\\2020_09_23_09_42_34\\b2fc1670-39d5-4cf3-9d05-27e38745de0e\\color.png\n",
      "5.269754677624768\n",
      "D:/00_NCSU/00_Resources/00_Datasets/PSA-oak-d-images/NC_09_23_2020\\2020_09_23_09_42_34\\bae92e4e-9564-4baa-aab1-a136494b6ba1\\color.png\n",
      "5.90069962006258\n",
      "D:/00_NCSU/00_Resources/00_Datasets/PSA-oak-d-images/NC_09_23_2020\\2020_09_23_09_42_34\\c2258758-a00d-4847-b704-d7eff028c682\\color.png\n",
      "6.307789943844337\n",
      "D:/00_NCSU/00_Resources/00_Datasets/PSA-oak-d-images/NC_09_23_2020\\2020_09_23_09_42_34\\c664dc4b-1c6b-4856-8e4d-620a291f8345\\color.png\n",
      "6.146606600975633\n",
      "D:/00_NCSU/00_Resources/00_Datasets/PSA-oak-d-images/NC_09_23_2020\\2020_09_23_09_42_34\\c9a8f011-517b-4e95-925c-01c5be11cc1d\\color.png\n",
      "5.917547420345328\n",
      "D:/00_NCSU/00_Resources/00_Datasets/PSA-oak-d-images/NC_09_23_2020\\2020_09_23_09_42_34\\ca8d2fb8-9fb5-4a49-8d8f-4014ac51b6a8\\color.png\n",
      "5.7147749619697255\n",
      "D:/00_NCSU/00_Resources/00_Datasets/PSA-oak-d-images/NC_09_23_2020\\2020_09_23_09_42_34\\cb44b80f-0356-48fd-8ee0-074d08e392b0\\color.png\n",
      "6.088119195783187\n",
      "D:/00_NCSU/00_Resources/00_Datasets/PSA-oak-d-images/NC_09_23_2020\\2020_09_23_09_42_34\\e55bdf64-b3df-4b2d-bb8a-4f7bcf7e3c22\\color.png\n",
      "7.026852948782682\n",
      "D:/00_NCSU/00_Resources/00_Datasets/PSA-oak-d-images/NC_09_23_2020\\2020_09_23_09_42_34\\e9a1eb9c-3841-48d4-9d5a-45a4cfbdbe02\\color.png\n",
      "5.553461421511611\n",
      "D:/00_NCSU/00_Resources/00_Datasets/PSA-oak-d-images/NC_09_23_2020\\2020_09_23_09_42_34\\eeff6ade-6146-4ef1-bccf-80356bfb8c29\\color.png\n",
      "6.0326086742458145\n",
      "D:/00_NCSU/00_Resources/00_Datasets/PSA-oak-d-images/NC_09_23_2020\\2020_09_23_09_42_34\\fb7dd135-b97d-48f2-966e-9c8257013ecf\\color.png\n",
      "5.265143113892031\n",
      "D:/00_NCSU/00_Resources/00_Datasets/PSA-oak-d-images/NC_09_23_2020\\2020_09_23_09_42_34\\feb348e0-7fba-4602-aa85-b044928a871b\\color.png\n",
      "5.84591388662696\n",
      "D:/00_NCSU/00_Resources/00_Datasets/PSA-oak-d-images/NC_09_23_2020\\2020_09_23_09_43_53\\173f9a00-5790-4be9-812f-4595d3928acd\\color.png\n",
      "3.5252668610883546\n",
      "D:/00_NCSU/00_Resources/00_Datasets/PSA-oak-d-images/NC_09_23_2020\\2020_09_23_09_43_53\\2f3c3c89-ba6c-4bc8-819d-5636a2e78dbe\\color.png\n",
      "3.129702044557811\n",
      "D:/00_NCSU/00_Resources/00_Datasets/PSA-oak-d-images/NC_09_23_2020\\2020_09_23_09_43_53\\316839c4-01fc-4229-a092-56a9b3892a1e\\color.png\n"
     ]
    },
    {
     "name": "stdout",
     "output_type": "stream",
     "text": [
      "3.2001846303998964\n",
      "D:/00_NCSU/00_Resources/00_Datasets/PSA-oak-d-images/NC_09_23_2020\\2020_09_23_09_43_53\\317711ee-63e6-4c7d-a6be-7f6c7dc6611e\\color.png\n",
      "3.6252770519566915\n",
      "D:/00_NCSU/00_Resources/00_Datasets/PSA-oak-d-images/NC_09_23_2020\\2020_09_23_09_43_53\\34bb6762-c921-43b2-98fc-b059c5a8cc73\\color.png\n",
      "3.4832236935883936\n",
      "D:/00_NCSU/00_Resources/00_Datasets/PSA-oak-d-images/NC_09_23_2020\\2020_09_23_09_43_53\\37496a87-005a-4674-9c52-e32dc4fd40f3\\color.png\n",
      "3.5627094852240226\n",
      "D:/00_NCSU/00_Resources/00_Datasets/PSA-oak-d-images/NC_09_23_2020\\2020_09_23_09_43_53\\3e72a0f2-72d1-4e43-87d7-a47a336232e8\\color.png\n",
      "3.0844634888960147\n",
      "D:/00_NCSU/00_Resources/00_Datasets/PSA-oak-d-images/NC_09_23_2020\\2020_09_23_09_43_53\\49cf4c06-5146-4d4b-b695-0abeb5d146ee\\color.png\n",
      "3.3878536921946263\n",
      "D:/00_NCSU/00_Resources/00_Datasets/PSA-oak-d-images/NC_09_23_2020\\2020_09_23_09_43_53\\65d4e9c5-abb7-43f2-97b7-46f8c98663e9\\color.png\n",
      "3.2263807886116926\n",
      "D:/00_NCSU/00_Resources/00_Datasets/PSA-oak-d-images/NC_09_23_2020\\2020_09_23_09_43_53\\75c1e3b2-d12b-4ad9-8ff3-f7e2a3a4f5be\\color.png\n",
      "3.1658737391807725\n",
      "D:/00_NCSU/00_Resources/00_Datasets/PSA-oak-d-images/NC_09_23_2020\\2020_09_23_09_43_53\\7fd6d2fd-4a9f-47b7-b199-a85ff026d237\\color.png\n",
      "3.18925188617932\n",
      "D:/00_NCSU/00_Resources/00_Datasets/PSA-oak-d-images/NC_09_23_2020\\2020_09_23_09_43_53\\87aa3546-2122-448a-b140-2c48d935b3e4\\color.png\n",
      "3.0686225874156565\n",
      "D:/00_NCSU/00_Resources/00_Datasets/PSA-oak-d-images/NC_09_23_2020\\2020_09_23_09_43_53\\8e77ba52-2281-497a-a624-efa180d33507\\color.png\n",
      "3.5046984906892917\n",
      "D:/00_NCSU/00_Resources/00_Datasets/PSA-oak-d-images/NC_09_23_2020\\2020_09_23_09_43_53\\9d6f4a0a-9e4f-42a5-b351-3950d156f8c5\\color.png\n",
      "3.089637568593842\n",
      "D:/00_NCSU/00_Resources/00_Datasets/PSA-oak-d-images/NC_09_23_2020\\2020_09_23_09_43_53\\aad1e2a9-1c80-4420-969f-98369b8b8385\\color.png\n",
      "3.46600129337132\n",
      "D:/00_NCSU/00_Resources/00_Datasets/PSA-oak-d-images/NC_09_23_2020\\2020_09_23_09_43_53\\b449f443-3113-47be-a465-fd7644d2a710\\color.png\n",
      "3.821712349751127\n",
      "D:/00_NCSU/00_Resources/00_Datasets/PSA-oak-d-images/NC_09_23_2020\\2020_09_23_09_43_53\\be69f38a-3d1e-424e-966c-5e37f5796962\\color.png\n",
      "3.2693710349350824\n",
      "D:/00_NCSU/00_Resources/00_Datasets/PSA-oak-d-images/NC_09_23_2020\\2020_09_23_09_43_53\\c93da2d1-990a-43cc-923b-40f72ecd0787\\color.png\n",
      "3.378361454634262\n",
      "D:/00_NCSU/00_Resources/00_Datasets/PSA-oak-d-images/NC_09_23_2020\\2020_09_23_09_43_53\\cabac711-d2a7-4892-9c2e-72b5bbc3f3f3\\color.png\n",
      "3.780387168274245\n",
      "D:/00_NCSU/00_Resources/00_Datasets/PSA-oak-d-images/NC_09_23_2020\\2020_09_23_09_43_53\\d65c16d7-2538-4199-a2ed-8d4b384d1f47\\color.png\n",
      "3.373474610500888\n",
      "D:/00_NCSU/00_Resources/00_Datasets/PSA-oak-d-images/NC_09_23_2020\\2020_09_23_09_43_53\\dd70ffba-4b32-4a8c-afe1-ffbea2ab177c\\color.png\n",
      "3.455027908680064\n",
      "D:/00_NCSU/00_Resources/00_Datasets/PSA-oak-d-images/NC_09_23_2020\\2020_09_23_09_43_53\\dec18418-9345-45f3-b6c9-65e30ff73f2f\\color.png\n",
      "3.1943179236128074\n",
      "D:/00_NCSU/00_Resources/00_Datasets/PSA-oak-d-images/NC_09_23_2020\\2020_09_23_09_43_53\\e1798a21-4cb7-4c8b-8832-7290dd2df907\\color.png\n",
      "3.1791795114089143\n",
      "D:/00_NCSU/00_Resources/00_Datasets/PSA-oak-d-images/NC_09_23_2020\\2020_09_23_09_43_53\\e9bb9c04-ce88-414f-844e-94ac83085ea6\\color.png\n",
      "3.335176721649811\n",
      "D:/00_NCSU/00_Resources/00_Datasets/PSA-oak-d-images/NC_09_23_2020\\2020_09_23_09_43_53\\eb66d93e-2741-441b-8601-b8c869cd336c\\color.png\n",
      "3.455446452096717\n",
      "D:/00_NCSU/00_Resources/00_Datasets/PSA-oak-d-images/NC_09_23_2020\\2020_09_23_09_43_53\\eb6c6481-f9ee-4b7a-8d5f-caddf36ca320\\color.png\n",
      "3.5164658754064817\n",
      "D:/00_NCSU/00_Resources/00_Datasets/PSA-oak-d-images/NC_09_23_2020\\2020_09_23_09_44_44\\0d595869-9b0a-40de-ba37-21c428479f82\\color.png\n",
      "2.874126986483011\n",
      "D:/00_NCSU/00_Resources/00_Datasets/PSA-oak-d-images/NC_09_23_2020\\2020_09_23_09_44_44\\271666df-b9f6-4d51-99fc-5032e213616c\\color.png\n",
      "2.256525703390451\n",
      "D:/00_NCSU/00_Resources/00_Datasets/PSA-oak-d-images/NC_09_23_2020\\2020_09_23_09_44_44\\3bd6236c-74e3-47cd-883f-ef64d4ae615e\\color.png\n",
      "3.087097924268954\n",
      "D:/00_NCSU/00_Resources/00_Datasets/PSA-oak-d-images/NC_09_23_2020\\2020_09_23_09_44_44\\3e8691f9-4d91-450d-ad8a-8caf25d5131a\\color.png\n",
      "2.3285893555379973\n",
      "D:/00_NCSU/00_Resources/00_Datasets/PSA-oak-d-images/NC_09_23_2020\\2020_09_23_09_44_44\\43ce78e5-9832-4ce4-9c89-91bc313478ff\\color.png\n",
      "2.433014232987402\n",
      "D:/00_NCSU/00_Resources/00_Datasets/PSA-oak-d-images/NC_09_23_2020\\2020_09_23_09_44_44\\62dfd1ca-1024-4756-a7f6-d020870b0f86\\color.png\n",
      "2.8188946278660403\n",
      "D:/00_NCSU/00_Resources/00_Datasets/PSA-oak-d-images/NC_09_23_2020\\2020_09_23_09_44_44\\638d051f-e0f5-4d37-8696-2f0f96a57992\\color.png\n",
      "2.666369859638056\n",
      "D:/00_NCSU/00_Resources/00_Datasets/PSA-oak-d-images/NC_09_23_2020\\2020_09_23_09_44_44\\ab9269ad-9564-4388-ab96-d21bcda782b4\\color.png\n",
      "2.9267205384538095\n",
      "D:/00_NCSU/00_Resources/00_Datasets/PSA-oak-d-images/NC_09_23_2020\\2020_09_23_09_44_44\\afbf9cb0-f045-49a2-a91c-7dea18349691\\color.png\n",
      "2.3016303030552008\n",
      "D:/00_NCSU/00_Resources/00_Datasets/PSA-oak-d-images/NC_09_23_2020\\2020_09_23_09_44_44\\c91ae168-eabe-4a56-bfee-b9eff2e343ef\\color.png\n",
      "2.6741654766081266\n",
      "D:/00_NCSU/00_Resources/00_Datasets/PSA-oak-d-images/NC_09_23_2020\\2020_09_23_09_44_44\\caa289e1-acd2-4c10-8162-9d6bae3e2acc\\color.png\n",
      "2.170053389775686\n",
      "D:/00_NCSU/00_Resources/00_Datasets/PSA-oak-d-images/NC_09_23_2020\\2020_09_23_09_44_44\\cae72b32-a8da-4166-a9a9-7e10937370b1\\color.png\n",
      "2.30979790965531\n",
      "D:/00_NCSU/00_Resources/00_Datasets/PSA-oak-d-images/NC_09_23_2020\\2020_09_23_09_44_44\\d473576b-439a-4484-8bae-36c43df7347a\\color.png\n",
      "2.106217012438082\n",
      "D:/00_NCSU/00_Resources/00_Datasets/PSA-oak-d-images/NC_09_23_2020\\2020_09_23_09_44_44\\d5128cf6-4bf6-406c-bc68-ac9c68524e98\\color.png\n",
      "1.8741442359302634\n",
      "D:/00_NCSU/00_Resources/00_Datasets/PSA-oak-d-images/NC_09_23_2020\\2020_09_23_09_44_44\\f746f8b7-8168-43ae-845f-8e8f91e11056\\color.png\n",
      "2.5749552761002787\n",
      "D:/00_NCSU/00_Resources/00_Datasets/PSA-oak-d-images/NC_09_23_2020\\2020_09_23_09_45_44\\021cc15b-1593-426a-a458-d5eb207e3082\\color.png\n",
      "88.08336118135209\n",
      "D:/00_NCSU/00_Resources/00_Datasets/PSA-oak-d-images/NC_09_23_2020\\2020_09_23_09_45_44\\0c8cc023-20da-454c-871f-412c889c6d60\\color.png\n",
      "79.371954363424\n",
      "D:/00_NCSU/00_Resources/00_Datasets/PSA-oak-d-images/NC_09_23_2020\\2020_09_23_09_45_44\\0d0338ac-eafb-4842-aec9-bed0fe354179\\color.png\n",
      "72.14917492430496\n",
      "D:/00_NCSU/00_Resources/00_Datasets/PSA-oak-d-images/NC_09_23_2020\\2020_09_23_09_45_44\\0ddba5d1-cb02-4bc0-bce8-303e3c32d9fa\\color.png\n",
      "77.90985788822405\n",
      "D:/00_NCSU/00_Resources/00_Datasets/PSA-oak-d-images/NC_09_23_2020\\2020_09_23_09_45_44\\155afa7b-1389-46a3-a634-9e4512882568\\color.png\n",
      "84.31954568303374\n",
      "D:/00_NCSU/00_Resources/00_Datasets/PSA-oak-d-images/NC_09_23_2020\\2020_09_23_09_45_44\\1f06d8f1-4748-4b9d-b676-cd1e7f607a82\\color.png\n",
      "66.37944991023078\n",
      "D:/00_NCSU/00_Resources/00_Datasets/PSA-oak-d-images/NC_09_23_2020\\2020_09_23_09_45_44\\247e846e-cc67-4a07-b79f-253df7fab1eb\\color.png\n",
      "84.35232518026487\n",
      "D:/00_NCSU/00_Resources/00_Datasets/PSA-oak-d-images/NC_09_23_2020\\2020_09_23_09_45_44\\3089b27a-da72-4e5e-b3cb-3fcd0eb23285\\color.png\n",
      "73.4064870802819\n",
      "D:/00_NCSU/00_Resources/00_Datasets/PSA-oak-d-images/NC_09_23_2020\\2020_09_23_09_45_44\\393dd5cd-e6b6-4435-8e48-24a543a75f58\\color.png\n",
      "61.8557720919279\n",
      "D:/00_NCSU/00_Resources/00_Datasets/PSA-oak-d-images/NC_09_23_2020\\2020_09_23_09_45_44\\393f6bd9-f992-44f2-a443-0663c65d8970\\color.png\n",
      "80.66328401417398\n",
      "D:/00_NCSU/00_Resources/00_Datasets/PSA-oak-d-images/NC_09_23_2020\\2020_09_23_09_45_44\\3df035b6-7c3e-4365-8eda-05def4d23411\\color.png\n",
      "71.89932150159702\n",
      "D:/00_NCSU/00_Resources/00_Datasets/PSA-oak-d-images/NC_09_23_2020\\2020_09_23_09_45_44\\3faddfd6-6825-4ac6-97d2-c555427c9f87\\color.png\n",
      "68.45162551336185\n",
      "D:/00_NCSU/00_Resources/00_Datasets/PSA-oak-d-images/NC_09_23_2020\\2020_09_23_09_45_44\\4162f073-2dc6-4264-b05e-ac60793c570f\\color.png\n",
      "96.46053683282835\n",
      "D:/00_NCSU/00_Resources/00_Datasets/PSA-oak-d-images/NC_09_23_2020\\2020_09_23_09_45_44\\569c1a61-f9e5-450a-adc5-3034498765b6\\color.png\n",
      "92.91701346673727\n",
      "D:/00_NCSU/00_Resources/00_Datasets/PSA-oak-d-images/NC_09_23_2020\\2020_09_23_09_45_44\\59beddd3-5967-4519-b398-d3efbc68d6cc\\color.png\n",
      "83.87344304879211\n",
      "D:/00_NCSU/00_Resources/00_Datasets/PSA-oak-d-images/NC_09_23_2020\\2020_09_23_09_45_44\\6970df9a-67dc-4c88-b5d8-7e17c0e95a3e\\color.png\n"
     ]
    },
    {
     "name": "stdout",
     "output_type": "stream",
     "text": [
      "72.01868733644098\n",
      "D:/00_NCSU/00_Resources/00_Datasets/PSA-oak-d-images/NC_09_23_2020\\2020_09_23_09_45_44\\6dd0221d-0740-46d6-9985-ddeb59e2f019\\color.png\n",
      "60.86111694193954\n",
      "D:/00_NCSU/00_Resources/00_Datasets/PSA-oak-d-images/NC_09_23_2020\\2020_09_23_09_45_44\\70f8b0ab-3844-48c7-be05-1cbe32be12b2\\color.png\n",
      "70.90688764206293\n",
      "D:/00_NCSU/00_Resources/00_Datasets/PSA-oak-d-images/NC_09_23_2020\\2020_09_23_09_45_44\\76142f9b-617e-43e5-952d-a709c05c5948\\color.png\n",
      "89.88615487742595\n",
      "D:/00_NCSU/00_Resources/00_Datasets/PSA-oak-d-images/NC_09_23_2020\\2020_09_23_09_45_44\\76332b3b-b369-4aa8-995f-41a4a7290634\\color.png\n",
      "64.42723933038208\n",
      "D:/00_NCSU/00_Resources/00_Datasets/PSA-oak-d-images/NC_09_23_2020\\2020_09_23_09_45_44\\81fb1f86-70e6-4799-9b2a-d902c5ad21e5\\color.png\n",
      "75.64778230857114\n",
      "D:/00_NCSU/00_Resources/00_Datasets/PSA-oak-d-images/NC_09_23_2020\\2020_09_23_09_45_44\\9624139a-b359-4c8c-bbe1-adb89059a97c\\color.png\n",
      "97.56165366994499\n",
      "D:/00_NCSU/00_Resources/00_Datasets/PSA-oak-d-images/NC_09_23_2020\\2020_09_23_09_45_44\\995480d1-4f58-4042-9258-7741d101c190\\color.png\n",
      "165.3877982829598\n",
      "D:/00_NCSU/00_Resources/00_Datasets/PSA-oak-d-images/NC_09_23_2020\\2020_09_23_09_45_44\\a0114409-083d-4d1c-b892-879248c33f13\\color.png\n",
      "86.39818323283409\n",
      "D:/00_NCSU/00_Resources/00_Datasets/PSA-oak-d-images/NC_09_23_2020\\2020_09_23_09_45_44\\a15f3aca-b6d0-4d76-8e5d-ddc271743d56\\color.png\n",
      "89.88034876361824\n",
      "D:/00_NCSU/00_Resources/00_Datasets/PSA-oak-d-images/NC_09_23_2020\\2020_09_23_09_45_44\\a241f69b-cd9d-4650-8eb8-3c5648f3bff0\\color.png\n",
      "76.99183459760246\n",
      "D:/00_NCSU/00_Resources/00_Datasets/PSA-oak-d-images/NC_09_23_2020\\2020_09_23_09_45_44\\a9d16ef2-453f-45a6-8cec-c98a0cdd48db\\color.png\n",
      "90.48647830377554\n",
      "D:/00_NCSU/00_Resources/00_Datasets/PSA-oak-d-images/NC_09_23_2020\\2020_09_23_09_45_44\\ab7ba755-f40e-41d1-a24f-fb8714c805e9\\color.png\n",
      "78.40858656474849\n",
      "D:/00_NCSU/00_Resources/00_Datasets/PSA-oak-d-images/NC_09_23_2020\\2020_09_23_09_45_44\\ad0257f8-d081-4fb6-8e84-a2a552f1df6a\\color.png\n",
      "190.05605934558056\n",
      "D:/00_NCSU/00_Resources/00_Datasets/PSA-oak-d-images/NC_09_23_2020\\2020_09_23_09_45_44\\af6ad9bb-869f-4654-a90b-afaa0cf5cd99\\color.png\n",
      "143.6056486895925\n",
      "D:/00_NCSU/00_Resources/00_Datasets/PSA-oak-d-images/NC_09_23_2020\\2020_09_23_09_45_44\\cfa4c2de-d489-404c-af99-b8cafdfefed0\\color.png\n",
      "197.03568759584255\n",
      "D:/00_NCSU/00_Resources/00_Datasets/PSA-oak-d-images/NC_09_23_2020\\2020_09_23_09_45_44\\d6148f41-0307-430d-82e1-8ad7fbc36416\\color.png\n",
      "199.39634407767667\n",
      "D:/00_NCSU/00_Resources/00_Datasets/PSA-oak-d-images/NC_09_23_2020\\2020_09_23_09_45_44\\da99539f-9b96-40ee-a75c-d7885649b924\\color.png\n",
      "159.2310794871795\n",
      "D:/00_NCSU/00_Resources/00_Datasets/PSA-oak-d-images/NC_09_23_2020\\2020_09_23_09_45_44\\e4d8a5ea-9cac-4101-a2ce-bac0ca3adb0f\\color.png\n",
      "97.50879428002403\n",
      "D:/00_NCSU/00_Resources/00_Datasets/PSA-oak-d-images/NC_09_23_2020\\2020_09_23_09_45_44\\e65ebccf-c3f0-44e7-8ddd-36366fd919b0\\color.png\n",
      "1.2729772536500121\n",
      "D:/00_NCSU/00_Resources/00_Datasets/PSA-oak-d-images/NC_09_23_2020\\2020_09_23_09_45_44\\f04c4f10-474a-4645-b079-dfce6a94cd3a\\color.png\n",
      "93.03330419822014\n",
      "D:/00_NCSU/00_Resources/00_Datasets/PSA-oak-d-images/NC_09_23_2020\\2020_09_23_09_45_44\\fbc3083a-d2d5-483c-b153-e2b717effe77\\color.png\n",
      "194.75415588388253\n",
      "D:/00_NCSU/00_Resources/00_Datasets/PSA-oak-d-images/NC_09_23_2020\\2020_09_23_09_45_44\\ffc5e383-0920-4b40-8a7e-31dd0c975f2d\\color.png\n",
      "75.20250816384606\n",
      "D:/00_NCSU/00_Resources/00_Datasets/PSA-oak-d-images/NC_09_23_2020\\2020_09_23_09_47_05\\065fef00-0f86-42eb-9edf-ee88718ee285\\color.png\n",
      "3.3770912401031588\n",
      "D:/00_NCSU/00_Resources/00_Datasets/PSA-oak-d-images/NC_09_23_2020\\2020_09_23_09_47_05\\12e27793-d1b8-43ce-a24e-c1590daa14bc\\color.png\n",
      "4.249992374287893\n",
      "D:/00_NCSU/00_Resources/00_Datasets/PSA-oak-d-images/NC_09_23_2020\\2020_09_23_09_47_05\\12fddb09-0be2-4365-8639-bbb3bd2db4fc\\color.png\n",
      "3.4869982796244794\n",
      "D:/00_NCSU/00_Resources/00_Datasets/PSA-oak-d-images/NC_09_23_2020\\2020_09_23_09_47_05\\15cbee17-a975-4bcc-acaa-41d2ec12a4ec\\color.png\n",
      "3.6847779797737874\n",
      "D:/00_NCSU/00_Resources/00_Datasets/PSA-oak-d-images/NC_09_23_2020\\2020_09_23_09_47_05\\1ec3a709-184e-4c27-8ec9-6e80c5cee068\\color.png\n",
      "3.513189170962606\n",
      "D:/00_NCSU/00_Resources/00_Datasets/PSA-oak-d-images/NC_09_23_2020\\2020_09_23_09_47_05\\2197493e-c7c0-49c1-bbdc-aa788d1ebb7a\\color.png\n",
      "3.07965013106947\n",
      "D:/00_NCSU/00_Resources/00_Datasets/PSA-oak-d-images/NC_09_23_2020\\2020_09_23_09_47_05\\238b2b5b-389e-4f88-b767-1f93ac20302e\\color.png\n",
      "3.2782180851063845\n",
      "D:/00_NCSU/00_Resources/00_Datasets/PSA-oak-d-images/NC_09_23_2020\\2020_09_23_09_47_05\\23924aed-c07d-4a21-a149-f8eb496b4426\\color.png\n",
      "3.108873576919756\n",
      "D:/00_NCSU/00_Resources/00_Datasets/PSA-oak-d-images/NC_09_23_2020\\2020_09_23_09_47_05\\492605ac-c0ad-4b45-9053-053a7c2bf742\\color.png\n",
      "3.2546929806387457\n",
      "D:/00_NCSU/00_Resources/00_Datasets/PSA-oak-d-images/NC_09_23_2020\\2020_09_23_09_47_05\\61298fd5-236b-4e97-947d-c861a8b87290\\color.png\n",
      "3.2484973243098523\n",
      "D:/00_NCSU/00_Resources/00_Datasets/PSA-oak-d-images/NC_09_23_2020\\2020_09_23_09_47_05\\61f7c04e-8dde-463d-9123-814e9865c831\\color.png\n",
      "3.403231180753631\n",
      "D:/00_NCSU/00_Resources/00_Datasets/PSA-oak-d-images/NC_09_23_2020\\2020_09_23_09_47_05\\6b0e6983-5f26-4516-8f2e-e2ea0b574328\\color.png\n",
      "3.4810073952835623\n",
      "D:/00_NCSU/00_Resources/00_Datasets/PSA-oak-d-images/NC_09_23_2020\\2020_09_23_09_47_05\\6f20982e-f6a0-4d75-a418-dd357270369f\\color.png\n",
      "3.043144543626195\n",
      "D:/00_NCSU/00_Resources/00_Datasets/PSA-oak-d-images/NC_09_23_2020\\2020_09_23_09_47_05\\752efacd-cb3e-49b6-aa00-b9a598276a7b\\color.png\n",
      "3.439406516062103\n",
      "D:/00_NCSU/00_Resources/00_Datasets/PSA-oak-d-images/NC_09_23_2020\\2020_09_23_09_47_05\\832afbb0-d98b-4341-935e-13f42b93b983\\color.png\n",
      "2.951056440386147\n",
      "D:/00_NCSU/00_Resources/00_Datasets/PSA-oak-d-images/NC_09_23_2020\\2020_09_23_09_47_05\\86082401-1b1a-43a4-8338-ee566c6d7231\\color.png\n",
      "3.1227510218667156\n",
      "D:/00_NCSU/00_Resources/00_Datasets/PSA-oak-d-images/NC_09_23_2020\\2020_09_23_09_47_05\\8ae98ef3-cb47-4a56-94bb-01280609ef0e\\color.png\n",
      "3.2957734305724893\n",
      "D:/00_NCSU/00_Resources/00_Datasets/PSA-oak-d-images/NC_09_23_2020\\2020_09_23_09_47_05\\8c493d79-fa15-445b-b172-91a0406186f3\\color.png\n",
      "3.1507036724663946\n",
      "D:/00_NCSU/00_Resources/00_Datasets/PSA-oak-d-images/NC_09_23_2020\\2020_09_23_09_47_05\\96f4e0c6-d928-422a-a5d8-7ee8f23f558f\\color.png\n",
      "3.3803674017616223\n",
      "D:/00_NCSU/00_Resources/00_Datasets/PSA-oak-d-images/NC_09_23_2020\\2020_09_23_09_47_05\\9c138927-57cd-4e35-9ffa-12620c9ae959\\color.png\n",
      "3.2283303649827055\n",
      "D:/00_NCSU/00_Resources/00_Datasets/PSA-oak-d-images/NC_09_23_2020\\2020_09_23_09_47_05\\ad841a3e-416e-4caf-86ee-220ec5628b7e\\color.png\n",
      "3.226568107240733\n",
      "D:/00_NCSU/00_Resources/00_Datasets/PSA-oak-d-images/NC_09_23_2020\\2020_09_23_09_47_05\\b156d100-d434-4351-adfd-34d9250f33e5\\color.png\n",
      "3.109072285467755\n",
      "D:/00_NCSU/00_Resources/00_Datasets/PSA-oak-d-images/NC_09_23_2020\\2020_09_23_09_47_05\\c301c1d2-7fc1-402b-a784-868cf6c01e47\\color.png\n",
      "3.056026815218829\n",
      "D:/00_NCSU/00_Resources/00_Datasets/PSA-oak-d-images/NC_09_23_2020\\2020_09_23_09_47_05\\ca173159-3559-44b3-8ce9-50819d686829\\color.png\n",
      "3.424878152954784\n",
      "D:/00_NCSU/00_Resources/00_Datasets/PSA-oak-d-images/NC_09_23_2020\\2020_09_23_09_47_05\\ceb418d8-6fc2-4776-b14b-c67f8b589347\\color.png\n",
      "2.847343897369617\n",
      "D:/00_NCSU/00_Resources/00_Datasets/PSA-oak-d-images/NC_09_23_2020\\2020_09_23_09_47_05\\d100cbe2-a6e9-47cb-8fb1-065450436cca\\color.png\n",
      "3.204669675881724\n",
      "D:/00_NCSU/00_Resources/00_Datasets/PSA-oak-d-images/NC_09_23_2020\\2020_09_23_09_47_05\\e1eb3f3a-5345-452f-9416-8cd1761baf6b\\color.png\n",
      "3.1861885011792497\n",
      "D:/00_NCSU/00_Resources/00_Datasets/PSA-oak-d-images/NC_09_23_2020\\2020_09_23_09_47_05\\e342b49c-5ae2-45c4-b72b-6b41c8c115ec\\color.png\n",
      "2.9199635869659555\n",
      "D:/00_NCSU/00_Resources/00_Datasets/PSA-oak-d-images/NC_09_23_2020\\2020_09_23_09_47_05\\e3e1e91f-a6f2-4c4f-aead-11c3a2320d7d\\color.png\n",
      "4.488292422104409\n",
      "D:/00_NCSU/00_Resources/00_Datasets/PSA-oak-d-images/NC_09_23_2020\\2020_09_23_09_47_05\\f3ca45f4-bb4a-4af9-a948-e8b1b6e2f73a\\color.png\n",
      "3.3028299706873443\n",
      "D:/00_NCSU/00_Resources/00_Datasets/PSA-oak-d-images/NC_09_23_2020\\2020_09_23_09_47_05\\fe9dac34-8b1e-4b72-8d83-8baf0d2af6b5\\color.png\n",
      "3.2151090374849445\n",
      "D:/00_NCSU/00_Resources/00_Datasets/PSA-oak-d-images/NC_09_23_2020\\2020_09_23_09_47_05\\ff19b807-074b-4f8f-9997-05c48ed6cbf0\\color.png\n"
     ]
    },
    {
     "name": "stdout",
     "output_type": "stream",
     "text": [
      "3.056835560888079\n",
      "D:/00_NCSU/00_Resources/00_Datasets/PSA-oak-d-images/NC_09_23_2020\\2020_09_23_09_48_05\\02e312e7-b1ce-4417-90c2-bd1ecc192ee2\\color.png\n",
      "4.339420096974234\n",
      "D:/00_NCSU/00_Resources/00_Datasets/PSA-oak-d-images/NC_09_23_2020\\2020_09_23_09_48_05\\061c278d-c9ec-401f-805d-c162253d7666\\color.png\n",
      "4.397648251448706\n",
      "D:/00_NCSU/00_Resources/00_Datasets/PSA-oak-d-images/NC_09_23_2020\\2020_09_23_09_48_05\\1e4a2205-b8ee-4402-82f5-5faa59a538aa\\color.png\n",
      "8.110732666477485\n",
      "D:/00_NCSU/00_Resources/00_Datasets/PSA-oak-d-images/NC_09_23_2020\\2020_09_23_09_48_05\\1ed78776-695e-406a-85f7-3610ed75a0ec\\color.png\n",
      "4.259618958148611\n",
      "D:/00_NCSU/00_Resources/00_Datasets/PSA-oak-d-images/NC_09_23_2020\\2020_09_23_09_48_05\\28816699-5bd8-428c-aa09-c74f830c7a41\\color.png\n",
      "4.462132248614944\n",
      "D:/00_NCSU/00_Resources/00_Datasets/PSA-oak-d-images/NC_09_23_2020\\2020_09_23_09_48_05\\2c4a64a1-3e2e-4035-b63d-2dba0223f718\\color.png\n",
      "4.114615947049362\n",
      "D:/00_NCSU/00_Resources/00_Datasets/PSA-oak-d-images/NC_09_23_2020\\2020_09_23_09_48_05\\2f93b911-4376-408d-81a1-075a5425ab5a\\color.png\n",
      "4.137702408986068\n",
      "D:/00_NCSU/00_Resources/00_Datasets/PSA-oak-d-images/NC_09_23_2020\\2020_09_23_09_48_05\\3313fda5-6b45-4a80-bf4c-e9ac72ac027f\\color.png\n",
      "4.429581227671649\n",
      "D:/00_NCSU/00_Resources/00_Datasets/PSA-oak-d-images/NC_09_23_2020\\2020_09_23_09_48_05\\4e9b6459-abfd-4f39-b086-aa7417387d90\\color.png\n",
      "4.116875160622416\n",
      "D:/00_NCSU/00_Resources/00_Datasets/PSA-oak-d-images/NC_09_23_2020\\2020_09_23_09_48_05\\50679841-ab89-437b-8e09-fd183206f205\\color.png\n",
      "4.079494654240874\n",
      "D:/00_NCSU/00_Resources/00_Datasets/PSA-oak-d-images/NC_09_23_2020\\2020_09_23_09_48_05\\5e1aa34d-762f-4911-a810-1fe8745b988c\\color.png\n",
      "3.982821105142362\n",
      "D:/00_NCSU/00_Resources/00_Datasets/PSA-oak-d-images/NC_09_23_2020\\2020_09_23_09_48_05\\610068b2-8317-4196-a43f-70d8e861ab73\\color.png\n",
      "4.148023749022674\n",
      "D:/00_NCSU/00_Resources/00_Datasets/PSA-oak-d-images/NC_09_23_2020\\2020_09_23_09_48_05\\6139d043-c87b-4d7e-90b8-ffd93a38c37f\\color.png\n",
      "4.477959822564544\n",
      "D:/00_NCSU/00_Resources/00_Datasets/PSA-oak-d-images/NC_09_23_2020\\2020_09_23_09_48_05\\61b9dfdc-cfbe-4a9b-a0cd-822060c879a6\\color.png\n",
      "3.971386886802301\n",
      "D:/00_NCSU/00_Resources/00_Datasets/PSA-oak-d-images/NC_09_23_2020\\2020_09_23_09_48_05\\68eb77e7-7fda-45a4-9ce1-98734ed3dd46\\color.png\n",
      "4.231161186682603\n",
      "D:/00_NCSU/00_Resources/00_Datasets/PSA-oak-d-images/NC_09_23_2020\\2020_09_23_09_48_05\\6a26b6f1-9bc8-4c15-8b71-372873decb3b\\color.png\n",
      "4.021777313634395\n",
      "D:/00_NCSU/00_Resources/00_Datasets/PSA-oak-d-images/NC_09_23_2020\\2020_09_23_09_48_05\\6fb06a38-cf9a-4ded-88f7-f20a3aa99e82\\color.png\n",
      "4.586692380074886\n",
      "D:/00_NCSU/00_Resources/00_Datasets/PSA-oak-d-images/NC_09_23_2020\\2020_09_23_09_48_05\\7fb748b1-363e-4d28-b54d-7471ddfad621\\color.png\n",
      "4.78612294779561\n",
      "D:/00_NCSU/00_Resources/00_Datasets/PSA-oak-d-images/NC_09_23_2020\\2020_09_23_09_48_05\\83a768eb-e4e0-4a50-b1a4-7fc8c82ffb5c\\color.png\n",
      "4.519442233254154\n",
      "D:/00_NCSU/00_Resources/00_Datasets/PSA-oak-d-images/NC_09_23_2020\\2020_09_23_09_48_05\\88bce7cf-ca46-4bf6-aaf7-c25be2b13769\\color.png\n",
      "4.154878584279362\n",
      "D:/00_NCSU/00_Resources/00_Datasets/PSA-oak-d-images/NC_09_23_2020\\2020_09_23_09_48_05\\8f0cf128-b9a3-4a56-a2f1-1cf07f9ee6ea\\color.png\n",
      "4.3409756336035\n",
      "D:/00_NCSU/00_Resources/00_Datasets/PSA-oak-d-images/NC_09_23_2020\\2020_09_23_09_48_05\\974068b8-ea46-4c89-af55-9c417605883d\\color.png\n",
      "4.145558654967795\n",
      "D:/00_NCSU/00_Resources/00_Datasets/PSA-oak-d-images/NC_09_23_2020\\2020_09_23_09_48_05\\b03a973b-949a-4321-a60a-a2c48b08543f\\color.png\n",
      "4.286458875612306\n",
      "D:/00_NCSU/00_Resources/00_Datasets/PSA-oak-d-images/NC_09_23_2020\\2020_09_23_09_48_05\\b6df6237-b65b-4504-a13b-2a0d4b386f53\\color.png\n",
      "4.769355566142226\n",
      "D:/00_NCSU/00_Resources/00_Datasets/PSA-oak-d-images/NC_09_23_2020\\2020_09_23_09_48_05\\b9c20e4e-5e8e-4ee5-9256-65c1f0bb6035\\color.png\n",
      "4.28123703106753\n",
      "D:/00_NCSU/00_Resources/00_Datasets/PSA-oak-d-images/NC_09_23_2020\\2020_09_23_09_48_05\\bc4d02db-5a2c-4276-ab82-d0bd219c7572\\color.png\n",
      "4.254395377748339\n",
      "D:/00_NCSU/00_Resources/00_Datasets/PSA-oak-d-images/NC_09_23_2020\\2020_09_23_09_48_05\\c1bcf6b4-ecd6-4930-bedf-06425302d449\\color.png\n",
      "3.8981676387306106\n",
      "D:/00_NCSU/00_Resources/00_Datasets/PSA-oak-d-images/NC_09_23_2020\\2020_09_23_09_48_05\\c3484b80-185d-4dbd-bf8f-0111dab19742\\color.png\n",
      "4.090447214401585\n",
      "D:/00_NCSU/00_Resources/00_Datasets/PSA-oak-d-images/NC_09_23_2020\\2020_09_23_09_48_05\\d597e526-1262-465a-8dc2-0289e8b9cf86\\color.png\n",
      "4.369767474437932\n",
      "D:/00_NCSU/00_Resources/00_Datasets/PSA-oak-d-images/NC_09_23_2020\\2020_09_23_09_48_05\\d6104683-99c5-4de2-8b7b-a67bb4aae895\\color.png\n",
      "4.257629747166687\n",
      "D:/00_NCSU/00_Resources/00_Datasets/PSA-oak-d-images/NC_09_23_2020\\2020_09_23_09_48_05\\e5c9373c-36a5-49f0-b765-02fb85dcd14e\\color.png\n",
      "4.251080976399747\n",
      "D:/00_NCSU/00_Resources/00_Datasets/PSA-oak-d-images/NC_09_23_2020\\2020_09_23_09_48_05\\e9adf937-d079-48e5-9404-83a67f662664\\color.png\n",
      "4.039861711385769\n",
      "D:/00_NCSU/00_Resources/00_Datasets/PSA-oak-d-images/NC_09_23_2020\\2020_09_23_09_48_05\\fb010cb2-6985-42f1-8d83-f9e9289470b5\\color.png\n",
      "4.587141309136203\n",
      "D:/00_NCSU/00_Resources/00_Datasets/PSA-oak-d-images/NC_09_23_2020\\2020_09_23_09_48_05\\fd25446c-224f-4110-968d-afc8d59c8ddb\\color.png\n",
      "3.9218096427934017\n",
      "D:/00_NCSU/00_Resources/00_Datasets/PSA-oak-d-images/NC_09_23_2020\\2020_09_23_09_48_05\\fd600e2b-58f9-4a6a-aea0-cc845eba1417\\color.png\n",
      "4.230129974541066\n",
      "D:/00_NCSU/00_Resources/00_Datasets/PSA-oak-d-images/NC_09_23_2020\\2020_09_23_09_48_58\\04123cb0-755c-4553-8585-baa7cacbbe47\\color.png\n",
      "3.5802434043032556\n",
      "D:/00_NCSU/00_Resources/00_Datasets/PSA-oak-d-images/NC_09_23_2020\\2020_09_23_09_48_58\\050a063d-0082-4f63-a709-2b328c21ae75\\color.png\n",
      "3.6768816903475523\n",
      "D:/00_NCSU/00_Resources/00_Datasets/PSA-oak-d-images/NC_09_23_2020\\2020_09_23_09_48_58\\0e479172-6f94-459e-b974-6fb2bcd69e7a\\color.png\n",
      "3.5543349137237974\n",
      "D:/00_NCSU/00_Resources/00_Datasets/PSA-oak-d-images/NC_09_23_2020\\2020_09_23_09_48_58\\0e7ff322-2aea-4102-9ea8-d80c4ea27e15\\color.png\n",
      "3.4044189802479283\n",
      "D:/00_NCSU/00_Resources/00_Datasets/PSA-oak-d-images/NC_09_23_2020\\2020_09_23_09_48_58\\15ae9d2c-9025-45b6-a0da-bacdbc79fdba\\color.png\n",
      "3.4020718945084454\n",
      "D:/00_NCSU/00_Resources/00_Datasets/PSA-oak-d-images/NC_09_23_2020\\2020_09_23_09_48_58\\27cd73d0-620a-413c-9a1a-a614e4a092fa\\color.png\n",
      "3.4352387645301143\n",
      "D:/00_NCSU/00_Resources/00_Datasets/PSA-oak-d-images/NC_09_23_2020\\2020_09_23_09_48_58\\27f41226-9015-491f-a0d2-9126500bb721\\color.png\n",
      "3.56985488035569\n",
      "D:/00_NCSU/00_Resources/00_Datasets/PSA-oak-d-images/NC_09_23_2020\\2020_09_23_09_48_58\\2c262c5f-ccb7-4843-9540-01220e3088bc\\color.png\n",
      "3.5894257103534626\n",
      "D:/00_NCSU/00_Resources/00_Datasets/PSA-oak-d-images/NC_09_23_2020\\2020_09_23_09_48_58\\2ee1440a-0708-4ab4-a4dd-0d4126ae8424\\color.png\n",
      "3.4820966961250224\n",
      "D:/00_NCSU/00_Resources/00_Datasets/PSA-oak-d-images/NC_09_23_2020\\2020_09_23_09_48_58\\30c831f0-32c9-420b-a130-bed7a39e9e60\\color.png\n",
      "3.6598165291724203\n",
      "D:/00_NCSU/00_Resources/00_Datasets/PSA-oak-d-images/NC_09_23_2020\\2020_09_23_09_48_58\\36318639-3046-4aa5-bc96-58d7af491f91\\color.png\n",
      "3.1726497641714686\n",
      "D:/00_NCSU/00_Resources/00_Datasets/PSA-oak-d-images/NC_09_23_2020\\2020_09_23_09_48_58\\36aa9e22-2819-40b1-ba42-b35ac1834a93\\color.png\n",
      "3.7658323870760175\n",
      "D:/00_NCSU/00_Resources/00_Datasets/PSA-oak-d-images/NC_09_23_2020\\2020_09_23_09_48_58\\376d5573-f006-43dc-85e5-b3d2138f6354\\color.png\n",
      "3.6150997491042665\n",
      "D:/00_NCSU/00_Resources/00_Datasets/PSA-oak-d-images/NC_09_23_2020\\2020_09_23_09_48_58\\3e6c5fb3-9766-4379-b865-0bb2666970de\\color.png\n",
      "3.672840959174863\n",
      "D:/00_NCSU/00_Resources/00_Datasets/PSA-oak-d-images/NC_09_23_2020\\2020_09_23_09_48_58\\48eca0ae-df5f-4d2f-9155-848e9d101552\\color.png\n",
      "3.366808181841893\n",
      "D:/00_NCSU/00_Resources/00_Datasets/PSA-oak-d-images/NC_09_23_2020\\2020_09_23_09_48_58\\5debfb2d-581b-4f6f-8956-b616baf12703\\color.png\n",
      "3.5368893495639866\n",
      "D:/00_NCSU/00_Resources/00_Datasets/PSA-oak-d-images/NC_09_23_2020\\2020_09_23_09_48_58\\66a5e95d-34c7-4981-9db6-0a89291dd62e\\color.png\n",
      "3.6269429817287233\n",
      "D:/00_NCSU/00_Resources/00_Datasets/PSA-oak-d-images/NC_09_23_2020\\2020_09_23_09_48_58\\77102fe4-5cce-40d7-b54c-f0841aea1cdd\\color.png\n",
      "3.754504759239736\n",
      "D:/00_NCSU/00_Resources/00_Datasets/PSA-oak-d-images/NC_09_23_2020\\2020_09_23_09_48_58\\7ee66de4-bef5-445b-bfd6-3d6aa957a282\\color.png\n"
     ]
    },
    {
     "name": "stdout",
     "output_type": "stream",
     "text": [
      "3.8865717686330306\n",
      "D:/00_NCSU/00_Resources/00_Datasets/PSA-oak-d-images/NC_09_23_2020\\2020_09_23_09_48_58\\8780f28f-4412-4d15-a83a-695d9249d7ba\\color.png\n",
      "3.4536064194183775\n",
      "D:/00_NCSU/00_Resources/00_Datasets/PSA-oak-d-images/NC_09_23_2020\\2020_09_23_09_48_58\\92f47217-6d40-4db9-bb18-7155f2ed55fd\\color.png\n",
      "3.7274005289464283\n",
      "D:/00_NCSU/00_Resources/00_Datasets/PSA-oak-d-images/NC_09_23_2020\\2020_09_23_09_48_58\\960425ca-d370-4522-abdf-928cb8c5ae3c\\color.png\n",
      "3.9174767579465026\n",
      "D:/00_NCSU/00_Resources/00_Datasets/PSA-oak-d-images/NC_09_23_2020\\2020_09_23_09_48_58\\996c9507-f343-49b2-961e-75c51d1c0142\\color.png\n",
      "3.4217805659429343\n",
      "D:/00_NCSU/00_Resources/00_Datasets/PSA-oak-d-images/NC_09_23_2020\\2020_09_23_09_48_58\\a026ed25-a153-4548-81e4-1281bc6e6f24\\color.png\n",
      "3.4968978254120553\n",
      "D:/00_NCSU/00_Resources/00_Datasets/PSA-oak-d-images/NC_09_23_2020\\2020_09_23_09_48_58\\ab19df0a-48e9-4c75-850f-67d219188518\\color.png\n",
      "3.732566238376549\n",
      "D:/00_NCSU/00_Resources/00_Datasets/PSA-oak-d-images/NC_09_23_2020\\2020_09_23_09_48_58\\b2356225-1574-4de8-bc28-87eedadf3cc3\\color.png\n",
      "3.5842370906359307\n",
      "D:/00_NCSU/00_Resources/00_Datasets/PSA-oak-d-images/NC_09_23_2020\\2020_09_23_09_48_58\\b4bb4be6-06e8-4c4d-aa03-ee122ad5297b\\color.png\n",
      "4.065349593331807\n",
      "D:/00_NCSU/00_Resources/00_Datasets/PSA-oak-d-images/NC_09_23_2020\\2020_09_23_09_48_58\\b7b52b72-2798-4fa7-a71c-afba72d5d36c\\color.png\n",
      "3.5050715177303653\n",
      "D:/00_NCSU/00_Resources/00_Datasets/PSA-oak-d-images/NC_09_23_2020\\2020_09_23_09_48_58\\ba1374ec-c7d6-4412-a929-fdbb57e9ec49\\color.png\n",
      "3.52398725405186\n",
      "D:/00_NCSU/00_Resources/00_Datasets/PSA-oak-d-images/NC_09_23_2020\\2020_09_23_09_48_58\\c6a29bad-6651-4b2e-9cb1-a4f167375943\\color.png\n",
      "3.6484539982952664\n",
      "D:/00_NCSU/00_Resources/00_Datasets/PSA-oak-d-images/NC_09_23_2020\\2020_09_23_09_48_58\\c6a888b7-e9dc-46f9-93b5-74401030b5a2\\color.png\n",
      "3.7901105333858296\n",
      "D:/00_NCSU/00_Resources/00_Datasets/PSA-oak-d-images/NC_09_23_2020\\2020_09_23_09_48_58\\c8966c32-3423-40c4-99b6-bd317ec35e1d\\color.png\n",
      "3.864189284026795\n",
      "D:/00_NCSU/00_Resources/00_Datasets/PSA-oak-d-images/NC_09_23_2020\\2020_09_23_09_48_58\\d13a9f0a-9bfc-4115-a1cb-bb93d3be6a78\\color.png\n",
      "3.5805983413402367\n",
      "D:/00_NCSU/00_Resources/00_Datasets/PSA-oak-d-images/NC_09_23_2020\\2020_09_23_09_48_58\\d6ed9394-6b54-455e-9d1a-2b4e361b3480\\color.png\n",
      "3.573298650842227\n",
      "D:/00_NCSU/00_Resources/00_Datasets/PSA-oak-d-images/NC_09_23_2020\\2020_09_23_09_48_58\\df9e031f-2336-4779-b70a-c42d3318e756\\color.png\n",
      "3.8708843990024495\n",
      "D:/00_NCSU/00_Resources/00_Datasets/PSA-oak-d-images/NC_09_23_2020\\2020_09_23_09_48_58\\e10a30f2-9020-468c-aaa3-c4714a0bbe74\\color.png\n",
      "3.900619755072486\n",
      "D:/00_NCSU/00_Resources/00_Datasets/PSA-oak-d-images/NC_09_23_2020\\2020_09_23_09_48_58\\fa13a662-49eb-461c-8d45-37e84557e2d3\\color.png\n",
      "3.6923791373312445\n",
      "D:/00_NCSU/00_Resources/00_Datasets/PSA-oak-d-images/NC_09_23_2020\\2020_09_23_09_49_56\\00196d6a-ba97-4e16-8a77-6042fd30eb84\\color.png\n",
      "3.4493123562907977\n",
      "D:/00_NCSU/00_Resources/00_Datasets/PSA-oak-d-images/NC_09_23_2020\\2020_09_23_09_49_56\\0b55f5e0-ff3d-4294-92ed-994c160965e5\\color.png\n",
      "3.032020485509903\n",
      "D:/00_NCSU/00_Resources/00_Datasets/PSA-oak-d-images/NC_09_23_2020\\2020_09_23_09_49_56\\0bdb654f-a5af-452b-a973-72bf8cd5c9d8\\color.png\n",
      "3.7935283049032007\n",
      "D:/00_NCSU/00_Resources/00_Datasets/PSA-oak-d-images/NC_09_23_2020\\2020_09_23_09_49_56\\13fc97e4-fc91-42a9-baca-519252ac7a80\\color.png\n",
      "3.3460390034220073\n",
      "D:/00_NCSU/00_Resources/00_Datasets/PSA-oak-d-images/NC_09_23_2020\\2020_09_23_09_49_56\\17160742-8b16-42e2-9716-7aff1ffefb05\\color.png\n",
      "3.5391341601669506\n",
      "D:/00_NCSU/00_Resources/00_Datasets/PSA-oak-d-images/NC_09_23_2020\\2020_09_23_09_49_56\\2748fd65-c586-43ad-b995-cfb921227a69\\color.png\n",
      "4.221095011811238\n",
      "D:/00_NCSU/00_Resources/00_Datasets/PSA-oak-d-images/NC_09_23_2020\\2020_09_23_09_49_56\\363e1fb9-4159-43f2-b591-0620bac175b6\\color.png\n",
      "2.8575287529883497\n",
      "D:/00_NCSU/00_Resources/00_Datasets/PSA-oak-d-images/NC_09_23_2020\\2020_09_23_09_49_56\\3976ed7e-225f-4aa2-95b5-8d4f194ba9bd\\color.png\n",
      "3.1248995250560374\n",
      "D:/00_NCSU/00_Resources/00_Datasets/PSA-oak-d-images/NC_09_23_2020\\2020_09_23_09_49_56\\3a68edad-831c-470c-a644-517ffbb580fb\\color.png\n",
      "3.23426961192924\n",
      "D:/00_NCSU/00_Resources/00_Datasets/PSA-oak-d-images/NC_09_23_2020\\2020_09_23_09_49_56\\3a6fb0c8-ea56-4d1c-9e68-fced5f7a3e94\\color.png\n",
      "3.084102066145643\n",
      "D:/00_NCSU/00_Resources/00_Datasets/PSA-oak-d-images/NC_09_23_2020\\2020_09_23_09_49_56\\42227bdd-8e62-4e32-bd76-7246c0ae8896\\color.png\n",
      "3.3017291618711075\n",
      "D:/00_NCSU/00_Resources/00_Datasets/PSA-oak-d-images/NC_09_23_2020\\2020_09_23_09_49_56\\5d67aa43-a142-4087-bedc-eb4c756e6bfe\\color.png\n",
      "3.2163803702025566\n",
      "D:/00_NCSU/00_Resources/00_Datasets/PSA-oak-d-images/NC_09_23_2020\\2020_09_23_09_49_56\\62d54da7-8b63-46a6-a8e3-d084f71f9a29\\color.png\n",
      "3.4939484833479377\n",
      "D:/00_NCSU/00_Resources/00_Datasets/PSA-oak-d-images/NC_09_23_2020\\2020_09_23_09_49_56\\6c263bdf-2c2a-4aa1-9a62-c34058cba610\\color.png\n",
      "3.460677734431302\n",
      "D:/00_NCSU/00_Resources/00_Datasets/PSA-oak-d-images/NC_09_23_2020\\2020_09_23_09_49_56\\75f69b5b-ad5d-4061-8d46-846fc552cb5c\\color.png\n",
      "3.6649732183996315\n",
      "D:/00_NCSU/00_Resources/00_Datasets/PSA-oak-d-images/NC_09_23_2020\\2020_09_23_09_49_56\\76ebb9cf-1155-4fc7-84c6-2f914984b0ad\\color.png\n"
     ]
    },
    {
     "name": "stderr",
     "output_type": "stream",
     "text": [
      "C:\\Users\\sarde\\Anaconda3\\envs\\tensorflow\\lib\\site-packages\\numpy\\core\\fromnumeric.py:3335: RuntimeWarning: Mean of empty slice.\n",
      "  out=out, **kwargs)\n",
      "C:\\Users\\sarde\\Anaconda3\\envs\\tensorflow\\lib\\site-packages\\numpy\\core\\_methods.py:161: RuntimeWarning: invalid value encountered in double_scalars\n",
      "  ret = ret.dtype.type(ret / rcount)\n",
      "C:\\Users\\sarde\\Anaconda3\\envs\\tensorflow\\lib\\site-packages\\matplotlib\\axes\\_axes.py:6619: RuntimeWarning: All-NaN slice encountered\n",
      "  xmin = min(xmin, np.nanmin(xi))\n",
      "C:\\Users\\sarde\\Anaconda3\\envs\\tensorflow\\lib\\site-packages\\matplotlib\\axes\\_axes.py:6620: RuntimeWarning: All-NaN slice encountered\n",
      "  xmax = max(xmax, np.nanmax(xi))\n"
     ]
    },
    {
     "name": "stdout",
     "output_type": "stream",
     "text": [
      "0.0\n",
      "D:/00_NCSU/00_Resources/00_Datasets/PSA-oak-d-images/NC_09_23_2020\\2020_09_23_09_49_56\\7aeb9bae-99f6-41d4-af0a-de8cc0a6e98b\\color.png\n",
      "3.292119954196381\n",
      "D:/00_NCSU/00_Resources/00_Datasets/PSA-oak-d-images/NC_09_23_2020\\2020_09_23_09_49_56\\7bdd39bb-7001-430e-b6f1-53e23a8a80e5\\color.png\n",
      "3.048536848889224\n",
      "D:/00_NCSU/00_Resources/00_Datasets/PSA-oak-d-images/NC_09_23_2020\\2020_09_23_09_49_56\\9795ea42-cf13-42d8-875d-6f01437d54d8\\color.png\n",
      "3.5673301071903363\n",
      "D:/00_NCSU/00_Resources/00_Datasets/PSA-oak-d-images/NC_09_23_2020\\2020_09_23_09_49_56\\9b85ef70-8d0e-4bb1-9ef6-c3d50173707d\\color.png\n",
      "3.1215601809502704\n",
      "D:/00_NCSU/00_Resources/00_Datasets/PSA-oak-d-images/NC_09_23_2020\\2020_09_23_09_49_56\\9ec26e43-e607-459b-a483-380756313fc9\\color.png\n",
      "3.7868424658881525\n",
      "D:/00_NCSU/00_Resources/00_Datasets/PSA-oak-d-images/NC_09_23_2020\\2020_09_23_09_49_56\\ad0e6394-28df-4499-bf78-54d3e59ef7c1\\color.png\n",
      "3.0791428248673864\n",
      "D:/00_NCSU/00_Resources/00_Datasets/PSA-oak-d-images/NC_09_23_2020\\2020_09_23_09_49_56\\ba5deb14-6326-4e48-8e60-eab5407c795b\\color.png\n",
      "3.255265463813948\n",
      "D:/00_NCSU/00_Resources/00_Datasets/PSA-oak-d-images/NC_09_23_2020\\2020_09_23_09_49_56\\bb9c10d1-a571-41ea-9e38-7ad83e854ab6\\color.png\n",
      "3.120804611939737\n",
      "D:/00_NCSU/00_Resources/00_Datasets/PSA-oak-d-images/NC_09_23_2020\\2020_09_23_09_49_56\\bda21dad-36ab-480b-b7bb-f615ba95198e\\color.png\n",
      "3.8052499292682995\n",
      "D:/00_NCSU/00_Resources/00_Datasets/PSA-oak-d-images/NC_09_23_2020\\2020_09_23_09_49_56\\bdeef00e-9607-4a97-a002-848e09172c99\\color.png\n",
      "3.435464074422723\n",
      "D:/00_NCSU/00_Resources/00_Datasets/PSA-oak-d-images/NC_09_23_2020\\2020_09_23_09_49_56\\c7195418-3082-4b86-95d7-00a21c810d0f\\color.png\n",
      "3.1276042820814838\n",
      "D:/00_NCSU/00_Resources/00_Datasets/PSA-oak-d-images/NC_09_23_2020\\2020_09_23_09_49_56\\ce5827be-5daa-4062-b31c-e1a7084288fc\\color.png\n",
      "3.623322901704942\n",
      "D:/00_NCSU/00_Resources/00_Datasets/PSA-oak-d-images/NC_09_23_2020\\2020_09_23_09_49_56\\d1b77695-4736-478a-9dd5-cb9623f4db7b\\color.png\n",
      "3.2817388087080337\n",
      "D:/00_NCSU/00_Resources/00_Datasets/PSA-oak-d-images/NC_09_23_2020\\2020_09_23_09_49_56\\e8b0877d-8521-41dd-9e6c-0f377432972c\\color.png\n",
      "3.3632997282209485\n",
      "D:/00_NCSU/00_Resources/00_Datasets/PSA-oak-d-images/NC_09_23_2020\\2020_09_23_09_49_56\\f08c2a78-1a0f-42bd-8a22-c6bad7a0d4e8\\color.png\n",
      "3.998019140475042\n",
      "D:/00_NCSU/00_Resources/00_Datasets/PSA-oak-d-images/NC_09_23_2020\\2020_09_23_09_51_34\\096eb0ad-371d-46f4-9768-c9f19d91be42\\color.png\n",
      "8.69306782041461\n",
      "D:/00_NCSU/00_Resources/00_Datasets/PSA-oak-d-images/NC_09_23_2020\\2020_09_23_09_51_34\\10eddad8-5ceb-4a86-af63-56ae224b8d33\\color.png\n",
      "7.190745100224447\n",
      "D:/00_NCSU/00_Resources/00_Datasets/PSA-oak-d-images/NC_09_23_2020\\2020_09_23_09_51_34\\265a44a3-9505-4300-b3cb-a39ad1fecc0f\\color.png\n",
      "3.7054410909341837\n",
      "D:/00_NCSU/00_Resources/00_Datasets/PSA-oak-d-images/NC_09_23_2020\\2020_09_23_09_51_34\\2d26cd79-7607-45f1-bdc2-dbb1afabaf34\\color.png\n",
      "8.202461308224542\n",
      "D:/00_NCSU/00_Resources/00_Datasets/PSA-oak-d-images/NC_09_23_2020\\2020_09_23_09_51_34\\303184c6-47aa-42ec-9325-6c6f3f129948\\color.png\n",
      "6.725928188992808\n",
      "D:/00_NCSU/00_Resources/00_Datasets/PSA-oak-d-images/NC_09_23_2020\\2020_09_23_09_51_34\\36df7eaf-f359-43e1-bf11-2deaf58bb2da\\color.png\n",
      "8.542627767052217\n",
      "D:/00_NCSU/00_Resources/00_Datasets/PSA-oak-d-images/NC_09_23_2020\\2020_09_23_09_51_34\\3c834097-ab14-42ec-97d6-5aced4d00d51\\color.png\n",
      "7.029539602596688\n",
      "D:/00_NCSU/00_Resources/00_Datasets/PSA-oak-d-images/NC_09_23_2020\\2020_09_23_09_51_34\\4dfbc505-4fc6-4448-9465-125cffad747d\\color.png\n",
      "9.941852440781576\n",
      "D:/00_NCSU/00_Resources/00_Datasets/PSA-oak-d-images/NC_09_23_2020\\2020_09_23_09_51_34\\4eabbaf6-f619-42b5-8532-a535975c91ac\\color.png\n",
      "8.011714128783925\n",
      "D:/00_NCSU/00_Resources/00_Datasets/PSA-oak-d-images/NC_09_23_2020\\2020_09_23_09_51_34\\58099017-9947-44e4-9a25-db4c898be085\\color.png\n",
      "7.725730919238001\n",
      "D:/00_NCSU/00_Resources/00_Datasets/PSA-oak-d-images/NC_09_23_2020\\2020_09_23_09_51_34\\588c0f17-4383-4d47-b8fa-c1624e12eef9\\color.png\n",
      "7.428169455227951\n",
      "D:/00_NCSU/00_Resources/00_Datasets/PSA-oak-d-images/NC_09_23_2020\\2020_09_23_09_51_34\\5ea30c7f-01a5-47ae-8cd3-8fdb509cf9a6\\color.png\n",
      "9.2956749834285\n",
      "D:/00_NCSU/00_Resources/00_Datasets/PSA-oak-d-images/NC_09_23_2020\\2020_09_23_09_51_34\\654a9053-5330-46e7-a252-d900758389fe\\color.png\n",
      "8.898051767241116\n",
      "D:/00_NCSU/00_Resources/00_Datasets/PSA-oak-d-images/NC_09_23_2020\\2020_09_23_09_51_34\\658735fd-a943-4043-9008-3f0f391f2183\\color.png\n",
      "8.75932684883874\n",
      "D:/00_NCSU/00_Resources/00_Datasets/PSA-oak-d-images/NC_09_23_2020\\2020_09_23_09_51_34\\742354ce-5874-4217-be08-7f68ae9bfc29\\color.png\n",
      "9.28564813003558\n",
      "D:/00_NCSU/00_Resources/00_Datasets/PSA-oak-d-images/NC_09_23_2020\\2020_09_23_09_51_34\\7d9b7777-9cf6-4328-ae29-bb0bb63b0df5\\color.png\n",
      "9.230904177621966\n",
      "D:/00_NCSU/00_Resources/00_Datasets/PSA-oak-d-images/NC_09_23_2020\\2020_09_23_09_51_34\\8b351d84-bef6-40c0-a0c8-c0f07d11910a\\color.png\n",
      "9.798800665199256\n",
      "D:/00_NCSU/00_Resources/00_Datasets/PSA-oak-d-images/NC_09_23_2020\\2020_09_23_09_51_34\\922b396b-441d-4c98-87f4-c485229a7533\\color.png\n",
      "7.724450843263451\n",
      "D:/00_NCSU/00_Resources/00_Datasets/PSA-oak-d-images/NC_09_23_2020\\2020_09_23_09_51_34\\93365a97-de95-4a6c-ad3b-52354d053bc8\\color.png\n",
      "7.897323231619267\n",
      "D:/00_NCSU/00_Resources/00_Datasets/PSA-oak-d-images/NC_09_23_2020\\2020_09_23_09_51_34\\9d4ebdc4-ec93-46fe-975d-9cb6b240318c\\color.png\n",
      "7.763524351076866\n",
      "D:/00_NCSU/00_Resources/00_Datasets/PSA-oak-d-images/NC_09_23_2020\\2020_09_23_09_51_34\\a5646dce-8a34-47a8-88be-2bb4b7da850c\\color.png\n",
      "9.769182187229815\n",
      "D:/00_NCSU/00_Resources/00_Datasets/PSA-oak-d-images/NC_09_23_2020\\2020_09_23_09_51_34\\a9f2a10c-e64c-48fe-bede-2685d23fa2b5\\color.png\n",
      "9.336818905804899\n",
      "D:/00_NCSU/00_Resources/00_Datasets/PSA-oak-d-images/NC_09_23_2020\\2020_09_23_09_51_34\\ac8fcc7d-c92a-4537-a5db-fabd8abc4327\\color.png\n",
      "9.474603414010929\n",
      "D:/00_NCSU/00_Resources/00_Datasets/PSA-oak-d-images/NC_09_23_2020\\2020_09_23_09_51_34\\afc81605-350b-44fe-889b-68d1495eda17\\color.png\n",
      "8.324322721902313\n",
      "D:/00_NCSU/00_Resources/00_Datasets/PSA-oak-d-images/NC_09_23_2020\\2020_09_23_09_51_34\\b2b6dde4-0376-478b-a86b-2127e39ad502\\color.png\n",
      "0.0\n",
      "D:/00_NCSU/00_Resources/00_Datasets/PSA-oak-d-images/NC_09_23_2020\\2020_09_23_09_51_34\\b47e24a1-70a0-40da-8212-0a1894c81bc4\\color.png\n",
      "8.649401301202335\n",
      "D:/00_NCSU/00_Resources/00_Datasets/PSA-oak-d-images/NC_09_23_2020\\2020_09_23_09_51_34\\be35d3b0-e471-4ba6-befe-34c4795f397f\\color.png\n",
      "8.709111939764645\n",
      "D:/00_NCSU/00_Resources/00_Datasets/PSA-oak-d-images/NC_09_23_2020\\2020_09_23_09_51_34\\ca34abfc-e6a8-470d-ac2c-9b5288a432e6\\color.png\n",
      "7.520276134449494\n",
      "D:/00_NCSU/00_Resources/00_Datasets/PSA-oak-d-images/NC_09_23_2020\\2020_09_23_09_51_34\\cbbb4a30-8563-4847-87f0-32372bb9b39c\\color.png\n",
      "8.853495089517734\n",
      "D:/00_NCSU/00_Resources/00_Datasets/PSA-oak-d-images/NC_09_23_2020\\2020_09_23_09_51_34\\d1d15375-82cc-49c7-bb05-68c683e268fe\\color.png\n",
      "8.31755650950311\n",
      "D:/00_NCSU/00_Resources/00_Datasets/PSA-oak-d-images/NC_09_23_2020\\2020_09_23_09_51_34\\d7b98276-2460-4a63-a7f3-0bb71f31fae4\\color.png\n",
      "9.070140821004136\n",
      "D:/00_NCSU/00_Resources/00_Datasets/PSA-oak-d-images/NC_09_23_2020\\2020_09_23_09_51_34\\d9adf29b-d5cf-4755-8735-e51c889582de\\color.png\n",
      "8.758663499896937\n",
      "D:/00_NCSU/00_Resources/00_Datasets/PSA-oak-d-images/NC_09_23_2020\\2020_09_23_09_51_34\\dd9c7d40-e7af-4d7f-8cc8-c5d00e0bba27\\color.png\n",
      "8.721098676686813\n",
      "D:/00_NCSU/00_Resources/00_Datasets/PSA-oak-d-images/NC_09_23_2020\\2020_09_23_09_51_34\\de7fbf5e-cb79-4973-bed5-d2bc25dffe3f\\color.png\n",
      "8.906518139155764\n",
      "D:/00_NCSU/00_Resources/00_Datasets/PSA-oak-d-images/NC_09_23_2020\\2020_09_23_09_51_34\\df93d4ee-fd23-42aa-a00c-2d9556672e51\\color.png\n",
      "7.679066144853352\n",
      "D:/00_NCSU/00_Resources/00_Datasets/PSA-oak-d-images/NC_09_23_2020\\2020_09_23_09_51_34\\eaf138aa-198a-4b17-9971-1787dc187228\\color.png\n",
      "8.509886156676377\n",
      "D:/00_NCSU/00_Resources/00_Datasets/PSA-oak-d-images/NC_09_23_2020\\2020_09_23_09_51_34\\ed5eb2d8-eaf5-4f38-8fda-44b4627743aa\\color.png\n",
      "7.765735383521259\n",
      "D:/00_NCSU/00_Resources/00_Datasets/PSA-oak-d-images/NC_09_23_2020\\2020_09_23_09_51_34\\f2067883-6efc-43e4-be7c-79acfba95a21\\color.png\n",
      "7.315534996081854\n",
      "D:/00_NCSU/00_Resources/00_Datasets/PSA-oak-d-images/NC_09_23_2020\\2020_09_23_09_51_34\\f732fb29-1549-48f1-81c1-5284b3aba0be\\color.png\n",
      "8.760582523270887\n",
      "D:/00_NCSU/00_Resources/00_Datasets/PSA-oak-d-images/NC_09_23_2020\\2020_09_23_09_51_34\\f85b8ede-b575-4bd2-a126-65ca51b85787\\color.png\n"
     ]
    },
    {
     "name": "stdout",
     "output_type": "stream",
     "text": [
      "7.561101194391461\n",
      "D:/00_NCSU/00_Resources/00_Datasets/PSA-oak-d-images/NC_09_23_2020\\2020_09_23_09_51_34\\fe80f898-7ae0-4a72-a796-fecb3f3dde83\\color.png\n",
      "7.011806998640291\n",
      "D:/00_NCSU/00_Resources/00_Datasets/PSA-oak-d-images/NC_09_23_2020\\2020_09_23_09_52_18\\00d34a65-f1c4-4506-b81f-10bb3e6bbbf9\\color.png\n",
      "3.3462374965874986\n",
      "D:/00_NCSU/00_Resources/00_Datasets/PSA-oak-d-images/NC_09_23_2020\\2020_09_23_09_52_18\\017107d7-35af-4b36-9898-817c004db6cf\\color.png\n",
      "3.5035148597843158\n",
      "D:/00_NCSU/00_Resources/00_Datasets/PSA-oak-d-images/NC_09_23_2020\\2020_09_23_09_52_18\\02d43275-7f4e-458f-beed-769632718af0\\color.png\n",
      "3.1928764104934344\n",
      "D:/00_NCSU/00_Resources/00_Datasets/PSA-oak-d-images/NC_09_23_2020\\2020_09_23_09_52_18\\0bab830c-d796-4a46-9902-55d0b71c3dfd\\color.png\n",
      "3.7103939175442124\n",
      "D:/00_NCSU/00_Resources/00_Datasets/PSA-oak-d-images/NC_09_23_2020\\2020_09_23_09_52_18\\0ef5e393-448f-4783-9800-1e526bde7c9a\\color.png\n",
      "3.24765089641709\n",
      "D:/00_NCSU/00_Resources/00_Datasets/PSA-oak-d-images/NC_09_23_2020\\2020_09_23_09_52_18\\15df558e-eeab-44bc-be07-11cff52d13e3\\color.png\n",
      "3.6473830894389043\n",
      "D:/00_NCSU/00_Resources/00_Datasets/PSA-oak-d-images/NC_09_23_2020\\2020_09_23_09_52_18\\1ae7a201-1c4e-452b-a9b5-3e4f018d3318\\color.png\n",
      "3.1168518365365125\n",
      "D:/00_NCSU/00_Resources/00_Datasets/PSA-oak-d-images/NC_09_23_2020\\2020_09_23_09_52_18\\1c1ca4c1-478c-459b-a1a3-2b5d01ed6f4e\\color.png\n",
      "3.7086046056031976\n",
      "D:/00_NCSU/00_Resources/00_Datasets/PSA-oak-d-images/NC_09_23_2020\\2020_09_23_09_52_18\\1c50a1e3-693e-40b1-9758-2b684d1aac82\\color.png\n",
      "3.3651136350447977\n",
      "D:/00_NCSU/00_Resources/00_Datasets/PSA-oak-d-images/NC_09_23_2020\\2020_09_23_09_52_18\\21ce0e3b-2b56-4ad0-9c7c-08a9162277d1\\color.png\n",
      "3.597449985632184\n",
      "D:/00_NCSU/00_Resources/00_Datasets/PSA-oak-d-images/NC_09_23_2020\\2020_09_23_09_52_18\\22bcd807-8d4f-4dd1-857e-63eda6f588c5\\color.png\n",
      "3.4404590298749675\n",
      "D:/00_NCSU/00_Resources/00_Datasets/PSA-oak-d-images/NC_09_23_2020\\2020_09_23_09_52_18\\291aadda-db46-431d-8ea0-8bb7bb490e0b\\color.png\n",
      "3.3068746260406767\n",
      "D:/00_NCSU/00_Resources/00_Datasets/PSA-oak-d-images/NC_09_23_2020\\2020_09_23_09_52_18\\3354d568-6457-472e-83c3-7e45c8f97b0b\\color.png\n",
      "3.7161427251630523\n",
      "D:/00_NCSU/00_Resources/00_Datasets/PSA-oak-d-images/NC_09_23_2020\\2020_09_23_09_52_18\\5be3990f-48a7-46ea-99e2-af57a9d32908\\color.png\n",
      "3.2326319458959953\n",
      "D:/00_NCSU/00_Resources/00_Datasets/PSA-oak-d-images/NC_09_23_2020\\2020_09_23_09_52_18\\62d25a0a-af52-4a76-aab0-f1364500847b\\color.png\n",
      "3.3644002593229407\n",
      "D:/00_NCSU/00_Resources/00_Datasets/PSA-oak-d-images/NC_09_23_2020\\2020_09_23_09_52_18\\6b3623c2-bce9-4eb1-9214-34cd747c5383\\color.png\n",
      "3.454027893277894\n",
      "D:/00_NCSU/00_Resources/00_Datasets/PSA-oak-d-images/NC_09_23_2020\\2020_09_23_09_52_18\\6fccf1fd-0374-48dc-aa51-0ab3091b2546\\color.png\n",
      "3.860279627545982\n",
      "D:/00_NCSU/00_Resources/00_Datasets/PSA-oak-d-images/NC_09_23_2020\\2020_09_23_09_52_18\\87ed390b-de50-4aa1-af5b-fbbecc0aac5e\\color.png\n",
      "3.8188467698954485\n",
      "D:/00_NCSU/00_Resources/00_Datasets/PSA-oak-d-images/NC_09_23_2020\\2020_09_23_09_52_18\\87f877b7-4c0f-4622-86ce-a5dac444b093\\color.png\n",
      "3.9834959003669974\n",
      "D:/00_NCSU/00_Resources/00_Datasets/PSA-oak-d-images/NC_09_23_2020\\2020_09_23_09_52_18\\902d2f65-5d9e-4cf1-a185-03f8b68b5839\\color.png\n",
      "3.46199773882756\n",
      "D:/00_NCSU/00_Resources/00_Datasets/PSA-oak-d-images/NC_09_23_2020\\2020_09_23_09_52_18\\91c7d01c-e4de-49fd-8b4d-482a4837910f\\color.png\n",
      "7.6264227877569715\n",
      "D:/00_NCSU/00_Resources/00_Datasets/PSA-oak-d-images/NC_09_23_2020\\2020_09_23_09_52_18\\9323fe06-b9b1-417b-b16c-23f299e0ac2a\\color.png\n",
      "3.8743755435802116\n",
      "D:/00_NCSU/00_Resources/00_Datasets/PSA-oak-d-images/NC_09_23_2020\\2020_09_23_09_52_18\\9631b675-b2ed-41b1-bb09-e48cd18aef7d\\color.png\n",
      "3.8217574953336446\n",
      "D:/00_NCSU/00_Resources/00_Datasets/PSA-oak-d-images/NC_09_23_2020\\2020_09_23_09_52_18\\9a914ed1-e7b1-4ce8-9462-f1caf98c757c\\color.png\n",
      "3.3386044833827393\n",
      "D:/00_NCSU/00_Resources/00_Datasets/PSA-oak-d-images/NC_09_23_2020\\2020_09_23_09_52_18\\a23aea3c-724e-4c72-aa1a-bd785bdb6277\\color.png\n",
      "3.605726194235318\n",
      "D:/00_NCSU/00_Resources/00_Datasets/PSA-oak-d-images/NC_09_23_2020\\2020_09_23_09_52_18\\b6f1c4a5-54f5-4850-a38e-aa2c46165c2f\\color.png\n",
      "3.515723821857728\n",
      "D:/00_NCSU/00_Resources/00_Datasets/PSA-oak-d-images/NC_09_23_2020\\2020_09_23_09_52_18\\c133d874-4daa-41b0-b541-034e28730146\\color.png\n",
      "3.506937777250829\n",
      "D:/00_NCSU/00_Resources/00_Datasets/PSA-oak-d-images/NC_09_23_2020\\2020_09_23_09_52_18\\c49769e1-9002-450f-af37-5ec6000a8e80\\color.png\n",
      "3.733477616764534\n",
      "D:/00_NCSU/00_Resources/00_Datasets/PSA-oak-d-images/NC_09_23_2020\\2020_09_23_09_52_18\\d69eb826-a7a1-4ace-a666-57a480842457\\color.png\n",
      "3.48908384875919\n",
      "D:/00_NCSU/00_Resources/00_Datasets/PSA-oak-d-images/NC_09_23_2020\\2020_09_23_09_52_18\\daa05a2c-b02d-4704-9ecb-0c5862c9d919\\color.png\n",
      "3.6394293316586244\n",
      "D:/00_NCSU/00_Resources/00_Datasets/PSA-oak-d-images/NC_09_23_2020\\2020_09_23_09_52_18\\dc9c7cff-7969-4cf7-9a17-336708f23d36\\color.png\n",
      "3.4442899450131716\n",
      "D:/00_NCSU/00_Resources/00_Datasets/PSA-oak-d-images/NC_09_23_2020\\2020_09_23_09_52_18\\e283ea5f-b660-4013-86d7-9130c0c0f1cb\\color.png\n",
      "3.6954065713838276\n",
      "D:/00_NCSU/00_Resources/00_Datasets/PSA-oak-d-images/NC_09_23_2020\\2020_09_23_09_52_18\\e3eaedcd-84ec-486d-83e8-6c46c23f62c7\\color.png\n",
      "3.3299806868884647\n",
      "D:/00_NCSU/00_Resources/00_Datasets/PSA-oak-d-images/NC_09_23_2020\\2020_09_23_09_52_18\\e4212f3d-112e-4fd7-8d5e-0b780809b6b0\\color.png\n",
      "3.6561711736901286\n",
      "D:/00_NCSU/00_Resources/00_Datasets/PSA-oak-d-images/NC_09_23_2020\\2020_09_23_09_52_18\\e4f96230-16a0-4864-bd83-c57880535172\\color.png\n",
      "2.8275054136929807\n",
      "D:/00_NCSU/00_Resources/00_Datasets/PSA-oak-d-images/NC_09_23_2020\\2020_09_23_09_52_18\\ed0e4855-0f22-47ff-9b91-e0c2aae36b41\\color.png\n",
      "3.8975431903728333\n",
      "D:/00_NCSU/00_Resources/00_Datasets/PSA-oak-d-images/NC_09_23_2020\\2020_09_23_09_52_18\\fd6c0fde-2e37-4aa8-b32b-5200855d30b6\\color.png\n",
      "3.7076798560113513\n",
      "D:/00_NCSU/00_Resources/00_Datasets/PSA-oak-d-images/NC_09_23_2020\\2020_09_23_09_52_18\\fee3d9c7-e2d6-47a4-8586-393b9e90eb76\\color.png\n",
      "3.550890436451397\n",
      "D:/00_NCSU/00_Resources/00_Datasets/PSA-oak-d-images/NC_10_02_2020\\2020_10_02_09_48_46\\005c921b-fb92-4241-a45e-7338af860d22\\color.png\n",
      "12.392307063174364\n",
      "D:/00_NCSU/00_Resources/00_Datasets/PSA-oak-d-images/NC_10_02_2020\\2020_10_02_09_48_46\\0491c2d8-fa54-41e9-a1c3-83c0f63d5959\\color.png\n",
      "0.0\n",
      "D:/00_NCSU/00_Resources/00_Datasets/PSA-oak-d-images/NC_10_02_2020\\2020_10_02_09_48_46\\1e42842a-9577-45bd-8066-0feeb120bf36\\color.png\n",
      "12.734907736419029\n",
      "D:/00_NCSU/00_Resources/00_Datasets/PSA-oak-d-images/NC_10_02_2020\\2020_10_02_09_48_46\\25ca38da-9ad0-48dd-8057-183bc343c8f2\\color.png\n",
      "11.440167230839181\n",
      "D:/00_NCSU/00_Resources/00_Datasets/PSA-oak-d-images/NC_10_02_2020\\2020_10_02_09_48_46\\4cb3d07b-8695-4497-a106-862ade0e9de1\\color.png\n",
      "12.114226491174678\n",
      "D:/00_NCSU/00_Resources/00_Datasets/PSA-oak-d-images/NC_10_02_2020\\2020_10_02_09_48_46\\58012b06-9393-4cdb-b3ce-3c28a7c0789d\\color.png\n",
      "12.050689156244905\n",
      "D:/00_NCSU/00_Resources/00_Datasets/PSA-oak-d-images/NC_10_02_2020\\2020_10_02_09_48_46\\943fa061-2614-4031-866b-f7b76d326d1c\\color.png\n",
      "11.9124532024133\n",
      "D:/00_NCSU/00_Resources/00_Datasets/PSA-oak-d-images/NC_10_02_2020\\2020_10_02_09_48_46\\9f66b95a-576b-48c3-9eb0-5780fc5b51e5\\color.png\n",
      "12.216554865766607\n",
      "D:/00_NCSU/00_Resources/00_Datasets/PSA-oak-d-images/NC_10_02_2020\\2020_10_02_09_48_46\\ff374b6e-550a-4cd5-b40a-bd922d2fd407\\color.png\n",
      "11.797809046101763\n",
      "D:/00_NCSU/00_Resources/00_Datasets/PSA-oak-d-images/NC_10_02_2020\\2020_10_02_09_56_26\\04814d48-6a43-43af-9f15-27293769be11\\color.png\n",
      "8.748475952040605\n",
      "D:/00_NCSU/00_Resources/00_Datasets/PSA-oak-d-images/NC_10_02_2020\\2020_10_02_09_56_26\\1646953d-8bd4-452d-9fb3-dee64f877c2f\\color.png\n",
      "8.419787565660824\n",
      "D:/00_NCSU/00_Resources/00_Datasets/PSA-oak-d-images/NC_10_02_2020\\2020_10_02_09_56_26\\25b27b2a-3acd-474f-9157-37d879c1ae8b\\color.png\n",
      "14.528400647650535\n",
      "D:/00_NCSU/00_Resources/00_Datasets/PSA-oak-d-images/NC_10_02_2020\\2020_10_02_09_56_26\\50d719b3-7217-48e2-b070-c204c74cf5b7\\color.png\n",
      "10.6209936579702\n",
      "D:/00_NCSU/00_Resources/00_Datasets/PSA-oak-d-images/NC_10_02_2020\\2020_10_02_09_56_26\\99a8597b-f5d9-483a-b6bb-494969210978\\color.png\n",
      "9.341791969047827\n",
      "D:/00_NCSU/00_Resources/00_Datasets/PSA-oak-d-images/NC_10_02_2020\\2020_10_02_09_56_26\\c1d3fc6c-3e21-4f9c-a55b-8db2d3e79b6c\\color.png\n"
     ]
    },
    {
     "name": "stdout",
     "output_type": "stream",
     "text": [
      "10.901392267278164\n",
      "D:/00_NCSU/00_Resources/00_Datasets/PSA-oak-d-images/NC_10_02_2020\\2020_10_02_09_56_26\\c6f6f39c-8937-4b4d-82d9-989bb305e617\\color.png\n",
      "10.241325265363491\n",
      "D:/00_NCSU/00_Resources/00_Datasets/PSA-oak-d-images/NC_10_02_2020\\2020_10_02_09_56_26\\f0df2912-853b-4fd4-baeb-dbafe71d02c9\\color.png\n",
      "9.56968650810268\n",
      "D:/00_NCSU/00_Resources/00_Datasets/PSA-oak-d-images/NC_10_02_2020\\2020_10_02_09_59_14\\16e6704b-15c7-449f-87db-ddc805200b9a\\color.png\n",
      "11.570620891729058\n",
      "D:/00_NCSU/00_Resources/00_Datasets/PSA-oak-d-images/NC_10_02_2020\\2020_10_02_09_59_14\\25f891f0-2422-4451-aae1-17f03535528d\\color.png\n",
      "12.095856793262671\n",
      "D:/00_NCSU/00_Resources/00_Datasets/PSA-oak-d-images/NC_10_02_2020\\2020_10_02_09_59_14\\6e55d7c1-4c56-4837-aa1a-b7175c15be7f\\color.png\n",
      "10.877657426465994\n",
      "D:/00_NCSU/00_Resources/00_Datasets/PSA-oak-d-images/NC_10_02_2020\\2020_10_02_09_59_14\\6fc4de89-ae9d-4cf2-a27a-0b2712397b49\\color.png\n",
      "12.683360168081212\n",
      "D:/00_NCSU/00_Resources/00_Datasets/PSA-oak-d-images/NC_10_02_2020\\2020_10_02_09_59_14\\7d1bdf31-1b53-4815-82e2-2bf0b4bcedf0\\color.png\n",
      "12.486772863355155\n",
      "D:/00_NCSU/00_Resources/00_Datasets/PSA-oak-d-images/NC_10_02_2020\\2020_10_02_09_59_14\\8a246573-7647-4f52-976e-8e3df668d77e\\color.png\n",
      "11.394681391493844\n",
      "D:/00_NCSU/00_Resources/00_Datasets/PSA-oak-d-images/NC_10_02_2020\\2020_10_02_09_59_14\\9ec04666-3b0e-4bf5-9385-40fae49f37cb\\color.png\n",
      "12.363892750312194\n",
      "D:/00_NCSU/00_Resources/00_Datasets/PSA-oak-d-images/NC_10_02_2020\\2020_10_02_09_59_14\\9f76bf10-0103-4ff6-8514-15acd71ec8d2\\color.png\n",
      "11.76771010276492\n",
      "D:/00_NCSU/00_Resources/00_Datasets/PSA-oak-d-images/NC_10_02_2020\\2020_10_02_09_59_14\\bac9c570-10e9-48df-a534-0da1e9d0e890\\color.png\n",
      "12.329657489843544\n",
      "D:/00_NCSU/00_Resources/00_Datasets/PSA-oak-d-images/NC_10_02_2020\\2020_10_02_09_59_14\\c352526b-0932-407e-bcb3-9432fdd93e22\\color.png\n",
      "13.25107993781237\n",
      "D:/00_NCSU/00_Resources/00_Datasets/PSA-oak-d-images/NC_10_02_2020\\2020_10_02_09_59_14\\d0050397-bfeb-4fb5-879a-67a6676ce9fd\\color.png\n",
      "11.865363263454288\n",
      "D:/00_NCSU/00_Resources/00_Datasets/PSA-oak-d-images/NC_10_02_2020\\2020_10_02_09_59_14\\de52fd31-414d-4a20-a138-e0ad7f10431f\\color.png\n",
      "11.368127841300458\n",
      "D:/00_NCSU/00_Resources/00_Datasets/PSA-oak-d-images/NC_10_02_2020\\2020_10_02_09_59_14\\ec6ee247-8829-4b5c-8924-3f81141cae58\\color.png\n",
      "11.968035149914265\n",
      "D:/00_NCSU/00_Resources/00_Datasets/PSA-oak-d-images/NC_10_02_2020\\2020_10_02_09_59_14\\effd8815-1dfb-4e9a-aa1e-50462297efd3\\color.png\n",
      "11.807479588248153\n",
      "D:/00_NCSU/00_Resources/00_Datasets/PSA-oak-d-images/NC_10_02_2020\\2020_10_02_10_07_35\\a1c3aede-1fd8-4755-ac53-1d43fed44547\\color.png\n",
      "7.139049744588427\n",
      "D:/00_NCSU/00_Resources/00_Datasets/PSA-oak-d-images/NC_10_02_2020\\2020_10_02_10_07_35\\e0c0f27a-f7f1-4bf3-8d4a-bdde2d123171\\color.png\n",
      "6.8136018925450115\n",
      "D:/00_NCSU/00_Resources/00_Datasets/PSA-oak-d-images/NC_10_02_2020\\2020_10_02_10_07_35\\edd345af-aaaa-4fbb-90ba-4946b9417613\\color.png\n",
      "7.230834443165201\n",
      "D:/00_NCSU/00_Resources/00_Datasets/PSA-oak-d-images/NC_10_02_2020\\2020_10_02_10_07_35\\fd506fbe-49b8-4491-8aea-8616f615d262\\color.png\n",
      "6.823747066875246\n",
      "D:/00_NCSU/00_Resources/00_Datasets/PSA-oak-d-images/NC_10_02_2020\\2020_10_02_10_07_35\\fdc1a0a1-bd8d-4c82-9efe-d644431959c7\\color.png\n",
      "7.5485104052048415\n",
      "D:/00_NCSU/00_Resources/00_Datasets/PSA-oak-d-images/NC_10_02_2020\\2020_10_02_10_17_15\\d063aaec-eb7d-46bb-94fa-e8bd521fce23\\color.png\n",
      "40.755496592979945\n",
      "D:/00_NCSU/00_Resources/00_Datasets/PSA-oak-d-images/NC_10_02_2020\\2020_10_02_10_17_15\\e04465fc-e135-40ab-83f3-515a400ec861\\color.png\n",
      "53.86124358238192\n",
      "D:/00_NCSU/00_Resources/00_Datasets/PSA-oak-d-images/NC_10_02_2020\\2020_10_02_10_17_15\\f59fd024-adc9-4e00-b958-eec8e2312277\\color.png\n",
      "26.12780103909448\n",
      "D:/00_NCSU/00_Resources/00_Datasets/PSA-oak-d-images/NC_10_02_2020\\2020_10_02_10_17_15\\f83f21cc-cd97-4b41-bb4e-adc83a8a2e67\\color.png\n",
      "12.405793513489858\n",
      "D:/00_NCSU/00_Resources/00_Datasets/PSA-oak-d-images/NC_10_02_2020\\2020_10_02_10_52_34\\3fc53916-32ed-43a3-856b-b60d7e18241a\\color.png\n",
      "6.051969363217293\n",
      "D:/00_NCSU/00_Resources/00_Datasets/PSA-oak-d-images/NC_10_02_2020\\2020_10_02_10_52_34\\5d495407-9bf5-4f81-bb82-b03e9f9ac548\\color.png\n",
      "6.622576995756534\n",
      "D:/00_NCSU/00_Resources/00_Datasets/PSA-oak-d-images/NC_10_02_2020\\2020_10_02_10_52_34\\7c0ad885-8dca-48a6-b956-e386a5b94032\\color.png\n",
      "6.53635138980191\n",
      "D:/00_NCSU/00_Resources/00_Datasets/PSA-oak-d-images/NC_10_02_2020\\2020_10_02_10_52_34\\7d7e6cb4-cbca-4d76-afa8-027081e224c6\\color.png\n",
      "6.756087123040699\n",
      "D:/00_NCSU/00_Resources/00_Datasets/PSA-oak-d-images/NC_10_02_2020\\2020_10_02_10_52_34\\859af5e5-18fa-4263-b68e-a002c5e4019f\\color.png\n",
      "6.335048091745007\n",
      "D:/00_NCSU/00_Resources/00_Datasets/PSA-oak-d-images/NC_10_02_2020\\2020_10_02_10_52_34\\97cd63e3-8cf2-415e-98eb-a843275aad12\\color.png\n",
      "6.792200932065379\n",
      "D:/00_NCSU/00_Resources/00_Datasets/PSA-oak-d-images/NC_10_02_2020\\2020_10_02_10_58_15\\551a9227-db60-442e-80cf-f8cce29c0270\\color.png\n",
      "17.152333612510187\n",
      "D:/00_NCSU/00_Resources/00_Datasets/PSA-oak-d-images/NC_10_02_2020\\2020_10_02_10_58_15\\6b6b1bb4-d653-48b6-9d27-09e77298853a\\color.png\n",
      "12.499239226312985\n",
      "D:/00_NCSU/00_Resources/00_Datasets/PSA-oak-d-images/NC_10_02_2020\\2020_10_02_10_58_15\\8dc13b23-1769-4ec8-babc-ca7f89de400c\\color.png\n",
      "13.731296860636142\n",
      "D:/00_NCSU/00_Resources/00_Datasets/PSA-oak-d-images/NC_10_02_2020\\2020_10_02_10_58_15\\964fc91a-270c-42a1-a83e-5a530a42b263\\color.png\n",
      "13.705067838824016\n",
      "D:/00_NCSU/00_Resources/00_Datasets/PSA-oak-d-images/NC_10_02_2020\\2020_10_02_10_58_15\\da7cb723-c5b0-4102-9dbd-4ce419c33b2b\\color.png\n",
      "12.914892131299046\n",
      "D:/00_NCSU/00_Resources/00_Datasets/PSA-oak-d-images/NC_10_02_2020\\2020_10_02_11_00_36\\42efb3e4-1a93-4a42-b227-366f99aaf981\\color.png\n",
      "9.348907951850002\n",
      "D:/00_NCSU/00_Resources/00_Datasets/PSA-oak-d-images/NC_10_02_2020\\2020_10_02_11_00_36\\57080cd8-fefc-46ae-bf0c-8af30b65023b\\color.png\n",
      "10.260629150884112\n",
      "D:/00_NCSU/00_Resources/00_Datasets/PSA-oak-d-images/NC_10_02_2020\\2020_10_02_11_00_36\\6d718d85-c520-4986-b939-62f38b7f3f45\\color.png\n",
      "9.66969148645176\n",
      "D:/00_NCSU/00_Resources/00_Datasets/PSA-oak-d-images/NC_10_02_2020\\2020_10_02_11_00_36\\7a67ff2b-2388-41ac-93ee-dcfb48421837\\color.png\n",
      "10.090744917754515\n",
      "D:/00_NCSU/00_Resources/00_Datasets/PSA-oak-d-images/NC_10_02_2020\\2020_10_02_11_00_36\\96d36eb2-135a-4d87-92df-25464867c3c1\\color.png\n",
      "9.817195933035753\n",
      "D:/00_NCSU/00_Resources/00_Datasets/PSA-oak-d-images/NC_10_02_2020\\2020_10_02_11_00_36\\a0a87d1a-5b77-467d-8ce3-a67a980d4e8f\\color.png\n",
      "0.0\n",
      "D:/00_NCSU/00_Resources/00_Datasets/PSA-oak-d-images/NC_10_02_2020\\2020_10_02_11_00_36\\b8a5b8d5-ba60-4cfd-8d7a-6fdc0f9cda4c\\color.png\n",
      "9.251894112586033\n",
      "D:/00_NCSU/00_Resources/00_Datasets/PSA-oak-d-images/NC_10_02_2020\\2020_10_02_11_00_36\\c43b80fa-0a7f-4dcd-aff7-fc723296fc8f\\color.png\n",
      "11.799698079273009\n",
      "D:/00_NCSU/00_Resources/00_Datasets/PSA-oak-d-images/NC_10_02_2020\\2020_10_02_11_00_36\\cc6cbdcd-f440-4569-880b-7ca3b2552198\\color.png\n",
      "9.542972359195305\n",
      "D:/00_NCSU/00_Resources/00_Datasets/PSA-oak-d-images/NC_10_02_2020\\2020_10_02_11_00_36\\dd7c2302-17ca-4425-bcc5-c45b4370da08\\color.png\n",
      "2.7513900465060086\n",
      "D:/00_NCSU/00_Resources/00_Datasets/PSA-oak-d-images/NC_10_09_2020\\2020_10_09_10_22_21\\10f2fc42-d884-4f2c-b989-d2e30839b61a\\color.png\n",
      "18.359270220455794\n",
      "D:/00_NCSU/00_Resources/00_Datasets/PSA-oak-d-images/NC_10_09_2020\\2020_10_09_10_22_21\\1c2ed698-da2c-40e6-aaa3-b0060c1b57bd\\color.png\n",
      "17.63846941104431\n",
      "D:/00_NCSU/00_Resources/00_Datasets/PSA-oak-d-images/NC_10_09_2020\\2020_10_09_10_22_21\\333462d9-5998-453e-a755-3ebf626bb7b4\\color.png\n",
      "18.410380820861167\n",
      "D:/00_NCSU/00_Resources/00_Datasets/PSA-oak-d-images/NC_10_09_2020\\2020_10_09_10_22_21\\4942384f-16de-4f9d-96d4-8a04f3397dd5\\color.png\n",
      "19.325392424903075\n",
      "D:/00_NCSU/00_Resources/00_Datasets/PSA-oak-d-images/NC_10_09_2020\\2020_10_09_10_22_21\\62dac56d-e185-4a0f-b507-84ade9b3bd93\\color.png\n",
      "18.002229233255097\n",
      "D:/00_NCSU/00_Resources/00_Datasets/PSA-oak-d-images/NC_10_09_2020\\2020_10_09_10_22_21\\b218ca5a-5b90-48b4-a23b-3b791cb0d80c\\color.png\n",
      "17.988457080142553\n",
      "D:/00_NCSU/00_Resources/00_Datasets/PSA-oak-d-images/NC_10_09_2020\\2020_10_09_10_22_21\\bc5f04fa-a222-435b-a33f-9bdb902035d0\\color.png\n",
      "18.635775325290087\n",
      "D:/00_NCSU/00_Resources/00_Datasets/PSA-oak-d-images/NC_10_09_2020\\2020_10_09_10_22_57\\01e35a67-a988-466e-ba86-752db81aedc8\\color.png\n"
     ]
    },
    {
     "name": "stdout",
     "output_type": "stream",
     "text": [
      "9.214448879120226\n",
      "D:/00_NCSU/00_Resources/00_Datasets/PSA-oak-d-images/NC_10_09_2020\\2020_10_09_10_22_57\\39b2b439-6321-4574-a665-3562581df4bc\\color.png\n",
      "8.971286496213548\n",
      "D:/00_NCSU/00_Resources/00_Datasets/PSA-oak-d-images/NC_10_09_2020\\2020_10_09_10_22_57\\3f140564-90cf-4ec8-98b9-a8e5ae533f1a\\color.png\n",
      "8.908342778633168\n",
      "D:/00_NCSU/00_Resources/00_Datasets/PSA-oak-d-images/NC_10_09_2020\\2020_10_09_10_22_57\\6758902e-f2aa-42a5-a6f1-a6d70cdf1cdd\\color.png\n",
      "8.867927672978853\n",
      "D:/00_NCSU/00_Resources/00_Datasets/PSA-oak-d-images/NC_10_09_2020\\2020_10_09_10_22_57\\67f7d265-88a0-4efb-b9f4-cd70f3c8cd6e\\color.png\n",
      "9.371370107496208\n",
      "D:/00_NCSU/00_Resources/00_Datasets/PSA-oak-d-images/NC_10_09_2020\\2020_10_09_10_22_57\\73fa7f14-5775-42bb-b1b8-cbff8f9f2d34\\color.png\n",
      "9.448111920015528\n",
      "D:/00_NCSU/00_Resources/00_Datasets/PSA-oak-d-images/NC_10_09_2020\\2020_10_09_10_22_57\\804885fc-456f-4170-ac05-d41e0569f48f\\color.png\n",
      "8.991368087959447\n",
      "D:/00_NCSU/00_Resources/00_Datasets/PSA-oak-d-images/NC_10_09_2020\\2020_10_09_10_22_57\\8833cc61-6d3b-4b85-ae61-b4c239dd2c27\\color.png\n",
      "9.501049621894971\n",
      "D:/00_NCSU/00_Resources/00_Datasets/PSA-oak-d-images/NC_10_09_2020\\2020_10_09_10_22_57\\8e866d8f-e751-42ca-a4e1-51c6e857ca7a\\color.png\n",
      "9.948491894283759\n",
      "D:/00_NCSU/00_Resources/00_Datasets/PSA-oak-d-images/NC_10_09_2020\\2020_10_09_10_22_57\\a5132c83-a6cc-4b43-a286-b01a94e0029d\\color.png\n",
      "9.102361940270491\n",
      "D:/00_NCSU/00_Resources/00_Datasets/PSA-oak-d-images/NC_10_09_2020\\2020_10_09_10_22_57\\ea5d63fc-dd92-4282-80fc-b40ffa2595e1\\color.png\n",
      "9.621271487678872\n",
      "D:/00_NCSU/00_Resources/00_Datasets/PSA-oak-d-images/NC_10_09_2020\\2020_10_09_10_35_10\\26a4f90e-f9a9-4f18-b291-164c6336dbc5\\color.png\n",
      "10.930699333117133\n",
      "D:/00_NCSU/00_Resources/00_Datasets/PSA-oak-d-images/NC_10_09_2020\\2020_10_09_10_35_10\\8f0c63c0-e4c1-4b81-8fa3-1044d78a69b3\\color.png\n",
      "10.825672547350504\n",
      "D:/00_NCSU/00_Resources/00_Datasets/PSA-oak-d-images/NC_10_09_2020\\2020_10_09_10_35_10\\92cbb549-a4e4-4092-9cc8-0918164d641a\\color.png\n",
      "10.255835142518382\n",
      "D:/00_NCSU/00_Resources/00_Datasets/PSA-oak-d-images/NC_10_09_2020\\2020_10_09_10_35_43\\198bee0b-ba5c-4fb5-8374-8d1a043003c8\\color.png\n",
      "10.504554597063908\n",
      "D:/00_NCSU/00_Resources/00_Datasets/PSA-oak-d-images/NC_10_09_2020\\2020_10_09_10_35_43\\1a95d070-e645-44e0-8514-633bfcd75ba5\\color.png\n",
      "9.738918820883608\n",
      "D:/00_NCSU/00_Resources/00_Datasets/PSA-oak-d-images/NC_10_09_2020\\2020_10_09_10_35_43\\7a119cb9-bd11-4b40-96dc-03a0997d1f5d\\color.png\n",
      "10.775079727926695\n",
      "D:/00_NCSU/00_Resources/00_Datasets/PSA-oak-d-images/NC_10_09_2020\\2020_10_09_10_35_43\\86d914dd-cafd-4c44-8162-100a7de6b1d5\\color.png\n",
      "9.571864095307479\n",
      "D:/00_NCSU/00_Resources/00_Datasets/PSA-oak-d-images/NC_10_09_2020\\2020_10_09_10_35_43\\f4dbd0a5-8fea-44f9-b2f5-43786b51e83d\\color.png\n",
      "9.25513543886454\n",
      "D:/00_NCSU/00_Resources/00_Datasets/PSA-oak-d-images/NC_10_09_2020\\2020_10_09_10_35_43\\f99105f5-d9f1-4608-9484-198e0cb1a7bd\\color.png\n",
      "9.798319169234002\n",
      "D:/00_NCSU/00_Resources/00_Datasets/PSA-oak-d-images/NC_10_09_2020\\2020_10_09_10_42_33\\6347002a-9781-4abe-b204-12c7d09e56ce\\color.png\n",
      "8.771893416497802\n",
      "D:/00_NCSU/00_Resources/00_Datasets/PSA-oak-d-images/NC_10_09_2020\\2020_10_09_10_42_33\\ff608d47-207a-4626-a002-7756fc541ca3\\color.png\n",
      "7.581852362384128\n",
      "D:/00_NCSU/00_Resources/00_Datasets/PSA-oak-d-images/NC_10_09_2020\\2020_10_09_10_43_20\\7c378341-4c5e-41ba-9cb8-a5490ed6134a\\color.png\n",
      "8.819021014210286\n",
      "D:/00_NCSU/00_Resources/00_Datasets/PSA-oak-d-images/NC_10_09_2020\\2020_10_09_10_43_20\\9caef27e-4e2e-419f-9f2d-f1224957b7e6\\color.png\n",
      "10.460080310971344\n",
      "D:/00_NCSU/00_Resources/00_Datasets/PSA-oak-d-images/NC_10_09_2020\\2020_10_09_10_43_20\\9ec40e72-dcae-4bf3-970e-375683a1c6fe\\color.png\n",
      "8.63700946322362\n",
      "D:/00_NCSU/00_Resources/00_Datasets/PSA-oak-d-images/NC_10_09_2020\\2020_10_09_10_43_20\\a2859f49-ba33-484b-adde-2abebdf84ea5\\color.png\n",
      "8.067429792874414\n",
      "D:/00_NCSU/00_Resources/00_Datasets/PSA-oak-d-images/NC_10_09_2020\\2020_10_09_10_43_20\\cc4fe3bc-30d4-45a2-a5f4-071d642702e0\\color.png\n",
      "9.524007925554308\n",
      "D:/00_NCSU/00_Resources/00_Datasets/PSA-oak-d-images/NC_10_09_2020\\2020_10_09_10_43_20\\e1d8b33b-c80b-4326-9818-62537c5e0b5f\\color.png\n",
      "9.746879958024198\n",
      "D:/00_NCSU/00_Resources/00_Datasets/PSA-oak-d-images/NC_10_09_2020\\2020_10_09_10_43_20\\f76cb855-3c13-4f8c-ad99-4ec9fa0c3f7c\\color.png\n",
      "9.79743042297503\n",
      "D:/00_NCSU/00_Resources/00_Datasets/PSA-oak-d-images/NC_10_09_2020\\2020_10_09_10_52_09\\2780c0ad-f3c7-40f6-a69f-e38b27c3142c\\color.png\n",
      "15.872686728800215\n",
      "D:/00_NCSU/00_Resources/00_Datasets/PSA-oak-d-images/NC_10_09_2020\\2020_10_09_10_52_09\\3cdef3f9-6d3e-4731-a6cd-16eaf472ac08\\color.png\n",
      "10.803991536972775\n",
      "D:/00_NCSU/00_Resources/00_Datasets/PSA-oak-d-images/NC_10_09_2020\\2020_10_09_10_52_09\\6b3100b0-e1fd-4ce6-8ea3-c3a2363a074d\\color.png\n",
      "14.635608317567417\n",
      "D:/00_NCSU/00_Resources/00_Datasets/PSA-oak-d-images/NC_10_09_2020\\2020_10_09_10_52_09\\89574653-d76b-4bf1-9305-38e0e17338bb\\color.png\n",
      "15.312618450440114\n",
      "D:/00_NCSU/00_Resources/00_Datasets/PSA-oak-d-images/NC_10_09_2020\\2020_10_09_10_52_40\\0e95fad8-c894-43bc-84d7-87b304a827b4\\color.png\n",
      "10.811037263602836\n",
      "D:/00_NCSU/00_Resources/00_Datasets/PSA-oak-d-images/NC_10_09_2020\\2020_10_09_10_52_40\\0f855af0-3db4-46ac-a9b6-8a3524649dd1\\color.png\n",
      "12.082870802033675\n",
      "D:/00_NCSU/00_Resources/00_Datasets/PSA-oak-d-images/NC_10_09_2020\\2020_10_09_10_52_40\\21905c54-0d34-4b57-a0c9-ae7214b4376e\\color.png\n",
      "11.911221114161949\n",
      "D:/00_NCSU/00_Resources/00_Datasets/PSA-oak-d-images/NC_10_09_2020\\2020_10_09_10_52_40\\2a215c8a-edc0-48a6-bc38-06b1b8cc0509\\color.png\n",
      "11.138905076196608\n",
      "D:/00_NCSU/00_Resources/00_Datasets/PSA-oak-d-images/NC_10_09_2020\\2020_10_09_10_52_40\\6ebca424-e133-4fbc-9e15-79839953a0e2\\color.png\n",
      "11.857946885906276\n",
      "D:/00_NCSU/00_Resources/00_Datasets/PSA-oak-d-images/NC_10_09_2020\\2020_10_09_10_52_40\\9c9acb1a-ec8c-4466-a8c4-54424bc1a505\\color.png\n",
      "12.484927883779179\n",
      "D:/00_NCSU/00_Resources/00_Datasets/PSA-oak-d-images/NC_10_09_2020\\2020_10_09_10_52_40\\b00543bc-4612-4f73-b777-85415523aab6\\color.png\n",
      "11.115590738322194\n",
      "D:/00_NCSU/00_Resources/00_Datasets/PSA-oak-d-images/NC_10_09_2020\\2020_10_09_10_52_40\\bb35b434-6764-4cc4-98c4-42812bcaf0b7\\color.png\n",
      "9.387595720470449\n",
      "D:/00_NCSU/00_Resources/00_Datasets/PSA-oak-d-images/NC_10_09_2020\\2020_10_09_10_52_40\\d34dc369-7447-47c6-b6a1-8b66868cd23f\\color.png\n",
      "11.337117542783432\n",
      "D:/00_NCSU/00_Resources/00_Datasets/PSA-oak-d-images/NC_10_09_2020\\2020_10_09_10_52_40\\dceb8e8c-034d-4614-94e2-869992e3f35f\\color.png\n",
      "12.050605912391074\n",
      "D:/00_NCSU/00_Resources/00_Datasets/PSA-oak-d-images/NC_10_09_2020\\2020_10_09_10_52_40\\e7ffa209-0a36-41e8-aff3-dfbe532a305c\\color.png\n",
      "11.242696901659487\n",
      "D:/00_NCSU/00_Resources/00_Datasets/PSA-oak-d-images/NC_10_09_2020\\2020_10_09_10_52_40\\f36a9790-a2dc-4526-9b7d-61948e38bf60\\color.png\n",
      "12.918299256505577\n",
      "D:/00_NCSU/00_Resources/00_Datasets/PSA-oak-d-images/NC_10_09_2020\\2020_10_09_10_59_08\\01d9dc96-2494-4259-9a86-b08bca74f59b\\color.png\n",
      "9.101030520153511\n",
      "D:/00_NCSU/00_Resources/00_Datasets/PSA-oak-d-images/NC_10_09_2020\\2020_10_09_10_59_08\\161ab839-3df6-4f1c-9b9e-f2329c8191ce\\color.png\n",
      "9.048664975381612\n",
      "D:/00_NCSU/00_Resources/00_Datasets/PSA-oak-d-images/NC_10_09_2020\\2020_10_09_10_59_08\\161aee93-94cb-41c9-a8af-018b05da3e4f\\color.png\n",
      "9.708339166666665\n",
      "D:/00_NCSU/00_Resources/00_Datasets/PSA-oak-d-images/NC_10_09_2020\\2020_10_09_10_59_08\\17e429a1-7b20-4f8b-911b-45cb927ea53f\\color.png\n",
      "9.430869611877164\n",
      "D:/00_NCSU/00_Resources/00_Datasets/PSA-oak-d-images/NC_10_09_2020\\2020_10_09_10_59_08\\1fcc1d61-3595-4a69-9dcb-af72b925b979\\color.png\n",
      "9.429171428571426\n",
      "D:/00_NCSU/00_Resources/00_Datasets/PSA-oak-d-images/NC_10_09_2020\\2020_10_09_10_59_08\\304f560f-4975-450f-a034-2e15c4bb8e2b\\color.png\n",
      "9.386047952977018\n",
      "D:/00_NCSU/00_Resources/00_Datasets/PSA-oak-d-images/NC_10_09_2020\\2020_10_09_10_59_08\\4666de1b-7904-4b65-a9a7-887d0a0fc830\\color.png\n",
      "9.411468482414366\n",
      "D:/00_NCSU/00_Resources/00_Datasets/PSA-oak-d-images/NC_10_09_2020\\2020_10_09_10_59_08\\6611c15f-8227-4b9c-9658-6c376f4517b2\\color.png\n",
      "8.766510603681823\n",
      "D:/00_NCSU/00_Resources/00_Datasets/PSA-oak-d-images/NC_10_09_2020\\2020_10_09_10_59_08\\689f8af0-dc59-4885-a08a-9873034d17b2\\color.png\n",
      "8.556056248603186\n",
      "D:/00_NCSU/00_Resources/00_Datasets/PSA-oak-d-images/NC_10_09_2020\\2020_10_09_10_59_08\\9176c64f-83ee-4625-a0fc-33c547f1ec7d\\color.png\n"
     ]
    },
    {
     "name": "stdout",
     "output_type": "stream",
     "text": [
      "8.329831887880081\n",
      "D:/00_NCSU/00_Resources/00_Datasets/PSA-oak-d-images/NC_10_09_2020\\2020_10_09_10_59_08\\b2713f10-3d62-420c-bb74-2d00da5bfeb7\\color.png\n",
      "9.603072736882714\n",
      "D:/00_NCSU/00_Resources/00_Datasets/PSA-oak-d-images/NC_10_09_2020\\2020_10_09_10_59_08\\b7d736b3-9ab2-4807-b4fa-8a10ffd72e30\\color.png\n",
      "8.663333643698005\n",
      "D:/00_NCSU/00_Resources/00_Datasets/PSA-oak-d-images/NC_10_09_2020\\2020_10_09_10_59_08\\e606d809-f326-4b68-b432-25f6b30943b2\\color.png\n",
      "9.268996182262969\n",
      "D:/00_NCSU/00_Resources/00_Datasets/PSA-oak-d-images/NC_10_09_2020\\2020_10_09_10_59_08\\e9fb2e0a-ede2-4ce3-804e-624ca78747eb\\color.png\n",
      "9.017501755688933\n",
      "D:/00_NCSU/00_Resources/00_Datasets/PSA-oak-d-images/NC_10_09_2020\\2020_10_09_11_00_34\\0166196f-6b7e-4573-9ab1-00ac9c14d935\\color.png\n",
      "7.104906411081032\n",
      "D:/00_NCSU/00_Resources/00_Datasets/PSA-oak-d-images/NC_10_09_2020\\2020_10_09_11_00_34\\25474821-8123-4467-9112-ee2eea49b7ba\\color.png\n",
      "8.009973831384036\n",
      "D:/00_NCSU/00_Resources/00_Datasets/PSA-oak-d-images/NC_10_09_2020\\2020_10_09_11_00_34\\257fee32-a848-4ced-bbc1-1d67113cf99e\\color.png\n",
      "7.513146791113853\n",
      "D:/00_NCSU/00_Resources/00_Datasets/PSA-oak-d-images/NC_10_09_2020\\2020_10_09_11_00_34\\313f70de-6280-480d-b653-f031e766bf25\\color.png\n",
      "7.389581433325854\n",
      "D:/00_NCSU/00_Resources/00_Datasets/PSA-oak-d-images/NC_10_09_2020\\2020_10_09_11_00_34\\5496b83e-b44b-4279-95bd-af3eb4981506\\color.png\n",
      "8.295526876165516\n",
      "D:/00_NCSU/00_Resources/00_Datasets/PSA-oak-d-images/NC_10_09_2020\\2020_10_09_11_00_34\\5d9acfed-b018-41c3-b4be-5f369d27ed7f\\color.png\n",
      "7.351466958352255\n",
      "D:/00_NCSU/00_Resources/00_Datasets/PSA-oak-d-images/NC_10_09_2020\\2020_10_09_11_00_34\\5ff5bda2-ff9e-4012-9bbb-712d6f6f1f6a\\color.png\n",
      "8.469781018259622\n",
      "D:/00_NCSU/00_Resources/00_Datasets/PSA-oak-d-images/NC_10_09_2020\\2020_10_09_11_00_34\\8630a2b9-7501-41d2-920a-d647f954aafb\\color.png\n",
      "8.557830557749805\n",
      "D:/00_NCSU/00_Resources/00_Datasets/PSA-oak-d-images/NC_10_09_2020\\2020_10_09_11_00_34\\a1e60f5a-fa6e-4145-a0db-27058d57b1e3\\color.png\n",
      "8.583534053757267\n",
      "D:/00_NCSU/00_Resources/00_Datasets/PSA-oak-d-images/NC_10_09_2020\\2020_10_09_11_00_34\\ae360d1d-fedc-416b-ad16-441bf953d9b4\\color.png\n",
      "8.145462261777315\n",
      "D:/00_NCSU/00_Resources/00_Datasets/PSA-oak-d-images/NC_10_09_2020\\2020_10_09_11_00_34\\b893e116-34b7-4151-967d-c1ee3a0afd29\\color.png\n",
      "8.642130418144122\n",
      "D:/00_NCSU/00_Resources/00_Datasets/PSA-oak-d-images/NC_10_09_2020\\2020_10_09_11_00_34\\bea648c1-9e7b-455e-a6c0-6b796fa0796a\\color.png\n",
      "8.553437939951154\n",
      "D:/00_NCSU/00_Resources/00_Datasets/PSA-oak-d-images/NC_10_09_2020\\2020_10_09_11_00_34\\e5c9f8ca-2724-4c00-a5a8-d5dc19aadb13\\color.png\n",
      "8.565145922736559\n",
      "D:/00_NCSU/00_Resources/00_Datasets/PSA-oak-d-images/NC_10_09_2020\\2020_10_09_11_00_34\\f580c7b2-6500-4c12-9f04-400572b39dd2\\color.png\n",
      "8.21300137720634\n",
      "D:/00_NCSU/00_Resources/00_Datasets/PSA-oak-d-images/NC_10_09_2020\\2020_10_09_11_07_13\\0764412e-24bc-4354-aa6d-2acb97d1f77a\\color.png\n",
      "10.033510349946283\n",
      "D:/00_NCSU/00_Resources/00_Datasets/PSA-oak-d-images/NC_10_09_2020\\2020_10_09_11_07_13\\12afd16d-393a-4ff3-bf3e-b3ae9a347760\\color.png\n",
      "9.667853470120795\n",
      "D:/00_NCSU/00_Resources/00_Datasets/PSA-oak-d-images/NC_10_09_2020\\2020_10_09_11_07_13\\2e9985f3-81ea-4db6-a360-3dcfec250e7c\\color.png\n",
      "22.082926244236518\n",
      "D:/00_NCSU/00_Resources/00_Datasets/PSA-oak-d-images/NC_10_09_2020\\2020_10_09_11_07_13\\31500266-c1d3-4afa-a2f1-f89c79d491de\\color.png\n",
      "9.944968909598058\n",
      "D:/00_NCSU/00_Resources/00_Datasets/PSA-oak-d-images/NC_10_09_2020\\2020_10_09_11_07_13\\57aa6506-46f8-4762-b4e3-d7b9302300fc\\color.png\n",
      "10.263691065277666\n",
      "D:/00_NCSU/00_Resources/00_Datasets/PSA-oak-d-images/NC_10_09_2020\\2020_10_09_11_07_13\\58997108-902b-49e3-9464-a09e15024067\\color.png\n",
      "10.680515533237923\n",
      "D:/00_NCSU/00_Resources/00_Datasets/PSA-oak-d-images/NC_10_09_2020\\2020_10_09_11_07_13\\5a4a2a84-83bf-4127-9795-16e702fd9925\\color.png\n",
      "10.552685968579437\n",
      "D:/00_NCSU/00_Resources/00_Datasets/PSA-oak-d-images/NC_10_09_2020\\2020_10_09_11_07_13\\67477b78-2cf3-42e7-8be2-d9624286d1bf\\color.png\n",
      "11.001735833298541\n",
      "D:/00_NCSU/00_Resources/00_Datasets/PSA-oak-d-images/NC_10_09_2020\\2020_10_09_11_07_13\\db42273d-4856-4987-b72c-fbf6868b6254\\color.png\n",
      "11.289103290847061\n",
      "D:/00_NCSU/00_Resources/00_Datasets/PSA-oak-d-images/NC_10_09_2020\\2020_10_09_11_07_13\\eae71fdd-7f5a-4ff7-b5cb-784a0365cfc4\\color.png\n",
      "11.601701947519475\n",
      "D:/00_NCSU/00_Resources/00_Datasets/PSA-oak-d-images/NC_10_09_2020\\2020_10_09_11_08_47\\0b862240-20ce-461e-820c-8ce265ef781e\\color.png\n",
      "10.495693199943213\n",
      "D:/00_NCSU/00_Resources/00_Datasets/PSA-oak-d-images/NC_10_09_2020\\2020_10_09_11_08_47\\3ea2a4d3-1e35-4df6-9fe1-305e09179f0f\\color.png\n",
      "11.24685298149126\n",
      "D:/00_NCSU/00_Resources/00_Datasets/PSA-oak-d-images/NC_10_09_2020\\2020_10_09_11_08_47\\4c03d102-009f-45ca-b7ec-94f721cfb9b1\\color.png\n",
      "10.14156593902219\n",
      "D:/00_NCSU/00_Resources/00_Datasets/PSA-oak-d-images/NC_10_09_2020\\2020_10_09_11_08_47\\5acc5bbd-2d50-4451-9cda-7b4ff9292605\\color.png\n",
      "9.899482223768459\n",
      "D:/00_NCSU/00_Resources/00_Datasets/PSA-oak-d-images/NC_10_09_2020\\2020_10_09_11_08_47\\5da02d9f-7bf1-406b-bc12-e416006bc335\\color.png\n",
      "11.461269107581609\n",
      "D:/00_NCSU/00_Resources/00_Datasets/PSA-oak-d-images/NC_10_09_2020\\2020_10_09_11_08_47\\62c0645a-616f-4456-8c3a-3cd601f854ff\\color.png\n",
      "11.06986165440985\n",
      "D:/00_NCSU/00_Resources/00_Datasets/PSA-oak-d-images/NC_10_09_2020\\2020_10_09_11_08_47\\62c9fc5e-707e-49a6-8fa4-fae7993ffd99\\color.png\n",
      "11.774007597383026\n",
      "D:/00_NCSU/00_Resources/00_Datasets/PSA-oak-d-images/NC_10_09_2020\\2020_10_09_11_08_47\\7934d390-9036-4700-b7ae-71bd7d2d437a\\color.png\n",
      "11.564574992098967\n",
      "D:/00_NCSU/00_Resources/00_Datasets/PSA-oak-d-images/NC_10_09_2020\\2020_10_09_11_08_47\\bf455bbd-2d1b-474d-b32b-8cc1a846a1dd\\color.png\n",
      "10.071537779484487\n",
      "D:/00_NCSU/00_Resources/00_Datasets/PSA-oak-d-images/NC_10_09_2020\\2020_10_09_11_08_47\\cb23906f-0cdd-448e-bb5d-4276239db51a\\color.png\n",
      "10.862777885736495\n",
      "D:/00_NCSU/00_Resources/00_Datasets/PSA-oak-d-images/NC_10_09_2020\\2020_10_09_11_08_47\\cb309827-34c9-4abe-9de9-015a09ea88cc\\color.png\n",
      "10.87129561744741\n",
      "D:/00_NCSU/00_Resources/00_Datasets/PSA-oak-d-images/NC_10_09_2020\\2020_10_09_11_08_47\\e962404c-ea4d-40cd-8533-f61b9470dc27\\color.png\n",
      "10.801830755668155\n",
      "D:/00_NCSU/00_Resources/00_Datasets/PSA-oak-d-images/NC_10_09_2020\\2020_10_09_11_08_47\\ea313bc8-0fcd-4d1f-8f9f-407cd537ff36\\color.png\n",
      "11.12463426401331\n",
      "D:/00_NCSU/00_Resources/00_Datasets/PSA-oak-d-images/NC_10_09_2020\\2020_10_09_11_15_26\\2e46fa37-3c25-44a4-b83e-0fc7f4711eed\\color.png\n",
      "7.191715750891305\n",
      "D:/00_NCSU/00_Resources/00_Datasets/PSA-oak-d-images/NC_10_09_2020\\2020_10_09_11_15_26\\33e6f9bc-6210-46d3-9d52-cc3e125be36f\\color.png\n",
      "5.8323449893173835\n",
      "D:/00_NCSU/00_Resources/00_Datasets/PSA-oak-d-images/NC_10_09_2020\\2020_10_09_11_15_26\\43398b44-8279-43ee-86f6-cbf3c2a61e91\\color.png\n",
      "7.527398897381061\n",
      "D:/00_NCSU/00_Resources/00_Datasets/PSA-oak-d-images/NC_10_09_2020\\2020_10_09_11_15_26\\6b26ad88-d138-41ce-9ee6-16736c1b9d92\\color.png\n",
      "7.830689742896895\n",
      "D:/00_NCSU/00_Resources/00_Datasets/PSA-oak-d-images/NC_10_09_2020\\2020_10_09_11_15_26\\9f6fefa3-60f9-4ffc-afd0-ccb73cfd64a8\\color.png\n",
      "5.50785394932936\n",
      "D:/00_NCSU/00_Resources/00_Datasets/PSA-oak-d-images/NC_10_09_2020\\2020_10_09_11_15_26\\a0fff5fb-9a48-4955-aa69-8cc70a1ccd73\\color.png\n",
      "6.175345899647067\n",
      "D:/00_NCSU/00_Resources/00_Datasets/PSA-oak-d-images/NC_10_09_2020\\2020_10_09_11_15_26\\cb860c6f-0ecd-4111-a2e1-927d5de2d3cf\\color.png\n",
      "7.500120432779625\n",
      "D:/00_NCSU/00_Resources/00_Datasets/PSA-oak-d-images/NC_10_09_2020\\2020_10_09_11_15_26\\fd7a65f8-0663-4a0d-895f-982f64c02289\\color.png\n",
      "5.768252688766625\n",
      "D:/00_NCSU/00_Resources/00_Datasets/PSA-oak-d-images/NC_10_09_2020\\2020_10_09_11_16_44\\01d11e33-c8d6-420c-9d74-f5cfb440da68\\color.png\n",
      "4.084857089446668\n",
      "D:/00_NCSU/00_Resources/00_Datasets/PSA-oak-d-images/NC_10_09_2020\\2020_10_09_11_16_44\\079388d0-74bc-4a37-9888-105cabfb412e\\color.png\n",
      "4.312649927760492\n",
      "D:/00_NCSU/00_Resources/00_Datasets/PSA-oak-d-images/NC_10_09_2020\\2020_10_09_11_16_44\\1e864c72-94c8-435b-a21a-84589b5cd8a6\\color.png\n",
      "4.121511604740484\n",
      "D:/00_NCSU/00_Resources/00_Datasets/PSA-oak-d-images/NC_10_09_2020\\2020_10_09_11_16_44\\5902c029-7d36-4fc2-a03f-c60d623fe631\\color.png\n",
      "4.094570393704129\n",
      "D:/00_NCSU/00_Resources/00_Datasets/PSA-oak-d-images/NC_10_09_2020\\2020_10_09_11_16_44\\70b584c6-8a9a-4b55-930a-0adb76ed746a\\color.png\n"
     ]
    },
    {
     "name": "stdout",
     "output_type": "stream",
     "text": [
      "4.210665083282181\n",
      "D:/00_NCSU/00_Resources/00_Datasets/PSA-oak-d-images/NC_10_09_2020\\2020_10_09_11_27_14\\1cfe74a3-bd65-4fe1-9012-8cbc8409fe77\\color.png\n",
      "7.241379978692312\n",
      "D:/00_NCSU/00_Resources/00_Datasets/PSA-oak-d-images/NC_10_09_2020\\2020_10_09_11_27_14\\34222486-e01e-46f4-a586-6666c9500745\\color.png\n",
      "7.095104968961949\n",
      "D:/00_NCSU/00_Resources/00_Datasets/PSA-oak-d-images/NC_10_09_2020\\2020_10_09_11_27_14\\50ae9fab-f577-447d-89ab-24d46fa65a5d\\color.png\n",
      "7.1605117092731065\n",
      "D:/00_NCSU/00_Resources/00_Datasets/PSA-oak-d-images/NC_10_09_2020\\2020_10_09_11_27_14\\65f96845-ca71-4a7f-b794-6a05d7e35e10\\color.png\n",
      "7.569666673064377\n",
      "D:/00_NCSU/00_Resources/00_Datasets/PSA-oak-d-images/NC_10_09_2020\\2020_10_09_11_27_14\\889d3e9f-2f22-4e5a-b7bc-6e0ce7e00db6\\color.png\n",
      "7.443902150791774\n",
      "D:/00_NCSU/00_Resources/00_Datasets/PSA-oak-d-images/NC_10_09_2020\\2020_10_09_11_27_14\\96bb7cc7-a04f-4a3d-b50d-0064c110e592\\color.png\n",
      "8.13861208018439\n",
      "D:/00_NCSU/00_Resources/00_Datasets/PSA-oak-d-images/NC_10_09_2020\\2020_10_09_11_27_14\\9b3c6d77-9889-4d95-a2ef-c1d2e1985fae\\color.png\n",
      "7.735990843650801\n",
      "D:/00_NCSU/00_Resources/00_Datasets/PSA-oak-d-images/NC_10_09_2020\\2020_10_09_11_27_14\\9bce1d1f-1640-48d8-b153-0efd24ce19d8\\color.png\n",
      "7.279722833727269\n",
      "D:/00_NCSU/00_Resources/00_Datasets/PSA-oak-d-images/NC_10_09_2020\\2020_10_09_11_27_14\\b9d3f588-96e5-4483-b63a-0a73c759e5be\\color.png\n",
      "7.889390688288497\n",
      "D:/00_NCSU/00_Resources/00_Datasets/PSA-oak-d-images/NC_10_09_2020\\2020_10_09_11_27_14\\befdabc2-580c-46b0-a05d-2ecf5d4dd710\\color.png\n",
      "7.418822505458196\n",
      "D:/00_NCSU/00_Resources/00_Datasets/PSA-oak-d-images/NC_10_09_2020\\2020_10_09_11_27_14\\c6098fb8-ecd0-410f-95d2-4ae9d0422407\\color.png\n",
      "7.049574542332005\n",
      "D:/00_NCSU/00_Resources/00_Datasets/PSA-oak-d-images/NC_10_09_2020\\2020_10_09_11_27_14\\d122958a-39d4-4ae1-ad30-0efdaa40bd0c\\color.png\n",
      "7.076998914999473\n",
      "D:/00_NCSU/00_Resources/00_Datasets/PSA-oak-d-images/NC_10_09_2020\\2020_10_09_11_27_14\\dcf02627-2797-4fed-97dd-51793cf606a2\\color.png\n",
      "7.586626590797847\n",
      "D:/00_NCSU/00_Resources/00_Datasets/PSA-oak-d-images/NC_10_09_2020\\2020_10_09_11_27_14\\e0060524-4f21-4729-9efe-e134f1c2f482\\color.png\n",
      "7.235341759349081\n",
      "D:/00_NCSU/00_Resources/00_Datasets/PSA-oak-d-images/NC_10_09_2020\\2020_10_09_11_27_14\\ee434140-ab8e-4128-89a6-32a133d17d69\\color.png\n",
      "7.937360057035092\n",
      "D:/00_NCSU/00_Resources/00_Datasets/PSA-oak-d-images/NC_10_09_2020\\2020_10_09_11_27_14\\ef3d79a9-3d56-422e-81b9-3dab78cf8094\\color.png\n",
      "7.766290286008563\n",
      "D:/00_NCSU/00_Resources/00_Datasets/PSA-oak-d-images/NC_10_09_2020\\2020_10_09_11_27_14\\fc6f8bed-266e-4e54-9271-abdec69b3f13\\color.png\n",
      "7.743518078165967\n",
      "D:/00_NCSU/00_Resources/00_Datasets/PSA-oak-d-images/NC_10_09_2020\\2020_10_09_11_27_55\\0fb43bb9-2818-4027-8cfe-6f74ed934918\\color.png\n",
      "9.2849212130854\n",
      "D:/00_NCSU/00_Resources/00_Datasets/PSA-oak-d-images/NC_10_09_2020\\2020_10_09_11_27_55\\3d2344ab-2cf2-4b95-be70-b85c889e683c\\color.png\n",
      "8.161503097319722\n",
      "D:/00_NCSU/00_Resources/00_Datasets/PSA-oak-d-images/NC_10_09_2020\\2020_10_09_11_27_55\\4a1d383c-e9da-41f7-a8aa-71203bdb5ca8\\color.png\n",
      "8.9063215866492\n",
      "D:/00_NCSU/00_Resources/00_Datasets/PSA-oak-d-images/NC_10_09_2020\\2020_10_09_11_27_55\\4ff884fb-bba0-4d28-918b-d1c3cf8ca0a3\\color.png\n",
      "9.44582224871376\n",
      "D:/00_NCSU/00_Resources/00_Datasets/PSA-oak-d-images/NC_10_09_2020\\2020_10_09_11_27_55\\6e7ef081-7174-4624-9c50-35291adb323d\\color.png\n",
      "8.730662073848968\n",
      "D:/00_NCSU/00_Resources/00_Datasets/PSA-oak-d-images/NC_10_09_2020\\2020_10_09_11_27_55\\7234b60c-89b0-4a44-9543-3b21d21bd408\\color.png\n",
      "8.868025029095088\n",
      "D:/00_NCSU/00_Resources/00_Datasets/PSA-oak-d-images/NC_10_09_2020\\2020_10_09_11_27_55\\86082aab-dc90-4cf8-be77-8407d5c0ec7a\\color.png\n",
      "9.249572295462363\n",
      "D:/00_NCSU/00_Resources/00_Datasets/PSA-oak-d-images/NC_10_09_2020\\2020_10_09_11_27_55\\ba4107f8-a532-4e17-bdc5-0f9ed0415473\\color.png\n",
      "8.535314745392068\n",
      "D:/00_NCSU/00_Resources/00_Datasets/PSA-oak-d-images/NC_10_09_2020\\2020_10_09_11_27_55\\cc45f2ac-ec0e-43f9-9da0-4915c86d3d55\\color.png\n",
      "8.648665046964144\n",
      "D:/00_NCSU/00_Resources/00_Datasets/PSA-oak-d-images/NC_10_09_2020\\2020_10_09_11_27_55\\cdc12e95-2885-4826-8ed2-ce1fcc9ecd5a\\color.png\n",
      "8.607908418649501\n",
      "D:/00_NCSU/00_Resources/00_Datasets/PSA-oak-d-images/NC_10_09_2020\\2020_10_09_11_33_58\\21c778c1-a9e7-4785-bef1-04f53c0b9bf2\\color.png\n",
      "20.646192392057927\n",
      "D:/00_NCSU/00_Resources/00_Datasets/PSA-oak-d-images/NC_10_09_2020\\2020_10_09_11_33_58\\23c0ecc1-4b3f-4c8f-b305-8f37eb9b51d5\\color.png\n",
      "40.950162527475044\n",
      "D:/00_NCSU/00_Resources/00_Datasets/PSA-oak-d-images/NC_10_09_2020\\2020_10_09_11_33_58\\23e2e6f4-291f-4b6a-aaaf-a7503c54dbf8\\color.png\n",
      "23.469666060431443\n",
      "D:/00_NCSU/00_Resources/00_Datasets/PSA-oak-d-images/NC_10_09_2020\\2020_10_09_11_33_58\\2b86bfd1-ec74-4b47-b9d4-3bc7f2bdf235\\color.png\n",
      "23.1854442825284\n",
      "D:/00_NCSU/00_Resources/00_Datasets/PSA-oak-d-images/NC_10_09_2020\\2020_10_09_11_33_58\\2fcae975-3f9b-4b1b-8901-f1054ee49121\\color.png\n",
      "20.680761760183188\n",
      "D:/00_NCSU/00_Resources/00_Datasets/PSA-oak-d-images/NC_10_09_2020\\2020_10_09_11_33_58\\62ae19b1-da22-4e48-9a62-e5ef0360e15a\\color.png\n",
      "17.745369140457612\n",
      "D:/00_NCSU/00_Resources/00_Datasets/PSA-oak-d-images/NC_10_09_2020\\2020_10_09_11_33_58\\7e034fd1-e5b3-4c3b-9508-bddd660e49fb\\color.png\n",
      "21.8785514227172\n",
      "D:/00_NCSU/00_Resources/00_Datasets/PSA-oak-d-images/NC_10_09_2020\\2020_10_09_11_33_58\\a2bbe659-daa6-4ca4-a958-af6cd0bedf4a\\color.png\n",
      "19.79932660402773\n",
      "D:/00_NCSU/00_Resources/00_Datasets/PSA-oak-d-images/NC_10_09_2020\\2020_10_09_11_33_58\\e8b1b7cd-19c0-4b03-8c5b-6aee86bad6e1\\color.png\n",
      "18.311365818257215\n",
      "D:/00_NCSU/00_Resources/00_Datasets/PSA-oak-d-images/NC_10_09_2020\\2020_10_09_11_33_58\\f9ad8194-3eed-43f6-b2f9-a17df3853c61\\color.png\n",
      "18.65922949484812\n",
      "D:/00_NCSU/00_Resources/00_Datasets/PSA-oak-d-images/NC_10_09_2020\\2020_10_09_11_33_58\\fffc49da-331e-4302-b848-d8564c9af9fc\\color.png\n",
      "18.498593969973456\n",
      "D:/00_NCSU/00_Resources/00_Datasets/PSA-oak-d-images/NC_10_09_2020\\2020_10_09_11_34_38\\4c767b2f-f798-42b8-a80a-17214ab0f32b\\color.png\n",
      "10.332254114357815\n",
      "D:/00_NCSU/00_Resources/00_Datasets/PSA-oak-d-images/NC_10_09_2020\\2020_10_09_11_34_38\\514ef1e5-7fa0-4e96-aaf2-d5ddc216277a\\color.png\n",
      "10.390247107708836\n",
      "D:/00_NCSU/00_Resources/00_Datasets/PSA-oak-d-images/NC_10_09_2020\\2020_10_09_11_34_38\\cae94721-af31-45d7-9e1f-678903747f89\\color.png\n",
      "11.718645365596759\n",
      "D:/00_NCSU/00_Resources/00_Datasets/PSA-oak-d-images/NC_10_09_2020\\2020_10_09_11_34_38\\e89214f6-2f9c-4914-90ec-fa062e541836\\color.png\n",
      "11.049932047733233\n",
      "D:/00_NCSU/00_Resources/00_Datasets/PSA-oak-d-images/NC_10_09_2020\\2020_10_09_11_34_38\\f083b525-7d2b-4d27-a822-2a692c3e20b5\\color.png\n",
      "9.989860946933877\n",
      "D:/00_NCSU/00_Resources/00_Datasets/PSA-oak-d-images/NC_10_09_2020\\2020_10_09_11_34_38\\fd22376c-11df-4325-b1bc-1a85b647a755\\color.png\n",
      "11.39613350409742\n",
      "D:/00_NCSU/00_Resources/00_Datasets/PSA-oak-d-images/NC_10_09_2020\\2020_10_09_11_40_49\\126125d5-d735-4244-afbd-3699b5968ef4\\color.png\n",
      "11.05017310736208\n",
      "D:/00_NCSU/00_Resources/00_Datasets/PSA-oak-d-images/NC_10_09_2020\\2020_10_09_11_40_49\\71076bf4-bce1-444f-a504-46383a114c78\\color.png\n",
      "9.826569144880354\n",
      "D:/00_NCSU/00_Resources/00_Datasets/PSA-oak-d-images/NC_10_09_2020\\2020_10_09_11_40_49\\c39a678b-b047-4974-8997-f1cdef7f968e\\color.png\n",
      "16.425877965503027\n",
      "D:/00_NCSU/00_Resources/00_Datasets/PSA-oak-d-images/NC_10_09_2020\\2020_10_09_11_41_47\\7f70da1c-16f8-4793-8c19-3e241d6183b6\\color.png\n",
      "14.41713171959684\n",
      "D:/00_NCSU/00_Resources/00_Datasets/PSA-oak-d-images/NC_10_09_2020\\2020_10_09_11_47_33\\2619d141-6ce2-4d76-b223-026117630a4e\\color.png\n",
      "12.743367855137295\n",
      "D:/00_NCSU/00_Resources/00_Datasets/PSA-oak-d-images/NC_10_09_2020\\2020_10_09_11_47_33\\2c43ae34-a38b-4cd4-a2ad-84c14550cc11\\color.png\n",
      "12.93786670680658\n",
      "D:/00_NCSU/00_Resources/00_Datasets/PSA-oak-d-images/NC_10_09_2020\\2020_10_09_11_47_33\\42aa9249-4e8f-4a46-8d66-b7391ae92389\\color.png\n",
      "12.812731503281796\n",
      "D:/00_NCSU/00_Resources/00_Datasets/PSA-oak-d-images/NC_10_09_2020\\2020_10_09_11_47_33\\5bb7dd81-c71d-4f8d-bdc9-9f06fd7426ad\\color.png\n",
      "12.349301011087155\n",
      "D:/00_NCSU/00_Resources/00_Datasets/PSA-oak-d-images/NC_10_09_2020\\2020_10_09_11_47_33\\674ca559-8bfd-4a6e-927b-77d84de59184\\color.png\n",
      "12.721763231442752\n",
      "D:/00_NCSU/00_Resources/00_Datasets/PSA-oak-d-images/NC_10_09_2020\\2020_10_09_11_47_33\\6c617ff1-f9f5-42ec-b95b-46df084f2688\\color.png\n"
     ]
    },
    {
     "name": "stdout",
     "output_type": "stream",
     "text": [
      "12.78637374170967\n",
      "D:/00_NCSU/00_Resources/00_Datasets/PSA-oak-d-images/NC_10_09_2020\\2020_10_09_11_47_33\\6fa3d4e1-910e-4550-a693-7b10166d2169\\color.png\n",
      "12.574315486667807\n",
      "D:/00_NCSU/00_Resources/00_Datasets/PSA-oak-d-images/NC_10_09_2020\\2020_10_09_11_47_33\\75276614-2457-4d33-93ff-aba08de80623\\color.png\n",
      "27.14603472850235\n",
      "D:/00_NCSU/00_Resources/00_Datasets/PSA-oak-d-images/NC_10_09_2020\\2020_10_09_11_48_22\\2747920f-53df-4209-9a7a-1629860c0e5f\\color.png\n",
      "9.949527991114232\n",
      "D:/00_NCSU/00_Resources/00_Datasets/PSA-oak-d-images/NC_10_09_2020\\2020_10_09_11_48_22\\3c2ce4dc-6ece-4664-be6b-8ba481d6f336\\color.png\n",
      "9.942653036501387\n",
      "D:/00_NCSU/00_Resources/00_Datasets/PSA-oak-d-images/NC_10_09_2020\\2020_10_09_11_48_22\\50995317-5ee0-4a29-97d8-8f8a4fe55a90\\color.png\n",
      "10.846077538859346\n",
      "D:/00_NCSU/00_Resources/00_Datasets/PSA-oak-d-images/NC_10_09_2020\\2020_10_09_11_48_22\\73ca02fc-8795-4091-a50c-29ab14fd6e86\\color.png\n",
      "10.932122463543903\n",
      "D:/00_NCSU/00_Resources/00_Datasets/PSA-oak-d-images/NC_10_09_2020\\2020_10_09_11_48_22\\c38a82fc-302e-41ef-8efa-d5072150c505\\color.png\n",
      "10.916049925223845\n",
      "D:/00_NCSU/00_Resources/00_Datasets/PSA-oak-d-images/NC_10_09_2020\\2020_10_09_11_48_22\\c5512cee-a37c-4c34-812a-5c2692df3fdc\\color.png\n",
      "10.147875123233646\n",
      "D:/00_NCSU/00_Resources/00_Datasets/PSA-oak-d-images/NC_10_09_2020\\2020_10_09_11_48_22\\d7b76565-bf9b-4570-9f32-95f99ca72d1e\\color.png\n",
      "9.78367431071954\n",
      "D:/00_NCSU/00_Resources/00_Datasets/PSA-oak-d-images/NC_10_09_2020\\2020_10_09_11_48_22\\d87c2514-0ac2-4a85-9496-d44f55610eba\\color.png\n",
      "9.599384770330962\n",
      "D:/00_NCSU/00_Resources/00_Datasets/PSA-oak-d-images/NC_10_09_2020\\2020_10_09_11_48_22\\f61bc7fe-4a00-40af-9c6e-b8304683ddf4\\color.png\n",
      "11.241785697141925\n"
     ]
    },
    {
     "ename": "NameError",
     "evalue": "name 'paths' is not defined",
     "output_type": "error",
     "traceback": [
      "\u001b[1;31m---------------------------------------------------------------------------\u001b[0m",
      "\u001b[1;31mNameError\u001b[0m                                 Traceback (most recent call last)",
      "\u001b[1;32m<ipython-input-13-5d753c5cb59e>\u001b[0m in \u001b[0;36m<module>\u001b[1;34m\u001b[0m\n\u001b[0;32m      1\u001b[0m \u001b[0mcalc_vol\u001b[0m\u001b[1;33m=\u001b[0m\u001b[0mCalcVolume\u001b[0m\u001b[1;33m(\u001b[0m\u001b[0minput_path\u001b[0m\u001b[1;33m)\u001b[0m\u001b[1;33m\u001b[0m\u001b[1;33m\u001b[0m\u001b[0m\n\u001b[1;32m----> 2\u001b[1;33m \u001b[0mdat\u001b[0m\u001b[1;33m=\u001b[0m\u001b[0mcalc_vol\u001b[0m\u001b[1;33m.\u001b[0m\u001b[0mpipeline\u001b[0m\u001b[1;33m(\u001b[0m\u001b[1;33m)\u001b[0m\u001b[1;33m\u001b[0m\u001b[1;33m\u001b[0m\u001b[0m\n\u001b[0m\u001b[0;32m      3\u001b[0m \u001b[1;31m# calc_vol.data.to_csv(args.input_path+'features.csv')\u001b[0m\u001b[1;33m\u001b[0m\u001b[1;33m\u001b[0m\u001b[1;33m\u001b[0m\u001b[0m\n",
      "\u001b[1;32m<ipython-input-12-4d73552179a5>\u001b[0m in \u001b[0;36mpipeline\u001b[1;34m(self)\u001b[0m\n\u001b[0;32m    274\u001b[0m             \u001b[0mheights\u001b[0m\u001b[1;33m.\u001b[0m\u001b[0mappend\u001b[0m\u001b[1;33m(\u001b[0m\u001b[0mheight_arrays\u001b[0m\u001b[1;33m[\u001b[0m\u001b[1;36m0\u001b[0m\u001b[1;33m]\u001b[0m\u001b[1;33m)\u001b[0m\u001b[1;33m\u001b[0m\u001b[1;33m\u001b[0m\u001b[0m\n\u001b[0;32m    275\u001b[0m             \u001b[0mmeans\u001b[0m\u001b[1;33m.\u001b[0m\u001b[0mappend\u001b[0m\u001b[1;33m(\u001b[0m\u001b[0mmean_heights\u001b[0m\u001b[1;33m)\u001b[0m\u001b[1;33m\u001b[0m\u001b[1;33m\u001b[0m\u001b[0m\n\u001b[1;32m--> 276\u001b[1;33m         \u001b[0mdat\u001b[0m\u001b[1;33m=\u001b[0m\u001b[1;33m[\u001b[0m\u001b[0mpaths\u001b[0m\u001b[1;33m,\u001b[0m\u001b[0mheights\u001b[0m\u001b[1;33m,\u001b[0m\u001b[0mmeans\u001b[0m\u001b[1;33m,\u001b[0m\u001b[0mvols\u001b[0m\u001b[1;33m]\u001b[0m\u001b[1;33m\u001b[0m\u001b[1;33m\u001b[0m\u001b[0m\n\u001b[0m\u001b[0;32m    277\u001b[0m \u001b[1;31m#         self.data = pd.DataFrame(dat, columns =['Paths', 'Heights', 'Means', 'Vols'])\u001b[0m\u001b[1;33m\u001b[0m\u001b[1;33m\u001b[0m\u001b[1;33m\u001b[0m\u001b[0m\n\u001b[0;32m    278\u001b[0m         \u001b[1;32mreturn\u001b[0m \u001b[0mdat\u001b[0m\u001b[1;33m\u001b[0m\u001b[1;33m\u001b[0m\u001b[0m\n",
      "\u001b[1;31mNameError\u001b[0m: name 'paths' is not defined"
     ]
    },
    {
     "data": {
      "text/plain": [
       "<Figure size 720x432 with 0 Axes>"
      ]
     },
     "metadata": {},
     "output_type": "display_data"
    },
    {
     "data": {
      "text/plain": [
       "<Figure size 720x432 with 0 Axes>"
      ]
     },
     "metadata": {},
     "output_type": "display_data"
    },
    {
     "data": {
      "text/plain": [
       "<Figure size 720x432 with 0 Axes>"
      ]
     },
     "metadata": {},
     "output_type": "display_data"
    },
    {
     "data": {
      "text/plain": [
       "<Figure size 720x432 with 0 Axes>"
      ]
     },
     "metadata": {},
     "output_type": "display_data"
    },
    {
     "data": {
      "text/plain": [
       "<Figure size 720x432 with 0 Axes>"
      ]
     },
     "metadata": {},
     "output_type": "display_data"
    },
    {
     "data": {
      "text/plain": [
       "<Figure size 720x432 with 0 Axes>"
      ]
     },
     "metadata": {},
     "output_type": "display_data"
    },
    {
     "data": {
      "text/plain": [
       "<Figure size 720x432 with 0 Axes>"
      ]
     },
     "metadata": {},
     "output_type": "display_data"
    },
    {
     "data": {
      "text/plain": [
       "<Figure size 720x432 with 0 Axes>"
      ]
     },
     "metadata": {},
     "output_type": "display_data"
    },
    {
     "data": {
      "text/plain": [
       "<Figure size 720x432 with 0 Axes>"
      ]
     },
     "metadata": {},
     "output_type": "display_data"
    },
    {
     "data": {
      "text/plain": [
       "<Figure size 720x432 with 0 Axes>"
      ]
     },
     "metadata": {},
     "output_type": "display_data"
    },
    {
     "data": {
      "text/plain": [
       "<Figure size 720x432 with 0 Axes>"
      ]
     },
     "metadata": {},
     "output_type": "display_data"
    },
    {
     "data": {
      "text/plain": [
       "<Figure size 720x432 with 0 Axes>"
      ]
     },
     "metadata": {},
     "output_type": "display_data"
    },
    {
     "data": {
      "text/plain": [
       "<Figure size 720x432 with 0 Axes>"
      ]
     },
     "metadata": {},
     "output_type": "display_data"
    },
    {
     "data": {
      "text/plain": [
       "<Figure size 720x432 with 0 Axes>"
      ]
     },
     "metadata": {},
     "output_type": "display_data"
    },
    {
     "data": {
      "text/plain": [
       "<Figure size 720x432 with 0 Axes>"
      ]
     },
     "metadata": {},
     "output_type": "display_data"
    },
    {
     "data": {
      "text/plain": [
       "<Figure size 720x432 with 0 Axes>"
      ]
     },
     "metadata": {},
     "output_type": "display_data"
    },
    {
     "data": {
      "text/plain": [
       "<Figure size 720x432 with 0 Axes>"
      ]
     },
     "metadata": {},
     "output_type": "display_data"
    },
    {
     "data": {
      "text/plain": [
       "<Figure size 720x432 with 0 Axes>"
      ]
     },
     "metadata": {},
     "output_type": "display_data"
    },
    {
     "data": {
      "text/plain": [
       "<Figure size 720x432 with 0 Axes>"
      ]
     },
     "metadata": {},
     "output_type": "display_data"
    },
    {
     "data": {
      "text/plain": [
       "<Figure size 720x432 with 0 Axes>"
      ]
     },
     "metadata": {},
     "output_type": "display_data"
    },
    {
     "data": {
      "text/plain": [
       "<Figure size 720x432 with 0 Axes>"
      ]
     },
     "metadata": {},
     "output_type": "display_data"
    },
    {
     "data": {
      "text/plain": [
       "<Figure size 720x432 with 0 Axes>"
      ]
     },
     "metadata": {},
     "output_type": "display_data"
    },
    {
     "data": {
      "text/plain": [
       "<Figure size 720x432 with 0 Axes>"
      ]
     },
     "metadata": {},
     "output_type": "display_data"
    },
    {
     "data": {
      "text/plain": [
       "<Figure size 720x432 with 0 Axes>"
      ]
     },
     "metadata": {},
     "output_type": "display_data"
    },
    {
     "data": {
      "text/plain": [
       "<Figure size 720x432 with 0 Axes>"
      ]
     },
     "metadata": {},
     "output_type": "display_data"
    },
    {
     "data": {
      "text/plain": [
       "<Figure size 720x432 with 0 Axes>"
      ]
     },
     "metadata": {},
     "output_type": "display_data"
    },
    {
     "data": {
      "text/plain": [
       "<Figure size 720x432 with 0 Axes>"
      ]
     },
     "metadata": {},
     "output_type": "display_data"
    },
    {
     "data": {
      "text/plain": [
       "<Figure size 720x432 with 0 Axes>"
      ]
     },
     "metadata": {},
     "output_type": "display_data"
    },
    {
     "data": {
      "text/plain": [
       "<Figure size 720x432 with 0 Axes>"
      ]
     },
     "metadata": {},
     "output_type": "display_data"
    },
    {
     "data": {
      "text/plain": [
       "<Figure size 720x432 with 0 Axes>"
      ]
     },
     "metadata": {},
     "output_type": "display_data"
    },
    {
     "data": {
      "text/plain": [
       "<Figure size 720x432 with 0 Axes>"
      ]
     },
     "metadata": {},
     "output_type": "display_data"
    },
    {
     "data": {
      "text/plain": [
       "<Figure size 720x432 with 0 Axes>"
      ]
     },
     "metadata": {},
     "output_type": "display_data"
    },
    {
     "data": {
      "text/plain": [
       "<Figure size 720x432 with 0 Axes>"
      ]
     },
     "metadata": {},
     "output_type": "display_data"
    },
    {
     "data": {
      "text/plain": [
       "<Figure size 720x432 with 0 Axes>"
      ]
     },
     "metadata": {},
     "output_type": "display_data"
    },
    {
     "data": {
      "text/plain": [
       "<Figure size 720x432 with 0 Axes>"
      ]
     },
     "metadata": {},
     "output_type": "display_data"
    },
    {
     "data": {
      "text/plain": [
       "<Figure size 720x432 with 0 Axes>"
      ]
     },
     "metadata": {},
     "output_type": "display_data"
    },
    {
     "data": {
      "text/plain": [
       "<Figure size 720x432 with 0 Axes>"
      ]
     },
     "metadata": {},
     "output_type": "display_data"
    },
    {
     "data": {
      "text/plain": [
       "<Figure size 720x432 with 0 Axes>"
      ]
     },
     "metadata": {},
     "output_type": "display_data"
    },
    {
     "data": {
      "text/plain": [
       "<Figure size 720x432 with 0 Axes>"
      ]
     },
     "metadata": {},
     "output_type": "display_data"
    },
    {
     "data": {
      "text/plain": [
       "<Figure size 720x432 with 0 Axes>"
      ]
     },
     "metadata": {},
     "output_type": "display_data"
    },
    {
     "data": {
      "text/plain": [
       "<Figure size 720x432 with 0 Axes>"
      ]
     },
     "metadata": {},
     "output_type": "display_data"
    },
    {
     "data": {
      "text/plain": [
       "<Figure size 720x432 with 0 Axes>"
      ]
     },
     "metadata": {},
     "output_type": "display_data"
    },
    {
     "data": {
      "text/plain": [
       "<Figure size 720x432 with 0 Axes>"
      ]
     },
     "metadata": {},
     "output_type": "display_data"
    },
    {
     "data": {
      "text/plain": [
       "<Figure size 720x432 with 0 Axes>"
      ]
     },
     "metadata": {},
     "output_type": "display_data"
    },
    {
     "data": {
      "text/plain": [
       "<Figure size 720x432 with 0 Axes>"
      ]
     },
     "metadata": {},
     "output_type": "display_data"
    },
    {
     "data": {
      "text/plain": [
       "<Figure size 720x432 with 0 Axes>"
      ]
     },
     "metadata": {},
     "output_type": "display_data"
    },
    {
     "data": {
      "text/plain": [
       "<Figure size 720x432 with 0 Axes>"
      ]
     },
     "metadata": {},
     "output_type": "display_data"
    },
    {
     "data": {
      "text/plain": [
       "<Figure size 720x432 with 0 Axes>"
      ]
     },
     "metadata": {},
     "output_type": "display_data"
    },
    {
     "data": {
      "text/plain": [
       "<Figure size 720x432 with 0 Axes>"
      ]
     },
     "metadata": {},
     "output_type": "display_data"
    },
    {
     "data": {
      "text/plain": [
       "<Figure size 720x432 with 0 Axes>"
      ]
     },
     "metadata": {},
     "output_type": "display_data"
    },
    {
     "data": {
      "text/plain": [
       "<Figure size 720x432 with 0 Axes>"
      ]
     },
     "metadata": {},
     "output_type": "display_data"
    },
    {
     "data": {
      "text/plain": [
       "<Figure size 720x432 with 0 Axes>"
      ]
     },
     "metadata": {},
     "output_type": "display_data"
    },
    {
     "data": {
      "text/plain": [
       "<Figure size 720x432 with 0 Axes>"
      ]
     },
     "metadata": {},
     "output_type": "display_data"
    },
    {
     "data": {
      "text/plain": [
       "<Figure size 720x432 with 0 Axes>"
      ]
     },
     "metadata": {},
     "output_type": "display_data"
    },
    {
     "data": {
      "text/plain": [
       "<Figure size 720x432 with 0 Axes>"
      ]
     },
     "metadata": {},
     "output_type": "display_data"
    },
    {
     "data": {
      "text/plain": [
       "<Figure size 720x432 with 0 Axes>"
      ]
     },
     "metadata": {},
     "output_type": "display_data"
    },
    {
     "data": {
      "text/plain": [
       "<Figure size 720x432 with 0 Axes>"
      ]
     },
     "metadata": {},
     "output_type": "display_data"
    },
    {
     "data": {
      "text/plain": [
       "<Figure size 720x432 with 0 Axes>"
      ]
     },
     "metadata": {},
     "output_type": "display_data"
    },
    {
     "data": {
      "text/plain": [
       "<Figure size 720x432 with 0 Axes>"
      ]
     },
     "metadata": {},
     "output_type": "display_data"
    },
    {
     "data": {
      "text/plain": [
       "<Figure size 720x432 with 0 Axes>"
      ]
     },
     "metadata": {},
     "output_type": "display_data"
    },
    {
     "data": {
      "text/plain": [
       "<Figure size 720x432 with 0 Axes>"
      ]
     },
     "metadata": {},
     "output_type": "display_data"
    },
    {
     "data": {
      "text/plain": [
       "<Figure size 720x432 with 0 Axes>"
      ]
     },
     "metadata": {},
     "output_type": "display_data"
    },
    {
     "data": {
      "text/plain": [
       "<Figure size 720x432 with 0 Axes>"
      ]
     },
     "metadata": {},
     "output_type": "display_data"
    },
    {
     "data": {
      "text/plain": [
       "<Figure size 720x432 with 0 Axes>"
      ]
     },
     "metadata": {},
     "output_type": "display_data"
    },
    {
     "data": {
      "text/plain": [
       "<Figure size 720x432 with 0 Axes>"
      ]
     },
     "metadata": {},
     "output_type": "display_data"
    },
    {
     "data": {
      "text/plain": [
       "<Figure size 720x432 with 0 Axes>"
      ]
     },
     "metadata": {},
     "output_type": "display_data"
    },
    {
     "data": {
      "text/plain": [
       "<Figure size 720x432 with 0 Axes>"
      ]
     },
     "metadata": {},
     "output_type": "display_data"
    },
    {
     "data": {
      "text/plain": [
       "<Figure size 720x432 with 0 Axes>"
      ]
     },
     "metadata": {},
     "output_type": "display_data"
    },
    {
     "data": {
      "text/plain": [
       "<Figure size 720x432 with 0 Axes>"
      ]
     },
     "metadata": {},
     "output_type": "display_data"
    },
    {
     "data": {
      "text/plain": [
       "<Figure size 720x432 with 0 Axes>"
      ]
     },
     "metadata": {},
     "output_type": "display_data"
    },
    {
     "data": {
      "text/plain": [
       "<Figure size 720x432 with 0 Axes>"
      ]
     },
     "metadata": {},
     "output_type": "display_data"
    },
    {
     "data": {
      "text/plain": [
       "<Figure size 720x432 with 0 Axes>"
      ]
     },
     "metadata": {},
     "output_type": "display_data"
    },
    {
     "data": {
      "text/plain": [
       "<Figure size 720x432 with 0 Axes>"
      ]
     },
     "metadata": {},
     "output_type": "display_data"
    },
    {
     "data": {
      "text/plain": [
       "<Figure size 720x432 with 0 Axes>"
      ]
     },
     "metadata": {},
     "output_type": "display_data"
    },
    {
     "data": {
      "text/plain": [
       "<Figure size 720x432 with 0 Axes>"
      ]
     },
     "metadata": {},
     "output_type": "display_data"
    },
    {
     "data": {
      "text/plain": [
       "<Figure size 720x432 with 0 Axes>"
      ]
     },
     "metadata": {},
     "output_type": "display_data"
    },
    {
     "data": {
      "text/plain": [
       "<Figure size 720x432 with 0 Axes>"
      ]
     },
     "metadata": {},
     "output_type": "display_data"
    },
    {
     "data": {
      "text/plain": [
       "<Figure size 720x432 with 0 Axes>"
      ]
     },
     "metadata": {},
     "output_type": "display_data"
    },
    {
     "data": {
      "text/plain": [
       "<Figure size 720x432 with 0 Axes>"
      ]
     },
     "metadata": {},
     "output_type": "display_data"
    },
    {
     "data": {
      "text/plain": [
       "<Figure size 720x432 with 0 Axes>"
      ]
     },
     "metadata": {},
     "output_type": "display_data"
    },
    {
     "data": {
      "text/plain": [
       "<Figure size 720x432 with 0 Axes>"
      ]
     },
     "metadata": {},
     "output_type": "display_data"
    },
    {
     "data": {
      "text/plain": [
       "<Figure size 720x432 with 0 Axes>"
      ]
     },
     "metadata": {},
     "output_type": "display_data"
    },
    {
     "data": {
      "text/plain": [
       "<Figure size 720x432 with 0 Axes>"
      ]
     },
     "metadata": {},
     "output_type": "display_data"
    },
    {
     "data": {
      "text/plain": [
       "<Figure size 720x432 with 0 Axes>"
      ]
     },
     "metadata": {},
     "output_type": "display_data"
    },
    {
     "data": {
      "text/plain": [
       "<Figure size 720x432 with 0 Axes>"
      ]
     },
     "metadata": {},
     "output_type": "display_data"
    },
    {
     "data": {
      "text/plain": [
       "<Figure size 720x432 with 0 Axes>"
      ]
     },
     "metadata": {},
     "output_type": "display_data"
    },
    {
     "data": {
      "text/plain": [
       "<Figure size 720x432 with 0 Axes>"
      ]
     },
     "metadata": {},
     "output_type": "display_data"
    },
    {
     "data": {
      "text/plain": [
       "<Figure size 720x432 with 0 Axes>"
      ]
     },
     "metadata": {},
     "output_type": "display_data"
    },
    {
     "data": {
      "text/plain": [
       "<Figure size 720x432 with 0 Axes>"
      ]
     },
     "metadata": {},
     "output_type": "display_data"
    },
    {
     "data": {
      "text/plain": [
       "<Figure size 720x432 with 0 Axes>"
      ]
     },
     "metadata": {},
     "output_type": "display_data"
    },
    {
     "data": {
      "text/plain": [
       "<Figure size 720x432 with 0 Axes>"
      ]
     },
     "metadata": {},
     "output_type": "display_data"
    },
    {
     "data": {
      "text/plain": [
       "<Figure size 720x432 with 0 Axes>"
      ]
     },
     "metadata": {},
     "output_type": "display_data"
    },
    {
     "data": {
      "text/plain": [
       "<Figure size 720x432 with 0 Axes>"
      ]
     },
     "metadata": {},
     "output_type": "display_data"
    },
    {
     "data": {
      "text/plain": [
       "<Figure size 720x432 with 0 Axes>"
      ]
     },
     "metadata": {},
     "output_type": "display_data"
    },
    {
     "data": {
      "text/plain": [
       "<Figure size 720x432 with 0 Axes>"
      ]
     },
     "metadata": {},
     "output_type": "display_data"
    },
    {
     "data": {
      "text/plain": [
       "<Figure size 720x432 with 0 Axes>"
      ]
     },
     "metadata": {},
     "output_type": "display_data"
    },
    {
     "data": {
      "text/plain": [
       "<Figure size 720x432 with 0 Axes>"
      ]
     },
     "metadata": {},
     "output_type": "display_data"
    },
    {
     "data": {
      "text/plain": [
       "<Figure size 720x432 with 0 Axes>"
      ]
     },
     "metadata": {},
     "output_type": "display_data"
    },
    {
     "data": {
      "text/plain": [
       "<Figure size 720x432 with 0 Axes>"
      ]
     },
     "metadata": {},
     "output_type": "display_data"
    },
    {
     "data": {
      "text/plain": [
       "<Figure size 720x432 with 0 Axes>"
      ]
     },
     "metadata": {},
     "output_type": "display_data"
    },
    {
     "data": {
      "text/plain": [
       "<Figure size 720x432 with 0 Axes>"
      ]
     },
     "metadata": {},
     "output_type": "display_data"
    },
    {
     "data": {
      "text/plain": [
       "<Figure size 720x432 with 0 Axes>"
      ]
     },
     "metadata": {},
     "output_type": "display_data"
    },
    {
     "data": {
      "text/plain": [
       "<Figure size 720x432 with 0 Axes>"
      ]
     },
     "metadata": {},
     "output_type": "display_data"
    },
    {
     "data": {
      "text/plain": [
       "<Figure size 720x432 with 0 Axes>"
      ]
     },
     "metadata": {},
     "output_type": "display_data"
    },
    {
     "data": {
      "text/plain": [
       "<Figure size 720x432 with 0 Axes>"
      ]
     },
     "metadata": {},
     "output_type": "display_data"
    },
    {
     "data": {
      "text/plain": [
       "<Figure size 720x432 with 0 Axes>"
      ]
     },
     "metadata": {},
     "output_type": "display_data"
    },
    {
     "data": {
      "text/plain": [
       "<Figure size 720x432 with 0 Axes>"
      ]
     },
     "metadata": {},
     "output_type": "display_data"
    },
    {
     "data": {
      "text/plain": [
       "<Figure size 720x432 with 0 Axes>"
      ]
     },
     "metadata": {},
     "output_type": "display_data"
    },
    {
     "data": {
      "text/plain": [
       "<Figure size 720x432 with 0 Axes>"
      ]
     },
     "metadata": {},
     "output_type": "display_data"
    },
    {
     "data": {
      "text/plain": [
       "<Figure size 720x432 with 0 Axes>"
      ]
     },
     "metadata": {},
     "output_type": "display_data"
    },
    {
     "data": {
      "text/plain": [
       "<Figure size 720x432 with 0 Axes>"
      ]
     },
     "metadata": {},
     "output_type": "display_data"
    },
    {
     "data": {
      "text/plain": [
       "<Figure size 720x432 with 0 Axes>"
      ]
     },
     "metadata": {},
     "output_type": "display_data"
    },
    {
     "data": {
      "text/plain": [
       "<Figure size 720x432 with 0 Axes>"
      ]
     },
     "metadata": {},
     "output_type": "display_data"
    },
    {
     "data": {
      "text/plain": [
       "<Figure size 720x432 with 0 Axes>"
      ]
     },
     "metadata": {},
     "output_type": "display_data"
    },
    {
     "data": {
      "text/plain": [
       "<Figure size 720x432 with 0 Axes>"
      ]
     },
     "metadata": {},
     "output_type": "display_data"
    },
    {
     "data": {
      "text/plain": [
       "<Figure size 720x432 with 0 Axes>"
      ]
     },
     "metadata": {},
     "output_type": "display_data"
    },
    {
     "data": {
      "text/plain": [
       "<Figure size 720x432 with 0 Axes>"
      ]
     },
     "metadata": {},
     "output_type": "display_data"
    },
    {
     "data": {
      "text/plain": [
       "<Figure size 720x432 with 0 Axes>"
      ]
     },
     "metadata": {},
     "output_type": "display_data"
    },
    {
     "data": {
      "text/plain": [
       "<Figure size 720x432 with 0 Axes>"
      ]
     },
     "metadata": {},
     "output_type": "display_data"
    },
    {
     "data": {
      "text/plain": [
       "<Figure size 720x432 with 0 Axes>"
      ]
     },
     "metadata": {},
     "output_type": "display_data"
    },
    {
     "data": {
      "text/plain": [
       "<Figure size 720x432 with 0 Axes>"
      ]
     },
     "metadata": {},
     "output_type": "display_data"
    },
    {
     "data": {
      "text/plain": [
       "<Figure size 720x432 with 0 Axes>"
      ]
     },
     "metadata": {},
     "output_type": "display_data"
    },
    {
     "data": {
      "text/plain": [
       "<Figure size 720x432 with 0 Axes>"
      ]
     },
     "metadata": {},
     "output_type": "display_data"
    },
    {
     "data": {
      "text/plain": [
       "<Figure size 720x432 with 0 Axes>"
      ]
     },
     "metadata": {},
     "output_type": "display_data"
    },
    {
     "data": {
      "text/plain": [
       "<Figure size 720x432 with 0 Axes>"
      ]
     },
     "metadata": {},
     "output_type": "display_data"
    },
    {
     "data": {
      "text/plain": [
       "<Figure size 720x432 with 0 Axes>"
      ]
     },
     "metadata": {},
     "output_type": "display_data"
    },
    {
     "data": {
      "text/plain": [
       "<Figure size 720x432 with 0 Axes>"
      ]
     },
     "metadata": {},
     "output_type": "display_data"
    },
    {
     "data": {
      "text/plain": [
       "<Figure size 720x432 with 0 Axes>"
      ]
     },
     "metadata": {},
     "output_type": "display_data"
    },
    {
     "data": {
      "text/plain": [
       "<Figure size 720x432 with 0 Axes>"
      ]
     },
     "metadata": {},
     "output_type": "display_data"
    },
    {
     "data": {
      "text/plain": [
       "<Figure size 720x432 with 0 Axes>"
      ]
     },
     "metadata": {},
     "output_type": "display_data"
    },
    {
     "data": {
      "text/plain": [
       "<Figure size 720x432 with 0 Axes>"
      ]
     },
     "metadata": {},
     "output_type": "display_data"
    },
    {
     "data": {
      "text/plain": [
       "<Figure size 720x432 with 0 Axes>"
      ]
     },
     "metadata": {},
     "output_type": "display_data"
    },
    {
     "data": {
      "text/plain": [
       "<Figure size 720x432 with 0 Axes>"
      ]
     },
     "metadata": {},
     "output_type": "display_data"
    },
    {
     "data": {
      "text/plain": [
       "<Figure size 720x432 with 0 Axes>"
      ]
     },
     "metadata": {},
     "output_type": "display_data"
    },
    {
     "data": {
      "text/plain": [
       "<Figure size 720x432 with 0 Axes>"
      ]
     },
     "metadata": {},
     "output_type": "display_data"
    },
    {
     "data": {
      "text/plain": [
       "<Figure size 720x432 with 0 Axes>"
      ]
     },
     "metadata": {},
     "output_type": "display_data"
    },
    {
     "data": {
      "text/plain": [
       "<Figure size 720x432 with 0 Axes>"
      ]
     },
     "metadata": {},
     "output_type": "display_data"
    },
    {
     "data": {
      "text/plain": [
       "<Figure size 720x432 with 0 Axes>"
      ]
     },
     "metadata": {},
     "output_type": "display_data"
    },
    {
     "data": {
      "text/plain": [
       "<Figure size 720x432 with 0 Axes>"
      ]
     },
     "metadata": {},
     "output_type": "display_data"
    },
    {
     "data": {
      "text/plain": [
       "<Figure size 720x432 with 0 Axes>"
      ]
     },
     "metadata": {},
     "output_type": "display_data"
    },
    {
     "data": {
      "text/plain": [
       "<Figure size 720x432 with 0 Axes>"
      ]
     },
     "metadata": {},
     "output_type": "display_data"
    },
    {
     "data": {
      "text/plain": [
       "<Figure size 720x432 with 0 Axes>"
      ]
     },
     "metadata": {},
     "output_type": "display_data"
    },
    {
     "data": {
      "text/plain": [
       "<Figure size 720x432 with 0 Axes>"
      ]
     },
     "metadata": {},
     "output_type": "display_data"
    },
    {
     "data": {
      "text/plain": [
       "<Figure size 720x432 with 0 Axes>"
      ]
     },
     "metadata": {},
     "output_type": "display_data"
    },
    {
     "data": {
      "text/plain": [
       "<Figure size 720x432 with 0 Axes>"
      ]
     },
     "metadata": {},
     "output_type": "display_data"
    },
    {
     "data": {
      "text/plain": [
       "<Figure size 720x432 with 0 Axes>"
      ]
     },
     "metadata": {},
     "output_type": "display_data"
    },
    {
     "data": {
      "text/plain": [
       "<Figure size 720x432 with 0 Axes>"
      ]
     },
     "metadata": {},
     "output_type": "display_data"
    },
    {
     "data": {
      "text/plain": [
       "<Figure size 720x432 with 0 Axes>"
      ]
     },
     "metadata": {},
     "output_type": "display_data"
    },
    {
     "data": {
      "text/plain": [
       "<Figure size 720x432 with 0 Axes>"
      ]
     },
     "metadata": {},
     "output_type": "display_data"
    },
    {
     "data": {
      "text/plain": [
       "<Figure size 720x432 with 0 Axes>"
      ]
     },
     "metadata": {},
     "output_type": "display_data"
    },
    {
     "data": {
      "text/plain": [
       "<Figure size 720x432 with 0 Axes>"
      ]
     },
     "metadata": {},
     "output_type": "display_data"
    },
    {
     "data": {
      "text/plain": [
       "<Figure size 720x432 with 0 Axes>"
      ]
     },
     "metadata": {},
     "output_type": "display_data"
    },
    {
     "data": {
      "text/plain": [
       "<Figure size 720x432 with 0 Axes>"
      ]
     },
     "metadata": {},
     "output_type": "display_data"
    },
    {
     "data": {
      "text/plain": [
       "<Figure size 720x432 with 0 Axes>"
      ]
     },
     "metadata": {},
     "output_type": "display_data"
    },
    {
     "data": {
      "text/plain": [
       "<Figure size 720x432 with 0 Axes>"
      ]
     },
     "metadata": {},
     "output_type": "display_data"
    },
    {
     "data": {
      "text/plain": [
       "<Figure size 720x432 with 0 Axes>"
      ]
     },
     "metadata": {},
     "output_type": "display_data"
    },
    {
     "data": {
      "text/plain": [
       "<Figure size 720x432 with 0 Axes>"
      ]
     },
     "metadata": {},
     "output_type": "display_data"
    },
    {
     "data": {
      "text/plain": [
       "<Figure size 720x432 with 0 Axes>"
      ]
     },
     "metadata": {},
     "output_type": "display_data"
    },
    {
     "data": {
      "text/plain": [
       "<Figure size 720x432 with 0 Axes>"
      ]
     },
     "metadata": {},
     "output_type": "display_data"
    },
    {
     "data": {
      "text/plain": [
       "<Figure size 720x432 with 0 Axes>"
      ]
     },
     "metadata": {},
     "output_type": "display_data"
    },
    {
     "data": {
      "text/plain": [
       "<Figure size 720x432 with 0 Axes>"
      ]
     },
     "metadata": {},
     "output_type": "display_data"
    },
    {
     "data": {
      "text/plain": [
       "<Figure size 720x432 with 0 Axes>"
      ]
     },
     "metadata": {},
     "output_type": "display_data"
    },
    {
     "data": {
      "text/plain": [
       "<Figure size 720x432 with 0 Axes>"
      ]
     },
     "metadata": {},
     "output_type": "display_data"
    },
    {
     "data": {
      "text/plain": [
       "<Figure size 720x432 with 0 Axes>"
      ]
     },
     "metadata": {},
     "output_type": "display_data"
    },
    {
     "data": {
      "text/plain": [
       "<Figure size 720x432 with 0 Axes>"
      ]
     },
     "metadata": {},
     "output_type": "display_data"
    },
    {
     "data": {
      "text/plain": [
       "<Figure size 720x432 with 0 Axes>"
      ]
     },
     "metadata": {},
     "output_type": "display_data"
    },
    {
     "data": {
      "text/plain": [
       "<Figure size 720x432 with 0 Axes>"
      ]
     },
     "metadata": {},
     "output_type": "display_data"
    },
    {
     "data": {
      "text/plain": [
       "<Figure size 720x432 with 0 Axes>"
      ]
     },
     "metadata": {},
     "output_type": "display_data"
    },
    {
     "data": {
      "text/plain": [
       "<Figure size 720x432 with 0 Axes>"
      ]
     },
     "metadata": {},
     "output_type": "display_data"
    },
    {
     "data": {
      "text/plain": [
       "<Figure size 720x432 with 0 Axes>"
      ]
     },
     "metadata": {},
     "output_type": "display_data"
    },
    {
     "data": {
      "text/plain": [
       "<Figure size 720x432 with 0 Axes>"
      ]
     },
     "metadata": {},
     "output_type": "display_data"
    },
    {
     "data": {
      "text/plain": [
       "<Figure size 720x432 with 0 Axes>"
      ]
     },
     "metadata": {},
     "output_type": "display_data"
    },
    {
     "data": {
      "text/plain": [
       "<Figure size 720x432 with 0 Axes>"
      ]
     },
     "metadata": {},
     "output_type": "display_data"
    },
    {
     "data": {
      "text/plain": [
       "<Figure size 720x432 with 0 Axes>"
      ]
     },
     "metadata": {},
     "output_type": "display_data"
    },
    {
     "data": {
      "text/plain": [
       "<Figure size 720x432 with 0 Axes>"
      ]
     },
     "metadata": {},
     "output_type": "display_data"
    },
    {
     "data": {
      "text/plain": [
       "<Figure size 720x432 with 0 Axes>"
      ]
     },
     "metadata": {},
     "output_type": "display_data"
    },
    {
     "data": {
      "text/plain": [
       "<Figure size 720x432 with 0 Axes>"
      ]
     },
     "metadata": {},
     "output_type": "display_data"
    },
    {
     "data": {
      "text/plain": [
       "<Figure size 720x432 with 0 Axes>"
      ]
     },
     "metadata": {},
     "output_type": "display_data"
    },
    {
     "data": {
      "text/plain": [
       "<Figure size 720x432 with 0 Axes>"
      ]
     },
     "metadata": {},
     "output_type": "display_data"
    },
    {
     "data": {
      "text/plain": [
       "<Figure size 720x432 with 0 Axes>"
      ]
     },
     "metadata": {},
     "output_type": "display_data"
    },
    {
     "data": {
      "text/plain": [
       "<Figure size 720x432 with 0 Axes>"
      ]
     },
     "metadata": {},
     "output_type": "display_data"
    },
    {
     "data": {
      "text/plain": [
       "<Figure size 720x432 with 0 Axes>"
      ]
     },
     "metadata": {},
     "output_type": "display_data"
    },
    {
     "data": {
      "text/plain": [
       "<Figure size 720x432 with 0 Axes>"
      ]
     },
     "metadata": {},
     "output_type": "display_data"
    },
    {
     "data": {
      "text/plain": [
       "<Figure size 720x432 with 0 Axes>"
      ]
     },
     "metadata": {},
     "output_type": "display_data"
    },
    {
     "data": {
      "text/plain": [
       "<Figure size 720x432 with 0 Axes>"
      ]
     },
     "metadata": {},
     "output_type": "display_data"
    },
    {
     "data": {
      "text/plain": [
       "<Figure size 720x432 with 0 Axes>"
      ]
     },
     "metadata": {},
     "output_type": "display_data"
    },
    {
     "data": {
      "text/plain": [
       "<Figure size 720x432 with 0 Axes>"
      ]
     },
     "metadata": {},
     "output_type": "display_data"
    },
    {
     "data": {
      "text/plain": [
       "<Figure size 720x432 with 0 Axes>"
      ]
     },
     "metadata": {},
     "output_type": "display_data"
    },
    {
     "data": {
      "text/plain": [
       "<Figure size 720x432 with 0 Axes>"
      ]
     },
     "metadata": {},
     "output_type": "display_data"
    },
    {
     "data": {
      "text/plain": [
       "<Figure size 720x432 with 0 Axes>"
      ]
     },
     "metadata": {},
     "output_type": "display_data"
    },
    {
     "data": {
      "text/plain": [
       "<Figure size 720x432 with 0 Axes>"
      ]
     },
     "metadata": {},
     "output_type": "display_data"
    },
    {
     "data": {
      "text/plain": [
       "<Figure size 720x432 with 0 Axes>"
      ]
     },
     "metadata": {},
     "output_type": "display_data"
    },
    {
     "data": {
      "text/plain": [
       "<Figure size 720x432 with 0 Axes>"
      ]
     },
     "metadata": {},
     "output_type": "display_data"
    },
    {
     "data": {
      "text/plain": [
       "<Figure size 720x432 with 0 Axes>"
      ]
     },
     "metadata": {},
     "output_type": "display_data"
    },
    {
     "data": {
      "text/plain": [
       "<Figure size 720x432 with 0 Axes>"
      ]
     },
     "metadata": {},
     "output_type": "display_data"
    },
    {
     "data": {
      "text/plain": [
       "<Figure size 720x432 with 0 Axes>"
      ]
     },
     "metadata": {},
     "output_type": "display_data"
    },
    {
     "data": {
      "text/plain": [
       "<Figure size 720x432 with 0 Axes>"
      ]
     },
     "metadata": {},
     "output_type": "display_data"
    },
    {
     "data": {
      "text/plain": [
       "<Figure size 720x432 with 0 Axes>"
      ]
     },
     "metadata": {},
     "output_type": "display_data"
    },
    {
     "data": {
      "text/plain": [
       "<Figure size 720x432 with 0 Axes>"
      ]
     },
     "metadata": {},
     "output_type": "display_data"
    },
    {
     "data": {
      "text/plain": [
       "<Figure size 720x432 with 0 Axes>"
      ]
     },
     "metadata": {},
     "output_type": "display_data"
    },
    {
     "data": {
      "text/plain": [
       "<Figure size 720x432 with 0 Axes>"
      ]
     },
     "metadata": {},
     "output_type": "display_data"
    },
    {
     "data": {
      "text/plain": [
       "<Figure size 720x432 with 0 Axes>"
      ]
     },
     "metadata": {},
     "output_type": "display_data"
    },
    {
     "data": {
      "text/plain": [
       "<Figure size 720x432 with 0 Axes>"
      ]
     },
     "metadata": {},
     "output_type": "display_data"
    },
    {
     "data": {
      "text/plain": [
       "<Figure size 720x432 with 0 Axes>"
      ]
     },
     "metadata": {},
     "output_type": "display_data"
    },
    {
     "data": {
      "text/plain": [
       "<Figure size 720x432 with 0 Axes>"
      ]
     },
     "metadata": {},
     "output_type": "display_data"
    },
    {
     "data": {
      "text/plain": [
       "<Figure size 720x432 with 0 Axes>"
      ]
     },
     "metadata": {},
     "output_type": "display_data"
    },
    {
     "data": {
      "text/plain": [
       "<Figure size 720x432 with 0 Axes>"
      ]
     },
     "metadata": {},
     "output_type": "display_data"
    },
    {
     "data": {
      "text/plain": [
       "<Figure size 720x432 with 0 Axes>"
      ]
     },
     "metadata": {},
     "output_type": "display_data"
    },
    {
     "data": {
      "text/plain": [
       "<Figure size 720x432 with 0 Axes>"
      ]
     },
     "metadata": {},
     "output_type": "display_data"
    },
    {
     "data": {
      "text/plain": [
       "<Figure size 720x432 with 0 Axes>"
      ]
     },
     "metadata": {},
     "output_type": "display_data"
    },
    {
     "data": {
      "text/plain": [
       "<Figure size 720x432 with 0 Axes>"
      ]
     },
     "metadata": {},
     "output_type": "display_data"
    },
    {
     "data": {
      "text/plain": [
       "<Figure size 720x432 with 0 Axes>"
      ]
     },
     "metadata": {},
     "output_type": "display_data"
    },
    {
     "data": {
      "text/plain": [
       "<Figure size 720x432 with 0 Axes>"
      ]
     },
     "metadata": {},
     "output_type": "display_data"
    },
    {
     "data": {
      "text/plain": [
       "<Figure size 720x432 with 0 Axes>"
      ]
     },
     "metadata": {},
     "output_type": "display_data"
    },
    {
     "data": {
      "text/plain": [
       "<Figure size 720x432 with 0 Axes>"
      ]
     },
     "metadata": {},
     "output_type": "display_data"
    },
    {
     "data": {
      "text/plain": [
       "<Figure size 720x432 with 0 Axes>"
      ]
     },
     "metadata": {},
     "output_type": "display_data"
    },
    {
     "data": {
      "text/plain": [
       "<Figure size 720x432 with 0 Axes>"
      ]
     },
     "metadata": {},
     "output_type": "display_data"
    },
    {
     "data": {
      "text/plain": [
       "<Figure size 720x432 with 0 Axes>"
      ]
     },
     "metadata": {},
     "output_type": "display_data"
    },
    {
     "data": {
      "text/plain": [
       "<Figure size 720x432 with 0 Axes>"
      ]
     },
     "metadata": {},
     "output_type": "display_data"
    },
    {
     "data": {
      "text/plain": [
       "<Figure size 720x432 with 0 Axes>"
      ]
     },
     "metadata": {},
     "output_type": "display_data"
    },
    {
     "data": {
      "text/plain": [
       "<Figure size 720x432 with 0 Axes>"
      ]
     },
     "metadata": {},
     "output_type": "display_data"
    },
    {
     "data": {
      "text/plain": [
       "<Figure size 720x432 with 0 Axes>"
      ]
     },
     "metadata": {},
     "output_type": "display_data"
    },
    {
     "data": {
      "text/plain": [
       "<Figure size 720x432 with 0 Axes>"
      ]
     },
     "metadata": {},
     "output_type": "display_data"
    },
    {
     "data": {
      "text/plain": [
       "<Figure size 720x432 with 0 Axes>"
      ]
     },
     "metadata": {},
     "output_type": "display_data"
    },
    {
     "data": {
      "text/plain": [
       "<Figure size 720x432 with 0 Axes>"
      ]
     },
     "metadata": {},
     "output_type": "display_data"
    },
    {
     "data": {
      "text/plain": [
       "<Figure size 720x432 with 0 Axes>"
      ]
     },
     "metadata": {},
     "output_type": "display_data"
    },
    {
     "data": {
      "text/plain": [
       "<Figure size 720x432 with 0 Axes>"
      ]
     },
     "metadata": {},
     "output_type": "display_data"
    },
    {
     "data": {
      "text/plain": [
       "<Figure size 720x432 with 0 Axes>"
      ]
     },
     "metadata": {},
     "output_type": "display_data"
    },
    {
     "data": {
      "text/plain": [
       "<Figure size 720x432 with 0 Axes>"
      ]
     },
     "metadata": {},
     "output_type": "display_data"
    },
    {
     "data": {
      "text/plain": [
       "<Figure size 720x432 with 0 Axes>"
      ]
     },
     "metadata": {},
     "output_type": "display_data"
    },
    {
     "data": {
      "text/plain": [
       "<Figure size 720x432 with 0 Axes>"
      ]
     },
     "metadata": {},
     "output_type": "display_data"
    },
    {
     "data": {
      "text/plain": [
       "<Figure size 720x432 with 0 Axes>"
      ]
     },
     "metadata": {},
     "output_type": "display_data"
    },
    {
     "data": {
      "text/plain": [
       "<Figure size 720x432 with 0 Axes>"
      ]
     },
     "metadata": {},
     "output_type": "display_data"
    },
    {
     "data": {
      "text/plain": [
       "<Figure size 720x432 with 0 Axes>"
      ]
     },
     "metadata": {},
     "output_type": "display_data"
    },
    {
     "data": {
      "text/plain": [
       "<Figure size 720x432 with 0 Axes>"
      ]
     },
     "metadata": {},
     "output_type": "display_data"
    },
    {
     "data": {
      "text/plain": [
       "<Figure size 720x432 with 0 Axes>"
      ]
     },
     "metadata": {},
     "output_type": "display_data"
    },
    {
     "data": {
      "text/plain": [
       "<Figure size 720x432 with 0 Axes>"
      ]
     },
     "metadata": {},
     "output_type": "display_data"
    },
    {
     "data": {
      "text/plain": [
       "<Figure size 720x432 with 0 Axes>"
      ]
     },
     "metadata": {},
     "output_type": "display_data"
    },
    {
     "data": {
      "text/plain": [
       "<Figure size 720x432 with 0 Axes>"
      ]
     },
     "metadata": {},
     "output_type": "display_data"
    },
    {
     "data": {
      "text/plain": [
       "<Figure size 720x432 with 0 Axes>"
      ]
     },
     "metadata": {},
     "output_type": "display_data"
    },
    {
     "data": {
      "text/plain": [
       "<Figure size 720x432 with 0 Axes>"
      ]
     },
     "metadata": {},
     "output_type": "display_data"
    },
    {
     "data": {
      "text/plain": [
       "<Figure size 720x432 with 0 Axes>"
      ]
     },
     "metadata": {},
     "output_type": "display_data"
    },
    {
     "data": {
      "text/plain": [
       "<Figure size 720x432 with 0 Axes>"
      ]
     },
     "metadata": {},
     "output_type": "display_data"
    },
    {
     "data": {
      "text/plain": [
       "<Figure size 720x432 with 0 Axes>"
      ]
     },
     "metadata": {},
     "output_type": "display_data"
    },
    {
     "data": {
      "text/plain": [
       "<Figure size 720x432 with 0 Axes>"
      ]
     },
     "metadata": {},
     "output_type": "display_data"
    },
    {
     "data": {
      "text/plain": [
       "<Figure size 720x432 with 0 Axes>"
      ]
     },
     "metadata": {},
     "output_type": "display_data"
    },
    {
     "data": {
      "text/plain": [
       "<Figure size 720x432 with 0 Axes>"
      ]
     },
     "metadata": {},
     "output_type": "display_data"
    },
    {
     "data": {
      "text/plain": [
       "<Figure size 720x432 with 0 Axes>"
      ]
     },
     "metadata": {},
     "output_type": "display_data"
    },
    {
     "data": {
      "text/plain": [
       "<Figure size 720x432 with 0 Axes>"
      ]
     },
     "metadata": {},
     "output_type": "display_data"
    },
    {
     "data": {
      "text/plain": [
       "<Figure size 720x432 with 0 Axes>"
      ]
     },
     "metadata": {},
     "output_type": "display_data"
    },
    {
     "data": {
      "text/plain": [
       "<Figure size 720x432 with 0 Axes>"
      ]
     },
     "metadata": {},
     "output_type": "display_data"
    },
    {
     "data": {
      "text/plain": [
       "<Figure size 720x432 with 0 Axes>"
      ]
     },
     "metadata": {},
     "output_type": "display_data"
    },
    {
     "data": {
      "text/plain": [
       "<Figure size 720x432 with 0 Axes>"
      ]
     },
     "metadata": {},
     "output_type": "display_data"
    },
    {
     "data": {
      "text/plain": [
       "<Figure size 720x432 with 0 Axes>"
      ]
     },
     "metadata": {},
     "output_type": "display_data"
    },
    {
     "data": {
      "text/plain": [
       "<Figure size 720x432 with 0 Axes>"
      ]
     },
     "metadata": {},
     "output_type": "display_data"
    },
    {
     "data": {
      "text/plain": [
       "<Figure size 720x432 with 0 Axes>"
      ]
     },
     "metadata": {},
     "output_type": "display_data"
    },
    {
     "data": {
      "text/plain": [
       "<Figure size 720x432 with 0 Axes>"
      ]
     },
     "metadata": {},
     "output_type": "display_data"
    },
    {
     "data": {
      "text/plain": [
       "<Figure size 720x432 with 0 Axes>"
      ]
     },
     "metadata": {},
     "output_type": "display_data"
    },
    {
     "data": {
      "text/plain": [
       "<Figure size 720x432 with 0 Axes>"
      ]
     },
     "metadata": {},
     "output_type": "display_data"
    },
    {
     "data": {
      "text/plain": [
       "<Figure size 720x432 with 0 Axes>"
      ]
     },
     "metadata": {},
     "output_type": "display_data"
    },
    {
     "data": {
      "text/plain": [
       "<Figure size 720x432 with 0 Axes>"
      ]
     },
     "metadata": {},
     "output_type": "display_data"
    },
    {
     "data": {
      "text/plain": [
       "<Figure size 720x432 with 0 Axes>"
      ]
     },
     "metadata": {},
     "output_type": "display_data"
    },
    {
     "data": {
      "text/plain": [
       "<Figure size 720x432 with 0 Axes>"
      ]
     },
     "metadata": {},
     "output_type": "display_data"
    },
    {
     "data": {
      "text/plain": [
       "<Figure size 720x432 with 0 Axes>"
      ]
     },
     "metadata": {},
     "output_type": "display_data"
    },
    {
     "data": {
      "text/plain": [
       "<Figure size 720x432 with 0 Axes>"
      ]
     },
     "metadata": {},
     "output_type": "display_data"
    },
    {
     "data": {
      "text/plain": [
       "<Figure size 720x432 with 0 Axes>"
      ]
     },
     "metadata": {},
     "output_type": "display_data"
    },
    {
     "data": {
      "text/plain": [
       "<Figure size 720x432 with 0 Axes>"
      ]
     },
     "metadata": {},
     "output_type": "display_data"
    },
    {
     "data": {
      "text/plain": [
       "<Figure size 720x432 with 0 Axes>"
      ]
     },
     "metadata": {},
     "output_type": "display_data"
    },
    {
     "data": {
      "text/plain": [
       "<Figure size 720x432 with 0 Axes>"
      ]
     },
     "metadata": {},
     "output_type": "display_data"
    },
    {
     "data": {
      "text/plain": [
       "<Figure size 720x432 with 0 Axes>"
      ]
     },
     "metadata": {},
     "output_type": "display_data"
    },
    {
     "data": {
      "text/plain": [
       "<Figure size 720x432 with 0 Axes>"
      ]
     },
     "metadata": {},
     "output_type": "display_data"
    },
    {
     "data": {
      "text/plain": [
       "<Figure size 720x432 with 0 Axes>"
      ]
     },
     "metadata": {},
     "output_type": "display_data"
    },
    {
     "data": {
      "text/plain": [
       "<Figure size 720x432 with 0 Axes>"
      ]
     },
     "metadata": {},
     "output_type": "display_data"
    },
    {
     "data": {
      "text/plain": [
       "<Figure size 720x432 with 0 Axes>"
      ]
     },
     "metadata": {},
     "output_type": "display_data"
    },
    {
     "data": {
      "text/plain": [
       "<Figure size 720x432 with 0 Axes>"
      ]
     },
     "metadata": {},
     "output_type": "display_data"
    },
    {
     "data": {
      "text/plain": [
       "<Figure size 720x432 with 0 Axes>"
      ]
     },
     "metadata": {},
     "output_type": "display_data"
    },
    {
     "data": {
      "text/plain": [
       "<Figure size 720x432 with 0 Axes>"
      ]
     },
     "metadata": {},
     "output_type": "display_data"
    },
    {
     "data": {
      "text/plain": [
       "<Figure size 720x432 with 0 Axes>"
      ]
     },
     "metadata": {},
     "output_type": "display_data"
    },
    {
     "data": {
      "text/plain": [
       "<Figure size 720x432 with 0 Axes>"
      ]
     },
     "metadata": {},
     "output_type": "display_data"
    },
    {
     "data": {
      "text/plain": [
       "<Figure size 720x432 with 0 Axes>"
      ]
     },
     "metadata": {},
     "output_type": "display_data"
    },
    {
     "data": {
      "text/plain": [
       "<Figure size 720x432 with 0 Axes>"
      ]
     },
     "metadata": {},
     "output_type": "display_data"
    },
    {
     "data": {
      "text/plain": [
       "<Figure size 720x432 with 0 Axes>"
      ]
     },
     "metadata": {},
     "output_type": "display_data"
    },
    {
     "data": {
      "text/plain": [
       "<Figure size 720x432 with 0 Axes>"
      ]
     },
     "metadata": {},
     "output_type": "display_data"
    },
    {
     "data": {
      "text/plain": [
       "<Figure size 720x432 with 0 Axes>"
      ]
     },
     "metadata": {},
     "output_type": "display_data"
    },
    {
     "data": {
      "text/plain": [
       "<Figure size 720x432 with 0 Axes>"
      ]
     },
     "metadata": {},
     "output_type": "display_data"
    },
    {
     "data": {
      "text/plain": [
       "<Figure size 720x432 with 0 Axes>"
      ]
     },
     "metadata": {},
     "output_type": "display_data"
    },
    {
     "data": {
      "text/plain": [
       "<Figure size 720x432 with 0 Axes>"
      ]
     },
     "metadata": {},
     "output_type": "display_data"
    },
    {
     "data": {
      "text/plain": [
       "<Figure size 720x432 with 0 Axes>"
      ]
     },
     "metadata": {},
     "output_type": "display_data"
    },
    {
     "data": {
      "text/plain": [
       "<Figure size 720x432 with 0 Axes>"
      ]
     },
     "metadata": {},
     "output_type": "display_data"
    },
    {
     "data": {
      "text/plain": [
       "<Figure size 720x432 with 0 Axes>"
      ]
     },
     "metadata": {},
     "output_type": "display_data"
    },
    {
     "data": {
      "text/plain": [
       "<Figure size 720x432 with 0 Axes>"
      ]
     },
     "metadata": {},
     "output_type": "display_data"
    },
    {
     "data": {
      "text/plain": [
       "<Figure size 720x432 with 0 Axes>"
      ]
     },
     "metadata": {},
     "output_type": "display_data"
    },
    {
     "data": {
      "text/plain": [
       "<Figure size 720x432 with 0 Axes>"
      ]
     },
     "metadata": {},
     "output_type": "display_data"
    },
    {
     "data": {
      "text/plain": [
       "<Figure size 720x432 with 0 Axes>"
      ]
     },
     "metadata": {},
     "output_type": "display_data"
    },
    {
     "data": {
      "text/plain": [
       "<Figure size 720x432 with 0 Axes>"
      ]
     },
     "metadata": {},
     "output_type": "display_data"
    },
    {
     "data": {
      "text/plain": [
       "<Figure size 720x432 with 0 Axes>"
      ]
     },
     "metadata": {},
     "output_type": "display_data"
    },
    {
     "data": {
      "text/plain": [
       "<Figure size 720x432 with 0 Axes>"
      ]
     },
     "metadata": {},
     "output_type": "display_data"
    },
    {
     "data": {
      "text/plain": [
       "<Figure size 720x432 with 0 Axes>"
      ]
     },
     "metadata": {},
     "output_type": "display_data"
    },
    {
     "data": {
      "text/plain": [
       "<Figure size 720x432 with 0 Axes>"
      ]
     },
     "metadata": {},
     "output_type": "display_data"
    },
    {
     "data": {
      "text/plain": [
       "<Figure size 720x432 with 0 Axes>"
      ]
     },
     "metadata": {},
     "output_type": "display_data"
    },
    {
     "data": {
      "text/plain": [
       "<Figure size 720x432 with 0 Axes>"
      ]
     },
     "metadata": {},
     "output_type": "display_data"
    },
    {
     "data": {
      "text/plain": [
       "<Figure size 720x432 with 0 Axes>"
      ]
     },
     "metadata": {},
     "output_type": "display_data"
    },
    {
     "data": {
      "text/plain": [
       "<Figure size 720x432 with 0 Axes>"
      ]
     },
     "metadata": {},
     "output_type": "display_data"
    },
    {
     "data": {
      "text/plain": [
       "<Figure size 720x432 with 0 Axes>"
      ]
     },
     "metadata": {},
     "output_type": "display_data"
    },
    {
     "data": {
      "text/plain": [
       "<Figure size 720x432 with 0 Axes>"
      ]
     },
     "metadata": {},
     "output_type": "display_data"
    },
    {
     "data": {
      "text/plain": [
       "<Figure size 720x432 with 0 Axes>"
      ]
     },
     "metadata": {},
     "output_type": "display_data"
    },
    {
     "data": {
      "text/plain": [
       "<Figure size 720x432 with 0 Axes>"
      ]
     },
     "metadata": {},
     "output_type": "display_data"
    },
    {
     "data": {
      "text/plain": [
       "<Figure size 720x432 with 0 Axes>"
      ]
     },
     "metadata": {},
     "output_type": "display_data"
    },
    {
     "data": {
      "text/plain": [
       "<Figure size 720x432 with 0 Axes>"
      ]
     },
     "metadata": {},
     "output_type": "display_data"
    },
    {
     "data": {
      "text/plain": [
       "<Figure size 720x432 with 0 Axes>"
      ]
     },
     "metadata": {},
     "output_type": "display_data"
    },
    {
     "data": {
      "text/plain": [
       "<Figure size 720x432 with 0 Axes>"
      ]
     },
     "metadata": {},
     "output_type": "display_data"
    },
    {
     "data": {
      "text/plain": [
       "<Figure size 720x432 with 0 Axes>"
      ]
     },
     "metadata": {},
     "output_type": "display_data"
    },
    {
     "data": {
      "text/plain": [
       "<Figure size 720x432 with 0 Axes>"
      ]
     },
     "metadata": {},
     "output_type": "display_data"
    },
    {
     "data": {
      "text/plain": [
       "<Figure size 720x432 with 0 Axes>"
      ]
     },
     "metadata": {},
     "output_type": "display_data"
    },
    {
     "data": {
      "text/plain": [
       "<Figure size 720x432 with 0 Axes>"
      ]
     },
     "metadata": {},
     "output_type": "display_data"
    },
    {
     "data": {
      "text/plain": [
       "<Figure size 720x432 with 0 Axes>"
      ]
     },
     "metadata": {},
     "output_type": "display_data"
    },
    {
     "data": {
      "text/plain": [
       "<Figure size 720x432 with 0 Axes>"
      ]
     },
     "metadata": {},
     "output_type": "display_data"
    },
    {
     "data": {
      "text/plain": [
       "<Figure size 720x432 with 0 Axes>"
      ]
     },
     "metadata": {},
     "output_type": "display_data"
    },
    {
     "data": {
      "text/plain": [
       "<Figure size 720x432 with 0 Axes>"
      ]
     },
     "metadata": {},
     "output_type": "display_data"
    },
    {
     "data": {
      "text/plain": [
       "<Figure size 720x432 with 0 Axes>"
      ]
     },
     "metadata": {},
     "output_type": "display_data"
    },
    {
     "data": {
      "text/plain": [
       "<Figure size 720x432 with 0 Axes>"
      ]
     },
     "metadata": {},
     "output_type": "display_data"
    },
    {
     "data": {
      "text/plain": [
       "<Figure size 720x432 with 0 Axes>"
      ]
     },
     "metadata": {},
     "output_type": "display_data"
    },
    {
     "data": {
      "text/plain": [
       "<Figure size 720x432 with 0 Axes>"
      ]
     },
     "metadata": {},
     "output_type": "display_data"
    },
    {
     "data": {
      "text/plain": [
       "<Figure size 720x432 with 0 Axes>"
      ]
     },
     "metadata": {},
     "output_type": "display_data"
    },
    {
     "data": {
      "text/plain": [
       "<Figure size 720x432 with 0 Axes>"
      ]
     },
     "metadata": {},
     "output_type": "display_data"
    },
    {
     "data": {
      "text/plain": [
       "<Figure size 720x432 with 0 Axes>"
      ]
     },
     "metadata": {},
     "output_type": "display_data"
    },
    {
     "data": {
      "text/plain": [
       "<Figure size 720x432 with 0 Axes>"
      ]
     },
     "metadata": {},
     "output_type": "display_data"
    },
    {
     "data": {
      "text/plain": [
       "<Figure size 720x432 with 0 Axes>"
      ]
     },
     "metadata": {},
     "output_type": "display_data"
    },
    {
     "data": {
      "text/plain": [
       "<Figure size 720x432 with 0 Axes>"
      ]
     },
     "metadata": {},
     "output_type": "display_data"
    },
    {
     "data": {
      "text/plain": [
       "<Figure size 720x432 with 0 Axes>"
      ]
     },
     "metadata": {},
     "output_type": "display_data"
    },
    {
     "data": {
      "text/plain": [
       "<Figure size 720x432 with 0 Axes>"
      ]
     },
     "metadata": {},
     "output_type": "display_data"
    },
    {
     "data": {
      "text/plain": [
       "<Figure size 720x432 with 0 Axes>"
      ]
     },
     "metadata": {},
     "output_type": "display_data"
    },
    {
     "data": {
      "text/plain": [
       "<Figure size 720x432 with 0 Axes>"
      ]
     },
     "metadata": {},
     "output_type": "display_data"
    },
    {
     "data": {
      "text/plain": [
       "<Figure size 720x432 with 0 Axes>"
      ]
     },
     "metadata": {},
     "output_type": "display_data"
    },
    {
     "data": {
      "text/plain": [
       "<Figure size 720x432 with 0 Axes>"
      ]
     },
     "metadata": {},
     "output_type": "display_data"
    },
    {
     "data": {
      "text/plain": [
       "<Figure size 720x432 with 0 Axes>"
      ]
     },
     "metadata": {},
     "output_type": "display_data"
    },
    {
     "data": {
      "text/plain": [
       "<Figure size 720x432 with 0 Axes>"
      ]
     },
     "metadata": {},
     "output_type": "display_data"
    },
    {
     "data": {
      "text/plain": [
       "<Figure size 720x432 with 0 Axes>"
      ]
     },
     "metadata": {},
     "output_type": "display_data"
    },
    {
     "data": {
      "text/plain": [
       "<Figure size 720x432 with 0 Axes>"
      ]
     },
     "metadata": {},
     "output_type": "display_data"
    },
    {
     "data": {
      "text/plain": [
       "<Figure size 720x432 with 0 Axes>"
      ]
     },
     "metadata": {},
     "output_type": "display_data"
    },
    {
     "data": {
      "text/plain": [
       "<Figure size 720x432 with 0 Axes>"
      ]
     },
     "metadata": {},
     "output_type": "display_data"
    },
    {
     "data": {
      "text/plain": [
       "<Figure size 720x432 with 0 Axes>"
      ]
     },
     "metadata": {},
     "output_type": "display_data"
    },
    {
     "data": {
      "text/plain": [
       "<Figure size 720x432 with 0 Axes>"
      ]
     },
     "metadata": {},
     "output_type": "display_data"
    },
    {
     "data": {
      "text/plain": [
       "<Figure size 720x432 with 0 Axes>"
      ]
     },
     "metadata": {},
     "output_type": "display_data"
    },
    {
     "data": {
      "text/plain": [
       "<Figure size 720x432 with 0 Axes>"
      ]
     },
     "metadata": {},
     "output_type": "display_data"
    },
    {
     "data": {
      "text/plain": [
       "<Figure size 720x432 with 0 Axes>"
      ]
     },
     "metadata": {},
     "output_type": "display_data"
    },
    {
     "data": {
      "text/plain": [
       "<Figure size 720x432 with 0 Axes>"
      ]
     },
     "metadata": {},
     "output_type": "display_data"
    },
    {
     "data": {
      "text/plain": [
       "<Figure size 720x432 with 0 Axes>"
      ]
     },
     "metadata": {},
     "output_type": "display_data"
    },
    {
     "data": {
      "text/plain": [
       "<Figure size 720x432 with 0 Axes>"
      ]
     },
     "metadata": {},
     "output_type": "display_data"
    },
    {
     "data": {
      "text/plain": [
       "<Figure size 720x432 with 0 Axes>"
      ]
     },
     "metadata": {},
     "output_type": "display_data"
    },
    {
     "data": {
      "text/plain": [
       "<Figure size 720x432 with 0 Axes>"
      ]
     },
     "metadata": {},
     "output_type": "display_data"
    },
    {
     "data": {
      "text/plain": [
       "<Figure size 720x432 with 0 Axes>"
      ]
     },
     "metadata": {},
     "output_type": "display_data"
    },
    {
     "data": {
      "text/plain": [
       "<Figure size 720x432 with 0 Axes>"
      ]
     },
     "metadata": {},
     "output_type": "display_data"
    },
    {
     "data": {
      "text/plain": [
       "<Figure size 720x432 with 0 Axes>"
      ]
     },
     "metadata": {},
     "output_type": "display_data"
    },
    {
     "data": {
      "text/plain": [
       "<Figure size 720x432 with 0 Axes>"
      ]
     },
     "metadata": {},
     "output_type": "display_data"
    },
    {
     "data": {
      "text/plain": [
       "<Figure size 720x432 with 0 Axes>"
      ]
     },
     "metadata": {},
     "output_type": "display_data"
    },
    {
     "data": {
      "text/plain": [
       "<Figure size 720x432 with 0 Axes>"
      ]
     },
     "metadata": {},
     "output_type": "display_data"
    },
    {
     "data": {
      "text/plain": [
       "<Figure size 720x432 with 0 Axes>"
      ]
     },
     "metadata": {},
     "output_type": "display_data"
    },
    {
     "data": {
      "text/plain": [
       "<Figure size 720x432 with 0 Axes>"
      ]
     },
     "metadata": {},
     "output_type": "display_data"
    },
    {
     "data": {
      "text/plain": [
       "<Figure size 720x432 with 0 Axes>"
      ]
     },
     "metadata": {},
     "output_type": "display_data"
    },
    {
     "data": {
      "text/plain": [
       "<Figure size 720x432 with 0 Axes>"
      ]
     },
     "metadata": {},
     "output_type": "display_data"
    },
    {
     "data": {
      "text/plain": [
       "<Figure size 720x432 with 0 Axes>"
      ]
     },
     "metadata": {},
     "output_type": "display_data"
    },
    {
     "data": {
      "text/plain": [
       "<Figure size 720x432 with 0 Axes>"
      ]
     },
     "metadata": {},
     "output_type": "display_data"
    },
    {
     "data": {
      "text/plain": [
       "<Figure size 720x432 with 0 Axes>"
      ]
     },
     "metadata": {},
     "output_type": "display_data"
    },
    {
     "data": {
      "text/plain": [
       "<Figure size 720x432 with 0 Axes>"
      ]
     },
     "metadata": {},
     "output_type": "display_data"
    },
    {
     "data": {
      "text/plain": [
       "<Figure size 720x432 with 0 Axes>"
      ]
     },
     "metadata": {},
     "output_type": "display_data"
    },
    {
     "data": {
      "text/plain": [
       "<Figure size 720x432 with 0 Axes>"
      ]
     },
     "metadata": {},
     "output_type": "display_data"
    },
    {
     "data": {
      "text/plain": [
       "<Figure size 720x432 with 0 Axes>"
      ]
     },
     "metadata": {},
     "output_type": "display_data"
    },
    {
     "data": {
      "text/plain": [
       "<Figure size 720x432 with 0 Axes>"
      ]
     },
     "metadata": {},
     "output_type": "display_data"
    },
    {
     "data": {
      "text/plain": [
       "<Figure size 720x432 with 0 Axes>"
      ]
     },
     "metadata": {},
     "output_type": "display_data"
    },
    {
     "data": {
      "text/plain": [
       "<Figure size 720x432 with 0 Axes>"
      ]
     },
     "metadata": {},
     "output_type": "display_data"
    },
    {
     "data": {
      "text/plain": [
       "<Figure size 720x432 with 0 Axes>"
      ]
     },
     "metadata": {},
     "output_type": "display_data"
    },
    {
     "data": {
      "text/plain": [
       "<Figure size 720x432 with 0 Axes>"
      ]
     },
     "metadata": {},
     "output_type": "display_data"
    },
    {
     "data": {
      "text/plain": [
       "<Figure size 720x432 with 0 Axes>"
      ]
     },
     "metadata": {},
     "output_type": "display_data"
    },
    {
     "data": {
      "text/plain": [
       "<Figure size 720x432 with 0 Axes>"
      ]
     },
     "metadata": {},
     "output_type": "display_data"
    },
    {
     "data": {
      "text/plain": [
       "<Figure size 720x432 with 0 Axes>"
      ]
     },
     "metadata": {},
     "output_type": "display_data"
    },
    {
     "data": {
      "text/plain": [
       "<Figure size 720x432 with 0 Axes>"
      ]
     },
     "metadata": {},
     "output_type": "display_data"
    },
    {
     "data": {
      "text/plain": [
       "<Figure size 720x432 with 0 Axes>"
      ]
     },
     "metadata": {},
     "output_type": "display_data"
    },
    {
     "data": {
      "text/plain": [
       "<Figure size 720x432 with 0 Axes>"
      ]
     },
     "metadata": {},
     "output_type": "display_data"
    },
    {
     "data": {
      "text/plain": [
       "<Figure size 720x432 with 0 Axes>"
      ]
     },
     "metadata": {},
     "output_type": "display_data"
    },
    {
     "data": {
      "text/plain": [
       "<Figure size 720x432 with 0 Axes>"
      ]
     },
     "metadata": {},
     "output_type": "display_data"
    },
    {
     "data": {
      "text/plain": [
       "<Figure size 720x432 with 0 Axes>"
      ]
     },
     "metadata": {},
     "output_type": "display_data"
    },
    {
     "data": {
      "text/plain": [
       "<Figure size 720x432 with 0 Axes>"
      ]
     },
     "metadata": {},
     "output_type": "display_data"
    },
    {
     "data": {
      "text/plain": [
       "<Figure size 720x432 with 0 Axes>"
      ]
     },
     "metadata": {},
     "output_type": "display_data"
    },
    {
     "data": {
      "text/plain": [
       "<Figure size 720x432 with 0 Axes>"
      ]
     },
     "metadata": {},
     "output_type": "display_data"
    },
    {
     "data": {
      "text/plain": [
       "<Figure size 720x432 with 0 Axes>"
      ]
     },
     "metadata": {},
     "output_type": "display_data"
    },
    {
     "data": {
      "text/plain": [
       "<Figure size 720x432 with 0 Axes>"
      ]
     },
     "metadata": {},
     "output_type": "display_data"
    },
    {
     "data": {
      "text/plain": [
       "<Figure size 720x432 with 0 Axes>"
      ]
     },
     "metadata": {},
     "output_type": "display_data"
    },
    {
     "data": {
      "text/plain": [
       "<Figure size 720x432 with 0 Axes>"
      ]
     },
     "metadata": {},
     "output_type": "display_data"
    },
    {
     "data": {
      "text/plain": [
       "<Figure size 720x432 with 0 Axes>"
      ]
     },
     "metadata": {},
     "output_type": "display_data"
    },
    {
     "data": {
      "text/plain": [
       "<Figure size 720x432 with 0 Axes>"
      ]
     },
     "metadata": {},
     "output_type": "display_data"
    },
    {
     "data": {
      "text/plain": [
       "<Figure size 720x432 with 0 Axes>"
      ]
     },
     "metadata": {},
     "output_type": "display_data"
    },
    {
     "data": {
      "text/plain": [
       "<Figure size 720x432 with 0 Axes>"
      ]
     },
     "metadata": {},
     "output_type": "display_data"
    },
    {
     "data": {
      "text/plain": [
       "<Figure size 720x432 with 0 Axes>"
      ]
     },
     "metadata": {},
     "output_type": "display_data"
    },
    {
     "data": {
      "text/plain": [
       "<Figure size 720x432 with 0 Axes>"
      ]
     },
     "metadata": {},
     "output_type": "display_data"
    },
    {
     "data": {
      "text/plain": [
       "<Figure size 720x432 with 0 Axes>"
      ]
     },
     "metadata": {},
     "output_type": "display_data"
    },
    {
     "data": {
      "text/plain": [
       "<Figure size 720x432 with 0 Axes>"
      ]
     },
     "metadata": {},
     "output_type": "display_data"
    },
    {
     "data": {
      "text/plain": [
       "<Figure size 720x432 with 0 Axes>"
      ]
     },
     "metadata": {},
     "output_type": "display_data"
    },
    {
     "data": {
      "text/plain": [
       "<Figure size 720x432 with 0 Axes>"
      ]
     },
     "metadata": {},
     "output_type": "display_data"
    },
    {
     "data": {
      "text/plain": [
       "<Figure size 720x432 with 0 Axes>"
      ]
     },
     "metadata": {},
     "output_type": "display_data"
    },
    {
     "data": {
      "text/plain": [
       "<Figure size 720x432 with 0 Axes>"
      ]
     },
     "metadata": {},
     "output_type": "display_data"
    },
    {
     "data": {
      "text/plain": [
       "<Figure size 720x432 with 0 Axes>"
      ]
     },
     "metadata": {},
     "output_type": "display_data"
    },
    {
     "data": {
      "text/plain": [
       "<Figure size 720x432 with 0 Axes>"
      ]
     },
     "metadata": {},
     "output_type": "display_data"
    },
    {
     "data": {
      "text/plain": [
       "<Figure size 720x432 with 0 Axes>"
      ]
     },
     "metadata": {},
     "output_type": "display_data"
    },
    {
     "data": {
      "text/plain": [
       "<Figure size 720x432 with 0 Axes>"
      ]
     },
     "metadata": {},
     "output_type": "display_data"
    },
    {
     "data": {
      "text/plain": [
       "<Figure size 720x432 with 0 Axes>"
      ]
     },
     "metadata": {},
     "output_type": "display_data"
    },
    {
     "data": {
      "text/plain": [
       "<Figure size 720x432 with 0 Axes>"
      ]
     },
     "metadata": {},
     "output_type": "display_data"
    },
    {
     "data": {
      "text/plain": [
       "<Figure size 720x432 with 0 Axes>"
      ]
     },
     "metadata": {},
     "output_type": "display_data"
    },
    {
     "data": {
      "text/plain": [
       "<Figure size 720x432 with 0 Axes>"
      ]
     },
     "metadata": {},
     "output_type": "display_data"
    },
    {
     "data": {
      "text/plain": [
       "<Figure size 720x432 with 0 Axes>"
      ]
     },
     "metadata": {},
     "output_type": "display_data"
    },
    {
     "data": {
      "text/plain": [
       "<Figure size 720x432 with 0 Axes>"
      ]
     },
     "metadata": {},
     "output_type": "display_data"
    },
    {
     "data": {
      "text/plain": [
       "<Figure size 720x432 with 0 Axes>"
      ]
     },
     "metadata": {},
     "output_type": "display_data"
    },
    {
     "data": {
      "text/plain": [
       "<Figure size 720x432 with 0 Axes>"
      ]
     },
     "metadata": {},
     "output_type": "display_data"
    },
    {
     "data": {
      "text/plain": [
       "<Figure size 720x432 with 0 Axes>"
      ]
     },
     "metadata": {},
     "output_type": "display_data"
    },
    {
     "data": {
      "text/plain": [
       "<Figure size 720x432 with 0 Axes>"
      ]
     },
     "metadata": {},
     "output_type": "display_data"
    },
    {
     "data": {
      "text/plain": [
       "<Figure size 720x432 with 0 Axes>"
      ]
     },
     "metadata": {},
     "output_type": "display_data"
    },
    {
     "data": {
      "text/plain": [
       "<Figure size 720x432 with 0 Axes>"
      ]
     },
     "metadata": {},
     "output_type": "display_data"
    },
    {
     "data": {
      "text/plain": [
       "<Figure size 720x432 with 0 Axes>"
      ]
     },
     "metadata": {},
     "output_type": "display_data"
    },
    {
     "data": {
      "text/plain": [
       "<Figure size 720x432 with 0 Axes>"
      ]
     },
     "metadata": {},
     "output_type": "display_data"
    },
    {
     "data": {
      "text/plain": [
       "<Figure size 720x432 with 0 Axes>"
      ]
     },
     "metadata": {},
     "output_type": "display_data"
    },
    {
     "data": {
      "text/plain": [
       "<Figure size 720x432 with 0 Axes>"
      ]
     },
     "metadata": {},
     "output_type": "display_data"
    },
    {
     "data": {
      "text/plain": [
       "<Figure size 720x432 with 0 Axes>"
      ]
     },
     "metadata": {},
     "output_type": "display_data"
    },
    {
     "data": {
      "text/plain": [
       "<Figure size 720x432 with 0 Axes>"
      ]
     },
     "metadata": {},
     "output_type": "display_data"
    },
    {
     "data": {
      "text/plain": [
       "<Figure size 720x432 with 0 Axes>"
      ]
     },
     "metadata": {},
     "output_type": "display_data"
    },
    {
     "data": {
      "text/plain": [
       "<Figure size 720x432 with 0 Axes>"
      ]
     },
     "metadata": {},
     "output_type": "display_data"
    },
    {
     "data": {
      "text/plain": [
       "<Figure size 720x432 with 0 Axes>"
      ]
     },
     "metadata": {},
     "output_type": "display_data"
    },
    {
     "data": {
      "text/plain": [
       "<Figure size 720x432 with 0 Axes>"
      ]
     },
     "metadata": {},
     "output_type": "display_data"
    },
    {
     "data": {
      "text/plain": [
       "<Figure size 720x432 with 0 Axes>"
      ]
     },
     "metadata": {},
     "output_type": "display_data"
    },
    {
     "data": {
      "text/plain": [
       "<Figure size 720x432 with 0 Axes>"
      ]
     },
     "metadata": {},
     "output_type": "display_data"
    },
    {
     "data": {
      "text/plain": [
       "<Figure size 720x432 with 0 Axes>"
      ]
     },
     "metadata": {},
     "output_type": "display_data"
    },
    {
     "data": {
      "text/plain": [
       "<Figure size 720x432 with 0 Axes>"
      ]
     },
     "metadata": {},
     "output_type": "display_data"
    },
    {
     "data": {
      "text/plain": [
       "<Figure size 720x432 with 0 Axes>"
      ]
     },
     "metadata": {},
     "output_type": "display_data"
    },
    {
     "data": {
      "text/plain": [
       "<Figure size 720x432 with 0 Axes>"
      ]
     },
     "metadata": {},
     "output_type": "display_data"
    },
    {
     "data": {
      "text/plain": [
       "<Figure size 720x432 with 0 Axes>"
      ]
     },
     "metadata": {},
     "output_type": "display_data"
    },
    {
     "data": {
      "text/plain": [
       "<Figure size 720x432 with 0 Axes>"
      ]
     },
     "metadata": {},
     "output_type": "display_data"
    },
    {
     "data": {
      "text/plain": [
       "<Figure size 720x432 with 0 Axes>"
      ]
     },
     "metadata": {},
     "output_type": "display_data"
    },
    {
     "data": {
      "text/plain": [
       "<Figure size 720x432 with 0 Axes>"
      ]
     },
     "metadata": {},
     "output_type": "display_data"
    },
    {
     "data": {
      "text/plain": [
       "<Figure size 720x432 with 0 Axes>"
      ]
     },
     "metadata": {},
     "output_type": "display_data"
    },
    {
     "data": {
      "text/plain": [
       "<Figure size 720x432 with 0 Axes>"
      ]
     },
     "metadata": {},
     "output_type": "display_data"
    },
    {
     "data": {
      "text/plain": [
       "<Figure size 720x432 with 0 Axes>"
      ]
     },
     "metadata": {},
     "output_type": "display_data"
    },
    {
     "data": {
      "text/plain": [
       "<Figure size 720x432 with 0 Axes>"
      ]
     },
     "metadata": {},
     "output_type": "display_data"
    },
    {
     "data": {
      "text/plain": [
       "<Figure size 720x432 with 0 Axes>"
      ]
     },
     "metadata": {},
     "output_type": "display_data"
    },
    {
     "data": {
      "text/plain": [
       "<Figure size 720x432 with 0 Axes>"
      ]
     },
     "metadata": {},
     "output_type": "display_data"
    },
    {
     "data": {
      "text/plain": [
       "<Figure size 720x432 with 0 Axes>"
      ]
     },
     "metadata": {},
     "output_type": "display_data"
    },
    {
     "data": {
      "text/plain": [
       "<Figure size 720x432 with 0 Axes>"
      ]
     },
     "metadata": {},
     "output_type": "display_data"
    },
    {
     "data": {
      "text/plain": [
       "<Figure size 720x432 with 0 Axes>"
      ]
     },
     "metadata": {},
     "output_type": "display_data"
    },
    {
     "data": {
      "text/plain": [
       "<Figure size 720x432 with 0 Axes>"
      ]
     },
     "metadata": {},
     "output_type": "display_data"
    },
    {
     "data": {
      "text/plain": [
       "<Figure size 720x432 with 0 Axes>"
      ]
     },
     "metadata": {},
     "output_type": "display_data"
    },
    {
     "data": {
      "text/plain": [
       "<Figure size 720x432 with 0 Axes>"
      ]
     },
     "metadata": {},
     "output_type": "display_data"
    },
    {
     "data": {
      "text/plain": [
       "<Figure size 720x432 with 0 Axes>"
      ]
     },
     "metadata": {},
     "output_type": "display_data"
    },
    {
     "data": {
      "text/plain": [
       "<Figure size 720x432 with 0 Axes>"
      ]
     },
     "metadata": {},
     "output_type": "display_data"
    },
    {
     "data": {
      "text/plain": [
       "<Figure size 720x432 with 0 Axes>"
      ]
     },
     "metadata": {},
     "output_type": "display_data"
    },
    {
     "data": {
      "text/plain": [
       "<Figure size 720x432 with 0 Axes>"
      ]
     },
     "metadata": {},
     "output_type": "display_data"
    },
    {
     "data": {
      "text/plain": [
       "<Figure size 720x432 with 0 Axes>"
      ]
     },
     "metadata": {},
     "output_type": "display_data"
    },
    {
     "data": {
      "text/plain": [
       "<Figure size 720x432 with 0 Axes>"
      ]
     },
     "metadata": {},
     "output_type": "display_data"
    },
    {
     "data": {
      "text/plain": [
       "<Figure size 720x432 with 0 Axes>"
      ]
     },
     "metadata": {},
     "output_type": "display_data"
    },
    {
     "data": {
      "text/plain": [
       "<Figure size 720x432 with 0 Axes>"
      ]
     },
     "metadata": {},
     "output_type": "display_data"
    },
    {
     "data": {
      "text/plain": [
       "<Figure size 720x432 with 0 Axes>"
      ]
     },
     "metadata": {},
     "output_type": "display_data"
    },
    {
     "data": {
      "text/plain": [
       "<Figure size 720x432 with 0 Axes>"
      ]
     },
     "metadata": {},
     "output_type": "display_data"
    },
    {
     "data": {
      "text/plain": [
       "<Figure size 720x432 with 0 Axes>"
      ]
     },
     "metadata": {},
     "output_type": "display_data"
    },
    {
     "data": {
      "text/plain": [
       "<Figure size 720x432 with 0 Axes>"
      ]
     },
     "metadata": {},
     "output_type": "display_data"
    },
    {
     "data": {
      "text/plain": [
       "<Figure size 720x432 with 0 Axes>"
      ]
     },
     "metadata": {},
     "output_type": "display_data"
    },
    {
     "data": {
      "text/plain": [
       "<Figure size 720x432 with 0 Axes>"
      ]
     },
     "metadata": {},
     "output_type": "display_data"
    },
    {
     "data": {
      "text/plain": [
       "<Figure size 720x432 with 0 Axes>"
      ]
     },
     "metadata": {},
     "output_type": "display_data"
    },
    {
     "data": {
      "text/plain": [
       "<Figure size 720x432 with 0 Axes>"
      ]
     },
     "metadata": {},
     "output_type": "display_data"
    },
    {
     "data": {
      "text/plain": [
       "<Figure size 720x432 with 0 Axes>"
      ]
     },
     "metadata": {},
     "output_type": "display_data"
    },
    {
     "data": {
      "text/plain": [
       "<Figure size 720x432 with 0 Axes>"
      ]
     },
     "metadata": {},
     "output_type": "display_data"
    },
    {
     "data": {
      "text/plain": [
       "<Figure size 720x432 with 0 Axes>"
      ]
     },
     "metadata": {},
     "output_type": "display_data"
    },
    {
     "data": {
      "text/plain": [
       "<Figure size 720x432 with 0 Axes>"
      ]
     },
     "metadata": {},
     "output_type": "display_data"
    },
    {
     "data": {
      "text/plain": [
       "<Figure size 720x432 with 0 Axes>"
      ]
     },
     "metadata": {},
     "output_type": "display_data"
    },
    {
     "data": {
      "text/plain": [
       "<Figure size 720x432 with 0 Axes>"
      ]
     },
     "metadata": {},
     "output_type": "display_data"
    },
    {
     "data": {
      "text/plain": [
       "<Figure size 720x432 with 0 Axes>"
      ]
     },
     "metadata": {},
     "output_type": "display_data"
    },
    {
     "data": {
      "text/plain": [
       "<Figure size 720x432 with 0 Axes>"
      ]
     },
     "metadata": {},
     "output_type": "display_data"
    },
    {
     "data": {
      "text/plain": [
       "<Figure size 720x432 with 0 Axes>"
      ]
     },
     "metadata": {},
     "output_type": "display_data"
    },
    {
     "data": {
      "text/plain": [
       "<Figure size 720x432 with 0 Axes>"
      ]
     },
     "metadata": {},
     "output_type": "display_data"
    },
    {
     "data": {
      "text/plain": [
       "<Figure size 720x432 with 0 Axes>"
      ]
     },
     "metadata": {},
     "output_type": "display_data"
    },
    {
     "data": {
      "text/plain": [
       "<Figure size 720x432 with 0 Axes>"
      ]
     },
     "metadata": {},
     "output_type": "display_data"
    },
    {
     "data": {
      "text/plain": [
       "<Figure size 720x432 with 0 Axes>"
      ]
     },
     "metadata": {},
     "output_type": "display_data"
    },
    {
     "data": {
      "text/plain": [
       "<Figure size 720x432 with 0 Axes>"
      ]
     },
     "metadata": {},
     "output_type": "display_data"
    },
    {
     "data": {
      "text/plain": [
       "<Figure size 720x432 with 0 Axes>"
      ]
     },
     "metadata": {},
     "output_type": "display_data"
    },
    {
     "data": {
      "text/plain": [
       "<Figure size 720x432 with 0 Axes>"
      ]
     },
     "metadata": {},
     "output_type": "display_data"
    },
    {
     "data": {
      "text/plain": [
       "<Figure size 720x432 with 0 Axes>"
      ]
     },
     "metadata": {},
     "output_type": "display_data"
    },
    {
     "data": {
      "text/plain": [
       "<Figure size 720x432 with 0 Axes>"
      ]
     },
     "metadata": {},
     "output_type": "display_data"
    },
    {
     "data": {
      "text/plain": [
       "<Figure size 720x432 with 0 Axes>"
      ]
     },
     "metadata": {},
     "output_type": "display_data"
    },
    {
     "data": {
      "text/plain": [
       "<Figure size 720x432 with 0 Axes>"
      ]
     },
     "metadata": {},
     "output_type": "display_data"
    },
    {
     "data": {
      "text/plain": [
       "<Figure size 720x432 with 0 Axes>"
      ]
     },
     "metadata": {},
     "output_type": "display_data"
    },
    {
     "data": {
      "text/plain": [
       "<Figure size 720x432 with 0 Axes>"
      ]
     },
     "metadata": {},
     "output_type": "display_data"
    },
    {
     "data": {
      "text/plain": [
       "<Figure size 720x432 with 0 Axes>"
      ]
     },
     "metadata": {},
     "output_type": "display_data"
    },
    {
     "data": {
      "text/plain": [
       "<Figure size 720x432 with 0 Axes>"
      ]
     },
     "metadata": {},
     "output_type": "display_data"
    },
    {
     "data": {
      "text/plain": [
       "<Figure size 720x432 with 0 Axes>"
      ]
     },
     "metadata": {},
     "output_type": "display_data"
    },
    {
     "data": {
      "text/plain": [
       "<Figure size 720x432 with 0 Axes>"
      ]
     },
     "metadata": {},
     "output_type": "display_data"
    },
    {
     "data": {
      "text/plain": [
       "<Figure size 720x432 with 0 Axes>"
      ]
     },
     "metadata": {},
     "output_type": "display_data"
    },
    {
     "data": {
      "text/plain": [
       "<Figure size 720x432 with 0 Axes>"
      ]
     },
     "metadata": {},
     "output_type": "display_data"
    },
    {
     "data": {
      "text/plain": [
       "<Figure size 720x432 with 0 Axes>"
      ]
     },
     "metadata": {},
     "output_type": "display_data"
    },
    {
     "data": {
      "text/plain": [
       "<Figure size 720x432 with 0 Axes>"
      ]
     },
     "metadata": {},
     "output_type": "display_data"
    },
    {
     "data": {
      "text/plain": [
       "<Figure size 720x432 with 0 Axes>"
      ]
     },
     "metadata": {},
     "output_type": "display_data"
    },
    {
     "data": {
      "text/plain": [
       "<Figure size 720x432 with 0 Axes>"
      ]
     },
     "metadata": {},
     "output_type": "display_data"
    },
    {
     "data": {
      "text/plain": [
       "<Figure size 720x432 with 0 Axes>"
      ]
     },
     "metadata": {},
     "output_type": "display_data"
    },
    {
     "data": {
      "text/plain": [
       "<Figure size 720x432 with 0 Axes>"
      ]
     },
     "metadata": {},
     "output_type": "display_data"
    },
    {
     "data": {
      "text/plain": [
       "<Figure size 720x432 with 0 Axes>"
      ]
     },
     "metadata": {},
     "output_type": "display_data"
    },
    {
     "data": {
      "text/plain": [
       "<Figure size 720x432 with 0 Axes>"
      ]
     },
     "metadata": {},
     "output_type": "display_data"
    },
    {
     "data": {
      "text/plain": [
       "<Figure size 720x432 with 0 Axes>"
      ]
     },
     "metadata": {},
     "output_type": "display_data"
    },
    {
     "data": {
      "text/plain": [
       "<Figure size 720x432 with 0 Axes>"
      ]
     },
     "metadata": {},
     "output_type": "display_data"
    },
    {
     "data": {
      "text/plain": [
       "<Figure size 720x432 with 0 Axes>"
      ]
     },
     "metadata": {},
     "output_type": "display_data"
    },
    {
     "data": {
      "text/plain": [
       "<Figure size 720x432 with 0 Axes>"
      ]
     },
     "metadata": {},
     "output_type": "display_data"
    },
    {
     "data": {
      "text/plain": [
       "<Figure size 720x432 with 0 Axes>"
      ]
     },
     "metadata": {},
     "output_type": "display_data"
    },
    {
     "data": {
      "text/plain": [
       "<Figure size 720x432 with 0 Axes>"
      ]
     },
     "metadata": {},
     "output_type": "display_data"
    },
    {
     "data": {
      "text/plain": [
       "<Figure size 720x432 with 0 Axes>"
      ]
     },
     "metadata": {},
     "output_type": "display_data"
    },
    {
     "data": {
      "text/plain": [
       "<Figure size 720x432 with 0 Axes>"
      ]
     },
     "metadata": {},
     "output_type": "display_data"
    },
    {
     "data": {
      "text/plain": [
       "<Figure size 720x432 with 0 Axes>"
      ]
     },
     "metadata": {},
     "output_type": "display_data"
    },
    {
     "data": {
      "text/plain": [
       "<Figure size 720x432 with 0 Axes>"
      ]
     },
     "metadata": {},
     "output_type": "display_data"
    },
    {
     "data": {
      "text/plain": [
       "<Figure size 720x432 with 0 Axes>"
      ]
     },
     "metadata": {},
     "output_type": "display_data"
    },
    {
     "data": {
      "text/plain": [
       "<Figure size 720x432 with 0 Axes>"
      ]
     },
     "metadata": {},
     "output_type": "display_data"
    },
    {
     "data": {
      "text/plain": [
       "<Figure size 720x432 with 0 Axes>"
      ]
     },
     "metadata": {},
     "output_type": "display_data"
    },
    {
     "data": {
      "text/plain": [
       "<Figure size 720x432 with 0 Axes>"
      ]
     },
     "metadata": {},
     "output_type": "display_data"
    },
    {
     "data": {
      "text/plain": [
       "<Figure size 720x432 with 0 Axes>"
      ]
     },
     "metadata": {},
     "output_type": "display_data"
    },
    {
     "data": {
      "text/plain": [
       "<Figure size 720x432 with 0 Axes>"
      ]
     },
     "metadata": {},
     "output_type": "display_data"
    },
    {
     "data": {
      "text/plain": [
       "<Figure size 720x432 with 0 Axes>"
      ]
     },
     "metadata": {},
     "output_type": "display_data"
    },
    {
     "data": {
      "text/plain": [
       "<Figure size 720x432 with 0 Axes>"
      ]
     },
     "metadata": {},
     "output_type": "display_data"
    },
    {
     "data": {
      "text/plain": [
       "<Figure size 720x432 with 0 Axes>"
      ]
     },
     "metadata": {},
     "output_type": "display_data"
    },
    {
     "data": {
      "text/plain": [
       "<Figure size 720x432 with 0 Axes>"
      ]
     },
     "metadata": {},
     "output_type": "display_data"
    },
    {
     "data": {
      "text/plain": [
       "<Figure size 720x432 with 0 Axes>"
      ]
     },
     "metadata": {},
     "output_type": "display_data"
    },
    {
     "data": {
      "text/plain": [
       "<Figure size 720x432 with 0 Axes>"
      ]
     },
     "metadata": {},
     "output_type": "display_data"
    },
    {
     "data": {
      "text/plain": [
       "<Figure size 720x432 with 0 Axes>"
      ]
     },
     "metadata": {},
     "output_type": "display_data"
    },
    {
     "data": {
      "text/plain": [
       "<Figure size 720x432 with 0 Axes>"
      ]
     },
     "metadata": {},
     "output_type": "display_data"
    },
    {
     "data": {
      "text/plain": [
       "<Figure size 720x432 with 0 Axes>"
      ]
     },
     "metadata": {},
     "output_type": "display_data"
    },
    {
     "data": {
      "text/plain": [
       "<Figure size 720x432 with 0 Axes>"
      ]
     },
     "metadata": {},
     "output_type": "display_data"
    },
    {
     "data": {
      "text/plain": [
       "<Figure size 720x432 with 0 Axes>"
      ]
     },
     "metadata": {},
     "output_type": "display_data"
    },
    {
     "data": {
      "text/plain": [
       "<Figure size 720x432 with 0 Axes>"
      ]
     },
     "metadata": {},
     "output_type": "display_data"
    },
    {
     "data": {
      "text/plain": [
       "<Figure size 720x432 with 0 Axes>"
      ]
     },
     "metadata": {},
     "output_type": "display_data"
    },
    {
     "data": {
      "text/plain": [
       "<Figure size 720x432 with 0 Axes>"
      ]
     },
     "metadata": {},
     "output_type": "display_data"
    },
    {
     "data": {
      "text/plain": [
       "<Figure size 720x432 with 0 Axes>"
      ]
     },
     "metadata": {},
     "output_type": "display_data"
    },
    {
     "data": {
      "text/plain": [
       "<Figure size 720x432 with 0 Axes>"
      ]
     },
     "metadata": {},
     "output_type": "display_data"
    },
    {
     "data": {
      "text/plain": [
       "<Figure size 720x432 with 0 Axes>"
      ]
     },
     "metadata": {},
     "output_type": "display_data"
    },
    {
     "data": {
      "text/plain": [
       "<Figure size 720x432 with 0 Axes>"
      ]
     },
     "metadata": {},
     "output_type": "display_data"
    },
    {
     "data": {
      "text/plain": [
       "<Figure size 720x432 with 0 Axes>"
      ]
     },
     "metadata": {},
     "output_type": "display_data"
    },
    {
     "data": {
      "text/plain": [
       "<Figure size 720x432 with 0 Axes>"
      ]
     },
     "metadata": {},
     "output_type": "display_data"
    },
    {
     "data": {
      "text/plain": [
       "<Figure size 720x432 with 0 Axes>"
      ]
     },
     "metadata": {},
     "output_type": "display_data"
    },
    {
     "data": {
      "text/plain": [
       "<Figure size 720x432 with 0 Axes>"
      ]
     },
     "metadata": {},
     "output_type": "display_data"
    },
    {
     "data": {
      "text/plain": [
       "<Figure size 720x432 with 0 Axes>"
      ]
     },
     "metadata": {},
     "output_type": "display_data"
    },
    {
     "data": {
      "text/plain": [
       "<Figure size 720x432 with 0 Axes>"
      ]
     },
     "metadata": {},
     "output_type": "display_data"
    },
    {
     "data": {
      "text/plain": [
       "<Figure size 720x432 with 0 Axes>"
      ]
     },
     "metadata": {},
     "output_type": "display_data"
    },
    {
     "data": {
      "text/plain": [
       "<Figure size 720x432 with 0 Axes>"
      ]
     },
     "metadata": {},
     "output_type": "display_data"
    },
    {
     "data": {
      "text/plain": [
       "<Figure size 720x432 with 0 Axes>"
      ]
     },
     "metadata": {},
     "output_type": "display_data"
    },
    {
     "data": {
      "text/plain": [
       "<Figure size 720x432 with 0 Axes>"
      ]
     },
     "metadata": {},
     "output_type": "display_data"
    },
    {
     "data": {
      "text/plain": [
       "<Figure size 720x432 with 0 Axes>"
      ]
     },
     "metadata": {},
     "output_type": "display_data"
    },
    {
     "data": {
      "text/plain": [
       "<Figure size 720x432 with 0 Axes>"
      ]
     },
     "metadata": {},
     "output_type": "display_data"
    },
    {
     "data": {
      "text/plain": [
       "<Figure size 720x432 with 0 Axes>"
      ]
     },
     "metadata": {},
     "output_type": "display_data"
    },
    {
     "data": {
      "text/plain": [
       "<Figure size 720x432 with 0 Axes>"
      ]
     },
     "metadata": {},
     "output_type": "display_data"
    },
    {
     "data": {
      "text/plain": [
       "<Figure size 720x432 with 0 Axes>"
      ]
     },
     "metadata": {},
     "output_type": "display_data"
    },
    {
     "data": {
      "text/plain": [
       "<Figure size 720x432 with 0 Axes>"
      ]
     },
     "metadata": {},
     "output_type": "display_data"
    },
    {
     "data": {
      "text/plain": [
       "<Figure size 720x432 with 0 Axes>"
      ]
     },
     "metadata": {},
     "output_type": "display_data"
    },
    {
     "data": {
      "text/plain": [
       "<Figure size 720x432 with 0 Axes>"
      ]
     },
     "metadata": {},
     "output_type": "display_data"
    },
    {
     "data": {
      "text/plain": [
       "<Figure size 720x432 with 0 Axes>"
      ]
     },
     "metadata": {},
     "output_type": "display_data"
    },
    {
     "data": {
      "text/plain": [
       "<Figure size 720x432 with 0 Axes>"
      ]
     },
     "metadata": {},
     "output_type": "display_data"
    },
    {
     "data": {
      "text/plain": [
       "<Figure size 720x432 with 0 Axes>"
      ]
     },
     "metadata": {},
     "output_type": "display_data"
    },
    {
     "data": {
      "text/plain": [
       "<Figure size 720x432 with 0 Axes>"
      ]
     },
     "metadata": {},
     "output_type": "display_data"
    },
    {
     "data": {
      "text/plain": [
       "<Figure size 720x432 with 0 Axes>"
      ]
     },
     "metadata": {},
     "output_type": "display_data"
    },
    {
     "data": {
      "text/plain": [
       "<Figure size 720x432 with 0 Axes>"
      ]
     },
     "metadata": {},
     "output_type": "display_data"
    },
    {
     "data": {
      "text/plain": [
       "<Figure size 720x432 with 0 Axes>"
      ]
     },
     "metadata": {},
     "output_type": "display_data"
    },
    {
     "data": {
      "text/plain": [
       "<Figure size 720x432 with 0 Axes>"
      ]
     },
     "metadata": {},
     "output_type": "display_data"
    },
    {
     "data": {
      "text/plain": [
       "<Figure size 720x432 with 0 Axes>"
      ]
     },
     "metadata": {},
     "output_type": "display_data"
    },
    {
     "data": {
      "text/plain": [
       "<Figure size 720x432 with 0 Axes>"
      ]
     },
     "metadata": {},
     "output_type": "display_data"
    },
    {
     "data": {
      "text/plain": [
       "<Figure size 720x432 with 0 Axes>"
      ]
     },
     "metadata": {},
     "output_type": "display_data"
    },
    {
     "data": {
      "text/plain": [
       "<Figure size 720x432 with 0 Axes>"
      ]
     },
     "metadata": {},
     "output_type": "display_data"
    },
    {
     "data": {
      "text/plain": [
       "<Figure size 720x432 with 0 Axes>"
      ]
     },
     "metadata": {},
     "output_type": "display_data"
    },
    {
     "data": {
      "text/plain": [
       "<Figure size 720x432 with 0 Axes>"
      ]
     },
     "metadata": {},
     "output_type": "display_data"
    },
    {
     "data": {
      "text/plain": [
       "<Figure size 720x432 with 0 Axes>"
      ]
     },
     "metadata": {},
     "output_type": "display_data"
    },
    {
     "data": {
      "text/plain": [
       "<Figure size 720x432 with 0 Axes>"
      ]
     },
     "metadata": {},
     "output_type": "display_data"
    },
    {
     "data": {
      "text/plain": [
       "<Figure size 720x432 with 0 Axes>"
      ]
     },
     "metadata": {},
     "output_type": "display_data"
    },
    {
     "data": {
      "text/plain": [
       "<Figure size 720x432 with 0 Axes>"
      ]
     },
     "metadata": {},
     "output_type": "display_data"
    },
    {
     "data": {
      "text/plain": [
       "<Figure size 720x432 with 0 Axes>"
      ]
     },
     "metadata": {},
     "output_type": "display_data"
    },
    {
     "data": {
      "text/plain": [
       "<Figure size 720x432 with 0 Axes>"
      ]
     },
     "metadata": {},
     "output_type": "display_data"
    },
    {
     "data": {
      "text/plain": [
       "<Figure size 720x432 with 0 Axes>"
      ]
     },
     "metadata": {},
     "output_type": "display_data"
    },
    {
     "data": {
      "text/plain": [
       "<Figure size 720x432 with 0 Axes>"
      ]
     },
     "metadata": {},
     "output_type": "display_data"
    },
    {
     "data": {
      "text/plain": [
       "<Figure size 720x432 with 0 Axes>"
      ]
     },
     "metadata": {},
     "output_type": "display_data"
    },
    {
     "data": {
      "text/plain": [
       "<Figure size 720x432 with 0 Axes>"
      ]
     },
     "metadata": {},
     "output_type": "display_data"
    },
    {
     "data": {
      "text/plain": [
       "<Figure size 720x432 with 0 Axes>"
      ]
     },
     "metadata": {},
     "output_type": "display_data"
    },
    {
     "data": {
      "text/plain": [
       "<Figure size 720x432 with 0 Axes>"
      ]
     },
     "metadata": {},
     "output_type": "display_data"
    },
    {
     "data": {
      "text/plain": [
       "<Figure size 720x432 with 0 Axes>"
      ]
     },
     "metadata": {},
     "output_type": "display_data"
    },
    {
     "data": {
      "text/plain": [
       "<Figure size 720x432 with 0 Axes>"
      ]
     },
     "metadata": {},
     "output_type": "display_data"
    },
    {
     "data": {
      "text/plain": [
       "<Figure size 720x432 with 0 Axes>"
      ]
     },
     "metadata": {},
     "output_type": "display_data"
    },
    {
     "data": {
      "text/plain": [
       "<Figure size 720x432 with 0 Axes>"
      ]
     },
     "metadata": {},
     "output_type": "display_data"
    },
    {
     "data": {
      "text/plain": [
       "<Figure size 720x432 with 0 Axes>"
      ]
     },
     "metadata": {},
     "output_type": "display_data"
    },
    {
     "data": {
      "text/plain": [
       "<Figure size 720x432 with 0 Axes>"
      ]
     },
     "metadata": {},
     "output_type": "display_data"
    },
    {
     "data": {
      "text/plain": [
       "<Figure size 720x432 with 0 Axes>"
      ]
     },
     "metadata": {},
     "output_type": "display_data"
    },
    {
     "data": {
      "text/plain": [
       "<Figure size 720x432 with 0 Axes>"
      ]
     },
     "metadata": {},
     "output_type": "display_data"
    },
    {
     "data": {
      "text/plain": [
       "<Figure size 720x432 with 0 Axes>"
      ]
     },
     "metadata": {},
     "output_type": "display_data"
    },
    {
     "data": {
      "text/plain": [
       "<Figure size 720x432 with 0 Axes>"
      ]
     },
     "metadata": {},
     "output_type": "display_data"
    },
    {
     "data": {
      "text/plain": [
       "<Figure size 720x432 with 0 Axes>"
      ]
     },
     "metadata": {},
     "output_type": "display_data"
    },
    {
     "data": {
      "text/plain": [
       "<Figure size 720x432 with 0 Axes>"
      ]
     },
     "metadata": {},
     "output_type": "display_data"
    },
    {
     "data": {
      "text/plain": [
       "<Figure size 720x432 with 0 Axes>"
      ]
     },
     "metadata": {},
     "output_type": "display_data"
    },
    {
     "data": {
      "text/plain": [
       "<Figure size 720x432 with 0 Axes>"
      ]
     },
     "metadata": {},
     "output_type": "display_data"
    },
    {
     "data": {
      "text/plain": [
       "<Figure size 720x432 with 0 Axes>"
      ]
     },
     "metadata": {},
     "output_type": "display_data"
    },
    {
     "data": {
      "text/plain": [
       "<Figure size 720x432 with 0 Axes>"
      ]
     },
     "metadata": {},
     "output_type": "display_data"
    },
    {
     "data": {
      "text/plain": [
       "<Figure size 720x432 with 0 Axes>"
      ]
     },
     "metadata": {},
     "output_type": "display_data"
    },
    {
     "data": {
      "text/plain": [
       "<Figure size 720x432 with 0 Axes>"
      ]
     },
     "metadata": {},
     "output_type": "display_data"
    },
    {
     "data": {
      "text/plain": [
       "<Figure size 720x432 with 0 Axes>"
      ]
     },
     "metadata": {},
     "output_type": "display_data"
    },
    {
     "data": {
      "text/plain": [
       "<Figure size 720x432 with 0 Axes>"
      ]
     },
     "metadata": {},
     "output_type": "display_data"
    },
    {
     "data": {
      "text/plain": [
       "<Figure size 720x432 with 0 Axes>"
      ]
     },
     "metadata": {},
     "output_type": "display_data"
    },
    {
     "data": {
      "text/plain": [
       "<Figure size 720x432 with 0 Axes>"
      ]
     },
     "metadata": {},
     "output_type": "display_data"
    },
    {
     "data": {
      "text/plain": [
       "<Figure size 720x432 with 0 Axes>"
      ]
     },
     "metadata": {},
     "output_type": "display_data"
    },
    {
     "data": {
      "text/plain": [
       "<Figure size 720x432 with 0 Axes>"
      ]
     },
     "metadata": {},
     "output_type": "display_data"
    },
    {
     "data": {
      "text/plain": [
       "<Figure size 720x432 with 0 Axes>"
      ]
     },
     "metadata": {},
     "output_type": "display_data"
    },
    {
     "data": {
      "text/plain": [
       "<Figure size 720x432 with 0 Axes>"
      ]
     },
     "metadata": {},
     "output_type": "display_data"
    },
    {
     "data": {
      "text/plain": [
       "<Figure size 720x432 with 0 Axes>"
      ]
     },
     "metadata": {},
     "output_type": "display_data"
    },
    {
     "data": {
      "text/plain": [
       "<Figure size 720x432 with 0 Axes>"
      ]
     },
     "metadata": {},
     "output_type": "display_data"
    },
    {
     "data": {
      "text/plain": [
       "<Figure size 720x432 with 0 Axes>"
      ]
     },
     "metadata": {},
     "output_type": "display_data"
    },
    {
     "data": {
      "text/plain": [
       "<Figure size 720x432 with 0 Axes>"
      ]
     },
     "metadata": {},
     "output_type": "display_data"
    },
    {
     "data": {
      "text/plain": [
       "<Figure size 720x432 with 0 Axes>"
      ]
     },
     "metadata": {},
     "output_type": "display_data"
    },
    {
     "data": {
      "text/plain": [
       "<Figure size 720x432 with 0 Axes>"
      ]
     },
     "metadata": {},
     "output_type": "display_data"
    },
    {
     "data": {
      "text/plain": [
       "<Figure size 720x432 with 0 Axes>"
      ]
     },
     "metadata": {},
     "output_type": "display_data"
    },
    {
     "data": {
      "text/plain": [
       "<Figure size 720x432 with 0 Axes>"
      ]
     },
     "metadata": {},
     "output_type": "display_data"
    },
    {
     "data": {
      "text/plain": [
       "<Figure size 720x432 with 0 Axes>"
      ]
     },
     "metadata": {},
     "output_type": "display_data"
    },
    {
     "data": {
      "text/plain": [
       "<Figure size 720x432 with 0 Axes>"
      ]
     },
     "metadata": {},
     "output_type": "display_data"
    },
    {
     "data": {
      "text/plain": [
       "<Figure size 720x432 with 0 Axes>"
      ]
     },
     "metadata": {},
     "output_type": "display_data"
    },
    {
     "data": {
      "text/plain": [
       "<Figure size 720x432 with 0 Axes>"
      ]
     },
     "metadata": {},
     "output_type": "display_data"
    },
    {
     "data": {
      "text/plain": [
       "<Figure size 720x432 with 0 Axes>"
      ]
     },
     "metadata": {},
     "output_type": "display_data"
    },
    {
     "data": {
      "text/plain": [
       "<Figure size 720x432 with 0 Axes>"
      ]
     },
     "metadata": {},
     "output_type": "display_data"
    },
    {
     "data": {
      "text/plain": [
       "<Figure size 720x432 with 0 Axes>"
      ]
     },
     "metadata": {},
     "output_type": "display_data"
    },
    {
     "data": {
      "text/plain": [
       "<Figure size 720x432 with 0 Axes>"
      ]
     },
     "metadata": {},
     "output_type": "display_data"
    },
    {
     "data": {
      "text/plain": [
       "<Figure size 720x432 with 0 Axes>"
      ]
     },
     "metadata": {},
     "output_type": "display_data"
    },
    {
     "data": {
      "text/plain": [
       "<Figure size 720x432 with 0 Axes>"
      ]
     },
     "metadata": {},
     "output_type": "display_data"
    },
    {
     "data": {
      "text/plain": [
       "<Figure size 720x432 with 0 Axes>"
      ]
     },
     "metadata": {},
     "output_type": "display_data"
    },
    {
     "data": {
      "text/plain": [
       "<Figure size 720x432 with 0 Axes>"
      ]
     },
     "metadata": {},
     "output_type": "display_data"
    },
    {
     "data": {
      "text/plain": [
       "<Figure size 720x432 with 0 Axes>"
      ]
     },
     "metadata": {},
     "output_type": "display_data"
    },
    {
     "data": {
      "text/plain": [
       "<Figure size 720x432 with 0 Axes>"
      ]
     },
     "metadata": {},
     "output_type": "display_data"
    },
    {
     "data": {
      "text/plain": [
       "<Figure size 720x432 with 0 Axes>"
      ]
     },
     "metadata": {},
     "output_type": "display_data"
    },
    {
     "data": {
      "text/plain": [
       "<Figure size 720x432 with 0 Axes>"
      ]
     },
     "metadata": {},
     "output_type": "display_data"
    },
    {
     "data": {
      "text/plain": [
       "<Figure size 720x432 with 0 Axes>"
      ]
     },
     "metadata": {},
     "output_type": "display_data"
    },
    {
     "data": {
      "text/plain": [
       "<Figure size 720x432 with 0 Axes>"
      ]
     },
     "metadata": {},
     "output_type": "display_data"
    },
    {
     "data": {
      "text/plain": [
       "<Figure size 720x432 with 0 Axes>"
      ]
     },
     "metadata": {},
     "output_type": "display_data"
    },
    {
     "data": {
      "text/plain": [
       "<Figure size 720x432 with 0 Axes>"
      ]
     },
     "metadata": {},
     "output_type": "display_data"
    },
    {
     "data": {
      "text/plain": [
       "<Figure size 720x432 with 0 Axes>"
      ]
     },
     "metadata": {},
     "output_type": "display_data"
    },
    {
     "data": {
      "text/plain": [
       "<Figure size 720x432 with 0 Axes>"
      ]
     },
     "metadata": {},
     "output_type": "display_data"
    },
    {
     "data": {
      "text/plain": [
       "<Figure size 720x432 with 0 Axes>"
      ]
     },
     "metadata": {},
     "output_type": "display_data"
    },
    {
     "data": {
      "text/plain": [
       "<Figure size 720x432 with 0 Axes>"
      ]
     },
     "metadata": {},
     "output_type": "display_data"
    },
    {
     "data": {
      "text/plain": [
       "<Figure size 720x432 with 0 Axes>"
      ]
     },
     "metadata": {},
     "output_type": "display_data"
    },
    {
     "data": {
      "text/plain": [
       "<Figure size 720x432 with 0 Axes>"
      ]
     },
     "metadata": {},
     "output_type": "display_data"
    },
    {
     "data": {
      "text/plain": [
       "<Figure size 720x432 with 0 Axes>"
      ]
     },
     "metadata": {},
     "output_type": "display_data"
    },
    {
     "data": {
      "text/plain": [
       "<Figure size 720x432 with 0 Axes>"
      ]
     },
     "metadata": {},
     "output_type": "display_data"
    },
    {
     "data": {
      "text/plain": [
       "<Figure size 720x432 with 0 Axes>"
      ]
     },
     "metadata": {},
     "output_type": "display_data"
    },
    {
     "data": {
      "text/plain": [
       "<Figure size 720x432 with 0 Axes>"
      ]
     },
     "metadata": {},
     "output_type": "display_data"
    },
    {
     "data": {
      "text/plain": [
       "<Figure size 720x432 with 0 Axes>"
      ]
     },
     "metadata": {},
     "output_type": "display_data"
    },
    {
     "data": {
      "text/plain": [
       "<Figure size 720x432 with 0 Axes>"
      ]
     },
     "metadata": {},
     "output_type": "display_data"
    },
    {
     "data": {
      "text/plain": [
       "<Figure size 720x432 with 0 Axes>"
      ]
     },
     "metadata": {},
     "output_type": "display_data"
    },
    {
     "data": {
      "text/plain": [
       "<Figure size 720x432 with 0 Axes>"
      ]
     },
     "metadata": {},
     "output_type": "display_data"
    },
    {
     "data": {
      "text/plain": [
       "<Figure size 720x432 with 0 Axes>"
      ]
     },
     "metadata": {},
     "output_type": "display_data"
    },
    {
     "data": {
      "text/plain": [
       "<Figure size 720x432 with 0 Axes>"
      ]
     },
     "metadata": {},
     "output_type": "display_data"
    },
    {
     "data": {
      "text/plain": [
       "<Figure size 720x432 with 0 Axes>"
      ]
     },
     "metadata": {},
     "output_type": "display_data"
    },
    {
     "data": {
      "text/plain": [
       "<Figure size 720x432 with 0 Axes>"
      ]
     },
     "metadata": {},
     "output_type": "display_data"
    },
    {
     "data": {
      "text/plain": [
       "<Figure size 720x432 with 0 Axes>"
      ]
     },
     "metadata": {},
     "output_type": "display_data"
    },
    {
     "data": {
      "text/plain": [
       "<Figure size 720x432 with 0 Axes>"
      ]
     },
     "metadata": {},
     "output_type": "display_data"
    },
    {
     "data": {
      "text/plain": [
       "<Figure size 720x432 with 0 Axes>"
      ]
     },
     "metadata": {},
     "output_type": "display_data"
    },
    {
     "data": {
      "text/plain": [
       "<Figure size 720x432 with 0 Axes>"
      ]
     },
     "metadata": {},
     "output_type": "display_data"
    },
    {
     "data": {
      "text/plain": [
       "<Figure size 720x432 with 0 Axes>"
      ]
     },
     "metadata": {},
     "output_type": "display_data"
    },
    {
     "data": {
      "text/plain": [
       "<Figure size 720x432 with 0 Axes>"
      ]
     },
     "metadata": {},
     "output_type": "display_data"
    },
    {
     "data": {
      "text/plain": [
       "<Figure size 720x432 with 0 Axes>"
      ]
     },
     "metadata": {},
     "output_type": "display_data"
    },
    {
     "data": {
      "text/plain": [
       "<Figure size 720x432 with 0 Axes>"
      ]
     },
     "metadata": {},
     "output_type": "display_data"
    },
    {
     "data": {
      "text/plain": [
       "<Figure size 720x432 with 0 Axes>"
      ]
     },
     "metadata": {},
     "output_type": "display_data"
    },
    {
     "data": {
      "text/plain": [
       "<Figure size 720x432 with 0 Axes>"
      ]
     },
     "metadata": {},
     "output_type": "display_data"
    },
    {
     "data": {
      "text/plain": [
       "<Figure size 720x432 with 0 Axes>"
      ]
     },
     "metadata": {},
     "output_type": "display_data"
    },
    {
     "data": {
      "text/plain": [
       "<Figure size 720x432 with 0 Axes>"
      ]
     },
     "metadata": {},
     "output_type": "display_data"
    },
    {
     "data": {
      "text/plain": [
       "<Figure size 720x432 with 0 Axes>"
      ]
     },
     "metadata": {},
     "output_type": "display_data"
    },
    {
     "data": {
      "text/plain": [
       "<Figure size 720x432 with 0 Axes>"
      ]
     },
     "metadata": {},
     "output_type": "display_data"
    },
    {
     "data": {
      "text/plain": [
       "<Figure size 720x432 with 0 Axes>"
      ]
     },
     "metadata": {},
     "output_type": "display_data"
    },
    {
     "data": {
      "text/plain": [
       "<Figure size 720x432 with 0 Axes>"
      ]
     },
     "metadata": {},
     "output_type": "display_data"
    },
    {
     "data": {
      "text/plain": [
       "<Figure size 720x432 with 0 Axes>"
      ]
     },
     "metadata": {},
     "output_type": "display_data"
    },
    {
     "data": {
      "text/plain": [
       "<Figure size 720x432 with 0 Axes>"
      ]
     },
     "metadata": {},
     "output_type": "display_data"
    },
    {
     "data": {
      "text/plain": [
       "<Figure size 720x432 with 0 Axes>"
      ]
     },
     "metadata": {},
     "output_type": "display_data"
    },
    {
     "data": {
      "text/plain": [
       "<Figure size 720x432 with 0 Axes>"
      ]
     },
     "metadata": {},
     "output_type": "display_data"
    },
    {
     "data": {
      "text/plain": [
       "<Figure size 720x432 with 0 Axes>"
      ]
     },
     "metadata": {},
     "output_type": "display_data"
    },
    {
     "data": {
      "text/plain": [
       "<Figure size 720x432 with 0 Axes>"
      ]
     },
     "metadata": {},
     "output_type": "display_data"
    },
    {
     "data": {
      "text/plain": [
       "<Figure size 720x432 with 0 Axes>"
      ]
     },
     "metadata": {},
     "output_type": "display_data"
    },
    {
     "data": {
      "text/plain": [
       "<Figure size 720x432 with 0 Axes>"
      ]
     },
     "metadata": {},
     "output_type": "display_data"
    },
    {
     "data": {
      "text/plain": [
       "<Figure size 720x432 with 0 Axes>"
      ]
     },
     "metadata": {},
     "output_type": "display_data"
    },
    {
     "data": {
      "text/plain": [
       "<Figure size 720x432 with 0 Axes>"
      ]
     },
     "metadata": {},
     "output_type": "display_data"
    },
    {
     "data": {
      "text/plain": [
       "<Figure size 720x432 with 0 Axes>"
      ]
     },
     "metadata": {},
     "output_type": "display_data"
    },
    {
     "data": {
      "text/plain": [
       "<Figure size 720x432 with 0 Axes>"
      ]
     },
     "metadata": {},
     "output_type": "display_data"
    },
    {
     "data": {
      "text/plain": [
       "<Figure size 720x432 with 0 Axes>"
      ]
     },
     "metadata": {},
     "output_type": "display_data"
    },
    {
     "data": {
      "text/plain": [
       "<Figure size 720x432 with 0 Axes>"
      ]
     },
     "metadata": {},
     "output_type": "display_data"
    },
    {
     "data": {
      "text/plain": [
       "<Figure size 720x432 with 0 Axes>"
      ]
     },
     "metadata": {},
     "output_type": "display_data"
    },
    {
     "data": {
      "text/plain": [
       "<Figure size 720x432 with 0 Axes>"
      ]
     },
     "metadata": {},
     "output_type": "display_data"
    },
    {
     "data": {
      "text/plain": [
       "<Figure size 720x432 with 0 Axes>"
      ]
     },
     "metadata": {},
     "output_type": "display_data"
    },
    {
     "data": {
      "text/plain": [
       "<Figure size 720x432 with 0 Axes>"
      ]
     },
     "metadata": {},
     "output_type": "display_data"
    },
    {
     "data": {
      "text/plain": [
       "<Figure size 720x432 with 0 Axes>"
      ]
     },
     "metadata": {},
     "output_type": "display_data"
    },
    {
     "data": {
      "text/plain": [
       "<Figure size 720x432 with 0 Axes>"
      ]
     },
     "metadata": {},
     "output_type": "display_data"
    },
    {
     "data": {
      "text/plain": [
       "<Figure size 720x432 with 0 Axes>"
      ]
     },
     "metadata": {},
     "output_type": "display_data"
    },
    {
     "data": {
      "text/plain": [
       "<Figure size 720x432 with 0 Axes>"
      ]
     },
     "metadata": {},
     "output_type": "display_data"
    },
    {
     "data": {
      "text/plain": [
       "<Figure size 720x432 with 0 Axes>"
      ]
     },
     "metadata": {},
     "output_type": "display_data"
    },
    {
     "data": {
      "text/plain": [
       "<Figure size 720x432 with 0 Axes>"
      ]
     },
     "metadata": {},
     "output_type": "display_data"
    },
    {
     "data": {
      "text/plain": [
       "<Figure size 720x432 with 0 Axes>"
      ]
     },
     "metadata": {},
     "output_type": "display_data"
    },
    {
     "data": {
      "text/plain": [
       "<Figure size 720x432 with 0 Axes>"
      ]
     },
     "metadata": {},
     "output_type": "display_data"
    },
    {
     "data": {
      "text/plain": [
       "<Figure size 720x432 with 0 Axes>"
      ]
     },
     "metadata": {},
     "output_type": "display_data"
    },
    {
     "data": {
      "text/plain": [
       "<Figure size 720x432 with 0 Axes>"
      ]
     },
     "metadata": {},
     "output_type": "display_data"
    },
    {
     "data": {
      "text/plain": [
       "<Figure size 720x432 with 0 Axes>"
      ]
     },
     "metadata": {},
     "output_type": "display_data"
    },
    {
     "data": {
      "text/plain": [
       "<Figure size 720x432 with 0 Axes>"
      ]
     },
     "metadata": {},
     "output_type": "display_data"
    },
    {
     "data": {
      "text/plain": [
       "<Figure size 720x432 with 0 Axes>"
      ]
     },
     "metadata": {},
     "output_type": "display_data"
    },
    {
     "data": {
      "text/plain": [
       "<Figure size 720x432 with 0 Axes>"
      ]
     },
     "metadata": {},
     "output_type": "display_data"
    },
    {
     "data": {
      "text/plain": [
       "<Figure size 720x432 with 0 Axes>"
      ]
     },
     "metadata": {},
     "output_type": "display_data"
    },
    {
     "data": {
      "text/plain": [
       "<Figure size 720x432 with 0 Axes>"
      ]
     },
     "metadata": {},
     "output_type": "display_data"
    },
    {
     "data": {
      "text/plain": [
       "<Figure size 720x432 with 0 Axes>"
      ]
     },
     "metadata": {},
     "output_type": "display_data"
    },
    {
     "data": {
      "text/plain": [
       "<Figure size 720x432 with 0 Axes>"
      ]
     },
     "metadata": {},
     "output_type": "display_data"
    },
    {
     "data": {
      "text/plain": [
       "<Figure size 720x432 with 0 Axes>"
      ]
     },
     "metadata": {},
     "output_type": "display_data"
    },
    {
     "data": {
      "text/plain": [
       "<Figure size 720x432 with 0 Axes>"
      ]
     },
     "metadata": {},
     "output_type": "display_data"
    },
    {
     "data": {
      "text/plain": [
       "<Figure size 720x432 with 0 Axes>"
      ]
     },
     "metadata": {},
     "output_type": "display_data"
    },
    {
     "data": {
      "text/plain": [
       "<Figure size 720x432 with 0 Axes>"
      ]
     },
     "metadata": {},
     "output_type": "display_data"
    },
    {
     "data": {
      "text/plain": [
       "<Figure size 720x432 with 0 Axes>"
      ]
     },
     "metadata": {},
     "output_type": "display_data"
    },
    {
     "data": {
      "text/plain": [
       "<Figure size 720x432 with 0 Axes>"
      ]
     },
     "metadata": {},
     "output_type": "display_data"
    },
    {
     "data": {
      "text/plain": [
       "<Figure size 720x432 with 0 Axes>"
      ]
     },
     "metadata": {},
     "output_type": "display_data"
    },
    {
     "data": {
      "text/plain": [
       "<Figure size 720x432 with 0 Axes>"
      ]
     },
     "metadata": {},
     "output_type": "display_data"
    },
    {
     "data": {
      "text/plain": [
       "<Figure size 720x432 with 0 Axes>"
      ]
     },
     "metadata": {},
     "output_type": "display_data"
    },
    {
     "data": {
      "text/plain": [
       "<Figure size 720x432 with 0 Axes>"
      ]
     },
     "metadata": {},
     "output_type": "display_data"
    },
    {
     "data": {
      "text/plain": [
       "<Figure size 720x432 with 0 Axes>"
      ]
     },
     "metadata": {},
     "output_type": "display_data"
    },
    {
     "data": {
      "text/plain": [
       "<Figure size 720x432 with 0 Axes>"
      ]
     },
     "metadata": {},
     "output_type": "display_data"
    },
    {
     "data": {
      "text/plain": [
       "<Figure size 720x432 with 0 Axes>"
      ]
     },
     "metadata": {},
     "output_type": "display_data"
    },
    {
     "data": {
      "text/plain": [
       "<Figure size 720x432 with 0 Axes>"
      ]
     },
     "metadata": {},
     "output_type": "display_data"
    },
    {
     "data": {
      "text/plain": [
       "<Figure size 720x432 with 0 Axes>"
      ]
     },
     "metadata": {},
     "output_type": "display_data"
    },
    {
     "data": {
      "text/plain": [
       "<Figure size 720x432 with 0 Axes>"
      ]
     },
     "metadata": {},
     "output_type": "display_data"
    },
    {
     "data": {
      "text/plain": [
       "<Figure size 720x432 with 0 Axes>"
      ]
     },
     "metadata": {},
     "output_type": "display_data"
    },
    {
     "data": {
      "text/plain": [
       "<Figure size 720x432 with 0 Axes>"
      ]
     },
     "metadata": {},
     "output_type": "display_data"
    },
    {
     "data": {
      "text/plain": [
       "<Figure size 720x432 with 0 Axes>"
      ]
     },
     "metadata": {},
     "output_type": "display_data"
    },
    {
     "data": {
      "text/plain": [
       "<Figure size 720x432 with 0 Axes>"
      ]
     },
     "metadata": {},
     "output_type": "display_data"
    },
    {
     "data": {
      "text/plain": [
       "<Figure size 720x432 with 0 Axes>"
      ]
     },
     "metadata": {},
     "output_type": "display_data"
    },
    {
     "data": {
      "text/plain": [
       "<Figure size 720x432 with 0 Axes>"
      ]
     },
     "metadata": {},
     "output_type": "display_data"
    },
    {
     "data": {
      "text/plain": [
       "<Figure size 720x432 with 0 Axes>"
      ]
     },
     "metadata": {},
     "output_type": "display_data"
    },
    {
     "data": {
      "text/plain": [
       "<Figure size 720x432 with 0 Axes>"
      ]
     },
     "metadata": {},
     "output_type": "display_data"
    },
    {
     "data": {
      "text/plain": [
       "<Figure size 720x432 with 0 Axes>"
      ]
     },
     "metadata": {},
     "output_type": "display_data"
    },
    {
     "data": {
      "text/plain": [
       "<Figure size 720x432 with 0 Axes>"
      ]
     },
     "metadata": {},
     "output_type": "display_data"
    },
    {
     "data": {
      "text/plain": [
       "<Figure size 720x432 with 0 Axes>"
      ]
     },
     "metadata": {},
     "output_type": "display_data"
    },
    {
     "data": {
      "text/plain": [
       "<Figure size 720x432 with 0 Axes>"
      ]
     },
     "metadata": {},
     "output_type": "display_data"
    },
    {
     "data": {
      "text/plain": [
       "<Figure size 720x432 with 0 Axes>"
      ]
     },
     "metadata": {},
     "output_type": "display_data"
    },
    {
     "data": {
      "text/plain": [
       "<Figure size 720x432 with 0 Axes>"
      ]
     },
     "metadata": {},
     "output_type": "display_data"
    },
    {
     "data": {
      "text/plain": [
       "<Figure size 720x432 with 0 Axes>"
      ]
     },
     "metadata": {},
     "output_type": "display_data"
    },
    {
     "data": {
      "text/plain": [
       "<Figure size 720x432 with 0 Axes>"
      ]
     },
     "metadata": {},
     "output_type": "display_data"
    },
    {
     "data": {
      "text/plain": [
       "<Figure size 720x432 with 0 Axes>"
      ]
     },
     "metadata": {},
     "output_type": "display_data"
    },
    {
     "data": {
      "text/plain": [
       "<Figure size 720x432 with 0 Axes>"
      ]
     },
     "metadata": {},
     "output_type": "display_data"
    },
    {
     "data": {
      "text/plain": [
       "<Figure size 720x432 with 0 Axes>"
      ]
     },
     "metadata": {},
     "output_type": "display_data"
    },
    {
     "data": {
      "text/plain": [
       "<Figure size 720x432 with 0 Axes>"
      ]
     },
     "metadata": {},
     "output_type": "display_data"
    },
    {
     "data": {
      "text/plain": [
       "<Figure size 720x432 with 0 Axes>"
      ]
     },
     "metadata": {},
     "output_type": "display_data"
    },
    {
     "data": {
      "text/plain": [
       "<Figure size 720x432 with 0 Axes>"
      ]
     },
     "metadata": {},
     "output_type": "display_data"
    },
    {
     "data": {
      "text/plain": [
       "<Figure size 720x432 with 0 Axes>"
      ]
     },
     "metadata": {},
     "output_type": "display_data"
    },
    {
     "data": {
      "text/plain": [
       "<Figure size 720x432 with 0 Axes>"
      ]
     },
     "metadata": {},
     "output_type": "display_data"
    },
    {
     "data": {
      "text/plain": [
       "<Figure size 720x432 with 0 Axes>"
      ]
     },
     "metadata": {},
     "output_type": "display_data"
    },
    {
     "data": {
      "text/plain": [
       "<Figure size 720x432 with 0 Axes>"
      ]
     },
     "metadata": {},
     "output_type": "display_data"
    },
    {
     "data": {
      "text/plain": [
       "<Figure size 720x432 with 0 Axes>"
      ]
     },
     "metadata": {},
     "output_type": "display_data"
    },
    {
     "data": {
      "text/plain": [
       "<Figure size 720x432 with 0 Axes>"
      ]
     },
     "metadata": {},
     "output_type": "display_data"
    },
    {
     "data": {
      "text/plain": [
       "<Figure size 720x432 with 0 Axes>"
      ]
     },
     "metadata": {},
     "output_type": "display_data"
    },
    {
     "data": {
      "text/plain": [
       "<Figure size 720x432 with 0 Axes>"
      ]
     },
     "metadata": {},
     "output_type": "display_data"
    },
    {
     "data": {
      "text/plain": [
       "<Figure size 720x432 with 0 Axes>"
      ]
     },
     "metadata": {},
     "output_type": "display_data"
    },
    {
     "data": {
      "text/plain": [
       "<Figure size 720x432 with 0 Axes>"
      ]
     },
     "metadata": {},
     "output_type": "display_data"
    },
    {
     "data": {
      "text/plain": [
       "<Figure size 720x432 with 0 Axes>"
      ]
     },
     "metadata": {},
     "output_type": "display_data"
    },
    {
     "data": {
      "text/plain": [
       "<Figure size 720x432 with 0 Axes>"
      ]
     },
     "metadata": {},
     "output_type": "display_data"
    },
    {
     "data": {
      "text/plain": [
       "<Figure size 720x432 with 0 Axes>"
      ]
     },
     "metadata": {},
     "output_type": "display_data"
    },
    {
     "data": {
      "text/plain": [
       "<Figure size 720x432 with 0 Axes>"
      ]
     },
     "metadata": {},
     "output_type": "display_data"
    },
    {
     "data": {
      "text/plain": [
       "<Figure size 720x432 with 0 Axes>"
      ]
     },
     "metadata": {},
     "output_type": "display_data"
    },
    {
     "data": {
      "text/plain": [
       "<Figure size 720x432 with 0 Axes>"
      ]
     },
     "metadata": {},
     "output_type": "display_data"
    },
    {
     "data": {
      "text/plain": [
       "<Figure size 720x432 with 0 Axes>"
      ]
     },
     "metadata": {},
     "output_type": "display_data"
    },
    {
     "data": {
      "text/plain": [
       "<Figure size 720x432 with 0 Axes>"
      ]
     },
     "metadata": {},
     "output_type": "display_data"
    },
    {
     "data": {
      "text/plain": [
       "<Figure size 720x432 with 0 Axes>"
      ]
     },
     "metadata": {},
     "output_type": "display_data"
    },
    {
     "data": {
      "text/plain": [
       "<Figure size 720x432 with 0 Axes>"
      ]
     },
     "metadata": {},
     "output_type": "display_data"
    },
    {
     "data": {
      "text/plain": [
       "<Figure size 720x432 with 0 Axes>"
      ]
     },
     "metadata": {},
     "output_type": "display_data"
    },
    {
     "data": {
      "text/plain": [
       "<Figure size 720x432 with 0 Axes>"
      ]
     },
     "metadata": {},
     "output_type": "display_data"
    },
    {
     "data": {
      "text/plain": [
       "<Figure size 720x432 with 0 Axes>"
      ]
     },
     "metadata": {},
     "output_type": "display_data"
    },
    {
     "data": {
      "text/plain": [
       "<Figure size 720x432 with 0 Axes>"
      ]
     },
     "metadata": {},
     "output_type": "display_data"
    },
    {
     "data": {
      "text/plain": [
       "<Figure size 720x432 with 0 Axes>"
      ]
     },
     "metadata": {},
     "output_type": "display_data"
    },
    {
     "data": {
      "text/plain": [
       "<Figure size 720x432 with 0 Axes>"
      ]
     },
     "metadata": {},
     "output_type": "display_data"
    },
    {
     "data": {
      "text/plain": [
       "<Figure size 720x432 with 0 Axes>"
      ]
     },
     "metadata": {},
     "output_type": "display_data"
    },
    {
     "data": {
      "text/plain": [
       "<Figure size 720x432 with 0 Axes>"
      ]
     },
     "metadata": {},
     "output_type": "display_data"
    },
    {
     "data": {
      "text/plain": [
       "<Figure size 720x432 with 0 Axes>"
      ]
     },
     "metadata": {},
     "output_type": "display_data"
    },
    {
     "data": {
      "text/plain": [
       "<Figure size 720x432 with 0 Axes>"
      ]
     },
     "metadata": {},
     "output_type": "display_data"
    },
    {
     "data": {
      "text/plain": [
       "<Figure size 720x432 with 0 Axes>"
      ]
     },
     "metadata": {},
     "output_type": "display_data"
    },
    {
     "data": {
      "text/plain": [
       "<Figure size 720x432 with 0 Axes>"
      ]
     },
     "metadata": {},
     "output_type": "display_data"
    },
    {
     "data": {
      "text/plain": [
       "<Figure size 720x432 with 0 Axes>"
      ]
     },
     "metadata": {},
     "output_type": "display_data"
    },
    {
     "data": {
      "text/plain": [
       "<Figure size 720x432 with 0 Axes>"
      ]
     },
     "metadata": {},
     "output_type": "display_data"
    },
    {
     "data": {
      "text/plain": [
       "<Figure size 720x432 with 0 Axes>"
      ]
     },
     "metadata": {},
     "output_type": "display_data"
    },
    {
     "data": {
      "text/plain": [
       "<Figure size 720x432 with 0 Axes>"
      ]
     },
     "metadata": {},
     "output_type": "display_data"
    },
    {
     "data": {
      "text/plain": [
       "<Figure size 720x432 with 0 Axes>"
      ]
     },
     "metadata": {},
     "output_type": "display_data"
    },
    {
     "data": {
      "text/plain": [
       "<Figure size 720x432 with 0 Axes>"
      ]
     },
     "metadata": {},
     "output_type": "display_data"
    },
    {
     "data": {
      "text/plain": [
       "<Figure size 720x432 with 0 Axes>"
      ]
     },
     "metadata": {},
     "output_type": "display_data"
    },
    {
     "data": {
      "text/plain": [
       "<Figure size 720x432 with 0 Axes>"
      ]
     },
     "metadata": {},
     "output_type": "display_data"
    },
    {
     "data": {
      "text/plain": [
       "<Figure size 720x432 with 0 Axes>"
      ]
     },
     "metadata": {},
     "output_type": "display_data"
    },
    {
     "data": {
      "text/plain": [
       "<Figure size 720x432 with 0 Axes>"
      ]
     },
     "metadata": {},
     "output_type": "display_data"
    },
    {
     "data": {
      "text/plain": [
       "<Figure size 720x432 with 0 Axes>"
      ]
     },
     "metadata": {},
     "output_type": "display_data"
    },
    {
     "data": {
      "text/plain": [
       "<Figure size 720x432 with 0 Axes>"
      ]
     },
     "metadata": {},
     "output_type": "display_data"
    },
    {
     "data": {
      "text/plain": [
       "<Figure size 720x432 with 0 Axes>"
      ]
     },
     "metadata": {},
     "output_type": "display_data"
    },
    {
     "data": {
      "text/plain": [
       "<Figure size 720x432 with 0 Axes>"
      ]
     },
     "metadata": {},
     "output_type": "display_data"
    },
    {
     "data": {
      "text/plain": [
       "<Figure size 720x432 with 0 Axes>"
      ]
     },
     "metadata": {},
     "output_type": "display_data"
    },
    {
     "data": {
      "text/plain": [
       "<Figure size 720x432 with 0 Axes>"
      ]
     },
     "metadata": {},
     "output_type": "display_data"
    },
    {
     "data": {
      "text/plain": [
       "<Figure size 720x432 with 0 Axes>"
      ]
     },
     "metadata": {},
     "output_type": "display_data"
    },
    {
     "data": {
      "text/plain": [
       "<Figure size 720x432 with 0 Axes>"
      ]
     },
     "metadata": {},
     "output_type": "display_data"
    },
    {
     "data": {
      "text/plain": [
       "<Figure size 720x432 with 0 Axes>"
      ]
     },
     "metadata": {},
     "output_type": "display_data"
    },
    {
     "data": {
      "text/plain": [
       "<Figure size 720x432 with 0 Axes>"
      ]
     },
     "metadata": {},
     "output_type": "display_data"
    },
    {
     "data": {
      "text/plain": [
       "<Figure size 720x432 with 0 Axes>"
      ]
     },
     "metadata": {},
     "output_type": "display_data"
    },
    {
     "data": {
      "text/plain": [
       "<Figure size 720x432 with 0 Axes>"
      ]
     },
     "metadata": {},
     "output_type": "display_data"
    },
    {
     "data": {
      "text/plain": [
       "<Figure size 720x432 with 0 Axes>"
      ]
     },
     "metadata": {},
     "output_type": "display_data"
    },
    {
     "data": {
      "text/plain": [
       "<Figure size 720x432 with 0 Axes>"
      ]
     },
     "metadata": {},
     "output_type": "display_data"
    },
    {
     "data": {
      "text/plain": [
       "<Figure size 720x432 with 0 Axes>"
      ]
     },
     "metadata": {},
     "output_type": "display_data"
    },
    {
     "data": {
      "text/plain": [
       "<Figure size 720x432 with 0 Axes>"
      ]
     },
     "metadata": {},
     "output_type": "display_data"
    },
    {
     "data": {
      "text/plain": [
       "<Figure size 720x432 with 0 Axes>"
      ]
     },
     "metadata": {},
     "output_type": "display_data"
    },
    {
     "data": {
      "text/plain": [
       "<Figure size 720x432 with 0 Axes>"
      ]
     },
     "metadata": {},
     "output_type": "display_data"
    },
    {
     "data": {
      "text/plain": [
       "<Figure size 720x432 with 0 Axes>"
      ]
     },
     "metadata": {},
     "output_type": "display_data"
    },
    {
     "data": {
      "text/plain": [
       "<Figure size 720x432 with 0 Axes>"
      ]
     },
     "metadata": {},
     "output_type": "display_data"
    },
    {
     "data": {
      "text/plain": [
       "<Figure size 720x432 with 0 Axes>"
      ]
     },
     "metadata": {},
     "output_type": "display_data"
    },
    {
     "data": {
      "text/plain": [
       "<Figure size 720x432 with 0 Axes>"
      ]
     },
     "metadata": {},
     "output_type": "display_data"
    },
    {
     "data": {
      "text/plain": [
       "<Figure size 720x432 with 0 Axes>"
      ]
     },
     "metadata": {},
     "output_type": "display_data"
    },
    {
     "data": {
      "text/plain": [
       "<Figure size 720x432 with 0 Axes>"
      ]
     },
     "metadata": {},
     "output_type": "display_data"
    },
    {
     "data": {
      "text/plain": [
       "<Figure size 720x432 with 0 Axes>"
      ]
     },
     "metadata": {},
     "output_type": "display_data"
    },
    {
     "data": {
      "text/plain": [
       "<Figure size 720x432 with 0 Axes>"
      ]
     },
     "metadata": {},
     "output_type": "display_data"
    },
    {
     "data": {
      "text/plain": [
       "<Figure size 720x432 with 0 Axes>"
      ]
     },
     "metadata": {},
     "output_type": "display_data"
    },
    {
     "data": {
      "text/plain": [
       "<Figure size 720x432 with 0 Axes>"
      ]
     },
     "metadata": {},
     "output_type": "display_data"
    },
    {
     "data": {
      "text/plain": [
       "<Figure size 720x432 with 0 Axes>"
      ]
     },
     "metadata": {},
     "output_type": "display_data"
    },
    {
     "data": {
      "text/plain": [
       "<Figure size 720x432 with 0 Axes>"
      ]
     },
     "metadata": {},
     "output_type": "display_data"
    },
    {
     "data": {
      "text/plain": [
       "<Figure size 720x432 with 0 Axes>"
      ]
     },
     "metadata": {},
     "output_type": "display_data"
    },
    {
     "data": {
      "text/plain": [
       "<Figure size 720x432 with 0 Axes>"
      ]
     },
     "metadata": {},
     "output_type": "display_data"
    },
    {
     "data": {
      "text/plain": [
       "<Figure size 720x432 with 0 Axes>"
      ]
     },
     "metadata": {},
     "output_type": "display_data"
    },
    {
     "data": {
      "text/plain": [
       "<Figure size 720x432 with 0 Axes>"
      ]
     },
     "metadata": {},
     "output_type": "display_data"
    },
    {
     "data": {
      "text/plain": [
       "<Figure size 720x432 with 0 Axes>"
      ]
     },
     "metadata": {},
     "output_type": "display_data"
    },
    {
     "data": {
      "text/plain": [
       "<Figure size 720x432 with 0 Axes>"
      ]
     },
     "metadata": {},
     "output_type": "display_data"
    },
    {
     "data": {
      "text/plain": [
       "<Figure size 720x432 with 0 Axes>"
      ]
     },
     "metadata": {},
     "output_type": "display_data"
    },
    {
     "data": {
      "text/plain": [
       "<Figure size 720x432 with 0 Axes>"
      ]
     },
     "metadata": {},
     "output_type": "display_data"
    },
    {
     "data": {
      "text/plain": [
       "<Figure size 720x432 with 0 Axes>"
      ]
     },
     "metadata": {},
     "output_type": "display_data"
    },
    {
     "data": {
      "text/plain": [
       "<Figure size 720x432 with 0 Axes>"
      ]
     },
     "metadata": {},
     "output_type": "display_data"
    },
    {
     "data": {
      "text/plain": [
       "<Figure size 720x432 with 0 Axes>"
      ]
     },
     "metadata": {},
     "output_type": "display_data"
    },
    {
     "data": {
      "text/plain": [
       "<Figure size 720x432 with 0 Axes>"
      ]
     },
     "metadata": {},
     "output_type": "display_data"
    },
    {
     "data": {
      "text/plain": [
       "<Figure size 720x432 with 0 Axes>"
      ]
     },
     "metadata": {},
     "output_type": "display_data"
    },
    {
     "data": {
      "text/plain": [
       "<Figure size 720x432 with 0 Axes>"
      ]
     },
     "metadata": {},
     "output_type": "display_data"
    },
    {
     "data": {
      "text/plain": [
       "<Figure size 720x432 with 0 Axes>"
      ]
     },
     "metadata": {},
     "output_type": "display_data"
    },
    {
     "data": {
      "text/plain": [
       "<Figure size 720x432 with 0 Axes>"
      ]
     },
     "metadata": {},
     "output_type": "display_data"
    },
    {
     "data": {
      "text/plain": [
       "<Figure size 720x432 with 0 Axes>"
      ]
     },
     "metadata": {},
     "output_type": "display_data"
    },
    {
     "data": {
      "text/plain": [
       "<Figure size 720x432 with 0 Axes>"
      ]
     },
     "metadata": {},
     "output_type": "display_data"
    },
    {
     "data": {
      "text/plain": [
       "<Figure size 720x432 with 0 Axes>"
      ]
     },
     "metadata": {},
     "output_type": "display_data"
    },
    {
     "data": {
      "text/plain": [
       "<Figure size 720x432 with 0 Axes>"
      ]
     },
     "metadata": {},
     "output_type": "display_data"
    },
    {
     "data": {
      "text/plain": [
       "<Figure size 720x432 with 0 Axes>"
      ]
     },
     "metadata": {},
     "output_type": "display_data"
    },
    {
     "data": {
      "text/plain": [
       "<Figure size 720x432 with 0 Axes>"
      ]
     },
     "metadata": {},
     "output_type": "display_data"
    },
    {
     "data": {
      "text/plain": [
       "<Figure size 720x432 with 0 Axes>"
      ]
     },
     "metadata": {},
     "output_type": "display_data"
    },
    {
     "data": {
      "text/plain": [
       "<Figure size 720x432 with 0 Axes>"
      ]
     },
     "metadata": {},
     "output_type": "display_data"
    },
    {
     "data": {
      "text/plain": [
       "<Figure size 720x432 with 0 Axes>"
      ]
     },
     "metadata": {},
     "output_type": "display_data"
    },
    {
     "data": {
      "text/plain": [
       "<Figure size 720x432 with 0 Axes>"
      ]
     },
     "metadata": {},
     "output_type": "display_data"
    },
    {
     "data": {
      "text/plain": [
       "<Figure size 720x432 with 0 Axes>"
      ]
     },
     "metadata": {},
     "output_type": "display_data"
    },
    {
     "data": {
      "text/plain": [
       "<Figure size 720x432 with 0 Axes>"
      ]
     },
     "metadata": {},
     "output_type": "display_data"
    },
    {
     "data": {
      "text/plain": [
       "<Figure size 720x432 with 0 Axes>"
      ]
     },
     "metadata": {},
     "output_type": "display_data"
    },
    {
     "data": {
      "text/plain": [
       "<Figure size 720x432 with 0 Axes>"
      ]
     },
     "metadata": {},
     "output_type": "display_data"
    },
    {
     "data": {
      "text/plain": [
       "<Figure size 720x432 with 0 Axes>"
      ]
     },
     "metadata": {},
     "output_type": "display_data"
    },
    {
     "data": {
      "text/plain": [
       "<Figure size 720x432 with 0 Axes>"
      ]
     },
     "metadata": {},
     "output_type": "display_data"
    },
    {
     "data": {
      "text/plain": [
       "<Figure size 720x432 with 0 Axes>"
      ]
     },
     "metadata": {},
     "output_type": "display_data"
    },
    {
     "data": {
      "text/plain": [
       "<Figure size 720x432 with 0 Axes>"
      ]
     },
     "metadata": {},
     "output_type": "display_data"
    },
    {
     "data": {
      "text/plain": [
       "<Figure size 720x432 with 0 Axes>"
      ]
     },
     "metadata": {},
     "output_type": "display_data"
    },
    {
     "data": {
      "text/plain": [
       "<Figure size 720x432 with 0 Axes>"
      ]
     },
     "metadata": {},
     "output_type": "display_data"
    },
    {
     "data": {
      "text/plain": [
       "<Figure size 720x432 with 0 Axes>"
      ]
     },
     "metadata": {},
     "output_type": "display_data"
    },
    {
     "data": {
      "text/plain": [
       "<Figure size 720x432 with 0 Axes>"
      ]
     },
     "metadata": {},
     "output_type": "display_data"
    },
    {
     "data": {
      "text/plain": [
       "<Figure size 720x432 with 0 Axes>"
      ]
     },
     "metadata": {},
     "output_type": "display_data"
    },
    {
     "data": {
      "text/plain": [
       "<Figure size 720x432 with 0 Axes>"
      ]
     },
     "metadata": {},
     "output_type": "display_data"
    },
    {
     "data": {
      "text/plain": [
       "<Figure size 720x432 with 0 Axes>"
      ]
     },
     "metadata": {},
     "output_type": "display_data"
    },
    {
     "data": {
      "text/plain": [
       "<Figure size 720x432 with 0 Axes>"
      ]
     },
     "metadata": {},
     "output_type": "display_data"
    },
    {
     "data": {
      "text/plain": [
       "<Figure size 720x432 with 0 Axes>"
      ]
     },
     "metadata": {},
     "output_type": "display_data"
    },
    {
     "data": {
      "text/plain": [
       "<Figure size 720x432 with 0 Axes>"
      ]
     },
     "metadata": {},
     "output_type": "display_data"
    },
    {
     "data": {
      "text/plain": [
       "<Figure size 720x432 with 0 Axes>"
      ]
     },
     "metadata": {},
     "output_type": "display_data"
    },
    {
     "data": {
      "text/plain": [
       "<Figure size 720x432 with 0 Axes>"
      ]
     },
     "metadata": {},
     "output_type": "display_data"
    },
    {
     "data": {
      "text/plain": [
       "<Figure size 720x432 with 0 Axes>"
      ]
     },
     "metadata": {},
     "output_type": "display_data"
    },
    {
     "data": {
      "text/plain": [
       "<Figure size 720x432 with 0 Axes>"
      ]
     },
     "metadata": {},
     "output_type": "display_data"
    },
    {
     "data": {
      "text/plain": [
       "<Figure size 720x432 with 0 Axes>"
      ]
     },
     "metadata": {},
     "output_type": "display_data"
    },
    {
     "data": {
      "text/plain": [
       "<Figure size 720x432 with 0 Axes>"
      ]
     },
     "metadata": {},
     "output_type": "display_data"
    },
    {
     "data": {
      "text/plain": [
       "<Figure size 720x432 with 0 Axes>"
      ]
     },
     "metadata": {},
     "output_type": "display_data"
    },
    {
     "data": {
      "text/plain": [
       "<Figure size 720x432 with 0 Axes>"
      ]
     },
     "metadata": {},
     "output_type": "display_data"
    },
    {
     "data": {
      "text/plain": [
       "<Figure size 720x432 with 0 Axes>"
      ]
     },
     "metadata": {},
     "output_type": "display_data"
    },
    {
     "data": {
      "text/plain": [
       "<Figure size 720x432 with 0 Axes>"
      ]
     },
     "metadata": {},
     "output_type": "display_data"
    },
    {
     "data": {
      "text/plain": [
       "<Figure size 720x432 with 0 Axes>"
      ]
     },
     "metadata": {},
     "output_type": "display_data"
    },
    {
     "data": {
      "text/plain": [
       "<Figure size 720x432 with 0 Axes>"
      ]
     },
     "metadata": {},
     "output_type": "display_data"
    },
    {
     "data": {
      "text/plain": [
       "<Figure size 720x432 with 0 Axes>"
      ]
     },
     "metadata": {},
     "output_type": "display_data"
    },
    {
     "data": {
      "text/plain": [
       "<Figure size 720x432 with 0 Axes>"
      ]
     },
     "metadata": {},
     "output_type": "display_data"
    },
    {
     "data": {
      "text/plain": [
       "<Figure size 720x432 with 0 Axes>"
      ]
     },
     "metadata": {},
     "output_type": "display_data"
    },
    {
     "data": {
      "text/plain": [
       "<Figure size 720x432 with 0 Axes>"
      ]
     },
     "metadata": {},
     "output_type": "display_data"
    },
    {
     "data": {
      "text/plain": [
       "<Figure size 720x432 with 0 Axes>"
      ]
     },
     "metadata": {},
     "output_type": "display_data"
    },
    {
     "data": {
      "text/plain": [
       "<Figure size 720x432 with 0 Axes>"
      ]
     },
     "metadata": {},
     "output_type": "display_data"
    },
    {
     "data": {
      "text/plain": [
       "<Figure size 720x432 with 0 Axes>"
      ]
     },
     "metadata": {},
     "output_type": "display_data"
    },
    {
     "data": {
      "text/plain": [
       "<Figure size 720x432 with 0 Axes>"
      ]
     },
     "metadata": {},
     "output_type": "display_data"
    },
    {
     "data": {
      "text/plain": [
       "<Figure size 720x432 with 0 Axes>"
      ]
     },
     "metadata": {},
     "output_type": "display_data"
    },
    {
     "data": {
      "text/plain": [
       "<Figure size 720x432 with 0 Axes>"
      ]
     },
     "metadata": {},
     "output_type": "display_data"
    },
    {
     "data": {
      "text/plain": [
       "<Figure size 720x432 with 0 Axes>"
      ]
     },
     "metadata": {},
     "output_type": "display_data"
    },
    {
     "data": {
      "text/plain": [
       "<Figure size 720x432 with 0 Axes>"
      ]
     },
     "metadata": {},
     "output_type": "display_data"
    },
    {
     "data": {
      "text/plain": [
       "<Figure size 720x432 with 0 Axes>"
      ]
     },
     "metadata": {},
     "output_type": "display_data"
    },
    {
     "data": {
      "text/plain": [
       "<Figure size 720x432 with 0 Axes>"
      ]
     },
     "metadata": {},
     "output_type": "display_data"
    },
    {
     "data": {
      "text/plain": [
       "<Figure size 720x432 with 0 Axes>"
      ]
     },
     "metadata": {},
     "output_type": "display_data"
    },
    {
     "data": {
      "text/plain": [
       "<Figure size 720x432 with 0 Axes>"
      ]
     },
     "metadata": {},
     "output_type": "display_data"
    },
    {
     "data": {
      "text/plain": [
       "<Figure size 720x432 with 0 Axes>"
      ]
     },
     "metadata": {},
     "output_type": "display_data"
    },
    {
     "data": {
      "text/plain": [
       "<Figure size 720x432 with 0 Axes>"
      ]
     },
     "metadata": {},
     "output_type": "display_data"
    },
    {
     "data": {
      "text/plain": [
       "<Figure size 720x432 with 0 Axes>"
      ]
     },
     "metadata": {},
     "output_type": "display_data"
    },
    {
     "data": {
      "text/plain": [
       "<Figure size 720x432 with 0 Axes>"
      ]
     },
     "metadata": {},
     "output_type": "display_data"
    },
    {
     "data": {
      "text/plain": [
       "<Figure size 720x432 with 0 Axes>"
      ]
     },
     "metadata": {},
     "output_type": "display_data"
    },
    {
     "data": {
      "text/plain": [
       "<Figure size 720x432 with 0 Axes>"
      ]
     },
     "metadata": {},
     "output_type": "display_data"
    },
    {
     "data": {
      "text/plain": [
       "<Figure size 720x432 with 0 Axes>"
      ]
     },
     "metadata": {},
     "output_type": "display_data"
    },
    {
     "data": {
      "text/plain": [
       "<Figure size 720x432 with 0 Axes>"
      ]
     },
     "metadata": {},
     "output_type": "display_data"
    },
    {
     "data": {
      "text/plain": [
       "<Figure size 720x432 with 0 Axes>"
      ]
     },
     "metadata": {},
     "output_type": "display_data"
    },
    {
     "data": {
      "text/plain": [
       "<Figure size 720x432 with 0 Axes>"
      ]
     },
     "metadata": {},
     "output_type": "display_data"
    },
    {
     "data": {
      "text/plain": [
       "<Figure size 720x432 with 0 Axes>"
      ]
     },
     "metadata": {},
     "output_type": "display_data"
    },
    {
     "data": {
      "text/plain": [
       "<Figure size 720x432 with 0 Axes>"
      ]
     },
     "metadata": {},
     "output_type": "display_data"
    },
    {
     "data": {
      "text/plain": [
       "<Figure size 720x432 with 0 Axes>"
      ]
     },
     "metadata": {},
     "output_type": "display_data"
    },
    {
     "data": {
      "text/plain": [
       "<Figure size 720x432 with 0 Axes>"
      ]
     },
     "metadata": {},
     "output_type": "display_data"
    },
    {
     "data": {
      "text/plain": [
       "<Figure size 720x432 with 0 Axes>"
      ]
     },
     "metadata": {},
     "output_type": "display_data"
    },
    {
     "data": {
      "text/plain": [
       "<Figure size 720x432 with 0 Axes>"
      ]
     },
     "metadata": {},
     "output_type": "display_data"
    },
    {
     "data": {
      "text/plain": [
       "<Figure size 720x432 with 0 Axes>"
      ]
     },
     "metadata": {},
     "output_type": "display_data"
    },
    {
     "data": {
      "text/plain": [
       "<Figure size 720x432 with 0 Axes>"
      ]
     },
     "metadata": {},
     "output_type": "display_data"
    },
    {
     "data": {
      "text/plain": [
       "<Figure size 720x432 with 0 Axes>"
      ]
     },
     "metadata": {},
     "output_type": "display_data"
    },
    {
     "data": {
      "text/plain": [
       "<Figure size 720x432 with 0 Axes>"
      ]
     },
     "metadata": {},
     "output_type": "display_data"
    },
    {
     "data": {
      "text/plain": [
       "<Figure size 720x432 with 0 Axes>"
      ]
     },
     "metadata": {},
     "output_type": "display_data"
    },
    {
     "data": {
      "text/plain": [
       "<Figure size 720x432 with 0 Axes>"
      ]
     },
     "metadata": {},
     "output_type": "display_data"
    },
    {
     "data": {
      "text/plain": [
       "<Figure size 720x432 with 0 Axes>"
      ]
     },
     "metadata": {},
     "output_type": "display_data"
    },
    {
     "data": {
      "text/plain": [
       "<Figure size 720x432 with 0 Axes>"
      ]
     },
     "metadata": {},
     "output_type": "display_data"
    },
    {
     "data": {
      "text/plain": [
       "<Figure size 720x432 with 0 Axes>"
      ]
     },
     "metadata": {},
     "output_type": "display_data"
    },
    {
     "data": {
      "text/plain": [
       "<Figure size 720x432 with 0 Axes>"
      ]
     },
     "metadata": {},
     "output_type": "display_data"
    },
    {
     "data": {
      "text/plain": [
       "<Figure size 720x432 with 0 Axes>"
      ]
     },
     "metadata": {},
     "output_type": "display_data"
    },
    {
     "data": {
      "text/plain": [
       "<Figure size 720x432 with 0 Axes>"
      ]
     },
     "metadata": {},
     "output_type": "display_data"
    },
    {
     "data": {
      "text/plain": [
       "<Figure size 720x432 with 0 Axes>"
      ]
     },
     "metadata": {},
     "output_type": "display_data"
    },
    {
     "data": {
      "text/plain": [
       "<Figure size 720x432 with 0 Axes>"
      ]
     },
     "metadata": {},
     "output_type": "display_data"
    },
    {
     "data": {
      "text/plain": [
       "<Figure size 720x432 with 0 Axes>"
      ]
     },
     "metadata": {},
     "output_type": "display_data"
    },
    {
     "data": {
      "text/plain": [
       "<Figure size 720x432 with 0 Axes>"
      ]
     },
     "metadata": {},
     "output_type": "display_data"
    },
    {
     "data": {
      "text/plain": [
       "<Figure size 720x432 with 0 Axes>"
      ]
     },
     "metadata": {},
     "output_type": "display_data"
    },
    {
     "data": {
      "text/plain": [
       "<Figure size 720x432 with 0 Axes>"
      ]
     },
     "metadata": {},
     "output_type": "display_data"
    },
    {
     "data": {
      "text/plain": [
       "<Figure size 720x432 with 0 Axes>"
      ]
     },
     "metadata": {},
     "output_type": "display_data"
    },
    {
     "data": {
      "text/plain": [
       "<Figure size 720x432 with 0 Axes>"
      ]
     },
     "metadata": {},
     "output_type": "display_data"
    },
    {
     "data": {
      "text/plain": [
       "<Figure size 720x432 with 0 Axes>"
      ]
     },
     "metadata": {},
     "output_type": "display_data"
    },
    {
     "data": {
      "text/plain": [
       "<Figure size 720x432 with 0 Axes>"
      ]
     },
     "metadata": {},
     "output_type": "display_data"
    },
    {
     "data": {
      "text/plain": [
       "<Figure size 720x432 with 0 Axes>"
      ]
     },
     "metadata": {},
     "output_type": "display_data"
    },
    {
     "data": {
      "text/plain": [
       "<Figure size 720x432 with 0 Axes>"
      ]
     },
     "metadata": {},
     "output_type": "display_data"
    },
    {
     "data": {
      "text/plain": [
       "<Figure size 720x432 with 0 Axes>"
      ]
     },
     "metadata": {},
     "output_type": "display_data"
    },
    {
     "data": {
      "text/plain": [
       "<Figure size 720x432 with 0 Axes>"
      ]
     },
     "metadata": {},
     "output_type": "display_data"
    },
    {
     "data": {
      "text/plain": [
       "<Figure size 720x432 with 0 Axes>"
      ]
     },
     "metadata": {},
     "output_type": "display_data"
    },
    {
     "data": {
      "text/plain": [
       "<Figure size 720x432 with 0 Axes>"
      ]
     },
     "metadata": {},
     "output_type": "display_data"
    },
    {
     "data": {
      "text/plain": [
       "<Figure size 720x432 with 0 Axes>"
      ]
     },
     "metadata": {},
     "output_type": "display_data"
    },
    {
     "data": {
      "text/plain": [
       "<Figure size 720x432 with 0 Axes>"
      ]
     },
     "metadata": {},
     "output_type": "display_data"
    },
    {
     "data": {
      "text/plain": [
       "<Figure size 720x432 with 0 Axes>"
      ]
     },
     "metadata": {},
     "output_type": "display_data"
    },
    {
     "data": {
      "text/plain": [
       "<Figure size 720x432 with 0 Axes>"
      ]
     },
     "metadata": {},
     "output_type": "display_data"
    },
    {
     "data": {
      "text/plain": [
       "<Figure size 720x432 with 0 Axes>"
      ]
     },
     "metadata": {},
     "output_type": "display_data"
    },
    {
     "data": {
      "text/plain": [
       "<Figure size 720x432 with 0 Axes>"
      ]
     },
     "metadata": {},
     "output_type": "display_data"
    },
    {
     "data": {
      "text/plain": [
       "<Figure size 720x432 with 0 Axes>"
      ]
     },
     "metadata": {},
     "output_type": "display_data"
    },
    {
     "data": {
      "text/plain": [
       "<Figure size 720x432 with 0 Axes>"
      ]
     },
     "metadata": {},
     "output_type": "display_data"
    },
    {
     "data": {
      "text/plain": [
       "<Figure size 720x432 with 0 Axes>"
      ]
     },
     "metadata": {},
     "output_type": "display_data"
    },
    {
     "data": {
      "text/plain": [
       "<Figure size 720x432 with 0 Axes>"
      ]
     },
     "metadata": {},
     "output_type": "display_data"
    },
    {
     "data": {
      "text/plain": [
       "<Figure size 720x432 with 0 Axes>"
      ]
     },
     "metadata": {},
     "output_type": "display_data"
    },
    {
     "data": {
      "text/plain": [
       "<Figure size 720x432 with 0 Axes>"
      ]
     },
     "metadata": {},
     "output_type": "display_data"
    },
    {
     "data": {
      "text/plain": [
       "<Figure size 720x432 with 0 Axes>"
      ]
     },
     "metadata": {},
     "output_type": "display_data"
    },
    {
     "data": {
      "text/plain": [
       "<Figure size 720x432 with 0 Axes>"
      ]
     },
     "metadata": {},
     "output_type": "display_data"
    },
    {
     "data": {
      "text/plain": [
       "<Figure size 720x432 with 0 Axes>"
      ]
     },
     "metadata": {},
     "output_type": "display_data"
    },
    {
     "data": {
      "text/plain": [
       "<Figure size 720x432 with 0 Axes>"
      ]
     },
     "metadata": {},
     "output_type": "display_data"
    },
    {
     "data": {
      "text/plain": [
       "<Figure size 720x432 with 0 Axes>"
      ]
     },
     "metadata": {},
     "output_type": "display_data"
    },
    {
     "data": {
      "text/plain": [
       "<Figure size 720x432 with 0 Axes>"
      ]
     },
     "metadata": {},
     "output_type": "display_data"
    },
    {
     "data": {
      "text/plain": [
       "<Figure size 720x432 with 0 Axes>"
      ]
     },
     "metadata": {},
     "output_type": "display_data"
    },
    {
     "data": {
      "text/plain": [
       "<Figure size 720x432 with 0 Axes>"
      ]
     },
     "metadata": {},
     "output_type": "display_data"
    },
    {
     "data": {
      "text/plain": [
       "<Figure size 720x432 with 0 Axes>"
      ]
     },
     "metadata": {},
     "output_type": "display_data"
    },
    {
     "data": {
      "text/plain": [
       "<Figure size 720x432 with 0 Axes>"
      ]
     },
     "metadata": {},
     "output_type": "display_data"
    },
    {
     "data": {
      "text/plain": [
       "<Figure size 720x432 with 0 Axes>"
      ]
     },
     "metadata": {},
     "output_type": "display_data"
    },
    {
     "data": {
      "text/plain": [
       "<Figure size 720x432 with 0 Axes>"
      ]
     },
     "metadata": {},
     "output_type": "display_data"
    },
    {
     "data": {
      "text/plain": [
       "<Figure size 720x432 with 0 Axes>"
      ]
     },
     "metadata": {},
     "output_type": "display_data"
    },
    {
     "data": {
      "text/plain": [
       "<Figure size 720x432 with 0 Axes>"
      ]
     },
     "metadata": {},
     "output_type": "display_data"
    },
    {
     "data": {
      "text/plain": [
       "<Figure size 720x432 with 0 Axes>"
      ]
     },
     "metadata": {},
     "output_type": "display_data"
    },
    {
     "data": {
      "text/plain": [
       "<Figure size 720x432 with 0 Axes>"
      ]
     },
     "metadata": {},
     "output_type": "display_data"
    },
    {
     "data": {
      "text/plain": [
       "<Figure size 720x432 with 0 Axes>"
      ]
     },
     "metadata": {},
     "output_type": "display_data"
    },
    {
     "data": {
      "text/plain": [
       "<Figure size 720x432 with 0 Axes>"
      ]
     },
     "metadata": {},
     "output_type": "display_data"
    },
    {
     "data": {
      "text/plain": [
       "<Figure size 720x432 with 0 Axes>"
      ]
     },
     "metadata": {},
     "output_type": "display_data"
    },
    {
     "data": {
      "text/plain": [
       "<Figure size 720x432 with 0 Axes>"
      ]
     },
     "metadata": {},
     "output_type": "display_data"
    },
    {
     "data": {
      "text/plain": [
       "<Figure size 720x432 with 0 Axes>"
      ]
     },
     "metadata": {},
     "output_type": "display_data"
    },
    {
     "data": {
      "text/plain": [
       "<Figure size 720x432 with 0 Axes>"
      ]
     },
     "metadata": {},
     "output_type": "display_data"
    },
    {
     "data": {
      "text/plain": [
       "<Figure size 720x432 with 0 Axes>"
      ]
     },
     "metadata": {},
     "output_type": "display_data"
    },
    {
     "data": {
      "text/plain": [
       "<Figure size 720x432 with 0 Axes>"
      ]
     },
     "metadata": {},
     "output_type": "display_data"
    },
    {
     "data": {
      "text/plain": [
       "<Figure size 720x432 with 0 Axes>"
      ]
     },
     "metadata": {},
     "output_type": "display_data"
    },
    {
     "data": {
      "text/plain": [
       "<Figure size 720x432 with 0 Axes>"
      ]
     },
     "metadata": {},
     "output_type": "display_data"
    },
    {
     "data": {
      "text/plain": [
       "<Figure size 720x432 with 0 Axes>"
      ]
     },
     "metadata": {},
     "output_type": "display_data"
    },
    {
     "data": {
      "text/plain": [
       "<Figure size 720x432 with 0 Axes>"
      ]
     },
     "metadata": {},
     "output_type": "display_data"
    },
    {
     "data": {
      "text/plain": [
       "<Figure size 720x432 with 0 Axes>"
      ]
     },
     "metadata": {},
     "output_type": "display_data"
    },
    {
     "data": {
      "text/plain": [
       "<Figure size 720x432 with 0 Axes>"
      ]
     },
     "metadata": {},
     "output_type": "display_data"
    },
    {
     "data": {
      "text/plain": [
       "<Figure size 720x432 with 0 Axes>"
      ]
     },
     "metadata": {},
     "output_type": "display_data"
    },
    {
     "data": {
      "text/plain": [
       "<Figure size 720x432 with 0 Axes>"
      ]
     },
     "metadata": {},
     "output_type": "display_data"
    },
    {
     "data": {
      "text/plain": [
       "<Figure size 720x432 with 0 Axes>"
      ]
     },
     "metadata": {},
     "output_type": "display_data"
    },
    {
     "data": {
      "text/plain": [
       "<Figure size 720x432 with 0 Axes>"
      ]
     },
     "metadata": {},
     "output_type": "display_data"
    },
    {
     "data": {
      "text/plain": [
       "<Figure size 720x432 with 0 Axes>"
      ]
     },
     "metadata": {},
     "output_type": "display_data"
    },
    {
     "data": {
      "text/plain": [
       "<Figure size 720x432 with 0 Axes>"
      ]
     },
     "metadata": {},
     "output_type": "display_data"
    },
    {
     "data": {
      "text/plain": [
       "<Figure size 720x432 with 0 Axes>"
      ]
     },
     "metadata": {},
     "output_type": "display_data"
    },
    {
     "data": {
      "text/plain": [
       "<Figure size 720x432 with 0 Axes>"
      ]
     },
     "metadata": {},
     "output_type": "display_data"
    },
    {
     "data": {
      "text/plain": [
       "<Figure size 720x432 with 0 Axes>"
      ]
     },
     "metadata": {},
     "output_type": "display_data"
    },
    {
     "data": {
      "text/plain": [
       "<Figure size 720x432 with 0 Axes>"
      ]
     },
     "metadata": {},
     "output_type": "display_data"
    },
    {
     "data": {
      "text/plain": [
       "<Figure size 720x432 with 0 Axes>"
      ]
     },
     "metadata": {},
     "output_type": "display_data"
    },
    {
     "data": {
      "text/plain": [
       "<Figure size 720x432 with 0 Axes>"
      ]
     },
     "metadata": {},
     "output_type": "display_data"
    },
    {
     "data": {
      "text/plain": [
       "<Figure size 720x432 with 0 Axes>"
      ]
     },
     "metadata": {},
     "output_type": "display_data"
    },
    {
     "data": {
      "text/plain": [
       "<Figure size 720x432 with 0 Axes>"
      ]
     },
     "metadata": {},
     "output_type": "display_data"
    },
    {
     "data": {
      "text/plain": [
       "<Figure size 720x432 with 0 Axes>"
      ]
     },
     "metadata": {},
     "output_type": "display_data"
    },
    {
     "data": {
      "text/plain": [
       "<Figure size 720x432 with 0 Axes>"
      ]
     },
     "metadata": {},
     "output_type": "display_data"
    },
    {
     "data": {
      "text/plain": [
       "<Figure size 720x432 with 0 Axes>"
      ]
     },
     "metadata": {},
     "output_type": "display_data"
    },
    {
     "data": {
      "text/plain": [
       "<Figure size 720x432 with 0 Axes>"
      ]
     },
     "metadata": {},
     "output_type": "display_data"
    },
    {
     "data": {
      "text/plain": [
       "<Figure size 720x432 with 0 Axes>"
      ]
     },
     "metadata": {},
     "output_type": "display_data"
    },
    {
     "data": {
      "text/plain": [
       "<Figure size 720x432 with 0 Axes>"
      ]
     },
     "metadata": {},
     "output_type": "display_data"
    },
    {
     "data": {
      "text/plain": [
       "<Figure size 720x432 with 0 Axes>"
      ]
     },
     "metadata": {},
     "output_type": "display_data"
    },
    {
     "data": {
      "text/plain": [
       "<Figure size 720x432 with 0 Axes>"
      ]
     },
     "metadata": {},
     "output_type": "display_data"
    },
    {
     "data": {
      "text/plain": [
       "<Figure size 720x432 with 0 Axes>"
      ]
     },
     "metadata": {},
     "output_type": "display_data"
    },
    {
     "data": {
      "text/plain": [
       "<Figure size 720x432 with 0 Axes>"
      ]
     },
     "metadata": {},
     "output_type": "display_data"
    },
    {
     "data": {
      "text/plain": [
       "<Figure size 720x432 with 0 Axes>"
      ]
     },
     "metadata": {},
     "output_type": "display_data"
    },
    {
     "data": {
      "text/plain": [
       "<Figure size 720x432 with 0 Axes>"
      ]
     },
     "metadata": {},
     "output_type": "display_data"
    },
    {
     "data": {
      "text/plain": [
       "<Figure size 720x432 with 0 Axes>"
      ]
     },
     "metadata": {},
     "output_type": "display_data"
    },
    {
     "data": {
      "text/plain": [
       "<Figure size 720x432 with 0 Axes>"
      ]
     },
     "metadata": {},
     "output_type": "display_data"
    },
    {
     "data": {
      "text/plain": [
       "<Figure size 720x432 with 0 Axes>"
      ]
     },
     "metadata": {},
     "output_type": "display_data"
    },
    {
     "data": {
      "text/plain": [
       "<Figure size 720x432 with 0 Axes>"
      ]
     },
     "metadata": {},
     "output_type": "display_data"
    },
    {
     "data": {
      "text/plain": [
       "<Figure size 720x432 with 0 Axes>"
      ]
     },
     "metadata": {},
     "output_type": "display_data"
    },
    {
     "data": {
      "text/plain": [
       "<Figure size 720x432 with 0 Axes>"
      ]
     },
     "metadata": {},
     "output_type": "display_data"
    },
    {
     "data": {
      "text/plain": [
       "<Figure size 720x432 with 0 Axes>"
      ]
     },
     "metadata": {},
     "output_type": "display_data"
    },
    {
     "data": {
      "text/plain": [
       "<Figure size 720x432 with 0 Axes>"
      ]
     },
     "metadata": {},
     "output_type": "display_data"
    },
    {
     "data": {
      "text/plain": [
       "<Figure size 720x432 with 0 Axes>"
      ]
     },
     "metadata": {},
     "output_type": "display_data"
    },
    {
     "data": {
      "text/plain": [
       "<Figure size 720x432 with 0 Axes>"
      ]
     },
     "metadata": {},
     "output_type": "display_data"
    },
    {
     "data": {
      "text/plain": [
       "<Figure size 720x432 with 0 Axes>"
      ]
     },
     "metadata": {},
     "output_type": "display_data"
    },
    {
     "data": {
      "text/plain": [
       "<Figure size 720x432 with 0 Axes>"
      ]
     },
     "metadata": {},
     "output_type": "display_data"
    },
    {
     "data": {
      "text/plain": [
       "<Figure size 720x432 with 0 Axes>"
      ]
     },
     "metadata": {},
     "output_type": "display_data"
    },
    {
     "data": {
      "text/plain": [
       "<Figure size 720x432 with 0 Axes>"
      ]
     },
     "metadata": {},
     "output_type": "display_data"
    },
    {
     "data": {
      "text/plain": [
       "<Figure size 720x432 with 0 Axes>"
      ]
     },
     "metadata": {},
     "output_type": "display_data"
    },
    {
     "data": {
      "text/plain": [
       "<Figure size 720x432 with 0 Axes>"
      ]
     },
     "metadata": {},
     "output_type": "display_data"
    },
    {
     "data": {
      "text/plain": [
       "<Figure size 720x432 with 0 Axes>"
      ]
     },
     "metadata": {},
     "output_type": "display_data"
    },
    {
     "data": {
      "text/plain": [
       "<Figure size 720x432 with 0 Axes>"
      ]
     },
     "metadata": {},
     "output_type": "display_data"
    },
    {
     "data": {
      "text/plain": [
       "<Figure size 720x432 with 0 Axes>"
      ]
     },
     "metadata": {},
     "output_type": "display_data"
    },
    {
     "data": {
      "text/plain": [
       "<Figure size 720x432 with 0 Axes>"
      ]
     },
     "metadata": {},
     "output_type": "display_data"
    },
    {
     "data": {
      "text/plain": [
       "<Figure size 720x432 with 0 Axes>"
      ]
     },
     "metadata": {},
     "output_type": "display_data"
    },
    {
     "data": {
      "text/plain": [
       "<Figure size 720x432 with 0 Axes>"
      ]
     },
     "metadata": {},
     "output_type": "display_data"
    },
    {
     "data": {
      "text/plain": [
       "<Figure size 720x432 with 0 Axes>"
      ]
     },
     "metadata": {},
     "output_type": "display_data"
    },
    {
     "data": {
      "text/plain": [
       "<Figure size 720x432 with 0 Axes>"
      ]
     },
     "metadata": {},
     "output_type": "display_data"
    },
    {
     "data": {
      "text/plain": [
       "<Figure size 720x432 with 0 Axes>"
      ]
     },
     "metadata": {},
     "output_type": "display_data"
    },
    {
     "data": {
      "text/plain": [
       "<Figure size 720x432 with 0 Axes>"
      ]
     },
     "metadata": {},
     "output_type": "display_data"
    },
    {
     "data": {
      "text/plain": [
       "<Figure size 720x432 with 0 Axes>"
      ]
     },
     "metadata": {},
     "output_type": "display_data"
    },
    {
     "data": {
      "text/plain": [
       "<Figure size 720x432 with 0 Axes>"
      ]
     },
     "metadata": {},
     "output_type": "display_data"
    },
    {
     "data": {
      "text/plain": [
       "<Figure size 720x432 with 0 Axes>"
      ]
     },
     "metadata": {},
     "output_type": "display_data"
    },
    {
     "data": {
      "text/plain": [
       "<Figure size 720x432 with 0 Axes>"
      ]
     },
     "metadata": {},
     "output_type": "display_data"
    },
    {
     "data": {
      "text/plain": [
       "<Figure size 720x432 with 0 Axes>"
      ]
     },
     "metadata": {},
     "output_type": "display_data"
    },
    {
     "data": {
      "text/plain": [
       "<Figure size 720x432 with 0 Axes>"
      ]
     },
     "metadata": {},
     "output_type": "display_data"
    },
    {
     "data": {
      "text/plain": [
       "<Figure size 720x432 with 0 Axes>"
      ]
     },
     "metadata": {},
     "output_type": "display_data"
    },
    {
     "data": {
      "text/plain": [
       "<Figure size 720x432 with 0 Axes>"
      ]
     },
     "metadata": {},
     "output_type": "display_data"
    },
    {
     "data": {
      "text/plain": [
       "<Figure size 720x432 with 0 Axes>"
      ]
     },
     "metadata": {},
     "output_type": "display_data"
    },
    {
     "data": {
      "text/plain": [
       "<Figure size 720x432 with 0 Axes>"
      ]
     },
     "metadata": {},
     "output_type": "display_data"
    },
    {
     "data": {
      "text/plain": [
       "<Figure size 720x432 with 0 Axes>"
      ]
     },
     "metadata": {},
     "output_type": "display_data"
    },
    {
     "data": {
      "text/plain": [
       "<Figure size 720x432 with 0 Axes>"
      ]
     },
     "metadata": {},
     "output_type": "display_data"
    },
    {
     "data": {
      "text/plain": [
       "<Figure size 720x432 with 0 Axes>"
      ]
     },
     "metadata": {},
     "output_type": "display_data"
    },
    {
     "data": {
      "text/plain": [
       "<Figure size 720x432 with 0 Axes>"
      ]
     },
     "metadata": {},
     "output_type": "display_data"
    },
    {
     "data": {
      "text/plain": [
       "<Figure size 720x432 with 0 Axes>"
      ]
     },
     "metadata": {},
     "output_type": "display_data"
    },
    {
     "data": {
      "text/plain": [
       "<Figure size 720x432 with 0 Axes>"
      ]
     },
     "metadata": {},
     "output_type": "display_data"
    },
    {
     "data": {
      "text/plain": [
       "<Figure size 720x432 with 0 Axes>"
      ]
     },
     "metadata": {},
     "output_type": "display_data"
    },
    {
     "data": {
      "text/plain": [
       "<Figure size 720x432 with 0 Axes>"
      ]
     },
     "metadata": {},
     "output_type": "display_data"
    },
    {
     "data": {
      "text/plain": [
       "<Figure size 720x432 with 0 Axes>"
      ]
     },
     "metadata": {},
     "output_type": "display_data"
    },
    {
     "data": {
      "text/plain": [
       "<Figure size 720x432 with 0 Axes>"
      ]
     },
     "metadata": {},
     "output_type": "display_data"
    },
    {
     "data": {
      "text/plain": [
       "<Figure size 720x432 with 0 Axes>"
      ]
     },
     "metadata": {},
     "output_type": "display_data"
    },
    {
     "data": {
      "text/plain": [
       "<Figure size 720x432 with 0 Axes>"
      ]
     },
     "metadata": {},
     "output_type": "display_data"
    },
    {
     "data": {
      "text/plain": [
       "<Figure size 720x432 with 0 Axes>"
      ]
     },
     "metadata": {},
     "output_type": "display_data"
    },
    {
     "data": {
      "text/plain": [
       "<Figure size 720x432 with 0 Axes>"
      ]
     },
     "metadata": {},
     "output_type": "display_data"
    },
    {
     "data": {
      "text/plain": [
       "<Figure size 720x432 with 0 Axes>"
      ]
     },
     "metadata": {},
     "output_type": "display_data"
    },
    {
     "data": {
      "text/plain": [
       "<Figure size 720x432 with 0 Axes>"
      ]
     },
     "metadata": {},
     "output_type": "display_data"
    },
    {
     "data": {
      "text/plain": [
       "<Figure size 720x432 with 0 Axes>"
      ]
     },
     "metadata": {},
     "output_type": "display_data"
    },
    {
     "data": {
      "text/plain": [
       "<Figure size 720x432 with 0 Axes>"
      ]
     },
     "metadata": {},
     "output_type": "display_data"
    },
    {
     "data": {
      "text/plain": [
       "<Figure size 720x432 with 0 Axes>"
      ]
     },
     "metadata": {},
     "output_type": "display_data"
    },
    {
     "data": {
      "text/plain": [
       "<Figure size 720x432 with 0 Axes>"
      ]
     },
     "metadata": {},
     "output_type": "display_data"
    },
    {
     "data": {
      "text/plain": [
       "<Figure size 720x432 with 0 Axes>"
      ]
     },
     "metadata": {},
     "output_type": "display_data"
    },
    {
     "data": {
      "text/plain": [
       "<Figure size 720x432 with 0 Axes>"
      ]
     },
     "metadata": {},
     "output_type": "display_data"
    },
    {
     "data": {
      "text/plain": [
       "<Figure size 720x432 with 0 Axes>"
      ]
     },
     "metadata": {},
     "output_type": "display_data"
    },
    {
     "data": {
      "text/plain": [
       "<Figure size 720x432 with 0 Axes>"
      ]
     },
     "metadata": {},
     "output_type": "display_data"
    },
    {
     "data": {
      "text/plain": [
       "<Figure size 720x432 with 0 Axes>"
      ]
     },
     "metadata": {},
     "output_type": "display_data"
    },
    {
     "data": {
      "text/plain": [
       "<Figure size 720x432 with 0 Axes>"
      ]
     },
     "metadata": {},
     "output_type": "display_data"
    },
    {
     "data": {
      "text/plain": [
       "<Figure size 720x432 with 0 Axes>"
      ]
     },
     "metadata": {},
     "output_type": "display_data"
    },
    {
     "data": {
      "text/plain": [
       "<Figure size 720x432 with 0 Axes>"
      ]
     },
     "metadata": {},
     "output_type": "display_data"
    },
    {
     "data": {
      "text/plain": [
       "<Figure size 720x432 with 0 Axes>"
      ]
     },
     "metadata": {},
     "output_type": "display_data"
    },
    {
     "data": {
      "text/plain": [
       "<Figure size 720x432 with 0 Axes>"
      ]
     },
     "metadata": {},
     "output_type": "display_data"
    },
    {
     "data": {
      "text/plain": [
       "<Figure size 720x432 with 0 Axes>"
      ]
     },
     "metadata": {},
     "output_type": "display_data"
    },
    {
     "data": {
      "text/plain": [
       "<Figure size 720x432 with 0 Axes>"
      ]
     },
     "metadata": {},
     "output_type": "display_data"
    },
    {
     "data": {
      "text/plain": [
       "<Figure size 720x432 with 0 Axes>"
      ]
     },
     "metadata": {},
     "output_type": "display_data"
    },
    {
     "data": {
      "text/plain": [
       "<Figure size 720x432 with 0 Axes>"
      ]
     },
     "metadata": {},
     "output_type": "display_data"
    },
    {
     "data": {
      "text/plain": [
       "<Figure size 720x432 with 0 Axes>"
      ]
     },
     "metadata": {},
     "output_type": "display_data"
    },
    {
     "data": {
      "text/plain": [
       "<Figure size 720x432 with 0 Axes>"
      ]
     },
     "metadata": {},
     "output_type": "display_data"
    },
    {
     "data": {
      "text/plain": [
       "<Figure size 720x432 with 0 Axes>"
      ]
     },
     "metadata": {},
     "output_type": "display_data"
    },
    {
     "data": {
      "text/plain": [
       "<Figure size 720x432 with 0 Axes>"
      ]
     },
     "metadata": {},
     "output_type": "display_data"
    },
    {
     "data": {
      "text/plain": [
       "<Figure size 720x432 with 0 Axes>"
      ]
     },
     "metadata": {},
     "output_type": "display_data"
    },
    {
     "data": {
      "text/plain": [
       "<Figure size 720x432 with 0 Axes>"
      ]
     },
     "metadata": {},
     "output_type": "display_data"
    },
    {
     "data": {
      "text/plain": [
       "<Figure size 720x432 with 0 Axes>"
      ]
     },
     "metadata": {},
     "output_type": "display_data"
    },
    {
     "data": {
      "text/plain": [
       "<Figure size 720x432 with 0 Axes>"
      ]
     },
     "metadata": {},
     "output_type": "display_data"
    },
    {
     "data": {
      "text/plain": [
       "<Figure size 720x432 with 0 Axes>"
      ]
     },
     "metadata": {},
     "output_type": "display_data"
    },
    {
     "data": {
      "text/plain": [
       "<Figure size 720x432 with 0 Axes>"
      ]
     },
     "metadata": {},
     "output_type": "display_data"
    },
    {
     "data": {
      "text/plain": [
       "<Figure size 720x432 with 0 Axes>"
      ]
     },
     "metadata": {},
     "output_type": "display_data"
    },
    {
     "data": {
      "text/plain": [
       "<Figure size 720x432 with 0 Axes>"
      ]
     },
     "metadata": {},
     "output_type": "display_data"
    },
    {
     "data": {
      "text/plain": [
       "<Figure size 720x432 with 0 Axes>"
      ]
     },
     "metadata": {},
     "output_type": "display_data"
    },
    {
     "data": {
      "text/plain": [
       "<Figure size 720x432 with 0 Axes>"
      ]
     },
     "metadata": {},
     "output_type": "display_data"
    },
    {
     "data": {
      "text/plain": [
       "<Figure size 720x432 with 0 Axes>"
      ]
     },
     "metadata": {},
     "output_type": "display_data"
    },
    {
     "data": {
      "text/plain": [
       "<Figure size 720x432 with 0 Axes>"
      ]
     },
     "metadata": {},
     "output_type": "display_data"
    },
    {
     "data": {
      "text/plain": [
       "<Figure size 720x432 with 0 Axes>"
      ]
     },
     "metadata": {},
     "output_type": "display_data"
    },
    {
     "data": {
      "text/plain": [
       "<Figure size 720x432 with 0 Axes>"
      ]
     },
     "metadata": {},
     "output_type": "display_data"
    },
    {
     "data": {
      "text/plain": [
       "<Figure size 720x432 with 0 Axes>"
      ]
     },
     "metadata": {},
     "output_type": "display_data"
    },
    {
     "data": {
      "text/plain": [
       "<Figure size 720x432 with 0 Axes>"
      ]
     },
     "metadata": {},
     "output_type": "display_data"
    },
    {
     "data": {
      "text/plain": [
       "<Figure size 720x432 with 0 Axes>"
      ]
     },
     "metadata": {},
     "output_type": "display_data"
    },
    {
     "data": {
      "text/plain": [
       "<Figure size 720x432 with 0 Axes>"
      ]
     },
     "metadata": {},
     "output_type": "display_data"
    },
    {
     "data": {
      "text/plain": [
       "<Figure size 720x432 with 0 Axes>"
      ]
     },
     "metadata": {},
     "output_type": "display_data"
    },
    {
     "data": {
      "text/plain": [
       "<Figure size 720x432 with 0 Axes>"
      ]
     },
     "metadata": {},
     "output_type": "display_data"
    },
    {
     "data": {
      "text/plain": [
       "<Figure size 720x432 with 0 Axes>"
      ]
     },
     "metadata": {},
     "output_type": "display_data"
    },
    {
     "data": {
      "text/plain": [
       "<Figure size 720x432 with 0 Axes>"
      ]
     },
     "metadata": {},
     "output_type": "display_data"
    },
    {
     "data": {
      "text/plain": [
       "<Figure size 720x432 with 0 Axes>"
      ]
     },
     "metadata": {},
     "output_type": "display_data"
    },
    {
     "data": {
      "text/plain": [
       "<Figure size 720x432 with 0 Axes>"
      ]
     },
     "metadata": {},
     "output_type": "display_data"
    },
    {
     "data": {
      "text/plain": [
       "<Figure size 720x432 with 0 Axes>"
      ]
     },
     "metadata": {},
     "output_type": "display_data"
    },
    {
     "data": {
      "text/plain": [
       "<Figure size 720x432 with 0 Axes>"
      ]
     },
     "metadata": {},
     "output_type": "display_data"
    },
    {
     "data": {
      "text/plain": [
       "<Figure size 720x432 with 0 Axes>"
      ]
     },
     "metadata": {},
     "output_type": "display_data"
    },
    {
     "data": {
      "text/plain": [
       "<Figure size 720x432 with 0 Axes>"
      ]
     },
     "metadata": {},
     "output_type": "display_data"
    },
    {
     "data": {
      "text/plain": [
       "<Figure size 720x432 with 0 Axes>"
      ]
     },
     "metadata": {},
     "output_type": "display_data"
    },
    {
     "data": {
      "text/plain": [
       "<Figure size 720x432 with 0 Axes>"
      ]
     },
     "metadata": {},
     "output_type": "display_data"
    },
    {
     "data": {
      "text/plain": [
       "<Figure size 720x432 with 0 Axes>"
      ]
     },
     "metadata": {},
     "output_type": "display_data"
    },
    {
     "data": {
      "text/plain": [
       "<Figure size 720x432 with 0 Axes>"
      ]
     },
     "metadata": {},
     "output_type": "display_data"
    },
    {
     "data": {
      "text/plain": [
       "<Figure size 720x432 with 0 Axes>"
      ]
     },
     "metadata": {},
     "output_type": "display_data"
    },
    {
     "data": {
      "text/plain": [
       "<Figure size 720x432 with 0 Axes>"
      ]
     },
     "metadata": {},
     "output_type": "display_data"
    },
    {
     "data": {
      "text/plain": [
       "<Figure size 720x432 with 0 Axes>"
      ]
     },
     "metadata": {},
     "output_type": "display_data"
    },
    {
     "data": {
      "text/plain": [
       "<Figure size 720x432 with 0 Axes>"
      ]
     },
     "metadata": {},
     "output_type": "display_data"
    },
    {
     "data": {
      "text/plain": [
       "<Figure size 720x432 with 0 Axes>"
      ]
     },
     "metadata": {},
     "output_type": "display_data"
    },
    {
     "data": {
      "text/plain": [
       "<Figure size 720x432 with 0 Axes>"
      ]
     },
     "metadata": {},
     "output_type": "display_data"
    },
    {
     "data": {
      "text/plain": [
       "<Figure size 720x432 with 0 Axes>"
      ]
     },
     "metadata": {},
     "output_type": "display_data"
    },
    {
     "data": {
      "text/plain": [
       "<Figure size 720x432 with 0 Axes>"
      ]
     },
     "metadata": {},
     "output_type": "display_data"
    },
    {
     "data": {
      "text/plain": [
       "<Figure size 720x432 with 0 Axes>"
      ]
     },
     "metadata": {},
     "output_type": "display_data"
    },
    {
     "data": {
      "text/plain": [
       "<Figure size 720x432 with 0 Axes>"
      ]
     },
     "metadata": {},
     "output_type": "display_data"
    },
    {
     "data": {
      "text/plain": [
       "<Figure size 720x432 with 0 Axes>"
      ]
     },
     "metadata": {},
     "output_type": "display_data"
    },
    {
     "data": {
      "text/plain": [
       "<Figure size 720x432 with 0 Axes>"
      ]
     },
     "metadata": {},
     "output_type": "display_data"
    },
    {
     "data": {
      "text/plain": [
       "<Figure size 720x432 with 0 Axes>"
      ]
     },
     "metadata": {},
     "output_type": "display_data"
    },
    {
     "data": {
      "text/plain": [
       "<Figure size 720x432 with 0 Axes>"
      ]
     },
     "metadata": {},
     "output_type": "display_data"
    },
    {
     "data": {
      "text/plain": [
       "<Figure size 720x432 with 0 Axes>"
      ]
     },
     "metadata": {},
     "output_type": "display_data"
    },
    {
     "data": {
      "text/plain": [
       "<Figure size 720x432 with 0 Axes>"
      ]
     },
     "metadata": {},
     "output_type": "display_data"
    },
    {
     "data": {
      "text/plain": [
       "<Figure size 720x432 with 0 Axes>"
      ]
     },
     "metadata": {},
     "output_type": "display_data"
    },
    {
     "data": {
      "text/plain": [
       "<Figure size 720x432 with 0 Axes>"
      ]
     },
     "metadata": {},
     "output_type": "display_data"
    },
    {
     "data": {
      "text/plain": [
       "<Figure size 720x432 with 0 Axes>"
      ]
     },
     "metadata": {},
     "output_type": "display_data"
    },
    {
     "data": {
      "text/plain": [
       "<Figure size 720x432 with 0 Axes>"
      ]
     },
     "metadata": {},
     "output_type": "display_data"
    },
    {
     "data": {
      "text/plain": [
       "<Figure size 720x432 with 0 Axes>"
      ]
     },
     "metadata": {},
     "output_type": "display_data"
    },
    {
     "data": {
      "text/plain": [
       "<Figure size 720x432 with 0 Axes>"
      ]
     },
     "metadata": {},
     "output_type": "display_data"
    },
    {
     "data": {
      "text/plain": [
       "<Figure size 720x432 with 0 Axes>"
      ]
     },
     "metadata": {},
     "output_type": "display_data"
    },
    {
     "data": {
      "text/plain": [
       "<Figure size 720x432 with 0 Axes>"
      ]
     },
     "metadata": {},
     "output_type": "display_data"
    },
    {
     "data": {
      "text/plain": [
       "<Figure size 720x432 with 0 Axes>"
      ]
     },
     "metadata": {},
     "output_type": "display_data"
    },
    {
     "data": {
      "text/plain": [
       "<Figure size 720x432 with 0 Axes>"
      ]
     },
     "metadata": {},
     "output_type": "display_data"
    },
    {
     "data": {
      "text/plain": [
       "<Figure size 720x432 with 0 Axes>"
      ]
     },
     "metadata": {},
     "output_type": "display_data"
    },
    {
     "data": {
      "text/plain": [
       "<Figure size 720x432 with 0 Axes>"
      ]
     },
     "metadata": {},
     "output_type": "display_data"
    },
    {
     "data": {
      "text/plain": [
       "<Figure size 720x432 with 0 Axes>"
      ]
     },
     "metadata": {},
     "output_type": "display_data"
    },
    {
     "data": {
      "text/plain": [
       "<Figure size 720x432 with 0 Axes>"
      ]
     },
     "metadata": {},
     "output_type": "display_data"
    },
    {
     "data": {
      "text/plain": [
       "<Figure size 720x432 with 0 Axes>"
      ]
     },
     "metadata": {},
     "output_type": "display_data"
    },
    {
     "data": {
      "text/plain": [
       "<Figure size 720x432 with 0 Axes>"
      ]
     },
     "metadata": {},
     "output_type": "display_data"
    },
    {
     "data": {
      "text/plain": [
       "<Figure size 720x432 with 0 Axes>"
      ]
     },
     "metadata": {},
     "output_type": "display_data"
    },
    {
     "data": {
      "text/plain": [
       "<Figure size 720x432 with 0 Axes>"
      ]
     },
     "metadata": {},
     "output_type": "display_data"
    },
    {
     "data": {
      "text/plain": [
       "<Figure size 720x432 with 0 Axes>"
      ]
     },
     "metadata": {},
     "output_type": "display_data"
    },
    {
     "data": {
      "text/plain": [
       "<Figure size 720x432 with 0 Axes>"
      ]
     },
     "metadata": {},
     "output_type": "display_data"
    },
    {
     "data": {
      "text/plain": [
       "<Figure size 720x432 with 0 Axes>"
      ]
     },
     "metadata": {},
     "output_type": "display_data"
    },
    {
     "data": {
      "text/plain": [
       "<Figure size 720x432 with 0 Axes>"
      ]
     },
     "metadata": {},
     "output_type": "display_data"
    },
    {
     "data": {
      "text/plain": [
       "<Figure size 720x432 with 0 Axes>"
      ]
     },
     "metadata": {},
     "output_type": "display_data"
    },
    {
     "data": {
      "text/plain": [
       "<Figure size 720x432 with 0 Axes>"
      ]
     },
     "metadata": {},
     "output_type": "display_data"
    },
    {
     "data": {
      "text/plain": [
       "<Figure size 720x432 with 0 Axes>"
      ]
     },
     "metadata": {},
     "output_type": "display_data"
    },
    {
     "data": {
      "text/plain": [
       "<Figure size 720x432 with 0 Axes>"
      ]
     },
     "metadata": {},
     "output_type": "display_data"
    },
    {
     "data": {
      "text/plain": [
       "<Figure size 720x432 with 0 Axes>"
      ]
     },
     "metadata": {},
     "output_type": "display_data"
    },
    {
     "data": {
      "text/plain": [
       "<Figure size 720x432 with 0 Axes>"
      ]
     },
     "metadata": {},
     "output_type": "display_data"
    },
    {
     "data": {
      "text/plain": [
       "<Figure size 720x432 with 0 Axes>"
      ]
     },
     "metadata": {},
     "output_type": "display_data"
    },
    {
     "data": {
      "text/plain": [
       "<Figure size 720x432 with 0 Axes>"
      ]
     },
     "metadata": {},
     "output_type": "display_data"
    },
    {
     "data": {
      "text/plain": [
       "<Figure size 720x432 with 0 Axes>"
      ]
     },
     "metadata": {},
     "output_type": "display_data"
    },
    {
     "data": {
      "text/plain": [
       "<Figure size 720x432 with 0 Axes>"
      ]
     },
     "metadata": {},
     "output_type": "display_data"
    },
    {
     "data": {
      "text/plain": [
       "<Figure size 720x432 with 0 Axes>"
      ]
     },
     "metadata": {},
     "output_type": "display_data"
    },
    {
     "data": {
      "text/plain": [
       "<Figure size 720x432 with 0 Axes>"
      ]
     },
     "metadata": {},
     "output_type": "display_data"
    },
    {
     "data": {
      "text/plain": [
       "<Figure size 720x432 with 0 Axes>"
      ]
     },
     "metadata": {},
     "output_type": "display_data"
    },
    {
     "data": {
      "text/plain": [
       "<Figure size 720x432 with 0 Axes>"
      ]
     },
     "metadata": {},
     "output_type": "display_data"
    },
    {
     "data": {
      "text/plain": [
       "<Figure size 720x432 with 0 Axes>"
      ]
     },
     "metadata": {},
     "output_type": "display_data"
    },
    {
     "data": {
      "text/plain": [
       "<Figure size 720x432 with 0 Axes>"
      ]
     },
     "metadata": {},
     "output_type": "display_data"
    },
    {
     "data": {
      "text/plain": [
       "<Figure size 720x432 with 0 Axes>"
      ]
     },
     "metadata": {},
     "output_type": "display_data"
    },
    {
     "data": {
      "text/plain": [
       "<Figure size 720x432 with 0 Axes>"
      ]
     },
     "metadata": {},
     "output_type": "display_data"
    },
    {
     "data": {
      "text/plain": [
       "<Figure size 720x432 with 0 Axes>"
      ]
     },
     "metadata": {},
     "output_type": "display_data"
    },
    {
     "data": {
      "text/plain": [
       "<Figure size 720x432 with 0 Axes>"
      ]
     },
     "metadata": {},
     "output_type": "display_data"
    },
    {
     "data": {
      "text/plain": [
       "<Figure size 720x432 with 0 Axes>"
      ]
     },
     "metadata": {},
     "output_type": "display_data"
    },
    {
     "data": {
      "text/plain": [
       "<Figure size 720x432 with 0 Axes>"
      ]
     },
     "metadata": {},
     "output_type": "display_data"
    },
    {
     "data": {
      "text/plain": [
       "<Figure size 720x432 with 0 Axes>"
      ]
     },
     "metadata": {},
     "output_type": "display_data"
    },
    {
     "data": {
      "text/plain": [
       "<Figure size 720x432 with 0 Axes>"
      ]
     },
     "metadata": {},
     "output_type": "display_data"
    },
    {
     "data": {
      "text/plain": [
       "<Figure size 720x432 with 0 Axes>"
      ]
     },
     "metadata": {},
     "output_type": "display_data"
    },
    {
     "data": {
      "text/plain": [
       "<Figure size 720x432 with 0 Axes>"
      ]
     },
     "metadata": {},
     "output_type": "display_data"
    },
    {
     "data": {
      "text/plain": [
       "<Figure size 720x432 with 0 Axes>"
      ]
     },
     "metadata": {},
     "output_type": "display_data"
    },
    {
     "data": {
      "text/plain": [
       "<Figure size 720x432 with 0 Axes>"
      ]
     },
     "metadata": {},
     "output_type": "display_data"
    },
    {
     "data": {
      "text/plain": [
       "<Figure size 720x432 with 0 Axes>"
      ]
     },
     "metadata": {},
     "output_type": "display_data"
    },
    {
     "data": {
      "text/plain": [
       "<Figure size 720x432 with 0 Axes>"
      ]
     },
     "metadata": {},
     "output_type": "display_data"
    },
    {
     "data": {
      "text/plain": [
       "<Figure size 720x432 with 0 Axes>"
      ]
     },
     "metadata": {},
     "output_type": "display_data"
    },
    {
     "data": {
      "text/plain": [
       "<Figure size 720x432 with 0 Axes>"
      ]
     },
     "metadata": {},
     "output_type": "display_data"
    },
    {
     "data": {
      "text/plain": [
       "<Figure size 720x432 with 0 Axes>"
      ]
     },
     "metadata": {},
     "output_type": "display_data"
    },
    {
     "data": {
      "text/plain": [
       "<Figure size 720x432 with 0 Axes>"
      ]
     },
     "metadata": {},
     "output_type": "display_data"
    },
    {
     "data": {
      "text/plain": [
       "<Figure size 720x432 with 0 Axes>"
      ]
     },
     "metadata": {},
     "output_type": "display_data"
    },
    {
     "data": {
      "text/plain": [
       "<Figure size 720x432 with 0 Axes>"
      ]
     },
     "metadata": {},
     "output_type": "display_data"
    },
    {
     "data": {
      "text/plain": [
       "<Figure size 720x432 with 0 Axes>"
      ]
     },
     "metadata": {},
     "output_type": "display_data"
    },
    {
     "data": {
      "text/plain": [
       "<Figure size 720x432 with 0 Axes>"
      ]
     },
     "metadata": {},
     "output_type": "display_data"
    },
    {
     "data": {
      "text/plain": [
       "<Figure size 720x432 with 0 Axes>"
      ]
     },
     "metadata": {},
     "output_type": "display_data"
    },
    {
     "data": {
      "text/plain": [
       "<Figure size 720x432 with 0 Axes>"
      ]
     },
     "metadata": {},
     "output_type": "display_data"
    },
    {
     "data": {
      "text/plain": [
       "<Figure size 720x432 with 0 Axes>"
      ]
     },
     "metadata": {},
     "output_type": "display_data"
    },
    {
     "data": {
      "text/plain": [
       "<Figure size 720x432 with 0 Axes>"
      ]
     },
     "metadata": {},
     "output_type": "display_data"
    },
    {
     "data": {
      "text/plain": [
       "<Figure size 720x432 with 0 Axes>"
      ]
     },
     "metadata": {},
     "output_type": "display_data"
    },
    {
     "data": {
      "text/plain": [
       "<Figure size 720x432 with 0 Axes>"
      ]
     },
     "metadata": {},
     "output_type": "display_data"
    },
    {
     "data": {
      "text/plain": [
       "<Figure size 720x432 with 0 Axes>"
      ]
     },
     "metadata": {},
     "output_type": "display_data"
    },
    {
     "data": {
      "text/plain": [
       "<Figure size 720x432 with 0 Axes>"
      ]
     },
     "metadata": {},
     "output_type": "display_data"
    },
    {
     "data": {
      "text/plain": [
       "<Figure size 720x432 with 0 Axes>"
      ]
     },
     "metadata": {},
     "output_type": "display_data"
    },
    {
     "data": {
      "text/plain": [
       "<Figure size 720x432 with 0 Axes>"
      ]
     },
     "metadata": {},
     "output_type": "display_data"
    },
    {
     "data": {
      "text/plain": [
       "<Figure size 720x432 with 0 Axes>"
      ]
     },
     "metadata": {},
     "output_type": "display_data"
    },
    {
     "data": {
      "text/plain": [
       "<Figure size 720x432 with 0 Axes>"
      ]
     },
     "metadata": {},
     "output_type": "display_data"
    },
    {
     "data": {
      "text/plain": [
       "<Figure size 720x432 with 0 Axes>"
      ]
     },
     "metadata": {},
     "output_type": "display_data"
    },
    {
     "data": {
      "text/plain": [
       "<Figure size 720x432 with 0 Axes>"
      ]
     },
     "metadata": {},
     "output_type": "display_data"
    },
    {
     "data": {
      "text/plain": [
       "<Figure size 720x432 with 0 Axes>"
      ]
     },
     "metadata": {},
     "output_type": "display_data"
    },
    {
     "data": {
      "text/plain": [
       "<Figure size 720x432 with 0 Axes>"
      ]
     },
     "metadata": {},
     "output_type": "display_data"
    },
    {
     "data": {
      "text/plain": [
       "<Figure size 720x432 with 0 Axes>"
      ]
     },
     "metadata": {},
     "output_type": "display_data"
    },
    {
     "data": {
      "text/plain": [
       "<Figure size 720x432 with 0 Axes>"
      ]
     },
     "metadata": {},
     "output_type": "display_data"
    },
    {
     "data": {
      "text/plain": [
       "<Figure size 720x432 with 0 Axes>"
      ]
     },
     "metadata": {},
     "output_type": "display_data"
    },
    {
     "data": {
      "text/plain": [
       "<Figure size 720x432 with 0 Axes>"
      ]
     },
     "metadata": {},
     "output_type": "display_data"
    },
    {
     "data": {
      "text/plain": [
       "<Figure size 720x432 with 0 Axes>"
      ]
     },
     "metadata": {},
     "output_type": "display_data"
    },
    {
     "data": {
      "text/plain": [
       "<Figure size 720x432 with 0 Axes>"
      ]
     },
     "metadata": {},
     "output_type": "display_data"
    },
    {
     "data": {
      "text/plain": [
       "<Figure size 720x432 with 0 Axes>"
      ]
     },
     "metadata": {},
     "output_type": "display_data"
    },
    {
     "data": {
      "text/plain": [
       "<Figure size 720x432 with 0 Axes>"
      ]
     },
     "metadata": {},
     "output_type": "display_data"
    },
    {
     "data": {
      "text/plain": [
       "<Figure size 720x432 with 0 Axes>"
      ]
     },
     "metadata": {},
     "output_type": "display_data"
    },
    {
     "data": {
      "text/plain": [
       "<Figure size 720x432 with 0 Axes>"
      ]
     },
     "metadata": {},
     "output_type": "display_data"
    },
    {
     "data": {
      "text/plain": [
       "<Figure size 720x432 with 0 Axes>"
      ]
     },
     "metadata": {},
     "output_type": "display_data"
    },
    {
     "data": {
      "text/plain": [
       "<Figure size 720x432 with 0 Axes>"
      ]
     },
     "metadata": {},
     "output_type": "display_data"
    },
    {
     "data": {
      "text/plain": [
       "<Figure size 720x432 with 0 Axes>"
      ]
     },
     "metadata": {},
     "output_type": "display_data"
    },
    {
     "data": {
      "text/plain": [
       "<Figure size 720x432 with 0 Axes>"
      ]
     },
     "metadata": {},
     "output_type": "display_data"
    },
    {
     "data": {
      "text/plain": [
       "<Figure size 720x432 with 0 Axes>"
      ]
     },
     "metadata": {},
     "output_type": "display_data"
    },
    {
     "data": {
      "text/plain": [
       "<Figure size 720x432 with 0 Axes>"
      ]
     },
     "metadata": {},
     "output_type": "display_data"
    },
    {
     "data": {
      "text/plain": [
       "<Figure size 720x432 with 0 Axes>"
      ]
     },
     "metadata": {},
     "output_type": "display_data"
    },
    {
     "data": {
      "text/plain": [
       "<Figure size 720x432 with 0 Axes>"
      ]
     },
     "metadata": {},
     "output_type": "display_data"
    },
    {
     "data": {
      "text/plain": [
       "<Figure size 720x432 with 0 Axes>"
      ]
     },
     "metadata": {},
     "output_type": "display_data"
    },
    {
     "data": {
      "text/plain": [
       "<Figure size 720x432 with 0 Axes>"
      ]
     },
     "metadata": {},
     "output_type": "display_data"
    },
    {
     "data": {
      "text/plain": [
       "<Figure size 720x432 with 0 Axes>"
      ]
     },
     "metadata": {},
     "output_type": "display_data"
    },
    {
     "data": {
      "text/plain": [
       "<Figure size 720x432 with 0 Axes>"
      ]
     },
     "metadata": {},
     "output_type": "display_data"
    },
    {
     "data": {
      "text/plain": [
       "<Figure size 720x432 with 0 Axes>"
      ]
     },
     "metadata": {},
     "output_type": "display_data"
    },
    {
     "data": {
      "text/plain": [
       "<Figure size 720x432 with 0 Axes>"
      ]
     },
     "metadata": {},
     "output_type": "display_data"
    },
    {
     "data": {
      "text/plain": [
       "<Figure size 720x432 with 0 Axes>"
      ]
     },
     "metadata": {},
     "output_type": "display_data"
    },
    {
     "data": {
      "text/plain": [
       "<Figure size 720x432 with 0 Axes>"
      ]
     },
     "metadata": {},
     "output_type": "display_data"
    },
    {
     "data": {
      "text/plain": [
       "<Figure size 720x432 with 0 Axes>"
      ]
     },
     "metadata": {},
     "output_type": "display_data"
    },
    {
     "data": {
      "text/plain": [
       "<Figure size 720x432 with 0 Axes>"
      ]
     },
     "metadata": {},
     "output_type": "display_data"
    },
    {
     "data": {
      "text/plain": [
       "<Figure size 720x432 with 0 Axes>"
      ]
     },
     "metadata": {},
     "output_type": "display_data"
    },
    {
     "data": {
      "text/plain": [
       "<Figure size 720x432 with 0 Axes>"
      ]
     },
     "metadata": {},
     "output_type": "display_data"
    },
    {
     "data": {
      "text/plain": [
       "<Figure size 720x432 with 0 Axes>"
      ]
     },
     "metadata": {},
     "output_type": "display_data"
    },
    {
     "data": {
      "text/plain": [
       "<Figure size 720x432 with 0 Axes>"
      ]
     },
     "metadata": {},
     "output_type": "display_data"
    },
    {
     "data": {
      "text/plain": [
       "<Figure size 720x432 with 0 Axes>"
      ]
     },
     "metadata": {},
     "output_type": "display_data"
    },
    {
     "data": {
      "text/plain": [
       "<Figure size 720x432 with 0 Axes>"
      ]
     },
     "metadata": {},
     "output_type": "display_data"
    },
    {
     "data": {
      "text/plain": [
       "<Figure size 720x432 with 0 Axes>"
      ]
     },
     "metadata": {},
     "output_type": "display_data"
    },
    {
     "data": {
      "text/plain": [
       "<Figure size 720x432 with 0 Axes>"
      ]
     },
     "metadata": {},
     "output_type": "display_data"
    },
    {
     "data": {
      "text/plain": [
       "<Figure size 720x432 with 0 Axes>"
      ]
     },
     "metadata": {},
     "output_type": "display_data"
    },
    {
     "data": {
      "text/plain": [
       "<Figure size 720x432 with 0 Axes>"
      ]
     },
     "metadata": {},
     "output_type": "display_data"
    },
    {
     "data": {
      "text/plain": [
       "<Figure size 720x432 with 0 Axes>"
      ]
     },
     "metadata": {},
     "output_type": "display_data"
    },
    {
     "data": {
      "text/plain": [
       "<Figure size 720x432 with 0 Axes>"
      ]
     },
     "metadata": {},
     "output_type": "display_data"
    },
    {
     "data": {
      "text/plain": [
       "<Figure size 720x432 with 0 Axes>"
      ]
     },
     "metadata": {},
     "output_type": "display_data"
    },
    {
     "data": {
      "text/plain": [
       "<Figure size 720x432 with 0 Axes>"
      ]
     },
     "metadata": {},
     "output_type": "display_data"
    },
    {
     "data": {
      "text/plain": [
       "<Figure size 720x432 with 0 Axes>"
      ]
     },
     "metadata": {},
     "output_type": "display_data"
    },
    {
     "data": {
      "text/plain": [
       "<Figure size 720x432 with 0 Axes>"
      ]
     },
     "metadata": {},
     "output_type": "display_data"
    },
    {
     "data": {
      "text/plain": [
       "<Figure size 720x432 with 0 Axes>"
      ]
     },
     "metadata": {},
     "output_type": "display_data"
    },
    {
     "data": {
      "text/plain": [
       "<Figure size 720x432 with 0 Axes>"
      ]
     },
     "metadata": {},
     "output_type": "display_data"
    },
    {
     "data": {
      "text/plain": [
       "<Figure size 720x432 with 0 Axes>"
      ]
     },
     "metadata": {},
     "output_type": "display_data"
    },
    {
     "data": {
      "text/plain": [
       "<Figure size 720x432 with 0 Axes>"
      ]
     },
     "metadata": {},
     "output_type": "display_data"
    },
    {
     "data": {
      "text/plain": [
       "<Figure size 720x432 with 0 Axes>"
      ]
     },
     "metadata": {},
     "output_type": "display_data"
    },
    {
     "data": {
      "text/plain": [
       "<Figure size 720x432 with 0 Axes>"
      ]
     },
     "metadata": {},
     "output_type": "display_data"
    },
    {
     "data": {
      "text/plain": [
       "<Figure size 720x432 with 0 Axes>"
      ]
     },
     "metadata": {},
     "output_type": "display_data"
    },
    {
     "data": {
      "text/plain": [
       "<Figure size 720x432 with 0 Axes>"
      ]
     },
     "metadata": {},
     "output_type": "display_data"
    },
    {
     "data": {
      "text/plain": [
       "<Figure size 720x432 with 0 Axes>"
      ]
     },
     "metadata": {},
     "output_type": "display_data"
    },
    {
     "data": {
      "text/plain": [
       "<Figure size 720x432 with 0 Axes>"
      ]
     },
     "metadata": {},
     "output_type": "display_data"
    },
    {
     "data": {
      "text/plain": [
       "<Figure size 720x432 with 0 Axes>"
      ]
     },
     "metadata": {},
     "output_type": "display_data"
    },
    {
     "data": {
      "text/plain": [
       "<Figure size 720x432 with 0 Axes>"
      ]
     },
     "metadata": {},
     "output_type": "display_data"
    },
    {
     "data": {
      "text/plain": [
       "<Figure size 720x432 with 0 Axes>"
      ]
     },
     "metadata": {},
     "output_type": "display_data"
    },
    {
     "data": {
      "text/plain": [
       "<Figure size 720x432 with 0 Axes>"
      ]
     },
     "metadata": {},
     "output_type": "display_data"
    },
    {
     "data": {
      "text/plain": [
       "<Figure size 720x432 with 0 Axes>"
      ]
     },
     "metadata": {},
     "output_type": "display_data"
    },
    {
     "data": {
      "text/plain": [
       "<Figure size 720x432 with 0 Axes>"
      ]
     },
     "metadata": {},
     "output_type": "display_data"
    },
    {
     "data": {
      "text/plain": [
       "<Figure size 720x432 with 0 Axes>"
      ]
     },
     "metadata": {},
     "output_type": "display_data"
    },
    {
     "data": {
      "text/plain": [
       "<Figure size 720x432 with 0 Axes>"
      ]
     },
     "metadata": {},
     "output_type": "display_data"
    },
    {
     "data": {
      "text/plain": [
       "<Figure size 720x432 with 0 Axes>"
      ]
     },
     "metadata": {},
     "output_type": "display_data"
    },
    {
     "data": {
      "text/plain": [
       "<Figure size 720x432 with 0 Axes>"
      ]
     },
     "metadata": {},
     "output_type": "display_data"
    },
    {
     "data": {
      "text/plain": [
       "<Figure size 720x432 with 0 Axes>"
      ]
     },
     "metadata": {},
     "output_type": "display_data"
    },
    {
     "data": {
      "text/plain": [
       "<Figure size 720x432 with 0 Axes>"
      ]
     },
     "metadata": {},
     "output_type": "display_data"
    },
    {
     "data": {
      "text/plain": [
       "<Figure size 720x432 with 0 Axes>"
      ]
     },
     "metadata": {},
     "output_type": "display_data"
    },
    {
     "data": {
      "text/plain": [
       "<Figure size 720x432 with 0 Axes>"
      ]
     },
     "metadata": {},
     "output_type": "display_data"
    },
    {
     "data": {
      "text/plain": [
       "<Figure size 720x432 with 0 Axes>"
      ]
     },
     "metadata": {},
     "output_type": "display_data"
    },
    {
     "data": {
      "text/plain": [
       "<Figure size 720x432 with 0 Axes>"
      ]
     },
     "metadata": {},
     "output_type": "display_data"
    },
    {
     "data": {
      "text/plain": [
       "<Figure size 720x432 with 0 Axes>"
      ]
     },
     "metadata": {},
     "output_type": "display_data"
    },
    {
     "data": {
      "text/plain": [
       "<Figure size 720x432 with 0 Axes>"
      ]
     },
     "metadata": {},
     "output_type": "display_data"
    },
    {
     "data": {
      "text/plain": [
       "<Figure size 720x432 with 0 Axes>"
      ]
     },
     "metadata": {},
     "output_type": "display_data"
    },
    {
     "data": {
      "text/plain": [
       "<Figure size 720x432 with 0 Axes>"
      ]
     },
     "metadata": {},
     "output_type": "display_data"
    },
    {
     "data": {
      "text/plain": [
       "<Figure size 720x432 with 0 Axes>"
      ]
     },
     "metadata": {},
     "output_type": "display_data"
    },
    {
     "data": {
      "text/plain": [
       "<Figure size 720x432 with 0 Axes>"
      ]
     },
     "metadata": {},
     "output_type": "display_data"
    },
    {
     "data": {
      "text/plain": [
       "<Figure size 720x432 with 0 Axes>"
      ]
     },
     "metadata": {},
     "output_type": "display_data"
    },
    {
     "data": {
      "text/plain": [
       "<Figure size 720x432 with 0 Axes>"
      ]
     },
     "metadata": {},
     "output_type": "display_data"
    },
    {
     "data": {
      "text/plain": [
       "<Figure size 720x432 with 0 Axes>"
      ]
     },
     "metadata": {},
     "output_type": "display_data"
    },
    {
     "data": {
      "text/plain": [
       "<Figure size 720x432 with 0 Axes>"
      ]
     },
     "metadata": {},
     "output_type": "display_data"
    },
    {
     "data": {
      "text/plain": [
       "<Figure size 720x432 with 0 Axes>"
      ]
     },
     "metadata": {},
     "output_type": "display_data"
    },
    {
     "data": {
      "text/plain": [
       "<Figure size 720x432 with 0 Axes>"
      ]
     },
     "metadata": {},
     "output_type": "display_data"
    },
    {
     "data": {
      "text/plain": [
       "<Figure size 720x432 with 0 Axes>"
      ]
     },
     "metadata": {},
     "output_type": "display_data"
    },
    {
     "data": {
      "text/plain": [
       "<Figure size 720x432 with 0 Axes>"
      ]
     },
     "metadata": {},
     "output_type": "display_data"
    },
    {
     "data": {
      "text/plain": [
       "<Figure size 720x432 with 0 Axes>"
      ]
     },
     "metadata": {},
     "output_type": "display_data"
    },
    {
     "data": {
      "text/plain": [
       "<Figure size 720x432 with 0 Axes>"
      ]
     },
     "metadata": {},
     "output_type": "display_data"
    },
    {
     "data": {
      "text/plain": [
       "<Figure size 720x432 with 0 Axes>"
      ]
     },
     "metadata": {},
     "output_type": "display_data"
    },
    {
     "data": {
      "text/plain": [
       "<Figure size 720x432 with 0 Axes>"
      ]
     },
     "metadata": {},
     "output_type": "display_data"
    },
    {
     "data": {
      "text/plain": [
       "<Figure size 720x432 with 0 Axes>"
      ]
     },
     "metadata": {},
     "output_type": "display_data"
    },
    {
     "data": {
      "text/plain": [
       "<Figure size 720x432 with 0 Axes>"
      ]
     },
     "metadata": {},
     "output_type": "display_data"
    },
    {
     "data": {
      "text/plain": [
       "<Figure size 720x432 with 0 Axes>"
      ]
     },
     "metadata": {},
     "output_type": "display_data"
    },
    {
     "data": {
      "text/plain": [
       "<Figure size 720x432 with 0 Axes>"
      ]
     },
     "metadata": {},
     "output_type": "display_data"
    },
    {
     "data": {
      "text/plain": [
       "<Figure size 720x432 with 0 Axes>"
      ]
     },
     "metadata": {},
     "output_type": "display_data"
    },
    {
     "data": {
      "text/plain": [
       "<Figure size 720x432 with 0 Axes>"
      ]
     },
     "metadata": {},
     "output_type": "display_data"
    },
    {
     "data": {
      "text/plain": [
       "<Figure size 720x432 with 0 Axes>"
      ]
     },
     "metadata": {},
     "output_type": "display_data"
    },
    {
     "data": {
      "text/plain": [
       "<Figure size 720x432 with 0 Axes>"
      ]
     },
     "metadata": {},
     "output_type": "display_data"
    },
    {
     "data": {
      "text/plain": [
       "<Figure size 720x432 with 0 Axes>"
      ]
     },
     "metadata": {},
     "output_type": "display_data"
    },
    {
     "data": {
      "text/plain": [
       "<Figure size 720x432 with 0 Axes>"
      ]
     },
     "metadata": {},
     "output_type": "display_data"
    },
    {
     "data": {
      "text/plain": [
       "<Figure size 720x432 with 0 Axes>"
      ]
     },
     "metadata": {},
     "output_type": "display_data"
    },
    {
     "data": {
      "text/plain": [
       "<Figure size 720x432 with 0 Axes>"
      ]
     },
     "metadata": {},
     "output_type": "display_data"
    },
    {
     "data": {
      "text/plain": [
       "<Figure size 720x432 with 0 Axes>"
      ]
     },
     "metadata": {},
     "output_type": "display_data"
    },
    {
     "data": {
      "text/plain": [
       "<Figure size 720x432 with 0 Axes>"
      ]
     },
     "metadata": {},
     "output_type": "display_data"
    },
    {
     "data": {
      "text/plain": [
       "<Figure size 720x432 with 0 Axes>"
      ]
     },
     "metadata": {},
     "output_type": "display_data"
    },
    {
     "data": {
      "text/plain": [
       "<Figure size 720x432 with 0 Axes>"
      ]
     },
     "metadata": {},
     "output_type": "display_data"
    },
    {
     "data": {
      "text/plain": [
       "<Figure size 720x432 with 0 Axes>"
      ]
     },
     "metadata": {},
     "output_type": "display_data"
    },
    {
     "data": {
      "text/plain": [
       "<Figure size 720x432 with 0 Axes>"
      ]
     },
     "metadata": {},
     "output_type": "display_data"
    },
    {
     "data": {
      "text/plain": [
       "<Figure size 720x432 with 0 Axes>"
      ]
     },
     "metadata": {},
     "output_type": "display_data"
    },
    {
     "data": {
      "text/plain": [
       "<Figure size 720x432 with 0 Axes>"
      ]
     },
     "metadata": {},
     "output_type": "display_data"
    },
    {
     "data": {
      "text/plain": [
       "<Figure size 720x432 with 0 Axes>"
      ]
     },
     "metadata": {},
     "output_type": "display_data"
    },
    {
     "data": {
      "text/plain": [
       "<Figure size 720x432 with 0 Axes>"
      ]
     },
     "metadata": {},
     "output_type": "display_data"
    },
    {
     "data": {
      "text/plain": [
       "<Figure size 720x432 with 0 Axes>"
      ]
     },
     "metadata": {},
     "output_type": "display_data"
    },
    {
     "data": {
      "text/plain": [
       "<Figure size 720x432 with 0 Axes>"
      ]
     },
     "metadata": {},
     "output_type": "display_data"
    },
    {
     "data": {
      "text/plain": [
       "<Figure size 720x432 with 0 Axes>"
      ]
     },
     "metadata": {},
     "output_type": "display_data"
    },
    {
     "data": {
      "text/plain": [
       "<Figure size 720x432 with 0 Axes>"
      ]
     },
     "metadata": {},
     "output_type": "display_data"
    },
    {
     "data": {
      "text/plain": [
       "<Figure size 720x432 with 0 Axes>"
      ]
     },
     "metadata": {},
     "output_type": "display_data"
    },
    {
     "data": {
      "text/plain": [
       "<Figure size 720x432 with 0 Axes>"
      ]
     },
     "metadata": {},
     "output_type": "display_data"
    },
    {
     "data": {
      "text/plain": [
       "<Figure size 720x432 with 0 Axes>"
      ]
     },
     "metadata": {},
     "output_type": "display_data"
    },
    {
     "data": {
      "text/plain": [
       "<Figure size 720x432 with 0 Axes>"
      ]
     },
     "metadata": {},
     "output_type": "display_data"
    },
    {
     "data": {
      "text/plain": [
       "<Figure size 720x432 with 0 Axes>"
      ]
     },
     "metadata": {},
     "output_type": "display_data"
    },
    {
     "data": {
      "text/plain": [
       "<Figure size 720x432 with 0 Axes>"
      ]
     },
     "metadata": {},
     "output_type": "display_data"
    },
    {
     "data": {
      "text/plain": [
       "<Figure size 720x432 with 0 Axes>"
      ]
     },
     "metadata": {},
     "output_type": "display_data"
    },
    {
     "data": {
      "text/plain": [
       "<Figure size 720x432 with 0 Axes>"
      ]
     },
     "metadata": {},
     "output_type": "display_data"
    },
    {
     "data": {
      "text/plain": [
       "<Figure size 720x432 with 0 Axes>"
      ]
     },
     "metadata": {},
     "output_type": "display_data"
    },
    {
     "data": {
      "text/plain": [
       "<Figure size 720x432 with 0 Axes>"
      ]
     },
     "metadata": {},
     "output_type": "display_data"
    },
    {
     "data": {
      "text/plain": [
       "<Figure size 720x432 with 0 Axes>"
      ]
     },
     "metadata": {},
     "output_type": "display_data"
    },
    {
     "data": {
      "text/plain": [
       "<Figure size 720x432 with 0 Axes>"
      ]
     },
     "metadata": {},
     "output_type": "display_data"
    },
    {
     "data": {
      "text/plain": [
       "<Figure size 720x432 with 0 Axes>"
      ]
     },
     "metadata": {},
     "output_type": "display_data"
    },
    {
     "data": {
      "text/plain": [
       "<Figure size 720x432 with 0 Axes>"
      ]
     },
     "metadata": {},
     "output_type": "display_data"
    },
    {
     "data": {
      "text/plain": [
       "<Figure size 720x432 with 0 Axes>"
      ]
     },
     "metadata": {},
     "output_type": "display_data"
    },
    {
     "data": {
      "text/plain": [
       "<Figure size 720x432 with 0 Axes>"
      ]
     },
     "metadata": {},
     "output_type": "display_data"
    },
    {
     "data": {
      "text/plain": [
       "<Figure size 720x432 with 0 Axes>"
      ]
     },
     "metadata": {},
     "output_type": "display_data"
    },
    {
     "data": {
      "text/plain": [
       "<Figure size 720x432 with 0 Axes>"
      ]
     },
     "metadata": {},
     "output_type": "display_data"
    },
    {
     "data": {
      "text/plain": [
       "<Figure size 720x432 with 0 Axes>"
      ]
     },
     "metadata": {},
     "output_type": "display_data"
    },
    {
     "data": {
      "text/plain": [
       "<Figure size 720x432 with 0 Axes>"
      ]
     },
     "metadata": {},
     "output_type": "display_data"
    },
    {
     "data": {
      "text/plain": [
       "<Figure size 720x432 with 0 Axes>"
      ]
     },
     "metadata": {},
     "output_type": "display_data"
    },
    {
     "data": {
      "text/plain": [
       "<Figure size 720x432 with 0 Axes>"
      ]
     },
     "metadata": {},
     "output_type": "display_data"
    },
    {
     "data": {
      "text/plain": [
       "<Figure size 720x432 with 0 Axes>"
      ]
     },
     "metadata": {},
     "output_type": "display_data"
    },
    {
     "data": {
      "text/plain": [
       "<Figure size 720x432 with 0 Axes>"
      ]
     },
     "metadata": {},
     "output_type": "display_data"
    },
    {
     "data": {
      "text/plain": [
       "<Figure size 720x432 with 0 Axes>"
      ]
     },
     "metadata": {},
     "output_type": "display_data"
    },
    {
     "data": {
      "text/plain": [
       "<Figure size 720x432 with 0 Axes>"
      ]
     },
     "metadata": {},
     "output_type": "display_data"
    },
    {
     "data": {
      "text/plain": [
       "<Figure size 720x432 with 0 Axes>"
      ]
     },
     "metadata": {},
     "output_type": "display_data"
    },
    {
     "data": {
      "text/plain": [
       "<Figure size 720x432 with 0 Axes>"
      ]
     },
     "metadata": {},
     "output_type": "display_data"
    },
    {
     "data": {
      "text/plain": [
       "<Figure size 720x432 with 0 Axes>"
      ]
     },
     "metadata": {},
     "output_type": "display_data"
    },
    {
     "data": {
      "text/plain": [
       "<Figure size 720x432 with 0 Axes>"
      ]
     },
     "metadata": {},
     "output_type": "display_data"
    },
    {
     "data": {
      "text/plain": [
       "<Figure size 720x432 with 0 Axes>"
      ]
     },
     "metadata": {},
     "output_type": "display_data"
    },
    {
     "data": {
      "text/plain": [
       "<Figure size 720x432 with 0 Axes>"
      ]
     },
     "metadata": {},
     "output_type": "display_data"
    },
    {
     "data": {
      "text/plain": [
       "<Figure size 720x432 with 0 Axes>"
      ]
     },
     "metadata": {},
     "output_type": "display_data"
    },
    {
     "data": {
      "text/plain": [
       "<Figure size 720x432 with 0 Axes>"
      ]
     },
     "metadata": {},
     "output_type": "display_data"
    },
    {
     "data": {
      "text/plain": [
       "<Figure size 720x432 with 0 Axes>"
      ]
     },
     "metadata": {},
     "output_type": "display_data"
    },
    {
     "data": {
      "text/plain": [
       "<Figure size 720x432 with 0 Axes>"
      ]
     },
     "metadata": {},
     "output_type": "display_data"
    },
    {
     "data": {
      "text/plain": [
       "<Figure size 720x432 with 0 Axes>"
      ]
     },
     "metadata": {},
     "output_type": "display_data"
    },
    {
     "data": {
      "text/plain": [
       "<Figure size 720x432 with 0 Axes>"
      ]
     },
     "metadata": {},
     "output_type": "display_data"
    },
    {
     "data": {
      "text/plain": [
       "<Figure size 720x432 with 0 Axes>"
      ]
     },
     "metadata": {},
     "output_type": "display_data"
    },
    {
     "data": {
      "text/plain": [
       "<Figure size 720x432 with 0 Axes>"
      ]
     },
     "metadata": {},
     "output_type": "display_data"
    },
    {
     "data": {
      "text/plain": [
       "<Figure size 720x432 with 0 Axes>"
      ]
     },
     "metadata": {},
     "output_type": "display_data"
    },
    {
     "data": {
      "text/plain": [
       "<Figure size 720x432 with 0 Axes>"
      ]
     },
     "metadata": {},
     "output_type": "display_data"
    },
    {
     "data": {
      "text/plain": [
       "<Figure size 720x432 with 0 Axes>"
      ]
     },
     "metadata": {},
     "output_type": "display_data"
    },
    {
     "data": {
      "text/plain": [
       "<Figure size 720x432 with 0 Axes>"
      ]
     },
     "metadata": {},
     "output_type": "display_data"
    },
    {
     "data": {
      "text/plain": [
       "<Figure size 720x432 with 0 Axes>"
      ]
     },
     "metadata": {},
     "output_type": "display_data"
    },
    {
     "data": {
      "text/plain": [
       "<Figure size 720x432 with 0 Axes>"
      ]
     },
     "metadata": {},
     "output_type": "display_data"
    },
    {
     "data": {
      "text/plain": [
       "<Figure size 720x432 with 0 Axes>"
      ]
     },
     "metadata": {},
     "output_type": "display_data"
    },
    {
     "data": {
      "text/plain": [
       "<Figure size 720x432 with 0 Axes>"
      ]
     },
     "metadata": {},
     "output_type": "display_data"
    },
    {
     "data": {
      "text/plain": [
       "<Figure size 720x432 with 0 Axes>"
      ]
     },
     "metadata": {},
     "output_type": "display_data"
    },
    {
     "data": {
      "text/plain": [
       "<Figure size 720x432 with 0 Axes>"
      ]
     },
     "metadata": {},
     "output_type": "display_data"
    },
    {
     "data": {
      "text/plain": [
       "<Figure size 720x432 with 0 Axes>"
      ]
     },
     "metadata": {},
     "output_type": "display_data"
    },
    {
     "data": {
      "text/plain": [
       "<Figure size 720x432 with 0 Axes>"
      ]
     },
     "metadata": {},
     "output_type": "display_data"
    },
    {
     "data": {
      "text/plain": [
       "<Figure size 720x432 with 0 Axes>"
      ]
     },
     "metadata": {},
     "output_type": "display_data"
    },
    {
     "data": {
      "text/plain": [
       "<Figure size 720x432 with 0 Axes>"
      ]
     },
     "metadata": {},
     "output_type": "display_data"
    },
    {
     "data": {
      "text/plain": [
       "<Figure size 720x432 with 0 Axes>"
      ]
     },
     "metadata": {},
     "output_type": "display_data"
    },
    {
     "data": {
      "text/plain": [
       "<Figure size 720x432 with 0 Axes>"
      ]
     },
     "metadata": {},
     "output_type": "display_data"
    },
    {
     "data": {
      "text/plain": [
       "<Figure size 720x432 with 0 Axes>"
      ]
     },
     "metadata": {},
     "output_type": "display_data"
    },
    {
     "data": {
      "text/plain": [
       "<Figure size 720x432 with 0 Axes>"
      ]
     },
     "metadata": {},
     "output_type": "display_data"
    },
    {
     "data": {
      "text/plain": [
       "<Figure size 720x432 with 0 Axes>"
      ]
     },
     "metadata": {},
     "output_type": "display_data"
    },
    {
     "data": {
      "text/plain": [
       "<Figure size 720x432 with 0 Axes>"
      ]
     },
     "metadata": {},
     "output_type": "display_data"
    },
    {
     "data": {
      "text/plain": [
       "<Figure size 720x432 with 0 Axes>"
      ]
     },
     "metadata": {},
     "output_type": "display_data"
    },
    {
     "data": {
      "text/plain": [
       "<Figure size 720x432 with 0 Axes>"
      ]
     },
     "metadata": {},
     "output_type": "display_data"
    },
    {
     "data": {
      "text/plain": [
       "<Figure size 720x432 with 0 Axes>"
      ]
     },
     "metadata": {},
     "output_type": "display_data"
    },
    {
     "data": {
      "text/plain": [
       "<Figure size 720x432 with 0 Axes>"
      ]
     },
     "metadata": {},
     "output_type": "display_data"
    },
    {
     "data": {
      "text/plain": [
       "<Figure size 720x432 with 0 Axes>"
      ]
     },
     "metadata": {},
     "output_type": "display_data"
    },
    {
     "data": {
      "text/plain": [
       "<Figure size 720x432 with 0 Axes>"
      ]
     },
     "metadata": {},
     "output_type": "display_data"
    },
    {
     "data": {
      "text/plain": [
       "<Figure size 720x432 with 0 Axes>"
      ]
     },
     "metadata": {},
     "output_type": "display_data"
    },
    {
     "data": {
      "text/plain": [
       "<Figure size 720x432 with 0 Axes>"
      ]
     },
     "metadata": {},
     "output_type": "display_data"
    },
    {
     "data": {
      "text/plain": [
       "<Figure size 720x432 with 0 Axes>"
      ]
     },
     "metadata": {},
     "output_type": "display_data"
    },
    {
     "data": {
      "text/plain": [
       "<Figure size 720x432 with 0 Axes>"
      ]
     },
     "metadata": {},
     "output_type": "display_data"
    },
    {
     "data": {
      "text/plain": [
       "<Figure size 720x432 with 0 Axes>"
      ]
     },
     "metadata": {},
     "output_type": "display_data"
    },
    {
     "data": {
      "text/plain": [
       "<Figure size 720x432 with 0 Axes>"
      ]
     },
     "metadata": {},
     "output_type": "display_data"
    },
    {
     "data": {
      "text/plain": [
       "<Figure size 720x432 with 0 Axes>"
      ]
     },
     "metadata": {},
     "output_type": "display_data"
    },
    {
     "data": {
      "text/plain": [
       "<Figure size 720x432 with 0 Axes>"
      ]
     },
     "metadata": {},
     "output_type": "display_data"
    },
    {
     "data": {
      "text/plain": [
       "<Figure size 720x432 with 0 Axes>"
      ]
     },
     "metadata": {},
     "output_type": "display_data"
    },
    {
     "data": {
      "text/plain": [
       "<Figure size 720x432 with 0 Axes>"
      ]
     },
     "metadata": {},
     "output_type": "display_data"
    },
    {
     "data": {
      "text/plain": [
       "<Figure size 720x432 with 0 Axes>"
      ]
     },
     "metadata": {},
     "output_type": "display_data"
    },
    {
     "data": {
      "text/plain": [
       "<Figure size 720x432 with 0 Axes>"
      ]
     },
     "metadata": {},
     "output_type": "display_data"
    },
    {
     "data": {
      "text/plain": [
       "<Figure size 720x432 with 0 Axes>"
      ]
     },
     "metadata": {},
     "output_type": "display_data"
    },
    {
     "data": {
      "text/plain": [
       "<Figure size 720x432 with 0 Axes>"
      ]
     },
     "metadata": {},
     "output_type": "display_data"
    },
    {
     "data": {
      "text/plain": [
       "<Figure size 720x432 with 0 Axes>"
      ]
     },
     "metadata": {},
     "output_type": "display_data"
    },
    {
     "data": {
      "text/plain": [
       "<Figure size 720x432 with 0 Axes>"
      ]
     },
     "metadata": {},
     "output_type": "display_data"
    },
    {
     "data": {
      "text/plain": [
       "<Figure size 720x432 with 0 Axes>"
      ]
     },
     "metadata": {},
     "output_type": "display_data"
    },
    {
     "data": {
      "text/plain": [
       "<Figure size 720x432 with 0 Axes>"
      ]
     },
     "metadata": {},
     "output_type": "display_data"
    },
    {
     "data": {
      "text/plain": [
       "<Figure size 720x432 with 0 Axes>"
      ]
     },
     "metadata": {},
     "output_type": "display_data"
    },
    {
     "data": {
      "text/plain": [
       "<Figure size 720x432 with 0 Axes>"
      ]
     },
     "metadata": {},
     "output_type": "display_data"
    },
    {
     "data": {
      "text/plain": [
       "<Figure size 720x432 with 0 Axes>"
      ]
     },
     "metadata": {},
     "output_type": "display_data"
    },
    {
     "data": {
      "text/plain": [
       "<Figure size 720x432 with 0 Axes>"
      ]
     },
     "metadata": {},
     "output_type": "display_data"
    },
    {
     "data": {
      "text/plain": [
       "<Figure size 720x432 with 0 Axes>"
      ]
     },
     "metadata": {},
     "output_type": "display_data"
    },
    {
     "data": {
      "text/plain": [
       "<Figure size 720x432 with 0 Axes>"
      ]
     },
     "metadata": {},
     "output_type": "display_data"
    },
    {
     "data": {
      "text/plain": [
       "<Figure size 720x432 with 0 Axes>"
      ]
     },
     "metadata": {},
     "output_type": "display_data"
    },
    {
     "data": {
      "text/plain": [
       "<Figure size 720x432 with 0 Axes>"
      ]
     },
     "metadata": {},
     "output_type": "display_data"
    },
    {
     "data": {
      "text/plain": [
       "<Figure size 720x432 with 0 Axes>"
      ]
     },
     "metadata": {},
     "output_type": "display_data"
    },
    {
     "data": {
      "text/plain": [
       "<Figure size 720x432 with 0 Axes>"
      ]
     },
     "metadata": {},
     "output_type": "display_data"
    },
    {
     "data": {
      "text/plain": [
       "<Figure size 720x432 with 0 Axes>"
      ]
     },
     "metadata": {},
     "output_type": "display_data"
    },
    {
     "data": {
      "text/plain": [
       "<Figure size 720x432 with 0 Axes>"
      ]
     },
     "metadata": {},
     "output_type": "display_data"
    },
    {
     "data": {
      "text/plain": [
       "<Figure size 720x432 with 0 Axes>"
      ]
     },
     "metadata": {},
     "output_type": "display_data"
    },
    {
     "data": {
      "text/plain": [
       "<Figure size 720x432 with 0 Axes>"
      ]
     },
     "metadata": {},
     "output_type": "display_data"
    },
    {
     "data": {
      "text/plain": [
       "<Figure size 720x432 with 0 Axes>"
      ]
     },
     "metadata": {},
     "output_type": "display_data"
    },
    {
     "data": {
      "text/plain": [
       "<Figure size 720x432 with 0 Axes>"
      ]
     },
     "metadata": {},
     "output_type": "display_data"
    },
    {
     "data": {
      "text/plain": [
       "<Figure size 720x432 with 0 Axes>"
      ]
     },
     "metadata": {},
     "output_type": "display_data"
    },
    {
     "data": {
      "text/plain": [
       "<Figure size 720x432 with 0 Axes>"
      ]
     },
     "metadata": {},
     "output_type": "display_data"
    },
    {
     "data": {
      "text/plain": [
       "<Figure size 720x432 with 0 Axes>"
      ]
     },
     "metadata": {},
     "output_type": "display_data"
    },
    {
     "data": {
      "text/plain": [
       "<Figure size 720x432 with 0 Axes>"
      ]
     },
     "metadata": {},
     "output_type": "display_data"
    },
    {
     "data": {
      "text/plain": [
       "<Figure size 720x432 with 0 Axes>"
      ]
     },
     "metadata": {},
     "output_type": "display_data"
    },
    {
     "data": {
      "text/plain": [
       "<Figure size 720x432 with 0 Axes>"
      ]
     },
     "metadata": {},
     "output_type": "display_data"
    },
    {
     "data": {
      "text/plain": [
       "<Figure size 720x432 with 0 Axes>"
      ]
     },
     "metadata": {},
     "output_type": "display_data"
    },
    {
     "data": {
      "text/plain": [
       "<Figure size 720x432 with 0 Axes>"
      ]
     },
     "metadata": {},
     "output_type": "display_data"
    },
    {
     "data": {
      "text/plain": [
       "<Figure size 720x432 with 0 Axes>"
      ]
     },
     "metadata": {},
     "output_type": "display_data"
    },
    {
     "data": {
      "text/plain": [
       "<Figure size 720x432 with 0 Axes>"
      ]
     },
     "metadata": {},
     "output_type": "display_data"
    },
    {
     "data": {
      "text/plain": [
       "<Figure size 720x432 with 0 Axes>"
      ]
     },
     "metadata": {},
     "output_type": "display_data"
    },
    {
     "data": {
      "text/plain": [
       "<Figure size 720x432 with 0 Axes>"
      ]
     },
     "metadata": {},
     "output_type": "display_data"
    },
    {
     "data": {
      "text/plain": [
       "<Figure size 720x432 with 0 Axes>"
      ]
     },
     "metadata": {},
     "output_type": "display_data"
    },
    {
     "data": {
      "text/plain": [
       "<Figure size 720x432 with 0 Axes>"
      ]
     },
     "metadata": {},
     "output_type": "display_data"
    },
    {
     "data": {
      "text/plain": [
       "<Figure size 720x432 with 0 Axes>"
      ]
     },
     "metadata": {},
     "output_type": "display_data"
    },
    {
     "data": {
      "text/plain": [
       "<Figure size 720x432 with 0 Axes>"
      ]
     },
     "metadata": {},
     "output_type": "display_data"
    },
    {
     "data": {
      "text/plain": [
       "<Figure size 720x432 with 0 Axes>"
      ]
     },
     "metadata": {},
     "output_type": "display_data"
    },
    {
     "data": {
      "text/plain": [
       "<Figure size 720x432 with 0 Axes>"
      ]
     },
     "metadata": {},
     "output_type": "display_data"
    },
    {
     "data": {
      "text/plain": [
       "<Figure size 720x432 with 0 Axes>"
      ]
     },
     "metadata": {},
     "output_type": "display_data"
    },
    {
     "data": {
      "text/plain": [
       "<Figure size 720x432 with 0 Axes>"
      ]
     },
     "metadata": {},
     "output_type": "display_data"
    },
    {
     "data": {
      "text/plain": [
       "<Figure size 720x432 with 0 Axes>"
      ]
     },
     "metadata": {},
     "output_type": "display_data"
    },
    {
     "data": {
      "text/plain": [
       "<Figure size 720x432 with 0 Axes>"
      ]
     },
     "metadata": {},
     "output_type": "display_data"
    },
    {
     "data": {
      "text/plain": [
       "<Figure size 720x432 with 0 Axes>"
      ]
     },
     "metadata": {},
     "output_type": "display_data"
    },
    {
     "data": {
      "text/plain": [
       "<Figure size 720x432 with 0 Axes>"
      ]
     },
     "metadata": {},
     "output_type": "display_data"
    },
    {
     "data": {
      "text/plain": [
       "<Figure size 720x432 with 0 Axes>"
      ]
     },
     "metadata": {},
     "output_type": "display_data"
    },
    {
     "data": {
      "text/plain": [
       "<Figure size 720x432 with 0 Axes>"
      ]
     },
     "metadata": {},
     "output_type": "display_data"
    },
    {
     "data": {
      "text/plain": [
       "<Figure size 720x432 with 0 Axes>"
      ]
     },
     "metadata": {},
     "output_type": "display_data"
    },
    {
     "data": {
      "text/plain": [
       "<Figure size 720x432 with 0 Axes>"
      ]
     },
     "metadata": {},
     "output_type": "display_data"
    },
    {
     "data": {
      "text/plain": [
       "<Figure size 720x432 with 0 Axes>"
      ]
     },
     "metadata": {},
     "output_type": "display_data"
    },
    {
     "data": {
      "text/plain": [
       "<Figure size 720x432 with 0 Axes>"
      ]
     },
     "metadata": {},
     "output_type": "display_data"
    },
    {
     "data": {
      "text/plain": [
       "<Figure size 720x432 with 0 Axes>"
      ]
     },
     "metadata": {},
     "output_type": "display_data"
    },
    {
     "data": {
      "text/plain": [
       "<Figure size 720x432 with 0 Axes>"
      ]
     },
     "metadata": {},
     "output_type": "display_data"
    },
    {
     "data": {
      "text/plain": [
       "<Figure size 720x432 with 0 Axes>"
      ]
     },
     "metadata": {},
     "output_type": "display_data"
    },
    {
     "data": {
      "text/plain": [
       "<Figure size 720x432 with 0 Axes>"
      ]
     },
     "metadata": {},
     "output_type": "display_data"
    },
    {
     "data": {
      "text/plain": [
       "<Figure size 720x432 with 0 Axes>"
      ]
     },
     "metadata": {},
     "output_type": "display_data"
    },
    {
     "data": {
      "text/plain": [
       "<Figure size 720x432 with 0 Axes>"
      ]
     },
     "metadata": {},
     "output_type": "display_data"
    },
    {
     "data": {
      "text/plain": [
       "<Figure size 720x432 with 0 Axes>"
      ]
     },
     "metadata": {},
     "output_type": "display_data"
    },
    {
     "data": {
      "text/plain": [
       "<Figure size 720x432 with 0 Axes>"
      ]
     },
     "metadata": {},
     "output_type": "display_data"
    },
    {
     "data": {
      "text/plain": [
       "<Figure size 720x432 with 0 Axes>"
      ]
     },
     "metadata": {},
     "output_type": "display_data"
    },
    {
     "data": {
      "text/plain": [
       "<Figure size 720x432 with 0 Axes>"
      ]
     },
     "metadata": {},
     "output_type": "display_data"
    },
    {
     "data": {
      "text/plain": [
       "<Figure size 720x432 with 0 Axes>"
      ]
     },
     "metadata": {},
     "output_type": "display_data"
    },
    {
     "data": {
      "text/plain": [
       "<Figure size 720x432 with 0 Axes>"
      ]
     },
     "metadata": {},
     "output_type": "display_data"
    },
    {
     "data": {
      "text/plain": [
       "<Figure size 720x432 with 0 Axes>"
      ]
     },
     "metadata": {},
     "output_type": "display_data"
    },
    {
     "data": {
      "text/plain": [
       "<Figure size 720x432 with 0 Axes>"
      ]
     },
     "metadata": {},
     "output_type": "display_data"
    },
    {
     "data": {
      "text/plain": [
       "<Figure size 720x432 with 0 Axes>"
      ]
     },
     "metadata": {},
     "output_type": "display_data"
    },
    {
     "data": {
      "text/plain": [
       "<Figure size 720x432 with 0 Axes>"
      ]
     },
     "metadata": {},
     "output_type": "display_data"
    },
    {
     "data": {
      "text/plain": [
       "<Figure size 720x432 with 0 Axes>"
      ]
     },
     "metadata": {},
     "output_type": "display_data"
    },
    {
     "data": {
      "text/plain": [
       "<Figure size 720x432 with 0 Axes>"
      ]
     },
     "metadata": {},
     "output_type": "display_data"
    },
    {
     "data": {
      "text/plain": [
       "<Figure size 720x432 with 0 Axes>"
      ]
     },
     "metadata": {},
     "output_type": "display_data"
    },
    {
     "data": {
      "text/plain": [
       "<Figure size 720x432 with 0 Axes>"
      ]
     },
     "metadata": {},
     "output_type": "display_data"
    },
    {
     "data": {
      "text/plain": [
       "<Figure size 720x432 with 0 Axes>"
      ]
     },
     "metadata": {},
     "output_type": "display_data"
    },
    {
     "data": {
      "text/plain": [
       "<Figure size 720x432 with 0 Axes>"
      ]
     },
     "metadata": {},
     "output_type": "display_data"
    },
    {
     "data": {
      "text/plain": [
       "<Figure size 720x432 with 0 Axes>"
      ]
     },
     "metadata": {},
     "output_type": "display_data"
    },
    {
     "data": {
      "text/plain": [
       "<Figure size 720x432 with 0 Axes>"
      ]
     },
     "metadata": {},
     "output_type": "display_data"
    },
    {
     "data": {
      "text/plain": [
       "<Figure size 720x432 with 0 Axes>"
      ]
     },
     "metadata": {},
     "output_type": "display_data"
    },
    {
     "data": {
      "text/plain": [
       "<Figure size 720x432 with 0 Axes>"
      ]
     },
     "metadata": {},
     "output_type": "display_data"
    },
    {
     "data": {
      "text/plain": [
       "<Figure size 720x432 with 0 Axes>"
      ]
     },
     "metadata": {},
     "output_type": "display_data"
    },
    {
     "data": {
      "text/plain": [
       "<Figure size 720x432 with 0 Axes>"
      ]
     },
     "metadata": {},
     "output_type": "display_data"
    },
    {
     "data": {
      "text/plain": [
       "<Figure size 720x432 with 0 Axes>"
      ]
     },
     "metadata": {},
     "output_type": "display_data"
    },
    {
     "data": {
      "text/plain": [
       "<Figure size 720x432 with 0 Axes>"
      ]
     },
     "metadata": {},
     "output_type": "display_data"
    },
    {
     "data": {
      "text/plain": [
       "<Figure size 720x432 with 0 Axes>"
      ]
     },
     "metadata": {},
     "output_type": "display_data"
    },
    {
     "data": {
      "text/plain": [
       "<Figure size 720x432 with 0 Axes>"
      ]
     },
     "metadata": {},
     "output_type": "display_data"
    },
    {
     "data": {
      "text/plain": [
       "<Figure size 720x432 with 0 Axes>"
      ]
     },
     "metadata": {},
     "output_type": "display_data"
    },
    {
     "data": {
      "text/plain": [
       "<Figure size 720x432 with 0 Axes>"
      ]
     },
     "metadata": {},
     "output_type": "display_data"
    },
    {
     "data": {
      "text/plain": [
       "<Figure size 720x432 with 0 Axes>"
      ]
     },
     "metadata": {},
     "output_type": "display_data"
    },
    {
     "data": {
      "text/plain": [
       "<Figure size 720x432 with 0 Axes>"
      ]
     },
     "metadata": {},
     "output_type": "display_data"
    },
    {
     "data": {
      "text/plain": [
       "<Figure size 720x432 with 0 Axes>"
      ]
     },
     "metadata": {},
     "output_type": "display_data"
    },
    {
     "data": {
      "text/plain": [
       "<Figure size 720x432 with 0 Axes>"
      ]
     },
     "metadata": {},
     "output_type": "display_data"
    },
    {
     "data": {
      "text/plain": [
       "<Figure size 720x432 with 0 Axes>"
      ]
     },
     "metadata": {},
     "output_type": "display_data"
    },
    {
     "data": {
      "text/plain": [
       "<Figure size 720x432 with 0 Axes>"
      ]
     },
     "metadata": {},
     "output_type": "display_data"
    },
    {
     "data": {
      "text/plain": [
       "<Figure size 720x432 with 0 Axes>"
      ]
     },
     "metadata": {},
     "output_type": "display_data"
    },
    {
     "data": {
      "text/plain": [
       "<Figure size 720x432 with 0 Axes>"
      ]
     },
     "metadata": {},
     "output_type": "display_data"
    },
    {
     "data": {
      "text/plain": [
       "<Figure size 720x432 with 0 Axes>"
      ]
     },
     "metadata": {},
     "output_type": "display_data"
    },
    {
     "data": {
      "text/plain": [
       "<Figure size 720x432 with 0 Axes>"
      ]
     },
     "metadata": {},
     "output_type": "display_data"
    },
    {
     "data": {
      "text/plain": [
       "<Figure size 720x432 with 0 Axes>"
      ]
     },
     "metadata": {},
     "output_type": "display_data"
    },
    {
     "data": {
      "text/plain": [
       "<Figure size 720x432 with 0 Axes>"
      ]
     },
     "metadata": {},
     "output_type": "display_data"
    },
    {
     "data": {
      "text/plain": [
       "<Figure size 720x432 with 0 Axes>"
      ]
     },
     "metadata": {},
     "output_type": "display_data"
    },
    {
     "data": {
      "text/plain": [
       "<Figure size 720x432 with 0 Axes>"
      ]
     },
     "metadata": {},
     "output_type": "display_data"
    },
    {
     "data": {
      "text/plain": [
       "<Figure size 720x432 with 0 Axes>"
      ]
     },
     "metadata": {},
     "output_type": "display_data"
    },
    {
     "data": {
      "text/plain": [
       "<Figure size 720x432 with 0 Axes>"
      ]
     },
     "metadata": {},
     "output_type": "display_data"
    },
    {
     "data": {
      "text/plain": [
       "<Figure size 720x432 with 0 Axes>"
      ]
     },
     "metadata": {},
     "output_type": "display_data"
    },
    {
     "data": {
      "text/plain": [
       "<Figure size 720x432 with 0 Axes>"
      ]
     },
     "metadata": {},
     "output_type": "display_data"
    },
    {
     "data": {
      "text/plain": [
       "<Figure size 720x432 with 0 Axes>"
      ]
     },
     "metadata": {},
     "output_type": "display_data"
    },
    {
     "data": {
      "text/plain": [
       "<Figure size 720x432 with 0 Axes>"
      ]
     },
     "metadata": {},
     "output_type": "display_data"
    },
    {
     "data": {
      "text/plain": [
       "<Figure size 720x432 with 0 Axes>"
      ]
     },
     "metadata": {},
     "output_type": "display_data"
    },
    {
     "data": {
      "text/plain": [
       "<Figure size 720x432 with 0 Axes>"
      ]
     },
     "metadata": {},
     "output_type": "display_data"
    },
    {
     "data": {
      "text/plain": [
       "<Figure size 720x432 with 0 Axes>"
      ]
     },
     "metadata": {},
     "output_type": "display_data"
    },
    {
     "data": {
      "text/plain": [
       "<Figure size 720x432 with 0 Axes>"
      ]
     },
     "metadata": {},
     "output_type": "display_data"
    },
    {
     "data": {
      "text/plain": [
       "<Figure size 720x432 with 0 Axes>"
      ]
     },
     "metadata": {},
     "output_type": "display_data"
    },
    {
     "data": {
      "text/plain": [
       "<Figure size 720x432 with 0 Axes>"
      ]
     },
     "metadata": {},
     "output_type": "display_data"
    },
    {
     "data": {
      "text/plain": [
       "<Figure size 720x432 with 0 Axes>"
      ]
     },
     "metadata": {},
     "output_type": "display_data"
    },
    {
     "data": {
      "text/plain": [
       "<Figure size 720x432 with 0 Axes>"
      ]
     },
     "metadata": {},
     "output_type": "display_data"
    },
    {
     "data": {
      "text/plain": [
       "<Figure size 720x432 with 0 Axes>"
      ]
     },
     "metadata": {},
     "output_type": "display_data"
    },
    {
     "data": {
      "text/plain": [
       "<Figure size 720x432 with 0 Axes>"
      ]
     },
     "metadata": {},
     "output_type": "display_data"
    },
    {
     "data": {
      "text/plain": [
       "<Figure size 720x432 with 0 Axes>"
      ]
     },
     "metadata": {},
     "output_type": "display_data"
    },
    {
     "data": {
      "text/plain": [
       "<Figure size 720x432 with 0 Axes>"
      ]
     },
     "metadata": {},
     "output_type": "display_data"
    },
    {
     "data": {
      "text/plain": [
       "<Figure size 720x432 with 0 Axes>"
      ]
     },
     "metadata": {},
     "output_type": "display_data"
    },
    {
     "data": {
      "text/plain": [
       "<Figure size 720x432 with 0 Axes>"
      ]
     },
     "metadata": {},
     "output_type": "display_data"
    },
    {
     "data": {
      "text/plain": [
       "<Figure size 720x432 with 0 Axes>"
      ]
     },
     "metadata": {},
     "output_type": "display_data"
    },
    {
     "data": {
      "text/plain": [
       "<Figure size 720x432 with 0 Axes>"
      ]
     },
     "metadata": {},
     "output_type": "display_data"
    },
    {
     "data": {
      "text/plain": [
       "<Figure size 720x432 with 0 Axes>"
      ]
     },
     "metadata": {},
     "output_type": "display_data"
    },
    {
     "data": {
      "text/plain": [
       "<Figure size 720x432 with 0 Axes>"
      ]
     },
     "metadata": {},
     "output_type": "display_data"
    },
    {
     "data": {
      "text/plain": [
       "<Figure size 720x432 with 0 Axes>"
      ]
     },
     "metadata": {},
     "output_type": "display_data"
    },
    {
     "data": {
      "text/plain": [
       "<Figure size 720x432 with 0 Axes>"
      ]
     },
     "metadata": {},
     "output_type": "display_data"
    },
    {
     "data": {
      "text/plain": [
       "<Figure size 720x432 with 0 Axes>"
      ]
     },
     "metadata": {},
     "output_type": "display_data"
    },
    {
     "data": {
      "text/plain": [
       "<Figure size 720x432 with 0 Axes>"
      ]
     },
     "metadata": {},
     "output_type": "display_data"
    },
    {
     "data": {
      "text/plain": [
       "<Figure size 720x432 with 0 Axes>"
      ]
     },
     "metadata": {},
     "output_type": "display_data"
    },
    {
     "data": {
      "text/plain": [
       "<Figure size 720x432 with 0 Axes>"
      ]
     },
     "metadata": {},
     "output_type": "display_data"
    },
    {
     "data": {
      "text/plain": [
       "<Figure size 720x432 with 0 Axes>"
      ]
     },
     "metadata": {},
     "output_type": "display_data"
    },
    {
     "data": {
      "text/plain": [
       "<Figure size 720x432 with 0 Axes>"
      ]
     },
     "metadata": {},
     "output_type": "display_data"
    },
    {
     "data": {
      "text/plain": [
       "<Figure size 720x432 with 0 Axes>"
      ]
     },
     "metadata": {},
     "output_type": "display_data"
    },
    {
     "data": {
      "text/plain": [
       "<Figure size 720x432 with 0 Axes>"
      ]
     },
     "metadata": {},
     "output_type": "display_data"
    },
    {
     "data": {
      "text/plain": [
       "<Figure size 720x432 with 0 Axes>"
      ]
     },
     "metadata": {},
     "output_type": "display_data"
    },
    {
     "data": {
      "text/plain": [
       "<Figure size 720x432 with 0 Axes>"
      ]
     },
     "metadata": {},
     "output_type": "display_data"
    },
    {
     "data": {
      "text/plain": [
       "<Figure size 720x432 with 0 Axes>"
      ]
     },
     "metadata": {},
     "output_type": "display_data"
    },
    {
     "data": {
      "text/plain": [
       "<Figure size 720x432 with 0 Axes>"
      ]
     },
     "metadata": {},
     "output_type": "display_data"
    },
    {
     "data": {
      "text/plain": [
       "<Figure size 720x432 with 0 Axes>"
      ]
     },
     "metadata": {},
     "output_type": "display_data"
    },
    {
     "data": {
      "text/plain": [
       "<Figure size 720x432 with 0 Axes>"
      ]
     },
     "metadata": {},
     "output_type": "display_data"
    },
    {
     "data": {
      "text/plain": [
       "<Figure size 720x432 with 0 Axes>"
      ]
     },
     "metadata": {},
     "output_type": "display_data"
    },
    {
     "data": {
      "text/plain": [
       "<Figure size 720x432 with 0 Axes>"
      ]
     },
     "metadata": {},
     "output_type": "display_data"
    },
    {
     "data": {
      "text/plain": [
       "<Figure size 720x432 with 0 Axes>"
      ]
     },
     "metadata": {},
     "output_type": "display_data"
    },
    {
     "data": {
      "text/plain": [
       "<Figure size 720x432 with 0 Axes>"
      ]
     },
     "metadata": {},
     "output_type": "display_data"
    },
    {
     "data": {
      "text/plain": [
       "<Figure size 720x432 with 0 Axes>"
      ]
     },
     "metadata": {},
     "output_type": "display_data"
    },
    {
     "data": {
      "text/plain": [
       "<Figure size 720x432 with 0 Axes>"
      ]
     },
     "metadata": {},
     "output_type": "display_data"
    },
    {
     "data": {
      "text/plain": [
       "<Figure size 720x432 with 0 Axes>"
      ]
     },
     "metadata": {},
     "output_type": "display_data"
    },
    {
     "data": {
      "text/plain": [
       "<Figure size 720x432 with 0 Axes>"
      ]
     },
     "metadata": {},
     "output_type": "display_data"
    },
    {
     "data": {
      "text/plain": [
       "<Figure size 720x432 with 0 Axes>"
      ]
     },
     "metadata": {},
     "output_type": "display_data"
    },
    {
     "data": {
      "text/plain": [
       "<Figure size 720x432 with 0 Axes>"
      ]
     },
     "metadata": {},
     "output_type": "display_data"
    },
    {
     "data": {
      "text/plain": [
       "<Figure size 720x432 with 0 Axes>"
      ]
     },
     "metadata": {},
     "output_type": "display_data"
    },
    {
     "data": {
      "text/plain": [
       "<Figure size 720x432 with 0 Axes>"
      ]
     },
     "metadata": {},
     "output_type": "display_data"
    },
    {
     "data": {
      "text/plain": [
       "<Figure size 720x432 with 0 Axes>"
      ]
     },
     "metadata": {},
     "output_type": "display_data"
    },
    {
     "data": {
      "text/plain": [
       "<Figure size 720x432 with 0 Axes>"
      ]
     },
     "metadata": {},
     "output_type": "display_data"
    },
    {
     "data": {
      "text/plain": [
       "<Figure size 720x432 with 0 Axes>"
      ]
     },
     "metadata": {},
     "output_type": "display_data"
    },
    {
     "data": {
      "text/plain": [
       "<Figure size 720x432 with 0 Axes>"
      ]
     },
     "metadata": {},
     "output_type": "display_data"
    },
    {
     "data": {
      "text/plain": [
       "<Figure size 720x432 with 0 Axes>"
      ]
     },
     "metadata": {},
     "output_type": "display_data"
    },
    {
     "data": {
      "text/plain": [
       "<Figure size 720x432 with 0 Axes>"
      ]
     },
     "metadata": {},
     "output_type": "display_data"
    },
    {
     "data": {
      "text/plain": [
       "<Figure size 720x432 with 0 Axes>"
      ]
     },
     "metadata": {},
     "output_type": "display_data"
    },
    {
     "data": {
      "text/plain": [
       "<Figure size 720x432 with 0 Axes>"
      ]
     },
     "metadata": {},
     "output_type": "display_data"
    },
    {
     "data": {
      "text/plain": [
       "<Figure size 720x432 with 0 Axes>"
      ]
     },
     "metadata": {},
     "output_type": "display_data"
    },
    {
     "data": {
      "text/plain": [
       "<Figure size 720x432 with 0 Axes>"
      ]
     },
     "metadata": {},
     "output_type": "display_data"
    },
    {
     "data": {
      "text/plain": [
       "<Figure size 720x432 with 0 Axes>"
      ]
     },
     "metadata": {},
     "output_type": "display_data"
    },
    {
     "data": {
      "text/plain": [
       "<Figure size 720x432 with 0 Axes>"
      ]
     },
     "metadata": {},
     "output_type": "display_data"
    },
    {
     "data": {
      "text/plain": [
       "<Figure size 720x432 with 0 Axes>"
      ]
     },
     "metadata": {},
     "output_type": "display_data"
    },
    {
     "data": {
      "text/plain": [
       "<Figure size 720x432 with 0 Axes>"
      ]
     },
     "metadata": {},
     "output_type": "display_data"
    },
    {
     "data": {
      "text/plain": [
       "<Figure size 720x432 with 0 Axes>"
      ]
     },
     "metadata": {},
     "output_type": "display_data"
    },
    {
     "data": {
      "text/plain": [
       "<Figure size 720x432 with 0 Axes>"
      ]
     },
     "metadata": {},
     "output_type": "display_data"
    },
    {
     "data": {
      "text/plain": [
       "<Figure size 720x432 with 0 Axes>"
      ]
     },
     "metadata": {},
     "output_type": "display_data"
    },
    {
     "data": {
      "text/plain": [
       "<Figure size 720x432 with 0 Axes>"
      ]
     },
     "metadata": {},
     "output_type": "display_data"
    },
    {
     "data": {
      "text/plain": [
       "<Figure size 720x432 with 0 Axes>"
      ]
     },
     "metadata": {},
     "output_type": "display_data"
    },
    {
     "data": {
      "text/plain": [
       "<Figure size 720x432 with 0 Axes>"
      ]
     },
     "metadata": {},
     "output_type": "display_data"
    },
    {
     "data": {
      "text/plain": [
       "<Figure size 720x432 with 0 Axes>"
      ]
     },
     "metadata": {},
     "output_type": "display_data"
    },
    {
     "data": {
      "text/plain": [
       "<Figure size 720x432 with 0 Axes>"
      ]
     },
     "metadata": {},
     "output_type": "display_data"
    },
    {
     "data": {
      "text/plain": [
       "<Figure size 720x432 with 0 Axes>"
      ]
     },
     "metadata": {},
     "output_type": "display_data"
    },
    {
     "data": {
      "text/plain": [
       "<Figure size 720x432 with 0 Axes>"
      ]
     },
     "metadata": {},
     "output_type": "display_data"
    },
    {
     "data": {
      "text/plain": [
       "<Figure size 720x432 with 0 Axes>"
      ]
     },
     "metadata": {},
     "output_type": "display_data"
    },
    {
     "data": {
      "text/plain": [
       "<Figure size 720x432 with 0 Axes>"
      ]
     },
     "metadata": {},
     "output_type": "display_data"
    },
    {
     "data": {
      "text/plain": [
       "<Figure size 720x432 with 0 Axes>"
      ]
     },
     "metadata": {},
     "output_type": "display_data"
    },
    {
     "data": {
      "text/plain": [
       "<Figure size 720x432 with 0 Axes>"
      ]
     },
     "metadata": {},
     "output_type": "display_data"
    },
    {
     "data": {
      "text/plain": [
       "<Figure size 720x432 with 0 Axes>"
      ]
     },
     "metadata": {},
     "output_type": "display_data"
    },
    {
     "data": {
      "text/plain": [
       "<Figure size 720x432 with 0 Axes>"
      ]
     },
     "metadata": {},
     "output_type": "display_data"
    },
    {
     "data": {
      "text/plain": [
       "<Figure size 720x432 with 0 Axes>"
      ]
     },
     "metadata": {},
     "output_type": "display_data"
    },
    {
     "data": {
      "text/plain": [
       "<Figure size 720x432 with 0 Axes>"
      ]
     },
     "metadata": {},
     "output_type": "display_data"
    },
    {
     "data": {
      "text/plain": [
       "<Figure size 720x432 with 0 Axes>"
      ]
     },
     "metadata": {},
     "output_type": "display_data"
    },
    {
     "data": {
      "text/plain": [
       "<Figure size 720x432 with 0 Axes>"
      ]
     },
     "metadata": {},
     "output_type": "display_data"
    },
    {
     "data": {
      "text/plain": [
       "<Figure size 720x432 with 0 Axes>"
      ]
     },
     "metadata": {},
     "output_type": "display_data"
    },
    {
     "data": {
      "text/plain": [
       "<Figure size 720x432 with 0 Axes>"
      ]
     },
     "metadata": {},
     "output_type": "display_data"
    },
    {
     "data": {
      "text/plain": [
       "<Figure size 720x432 with 0 Axes>"
      ]
     },
     "metadata": {},
     "output_type": "display_data"
    },
    {
     "data": {
      "text/plain": [
       "<Figure size 720x432 with 0 Axes>"
      ]
     },
     "metadata": {},
     "output_type": "display_data"
    },
    {
     "data": {
      "text/plain": [
       "<Figure size 720x432 with 0 Axes>"
      ]
     },
     "metadata": {},
     "output_type": "display_data"
    },
    {
     "data": {
      "text/plain": [
       "<Figure size 720x432 with 0 Axes>"
      ]
     },
     "metadata": {},
     "output_type": "display_data"
    },
    {
     "data": {
      "text/plain": [
       "<Figure size 720x432 with 0 Axes>"
      ]
     },
     "metadata": {},
     "output_type": "display_data"
    },
    {
     "data": {
      "text/plain": [
       "<Figure size 720x432 with 0 Axes>"
      ]
     },
     "metadata": {},
     "output_type": "display_data"
    },
    {
     "data": {
      "text/plain": [
       "<Figure size 720x432 with 0 Axes>"
      ]
     },
     "metadata": {},
     "output_type": "display_data"
    },
    {
     "data": {
      "text/plain": [
       "<Figure size 720x432 with 0 Axes>"
      ]
     },
     "metadata": {},
     "output_type": "display_data"
    },
    {
     "data": {
      "text/plain": [
       "<Figure size 720x432 with 0 Axes>"
      ]
     },
     "metadata": {},
     "output_type": "display_data"
    },
    {
     "data": {
      "text/plain": [
       "<Figure size 720x432 with 0 Axes>"
      ]
     },
     "metadata": {},
     "output_type": "display_data"
    },
    {
     "data": {
      "text/plain": [
       "<Figure size 720x432 with 0 Axes>"
      ]
     },
     "metadata": {},
     "output_type": "display_data"
    },
    {
     "data": {
      "text/plain": [
       "<Figure size 720x432 with 0 Axes>"
      ]
     },
     "metadata": {},
     "output_type": "display_data"
    },
    {
     "data": {
      "text/plain": [
       "<Figure size 720x432 with 0 Axes>"
      ]
     },
     "metadata": {},
     "output_type": "display_data"
    },
    {
     "data": {
      "text/plain": [
       "<Figure size 720x432 with 0 Axes>"
      ]
     },
     "metadata": {},
     "output_type": "display_data"
    },
    {
     "data": {
      "text/plain": [
       "<Figure size 720x432 with 0 Axes>"
      ]
     },
     "metadata": {},
     "output_type": "display_data"
    },
    {
     "data": {
      "text/plain": [
       "<Figure size 720x432 with 0 Axes>"
      ]
     },
     "metadata": {},
     "output_type": "display_data"
    },
    {
     "data": {
      "text/plain": [
       "<Figure size 720x432 with 0 Axes>"
      ]
     },
     "metadata": {},
     "output_type": "display_data"
    },
    {
     "data": {
      "text/plain": [
       "<Figure size 720x432 with 0 Axes>"
      ]
     },
     "metadata": {},
     "output_type": "display_data"
    },
    {
     "data": {
      "text/plain": [
       "<Figure size 720x432 with 0 Axes>"
      ]
     },
     "metadata": {},
     "output_type": "display_data"
    },
    {
     "data": {
      "text/plain": [
       "<Figure size 720x432 with 0 Axes>"
      ]
     },
     "metadata": {},
     "output_type": "display_data"
    },
    {
     "data": {
      "text/plain": [
       "<Figure size 720x432 with 0 Axes>"
      ]
     },
     "metadata": {},
     "output_type": "display_data"
    },
    {
     "data": {
      "text/plain": [
       "<Figure size 720x432 with 0 Axes>"
      ]
     },
     "metadata": {},
     "output_type": "display_data"
    },
    {
     "data": {
      "text/plain": [
       "<Figure size 720x432 with 0 Axes>"
      ]
     },
     "metadata": {},
     "output_type": "display_data"
    },
    {
     "data": {
      "text/plain": [
       "<Figure size 720x432 with 0 Axes>"
      ]
     },
     "metadata": {},
     "output_type": "display_data"
    },
    {
     "data": {
      "text/plain": [
       "<Figure size 720x432 with 0 Axes>"
      ]
     },
     "metadata": {},
     "output_type": "display_data"
    },
    {
     "data": {
      "text/plain": [
       "<Figure size 720x432 with 0 Axes>"
      ]
     },
     "metadata": {},
     "output_type": "display_data"
    },
    {
     "data": {
      "text/plain": [
       "<Figure size 720x432 with 0 Axes>"
      ]
     },
     "metadata": {},
     "output_type": "display_data"
    },
    {
     "data": {
      "text/plain": [
       "<Figure size 720x432 with 0 Axes>"
      ]
     },
     "metadata": {},
     "output_type": "display_data"
    },
    {
     "data": {
      "text/plain": [
       "<Figure size 720x432 with 0 Axes>"
      ]
     },
     "metadata": {},
     "output_type": "display_data"
    },
    {
     "data": {
      "text/plain": [
       "<Figure size 720x432 with 0 Axes>"
      ]
     },
     "metadata": {},
     "output_type": "display_data"
    },
    {
     "data": {
      "text/plain": [
       "<Figure size 720x432 with 0 Axes>"
      ]
     },
     "metadata": {},
     "output_type": "display_data"
    },
    {
     "data": {
      "text/plain": [
       "<Figure size 720x432 with 0 Axes>"
      ]
     },
     "metadata": {},
     "output_type": "display_data"
    },
    {
     "data": {
      "text/plain": [
       "<Figure size 720x432 with 0 Axes>"
      ]
     },
     "metadata": {},
     "output_type": "display_data"
    },
    {
     "data": {
      "text/plain": [
       "<Figure size 720x432 with 0 Axes>"
      ]
     },
     "metadata": {},
     "output_type": "display_data"
    },
    {
     "data": {
      "text/plain": [
       "<Figure size 720x432 with 0 Axes>"
      ]
     },
     "metadata": {},
     "output_type": "display_data"
    },
    {
     "data": {
      "text/plain": [
       "<Figure size 720x432 with 0 Axes>"
      ]
     },
     "metadata": {},
     "output_type": "display_data"
    },
    {
     "data": {
      "text/plain": [
       "<Figure size 720x432 with 0 Axes>"
      ]
     },
     "metadata": {},
     "output_type": "display_data"
    },
    {
     "data": {
      "text/plain": [
       "<Figure size 720x432 with 0 Axes>"
      ]
     },
     "metadata": {},
     "output_type": "display_data"
    },
    {
     "data": {
      "text/plain": [
       "<Figure size 720x432 with 0 Axes>"
      ]
     },
     "metadata": {},
     "output_type": "display_data"
    },
    {
     "data": {
      "text/plain": [
       "<Figure size 720x432 with 0 Axes>"
      ]
     },
     "metadata": {},
     "output_type": "display_data"
    },
    {
     "data": {
      "text/plain": [
       "<Figure size 720x432 with 0 Axes>"
      ]
     },
     "metadata": {},
     "output_type": "display_data"
    },
    {
     "data": {
      "text/plain": [
       "<Figure size 720x432 with 0 Axes>"
      ]
     },
     "metadata": {},
     "output_type": "display_data"
    },
    {
     "data": {
      "text/plain": [
       "<Figure size 720x432 with 0 Axes>"
      ]
     },
     "metadata": {},
     "output_type": "display_data"
    },
    {
     "data": {
      "text/plain": [
       "<Figure size 720x432 with 0 Axes>"
      ]
     },
     "metadata": {},
     "output_type": "display_data"
    },
    {
     "data": {
      "text/plain": [
       "<Figure size 720x432 with 0 Axes>"
      ]
     },
     "metadata": {},
     "output_type": "display_data"
    },
    {
     "data": {
      "text/plain": [
       "<Figure size 720x432 with 0 Axes>"
      ]
     },
     "metadata": {},
     "output_type": "display_data"
    },
    {
     "data": {
      "text/plain": [
       "<Figure size 720x432 with 0 Axes>"
      ]
     },
     "metadata": {},
     "output_type": "display_data"
    },
    {
     "data": {
      "text/plain": [
       "<Figure size 720x432 with 0 Axes>"
      ]
     },
     "metadata": {},
     "output_type": "display_data"
    },
    {
     "data": {
      "text/plain": [
       "<Figure size 720x432 with 0 Axes>"
      ]
     },
     "metadata": {},
     "output_type": "display_data"
    },
    {
     "data": {
      "text/plain": [
       "<Figure size 720x432 with 0 Axes>"
      ]
     },
     "metadata": {},
     "output_type": "display_data"
    },
    {
     "data": {
      "text/plain": [
       "<Figure size 720x432 with 0 Axes>"
      ]
     },
     "metadata": {},
     "output_type": "display_data"
    },
    {
     "data": {
      "text/plain": [
       "<Figure size 720x432 with 0 Axes>"
      ]
     },
     "metadata": {},
     "output_type": "display_data"
    },
    {
     "data": {
      "text/plain": [
       "<Figure size 720x432 with 0 Axes>"
      ]
     },
     "metadata": {},
     "output_type": "display_data"
    },
    {
     "data": {
      "text/plain": [
       "<Figure size 720x432 with 0 Axes>"
      ]
     },
     "metadata": {},
     "output_type": "display_data"
    },
    {
     "data": {
      "text/plain": [
       "<Figure size 720x432 with 0 Axes>"
      ]
     },
     "metadata": {},
     "output_type": "display_data"
    },
    {
     "data": {
      "text/plain": [
       "<Figure size 720x432 with 0 Axes>"
      ]
     },
     "metadata": {},
     "output_type": "display_data"
    },
    {
     "data": {
      "text/plain": [
       "<Figure size 720x432 with 0 Axes>"
      ]
     },
     "metadata": {},
     "output_type": "display_data"
    },
    {
     "data": {
      "text/plain": [
       "<Figure size 720x432 with 0 Axes>"
      ]
     },
     "metadata": {},
     "output_type": "display_data"
    },
    {
     "data": {
      "text/plain": [
       "<Figure size 720x432 with 0 Axes>"
      ]
     },
     "metadata": {},
     "output_type": "display_data"
    },
    {
     "data": {
      "text/plain": [
       "<Figure size 720x432 with 0 Axes>"
      ]
     },
     "metadata": {},
     "output_type": "display_data"
    },
    {
     "data": {
      "text/plain": [
       "<Figure size 720x432 with 0 Axes>"
      ]
     },
     "metadata": {},
     "output_type": "display_data"
    },
    {
     "data": {
      "text/plain": [
       "<Figure size 720x432 with 0 Axes>"
      ]
     },
     "metadata": {},
     "output_type": "display_data"
    },
    {
     "data": {
      "text/plain": [
       "<Figure size 720x432 with 0 Axes>"
      ]
     },
     "metadata": {},
     "output_type": "display_data"
    },
    {
     "data": {
      "text/plain": [
       "<Figure size 720x432 with 0 Axes>"
      ]
     },
     "metadata": {},
     "output_type": "display_data"
    },
    {
     "data": {
      "text/plain": [
       "<Figure size 720x432 with 0 Axes>"
      ]
     },
     "metadata": {},
     "output_type": "display_data"
    },
    {
     "data": {
      "text/plain": [
       "<Figure size 720x432 with 0 Axes>"
      ]
     },
     "metadata": {},
     "output_type": "display_data"
    },
    {
     "data": {
      "text/plain": [
       "<Figure size 720x432 with 0 Axes>"
      ]
     },
     "metadata": {},
     "output_type": "display_data"
    },
    {
     "data": {
      "text/plain": [
       "<Figure size 720x432 with 0 Axes>"
      ]
     },
     "metadata": {},
     "output_type": "display_data"
    },
    {
     "data": {
      "text/plain": [
       "<Figure size 720x432 with 0 Axes>"
      ]
     },
     "metadata": {},
     "output_type": "display_data"
    },
    {
     "data": {
      "text/plain": [
       "<Figure size 720x432 with 0 Axes>"
      ]
     },
     "metadata": {},
     "output_type": "display_data"
    },
    {
     "data": {
      "text/plain": [
       "<Figure size 720x432 with 0 Axes>"
      ]
     },
     "metadata": {},
     "output_type": "display_data"
    },
    {
     "data": {
      "text/plain": [
       "<Figure size 720x432 with 0 Axes>"
      ]
     },
     "metadata": {},
     "output_type": "display_data"
    },
    {
     "data": {
      "text/plain": [
       "<Figure size 720x432 with 0 Axes>"
      ]
     },
     "metadata": {},
     "output_type": "display_data"
    },
    {
     "data": {
      "text/plain": [
       "<Figure size 720x432 with 0 Axes>"
      ]
     },
     "metadata": {},
     "output_type": "display_data"
    },
    {
     "data": {
      "text/plain": [
       "<Figure size 720x432 with 0 Axes>"
      ]
     },
     "metadata": {},
     "output_type": "display_data"
    },
    {
     "data": {
      "text/plain": [
       "<Figure size 720x432 with 0 Axes>"
      ]
     },
     "metadata": {},
     "output_type": "display_data"
    },
    {
     "data": {
      "text/plain": [
       "<Figure size 720x432 with 0 Axes>"
      ]
     },
     "metadata": {},
     "output_type": "display_data"
    },
    {
     "data": {
      "text/plain": [
       "<Figure size 720x432 with 0 Axes>"
      ]
     },
     "metadata": {},
     "output_type": "display_data"
    },
    {
     "data": {
      "text/plain": [
       "<Figure size 720x432 with 0 Axes>"
      ]
     },
     "metadata": {},
     "output_type": "display_data"
    },
    {
     "data": {
      "text/plain": [
       "<Figure size 720x432 with 0 Axes>"
      ]
     },
     "metadata": {},
     "output_type": "display_data"
    },
    {
     "data": {
      "text/plain": [
       "<Figure size 720x432 with 0 Axes>"
      ]
     },
     "metadata": {},
     "output_type": "display_data"
    },
    {
     "data": {
      "text/plain": [
       "<Figure size 720x432 with 0 Axes>"
      ]
     },
     "metadata": {},
     "output_type": "display_data"
    },
    {
     "data": {
      "text/plain": [
       "<Figure size 720x432 with 0 Axes>"
      ]
     },
     "metadata": {},
     "output_type": "display_data"
    },
    {
     "data": {
      "text/plain": [
       "<Figure size 720x432 with 0 Axes>"
      ]
     },
     "metadata": {},
     "output_type": "display_data"
    },
    {
     "data": {
      "text/plain": [
       "<Figure size 720x432 with 0 Axes>"
      ]
     },
     "metadata": {},
     "output_type": "display_data"
    },
    {
     "data": {
      "text/plain": [
       "<Figure size 720x432 with 0 Axes>"
      ]
     },
     "metadata": {},
     "output_type": "display_data"
    },
    {
     "data": {
      "text/plain": [
       "<Figure size 720x432 with 0 Axes>"
      ]
     },
     "metadata": {},
     "output_type": "display_data"
    },
    {
     "data": {
      "text/plain": [
       "<Figure size 720x432 with 0 Axes>"
      ]
     },
     "metadata": {},
     "output_type": "display_data"
    },
    {
     "data": {
      "text/plain": [
       "<Figure size 720x432 with 0 Axes>"
      ]
     },
     "metadata": {},
     "output_type": "display_data"
    },
    {
     "data": {
      "text/plain": [
       "<Figure size 720x432 with 0 Axes>"
      ]
     },
     "metadata": {},
     "output_type": "display_data"
    },
    {
     "data": {
      "text/plain": [
       "<Figure size 720x432 with 0 Axes>"
      ]
     },
     "metadata": {},
     "output_type": "display_data"
    },
    {
     "data": {
      "text/plain": [
       "<Figure size 720x432 with 0 Axes>"
      ]
     },
     "metadata": {},
     "output_type": "display_data"
    },
    {
     "data": {
      "text/plain": [
       "<Figure size 720x432 with 0 Axes>"
      ]
     },
     "metadata": {},
     "output_type": "display_data"
    },
    {
     "data": {
      "text/plain": [
       "<Figure size 720x432 with 0 Axes>"
      ]
     },
     "metadata": {},
     "output_type": "display_data"
    },
    {
     "data": {
      "text/plain": [
       "<Figure size 720x432 with 0 Axes>"
      ]
     },
     "metadata": {},
     "output_type": "display_data"
    },
    {
     "data": {
      "text/plain": [
       "<Figure size 720x432 with 0 Axes>"
      ]
     },
     "metadata": {},
     "output_type": "display_data"
    },
    {
     "data": {
      "text/plain": [
       "<Figure size 720x432 with 0 Axes>"
      ]
     },
     "metadata": {},
     "output_type": "display_data"
    },
    {
     "data": {
      "text/plain": [
       "<Figure size 720x432 with 0 Axes>"
      ]
     },
     "metadata": {},
     "output_type": "display_data"
    },
    {
     "data": {
      "text/plain": [
       "<Figure size 720x432 with 0 Axes>"
      ]
     },
     "metadata": {},
     "output_type": "display_data"
    },
    {
     "data": {
      "text/plain": [
       "<Figure size 720x432 with 0 Axes>"
      ]
     },
     "metadata": {},
     "output_type": "display_data"
    },
    {
     "data": {
      "text/plain": [
       "<Figure size 720x432 with 0 Axes>"
      ]
     },
     "metadata": {},
     "output_type": "display_data"
    },
    {
     "data": {
      "text/plain": [
       "<Figure size 720x432 with 0 Axes>"
      ]
     },
     "metadata": {},
     "output_type": "display_data"
    },
    {
     "data": {
      "text/plain": [
       "<Figure size 720x432 with 0 Axes>"
      ]
     },
     "metadata": {},
     "output_type": "display_data"
    },
    {
     "data": {
      "text/plain": [
       "<Figure size 720x432 with 0 Axes>"
      ]
     },
     "metadata": {},
     "output_type": "display_data"
    },
    {
     "data": {
      "text/plain": [
       "<Figure size 720x432 with 0 Axes>"
      ]
     },
     "metadata": {},
     "output_type": "display_data"
    },
    {
     "data": {
      "text/plain": [
       "<Figure size 720x432 with 0 Axes>"
      ]
     },
     "metadata": {},
     "output_type": "display_data"
    },
    {
     "data": {
      "text/plain": [
       "<Figure size 720x432 with 0 Axes>"
      ]
     },
     "metadata": {},
     "output_type": "display_data"
    },
    {
     "data": {
      "text/plain": [
       "<Figure size 720x432 with 0 Axes>"
      ]
     },
     "metadata": {},
     "output_type": "display_data"
    },
    {
     "data": {
      "text/plain": [
       "<Figure size 720x432 with 0 Axes>"
      ]
     },
     "metadata": {},
     "output_type": "display_data"
    },
    {
     "data": {
      "text/plain": [
       "<Figure size 720x432 with 0 Axes>"
      ]
     },
     "metadata": {},
     "output_type": "display_data"
    },
    {
     "data": {
      "text/plain": [
       "<Figure size 720x432 with 0 Axes>"
      ]
     },
     "metadata": {},
     "output_type": "display_data"
    },
    {
     "data": {
      "text/plain": [
       "<Figure size 720x432 with 0 Axes>"
      ]
     },
     "metadata": {},
     "output_type": "display_data"
    },
    {
     "data": {
      "text/plain": [
       "<Figure size 720x432 with 0 Axes>"
      ]
     },
     "metadata": {},
     "output_type": "display_data"
    },
    {
     "data": {
      "text/plain": [
       "<Figure size 720x432 with 0 Axes>"
      ]
     },
     "metadata": {},
     "output_type": "display_data"
    },
    {
     "data": {
      "text/plain": [
       "<Figure size 720x432 with 0 Axes>"
      ]
     },
     "metadata": {},
     "output_type": "display_data"
    },
    {
     "data": {
      "text/plain": [
       "<Figure size 720x432 with 0 Axes>"
      ]
     },
     "metadata": {},
     "output_type": "display_data"
    },
    {
     "data": {
      "text/plain": [
       "<Figure size 720x432 with 0 Axes>"
      ]
     },
     "metadata": {},
     "output_type": "display_data"
    },
    {
     "data": {
      "text/plain": [
       "<Figure size 720x432 with 0 Axes>"
      ]
     },
     "metadata": {},
     "output_type": "display_data"
    },
    {
     "data": {
      "text/plain": [
       "<Figure size 720x432 with 0 Axes>"
      ]
     },
     "metadata": {},
     "output_type": "display_data"
    },
    {
     "data": {
      "text/plain": [
       "<Figure size 720x432 with 0 Axes>"
      ]
     },
     "metadata": {},
     "output_type": "display_data"
    },
    {
     "data": {
      "text/plain": [
       "<Figure size 720x432 with 0 Axes>"
      ]
     },
     "metadata": {},
     "output_type": "display_data"
    },
    {
     "data": {
      "text/plain": [
       "<Figure size 720x432 with 0 Axes>"
      ]
     },
     "metadata": {},
     "output_type": "display_data"
    },
    {
     "data": {
      "text/plain": [
       "<Figure size 720x432 with 0 Axes>"
      ]
     },
     "metadata": {},
     "output_type": "display_data"
    },
    {
     "data": {
      "text/plain": [
       "<Figure size 720x432 with 0 Axes>"
      ]
     },
     "metadata": {},
     "output_type": "display_data"
    },
    {
     "data": {
      "text/plain": [
       "<Figure size 720x432 with 0 Axes>"
      ]
     },
     "metadata": {},
     "output_type": "display_data"
    },
    {
     "data": {
      "text/plain": [
       "<Figure size 720x432 with 0 Axes>"
      ]
     },
     "metadata": {},
     "output_type": "display_data"
    },
    {
     "data": {
      "text/plain": [
       "<Figure size 720x432 with 0 Axes>"
      ]
     },
     "metadata": {},
     "output_type": "display_data"
    },
    {
     "data": {
      "text/plain": [
       "<Figure size 720x432 with 0 Axes>"
      ]
     },
     "metadata": {},
     "output_type": "display_data"
    },
    {
     "data": {
      "text/plain": [
       "<Figure size 720x432 with 0 Axes>"
      ]
     },
     "metadata": {},
     "output_type": "display_data"
    },
    {
     "data": {
      "text/plain": [
       "<Figure size 720x432 with 0 Axes>"
      ]
     },
     "metadata": {},
     "output_type": "display_data"
    },
    {
     "data": {
      "text/plain": [
       "<Figure size 720x432 with 0 Axes>"
      ]
     },
     "metadata": {},
     "output_type": "display_data"
    },
    {
     "data": {
      "text/plain": [
       "<Figure size 720x432 with 0 Axes>"
      ]
     },
     "metadata": {},
     "output_type": "display_data"
    },
    {
     "data": {
      "text/plain": [
       "<Figure size 720x432 with 0 Axes>"
      ]
     },
     "metadata": {},
     "output_type": "display_data"
    },
    {
     "data": {
      "text/plain": [
       "<Figure size 720x432 with 0 Axes>"
      ]
     },
     "metadata": {},
     "output_type": "display_data"
    },
    {
     "data": {
      "text/plain": [
       "<Figure size 720x432 with 0 Axes>"
      ]
     },
     "metadata": {},
     "output_type": "display_data"
    },
    {
     "data": {
      "text/plain": [
       "<Figure size 720x432 with 0 Axes>"
      ]
     },
     "metadata": {},
     "output_type": "display_data"
    },
    {
     "data": {
      "text/plain": [
       "<Figure size 720x432 with 0 Axes>"
      ]
     },
     "metadata": {},
     "output_type": "display_data"
    },
    {
     "data": {
      "text/plain": [
       "<Figure size 720x432 with 0 Axes>"
      ]
     },
     "metadata": {},
     "output_type": "display_data"
    },
    {
     "data": {
      "text/plain": [
       "<Figure size 720x432 with 0 Axes>"
      ]
     },
     "metadata": {},
     "output_type": "display_data"
    },
    {
     "data": {
      "text/plain": [
       "<Figure size 720x432 with 0 Axes>"
      ]
     },
     "metadata": {},
     "output_type": "display_data"
    },
    {
     "data": {
      "text/plain": [
       "<Figure size 720x432 with 0 Axes>"
      ]
     },
     "metadata": {},
     "output_type": "display_data"
    },
    {
     "data": {
      "text/plain": [
       "<Figure size 720x432 with 0 Axes>"
      ]
     },
     "metadata": {},
     "output_type": "display_data"
    },
    {
     "data": {
      "text/plain": [
       "<Figure size 720x432 with 0 Axes>"
      ]
     },
     "metadata": {},
     "output_type": "display_data"
    },
    {
     "data": {
      "text/plain": [
       "<Figure size 720x432 with 0 Axes>"
      ]
     },
     "metadata": {},
     "output_type": "display_data"
    },
    {
     "data": {
      "text/plain": [
       "<Figure size 720x432 with 0 Axes>"
      ]
     },
     "metadata": {},
     "output_type": "display_data"
    },
    {
     "data": {
      "text/plain": [
       "<Figure size 720x432 with 0 Axes>"
      ]
     },
     "metadata": {},
     "output_type": "display_data"
    },
    {
     "data": {
      "text/plain": [
       "<Figure size 720x432 with 0 Axes>"
      ]
     },
     "metadata": {},
     "output_type": "display_data"
    },
    {
     "data": {
      "text/plain": [
       "<Figure size 720x432 with 0 Axes>"
      ]
     },
     "metadata": {},
     "output_type": "display_data"
    },
    {
     "data": {
      "text/plain": [
       "<Figure size 720x432 with 0 Axes>"
      ]
     },
     "metadata": {},
     "output_type": "display_data"
    },
    {
     "data": {
      "text/plain": [
       "<Figure size 720x432 with 0 Axes>"
      ]
     },
     "metadata": {},
     "output_type": "display_data"
    },
    {
     "data": {
      "text/plain": [
       "<Figure size 720x432 with 0 Axes>"
      ]
     },
     "metadata": {},
     "output_type": "display_data"
    },
    {
     "data": {
      "text/plain": [
       "<Figure size 720x432 with 0 Axes>"
      ]
     },
     "metadata": {},
     "output_type": "display_data"
    },
    {
     "data": {
      "text/plain": [
       "<Figure size 720x432 with 0 Axes>"
      ]
     },
     "metadata": {},
     "output_type": "display_data"
    },
    {
     "data": {
      "text/plain": [
       "<Figure size 720x432 with 0 Axes>"
      ]
     },
     "metadata": {},
     "output_type": "display_data"
    },
    {
     "data": {
      "text/plain": [
       "<Figure size 720x432 with 0 Axes>"
      ]
     },
     "metadata": {},
     "output_type": "display_data"
    },
    {
     "data": {
      "text/plain": [
       "<Figure size 720x432 with 0 Axes>"
      ]
     },
     "metadata": {},
     "output_type": "display_data"
    },
    {
     "data": {
      "text/plain": [
       "<Figure size 720x432 with 0 Axes>"
      ]
     },
     "metadata": {},
     "output_type": "display_data"
    },
    {
     "data": {
      "text/plain": [
       "<Figure size 720x432 with 0 Axes>"
      ]
     },
     "metadata": {},
     "output_type": "display_data"
    },
    {
     "data": {
      "text/plain": [
       "<Figure size 720x432 with 0 Axes>"
      ]
     },
     "metadata": {},
     "output_type": "display_data"
    },
    {
     "data": {
      "text/plain": [
       "<Figure size 720x432 with 0 Axes>"
      ]
     },
     "metadata": {},
     "output_type": "display_data"
    },
    {
     "data": {
      "text/plain": [
       "<Figure size 720x432 with 0 Axes>"
      ]
     },
     "metadata": {},
     "output_type": "display_data"
    },
    {
     "data": {
      "text/plain": [
       "<Figure size 720x432 with 0 Axes>"
      ]
     },
     "metadata": {},
     "output_type": "display_data"
    },
    {
     "data": {
      "text/plain": [
       "<Figure size 720x432 with 0 Axes>"
      ]
     },
     "metadata": {},
     "output_type": "display_data"
    },
    {
     "data": {
      "text/plain": [
       "<Figure size 720x432 with 0 Axes>"
      ]
     },
     "metadata": {},
     "output_type": "display_data"
    },
    {
     "data": {
      "text/plain": [
       "<Figure size 720x432 with 0 Axes>"
      ]
     },
     "metadata": {},
     "output_type": "display_data"
    },
    {
     "data": {
      "text/plain": [
       "<Figure size 720x432 with 0 Axes>"
      ]
     },
     "metadata": {},
     "output_type": "display_data"
    },
    {
     "data": {
      "text/plain": [
       "<Figure size 720x432 with 0 Axes>"
      ]
     },
     "metadata": {},
     "output_type": "display_data"
    },
    {
     "data": {
      "text/plain": [
       "<Figure size 720x432 with 0 Axes>"
      ]
     },
     "metadata": {},
     "output_type": "display_data"
    },
    {
     "data": {
      "text/plain": [
       "<Figure size 720x432 with 0 Axes>"
      ]
     },
     "metadata": {},
     "output_type": "display_data"
    },
    {
     "data": {
      "text/plain": [
       "<Figure size 720x432 with 0 Axes>"
      ]
     },
     "metadata": {},
     "output_type": "display_data"
    },
    {
     "data": {
      "text/plain": [
       "<Figure size 720x432 with 0 Axes>"
      ]
     },
     "metadata": {},
     "output_type": "display_data"
    },
    {
     "data": {
      "text/plain": [
       "<Figure size 720x432 with 0 Axes>"
      ]
     },
     "metadata": {},
     "output_type": "display_data"
    },
    {
     "data": {
      "text/plain": [
       "<Figure size 720x432 with 0 Axes>"
      ]
     },
     "metadata": {},
     "output_type": "display_data"
    },
    {
     "data": {
      "text/plain": [
       "<Figure size 720x432 with 0 Axes>"
      ]
     },
     "metadata": {},
     "output_type": "display_data"
    },
    {
     "data": {
      "text/plain": [
       "<Figure size 720x432 with 0 Axes>"
      ]
     },
     "metadata": {},
     "output_type": "display_data"
    },
    {
     "data": {
      "text/plain": [
       "<Figure size 720x432 with 0 Axes>"
      ]
     },
     "metadata": {},
     "output_type": "display_data"
    },
    {
     "data": {
      "text/plain": [
       "<Figure size 720x432 with 0 Axes>"
      ]
     },
     "metadata": {},
     "output_type": "display_data"
    },
    {
     "data": {
      "text/plain": [
       "<Figure size 720x432 with 0 Axes>"
      ]
     },
     "metadata": {},
     "output_type": "display_data"
    },
    {
     "data": {
      "text/plain": [
       "<Figure size 720x432 with 0 Axes>"
      ]
     },
     "metadata": {},
     "output_type": "display_data"
    },
    {
     "data": {
      "text/plain": [
       "<Figure size 720x432 with 0 Axes>"
      ]
     },
     "metadata": {},
     "output_type": "display_data"
    },
    {
     "data": {
      "text/plain": [
       "<Figure size 720x432 with 0 Axes>"
      ]
     },
     "metadata": {},
     "output_type": "display_data"
    },
    {
     "data": {
      "text/plain": [
       "<Figure size 720x432 with 0 Axes>"
      ]
     },
     "metadata": {},
     "output_type": "display_data"
    },
    {
     "data": {
      "text/plain": [
       "<Figure size 720x432 with 0 Axes>"
      ]
     },
     "metadata": {},
     "output_type": "display_data"
    },
    {
     "data": {
      "text/plain": [
       "<Figure size 720x432 with 0 Axes>"
      ]
     },
     "metadata": {},
     "output_type": "display_data"
    },
    {
     "data": {
      "text/plain": [
       "<Figure size 720x432 with 0 Axes>"
      ]
     },
     "metadata": {},
     "output_type": "display_data"
    },
    {
     "data": {
      "text/plain": [
       "<Figure size 720x432 with 0 Axes>"
      ]
     },
     "metadata": {},
     "output_type": "display_data"
    },
    {
     "data": {
      "text/plain": [
       "<Figure size 720x432 with 0 Axes>"
      ]
     },
     "metadata": {},
     "output_type": "display_data"
    },
    {
     "data": {
      "text/plain": [
       "<Figure size 720x432 with 0 Axes>"
      ]
     },
     "metadata": {},
     "output_type": "display_data"
    },
    {
     "data": {
      "text/plain": [
       "<Figure size 720x432 with 0 Axes>"
      ]
     },
     "metadata": {},
     "output_type": "display_data"
    },
    {
     "data": {
      "text/plain": [
       "<Figure size 720x432 with 0 Axes>"
      ]
     },
     "metadata": {},
     "output_type": "display_data"
    },
    {
     "data": {
      "text/plain": [
       "<Figure size 720x432 with 0 Axes>"
      ]
     },
     "metadata": {},
     "output_type": "display_data"
    },
    {
     "data": {
      "text/plain": [
       "<Figure size 720x432 with 0 Axes>"
      ]
     },
     "metadata": {},
     "output_type": "display_data"
    },
    {
     "data": {
      "text/plain": [
       "<Figure size 720x432 with 0 Axes>"
      ]
     },
     "metadata": {},
     "output_type": "display_data"
    },
    {
     "data": {
      "text/plain": [
       "<Figure size 720x432 with 0 Axes>"
      ]
     },
     "metadata": {},
     "output_type": "display_data"
    },
    {
     "data": {
      "text/plain": [
       "<Figure size 720x432 with 0 Axes>"
      ]
     },
     "metadata": {},
     "output_type": "display_data"
    },
    {
     "data": {
      "text/plain": [
       "<Figure size 720x432 with 0 Axes>"
      ]
     },
     "metadata": {},
     "output_type": "display_data"
    },
    {
     "data": {
      "text/plain": [
       "<Figure size 720x432 with 0 Axes>"
      ]
     },
     "metadata": {},
     "output_type": "display_data"
    },
    {
     "data": {
      "text/plain": [
       "<Figure size 720x432 with 0 Axes>"
      ]
     },
     "metadata": {},
     "output_type": "display_data"
    },
    {
     "data": {
      "text/plain": [
       "<Figure size 720x432 with 0 Axes>"
      ]
     },
     "metadata": {},
     "output_type": "display_data"
    },
    {
     "data": {
      "text/plain": [
       "<Figure size 720x432 with 0 Axes>"
      ]
     },
     "metadata": {},
     "output_type": "display_data"
    },
    {
     "data": {
      "text/plain": [
       "<Figure size 720x432 with 0 Axes>"
      ]
     },
     "metadata": {},
     "output_type": "display_data"
    },
    {
     "data": {
      "text/plain": [
       "<Figure size 720x432 with 0 Axes>"
      ]
     },
     "metadata": {},
     "output_type": "display_data"
    },
    {
     "data": {
      "text/plain": [
       "<Figure size 720x432 with 0 Axes>"
      ]
     },
     "metadata": {},
     "output_type": "display_data"
    },
    {
     "data": {
      "text/plain": [
       "<Figure size 720x432 with 0 Axes>"
      ]
     },
     "metadata": {},
     "output_type": "display_data"
    },
    {
     "data": {
      "text/plain": [
       "<Figure size 720x432 with 0 Axes>"
      ]
     },
     "metadata": {},
     "output_type": "display_data"
    },
    {
     "data": {
      "text/plain": [
       "<Figure size 720x432 with 0 Axes>"
      ]
     },
     "metadata": {},
     "output_type": "display_data"
    },
    {
     "data": {
      "text/plain": [
       "<Figure size 720x432 with 0 Axes>"
      ]
     },
     "metadata": {},
     "output_type": "display_data"
    },
    {
     "data": {
      "text/plain": [
       "<Figure size 720x432 with 0 Axes>"
      ]
     },
     "metadata": {},
     "output_type": "display_data"
    },
    {
     "data": {
      "text/plain": [
       "<Figure size 720x432 with 0 Axes>"
      ]
     },
     "metadata": {},
     "output_type": "display_data"
    },
    {
     "data": {
      "text/plain": [
       "<Figure size 720x432 with 0 Axes>"
      ]
     },
     "metadata": {},
     "output_type": "display_data"
    },
    {
     "data": {
      "text/plain": [
       "<Figure size 720x432 with 0 Axes>"
      ]
     },
     "metadata": {},
     "output_type": "display_data"
    },
    {
     "data": {
      "text/plain": [
       "<Figure size 720x432 with 0 Axes>"
      ]
     },
     "metadata": {},
     "output_type": "display_data"
    },
    {
     "data": {
      "text/plain": [
       "<Figure size 720x432 with 0 Axes>"
      ]
     },
     "metadata": {},
     "output_type": "display_data"
    },
    {
     "data": {
      "text/plain": [
       "<Figure size 720x432 with 0 Axes>"
      ]
     },
     "metadata": {},
     "output_type": "display_data"
    },
    {
     "data": {
      "text/plain": [
       "<Figure size 720x432 with 0 Axes>"
      ]
     },
     "metadata": {},
     "output_type": "display_data"
    },
    {
     "data": {
      "text/plain": [
       "<Figure size 720x432 with 0 Axes>"
      ]
     },
     "metadata": {},
     "output_type": "display_data"
    },
    {
     "data": {
      "text/plain": [
       "<Figure size 720x432 with 0 Axes>"
      ]
     },
     "metadata": {},
     "output_type": "display_data"
    },
    {
     "data": {
      "text/plain": [
       "<Figure size 720x432 with 0 Axes>"
      ]
     },
     "metadata": {},
     "output_type": "display_data"
    },
    {
     "data": {
      "text/plain": [
       "<Figure size 720x432 with 0 Axes>"
      ]
     },
     "metadata": {},
     "output_type": "display_data"
    },
    {
     "data": {
      "text/plain": [
       "<Figure size 720x432 with 0 Axes>"
      ]
     },
     "metadata": {},
     "output_type": "display_data"
    },
    {
     "data": {
      "text/plain": [
       "<Figure size 720x432 with 0 Axes>"
      ]
     },
     "metadata": {},
     "output_type": "display_data"
    },
    {
     "data": {
      "text/plain": [
       "<Figure size 720x432 with 0 Axes>"
      ]
     },
     "metadata": {},
     "output_type": "display_data"
    },
    {
     "data": {
      "text/plain": [
       "<Figure size 720x432 with 0 Axes>"
      ]
     },
     "metadata": {},
     "output_type": "display_data"
    },
    {
     "data": {
      "text/plain": [
       "<Figure size 720x432 with 0 Axes>"
      ]
     },
     "metadata": {},
     "output_type": "display_data"
    },
    {
     "data": {
      "text/plain": [
       "<Figure size 720x432 with 0 Axes>"
      ]
     },
     "metadata": {},
     "output_type": "display_data"
    },
    {
     "data": {
      "text/plain": [
       "<Figure size 720x432 with 0 Axes>"
      ]
     },
     "metadata": {},
     "output_type": "display_data"
    },
    {
     "data": {
      "text/plain": [
       "<Figure size 720x432 with 0 Axes>"
      ]
     },
     "metadata": {},
     "output_type": "display_data"
    },
    {
     "data": {
      "text/plain": [
       "<Figure size 720x432 with 0 Axes>"
      ]
     },
     "metadata": {},
     "output_type": "display_data"
    },
    {
     "data": {
      "text/plain": [
       "<Figure size 720x432 with 0 Axes>"
      ]
     },
     "metadata": {},
     "output_type": "display_data"
    },
    {
     "data": {
      "text/plain": [
       "<Figure size 720x432 with 0 Axes>"
      ]
     },
     "metadata": {},
     "output_type": "display_data"
    },
    {
     "data": {
      "text/plain": [
       "<Figure size 720x432 with 0 Axes>"
      ]
     },
     "metadata": {},
     "output_type": "display_data"
    },
    {
     "data": {
      "text/plain": [
       "<Figure size 720x432 with 0 Axes>"
      ]
     },
     "metadata": {},
     "output_type": "display_data"
    },
    {
     "data": {
      "text/plain": [
       "<Figure size 720x432 with 0 Axes>"
      ]
     },
     "metadata": {},
     "output_type": "display_data"
    },
    {
     "data": {
      "text/plain": [
       "<Figure size 720x432 with 0 Axes>"
      ]
     },
     "metadata": {},
     "output_type": "display_data"
    },
    {
     "data": {
      "text/plain": [
       "<Figure size 720x432 with 0 Axes>"
      ]
     },
     "metadata": {},
     "output_type": "display_data"
    },
    {
     "data": {
      "text/plain": [
       "<Figure size 720x432 with 0 Axes>"
      ]
     },
     "metadata": {},
     "output_type": "display_data"
    },
    {
     "data": {
      "text/plain": [
       "<Figure size 720x432 with 0 Axes>"
      ]
     },
     "metadata": {},
     "output_type": "display_data"
    },
    {
     "data": {
      "text/plain": [
       "<Figure size 720x432 with 0 Axes>"
      ]
     },
     "metadata": {},
     "output_type": "display_data"
    },
    {
     "data": {
      "text/plain": [
       "<Figure size 720x432 with 0 Axes>"
      ]
     },
     "metadata": {},
     "output_type": "display_data"
    },
    {
     "data": {
      "text/plain": [
       "<Figure size 720x432 with 0 Axes>"
      ]
     },
     "metadata": {},
     "output_type": "display_data"
    },
    {
     "data": {
      "text/plain": [
       "<Figure size 720x432 with 0 Axes>"
      ]
     },
     "metadata": {},
     "output_type": "display_data"
    },
    {
     "data": {
      "text/plain": [
       "<Figure size 720x432 with 0 Axes>"
      ]
     },
     "metadata": {},
     "output_type": "display_data"
    },
    {
     "data": {
      "text/plain": [
       "<Figure size 720x432 with 0 Axes>"
      ]
     },
     "metadata": {},
     "output_type": "display_data"
    },
    {
     "data": {
      "text/plain": [
       "<Figure size 720x432 with 0 Axes>"
      ]
     },
     "metadata": {},
     "output_type": "display_data"
    },
    {
     "data": {
      "text/plain": [
       "<Figure size 720x432 with 0 Axes>"
      ]
     },
     "metadata": {},
     "output_type": "display_data"
    },
    {
     "data": {
      "text/plain": [
       "<Figure size 720x432 with 0 Axes>"
      ]
     },
     "metadata": {},
     "output_type": "display_data"
    },
    {
     "data": {
      "text/plain": [
       "<Figure size 720x432 with 0 Axes>"
      ]
     },
     "metadata": {},
     "output_type": "display_data"
    },
    {
     "data": {
      "text/plain": [
       "<Figure size 720x432 with 0 Axes>"
      ]
     },
     "metadata": {},
     "output_type": "display_data"
    },
    {
     "data": {
      "text/plain": [
       "<Figure size 720x432 with 0 Axes>"
      ]
     },
     "metadata": {},
     "output_type": "display_data"
    },
    {
     "data": {
      "text/plain": [
       "<Figure size 720x432 with 0 Axes>"
      ]
     },
     "metadata": {},
     "output_type": "display_data"
    },
    {
     "data": {
      "text/plain": [
       "<Figure size 720x432 with 0 Axes>"
      ]
     },
     "metadata": {},
     "output_type": "display_data"
    },
    {
     "data": {
      "text/plain": [
       "<Figure size 720x432 with 0 Axes>"
      ]
     },
     "metadata": {},
     "output_type": "display_data"
    },
    {
     "data": {
      "text/plain": [
       "<Figure size 720x432 with 0 Axes>"
      ]
     },
     "metadata": {},
     "output_type": "display_data"
    },
    {
     "data": {
      "text/plain": [
       "<Figure size 720x432 with 0 Axes>"
      ]
     },
     "metadata": {},
     "output_type": "display_data"
    },
    {
     "data": {
      "text/plain": [
       "<Figure size 720x432 with 0 Axes>"
      ]
     },
     "metadata": {},
     "output_type": "display_data"
    },
    {
     "data": {
      "text/plain": [
       "<Figure size 720x432 with 0 Axes>"
      ]
     },
     "metadata": {},
     "output_type": "display_data"
    },
    {
     "data": {
      "text/plain": [
       "<Figure size 720x432 with 0 Axes>"
      ]
     },
     "metadata": {},
     "output_type": "display_data"
    },
    {
     "data": {
      "text/plain": [
       "<Figure size 720x432 with 0 Axes>"
      ]
     },
     "metadata": {},
     "output_type": "display_data"
    },
    {
     "data": {
      "text/plain": [
       "<Figure size 720x432 with 0 Axes>"
      ]
     },
     "metadata": {},
     "output_type": "display_data"
    },
    {
     "data": {
      "text/plain": [
       "<Figure size 720x432 with 0 Axes>"
      ]
     },
     "metadata": {},
     "output_type": "display_data"
    },
    {
     "data": {
      "text/plain": [
       "<Figure size 720x432 with 0 Axes>"
      ]
     },
     "metadata": {},
     "output_type": "display_data"
    },
    {
     "data": {
      "text/plain": [
       "<Figure size 720x432 with 0 Axes>"
      ]
     },
     "metadata": {},
     "output_type": "display_data"
    },
    {
     "data": {
      "text/plain": [
       "<Figure size 720x432 with 0 Axes>"
      ]
     },
     "metadata": {},
     "output_type": "display_data"
    },
    {
     "data": {
      "text/plain": [
       "<Figure size 720x432 with 0 Axes>"
      ]
     },
     "metadata": {},
     "output_type": "display_data"
    },
    {
     "data": {
      "text/plain": [
       "<Figure size 720x432 with 0 Axes>"
      ]
     },
     "metadata": {},
     "output_type": "display_data"
    },
    {
     "data": {
      "text/plain": [
       "<Figure size 720x432 with 0 Axes>"
      ]
     },
     "metadata": {},
     "output_type": "display_data"
    },
    {
     "data": {
      "text/plain": [
       "<Figure size 720x432 with 0 Axes>"
      ]
     },
     "metadata": {},
     "output_type": "display_data"
    },
    {
     "data": {
      "text/plain": [
       "<Figure size 720x432 with 0 Axes>"
      ]
     },
     "metadata": {},
     "output_type": "display_data"
    },
    {
     "data": {
      "text/plain": [
       "<Figure size 720x432 with 0 Axes>"
      ]
     },
     "metadata": {},
     "output_type": "display_data"
    },
    {
     "data": {
      "text/plain": [
       "<Figure size 720x432 with 0 Axes>"
      ]
     },
     "metadata": {},
     "output_type": "display_data"
    },
    {
     "data": {
      "text/plain": [
       "<Figure size 720x432 with 0 Axes>"
      ]
     },
     "metadata": {},
     "output_type": "display_data"
    },
    {
     "data": {
      "text/plain": [
       "<Figure size 720x432 with 0 Axes>"
      ]
     },
     "metadata": {},
     "output_type": "display_data"
    },
    {
     "data": {
      "text/plain": [
       "<Figure size 720x432 with 0 Axes>"
      ]
     },
     "metadata": {},
     "output_type": "display_data"
    },
    {
     "data": {
      "text/plain": [
       "<Figure size 720x432 with 0 Axes>"
      ]
     },
     "metadata": {},
     "output_type": "display_data"
    },
    {
     "data": {
      "text/plain": [
       "<Figure size 720x432 with 0 Axes>"
      ]
     },
     "metadata": {},
     "output_type": "display_data"
    },
    {
     "data": {
      "text/plain": [
       "<Figure size 720x432 with 0 Axes>"
      ]
     },
     "metadata": {},
     "output_type": "display_data"
    },
    {
     "data": {
      "text/plain": [
       "<Figure size 720x432 with 0 Axes>"
      ]
     },
     "metadata": {},
     "output_type": "display_data"
    },
    {
     "data": {
      "text/plain": [
       "<Figure size 720x432 with 0 Axes>"
      ]
     },
     "metadata": {},
     "output_type": "display_data"
    },
    {
     "data": {
      "text/plain": [
       "<Figure size 720x432 with 0 Axes>"
      ]
     },
     "metadata": {},
     "output_type": "display_data"
    },
    {
     "data": {
      "text/plain": [
       "<Figure size 720x432 with 0 Axes>"
      ]
     },
     "metadata": {},
     "output_type": "display_data"
    },
    {
     "data": {
      "text/plain": [
       "<Figure size 720x432 with 0 Axes>"
      ]
     },
     "metadata": {},
     "output_type": "display_data"
    },
    {
     "data": {
      "text/plain": [
       "<Figure size 720x432 with 0 Axes>"
      ]
     },
     "metadata": {},
     "output_type": "display_data"
    },
    {
     "data": {
      "text/plain": [
       "<Figure size 720x432 with 0 Axes>"
      ]
     },
     "metadata": {},
     "output_type": "display_data"
    },
    {
     "data": {
      "text/plain": [
       "<Figure size 720x432 with 0 Axes>"
      ]
     },
     "metadata": {},
     "output_type": "display_data"
    },
    {
     "data": {
      "text/plain": [
       "<Figure size 720x432 with 0 Axes>"
      ]
     },
     "metadata": {},
     "output_type": "display_data"
    },
    {
     "data": {
      "text/plain": [
       "<Figure size 720x432 with 0 Axes>"
      ]
     },
     "metadata": {},
     "output_type": "display_data"
    },
    {
     "data": {
      "text/plain": [
       "<Figure size 720x432 with 0 Axes>"
      ]
     },
     "metadata": {},
     "output_type": "display_data"
    },
    {
     "data": {
      "text/plain": [
       "<Figure size 720x432 with 0 Axes>"
      ]
     },
     "metadata": {},
     "output_type": "display_data"
    },
    {
     "data": {
      "text/plain": [
       "<Figure size 720x432 with 0 Axes>"
      ]
     },
     "metadata": {},
     "output_type": "display_data"
    },
    {
     "data": {
      "text/plain": [
       "<Figure size 720x432 with 0 Axes>"
      ]
     },
     "metadata": {},
     "output_type": "display_data"
    },
    {
     "data": {
      "text/plain": [
       "<Figure size 720x432 with 0 Axes>"
      ]
     },
     "metadata": {},
     "output_type": "display_data"
    },
    {
     "data": {
      "text/plain": [
       "<Figure size 720x432 with 0 Axes>"
      ]
     },
     "metadata": {},
     "output_type": "display_data"
    },
    {
     "data": {
      "text/plain": [
       "<Figure size 720x432 with 0 Axes>"
      ]
     },
     "metadata": {},
     "output_type": "display_data"
    },
    {
     "data": {
      "text/plain": [
       "<Figure size 720x432 with 0 Axes>"
      ]
     },
     "metadata": {},
     "output_type": "display_data"
    },
    {
     "data": {
      "text/plain": [
       "<Figure size 720x432 with 0 Axes>"
      ]
     },
     "metadata": {},
     "output_type": "display_data"
    },
    {
     "data": {
      "text/plain": [
       "<Figure size 720x432 with 0 Axes>"
      ]
     },
     "metadata": {},
     "output_type": "display_data"
    },
    {
     "data": {
      "text/plain": [
       "<Figure size 720x432 with 0 Axes>"
      ]
     },
     "metadata": {},
     "output_type": "display_data"
    },
    {
     "data": {
      "text/plain": [
       "<Figure size 720x432 with 0 Axes>"
      ]
     },
     "metadata": {},
     "output_type": "display_data"
    },
    {
     "data": {
      "text/plain": [
       "<Figure size 720x432 with 0 Axes>"
      ]
     },
     "metadata": {},
     "output_type": "display_data"
    },
    {
     "data": {
      "text/plain": [
       "<Figure size 720x432 with 0 Axes>"
      ]
     },
     "metadata": {},
     "output_type": "display_data"
    },
    {
     "data": {
      "text/plain": [
       "<Figure size 720x432 with 0 Axes>"
      ]
     },
     "metadata": {},
     "output_type": "display_data"
    },
    {
     "data": {
      "text/plain": [
       "<Figure size 720x432 with 0 Axes>"
      ]
     },
     "metadata": {},
     "output_type": "display_data"
    },
    {
     "data": {
      "text/plain": [
       "<Figure size 720x432 with 0 Axes>"
      ]
     },
     "metadata": {},
     "output_type": "display_data"
    },
    {
     "data": {
      "text/plain": [
       "<Figure size 720x432 with 0 Axes>"
      ]
     },
     "metadata": {},
     "output_type": "display_data"
    },
    {
     "data": {
      "text/plain": [
       "<Figure size 720x432 with 0 Axes>"
      ]
     },
     "metadata": {},
     "output_type": "display_data"
    },
    {
     "data": {
      "text/plain": [
       "<Figure size 720x432 with 0 Axes>"
      ]
     },
     "metadata": {},
     "output_type": "display_data"
    },
    {
     "data": {
      "text/plain": [
       "<Figure size 720x432 with 0 Axes>"
      ]
     },
     "metadata": {},
     "output_type": "display_data"
    },
    {
     "data": {
      "text/plain": [
       "<Figure size 720x432 with 0 Axes>"
      ]
     },
     "metadata": {},
     "output_type": "display_data"
    },
    {
     "data": {
      "text/plain": [
       "<Figure size 720x432 with 0 Axes>"
      ]
     },
     "metadata": {},
     "output_type": "display_data"
    },
    {
     "data": {
      "text/plain": [
       "<Figure size 720x432 with 0 Axes>"
      ]
     },
     "metadata": {},
     "output_type": "display_data"
    },
    {
     "data": {
      "text/plain": [
       "<Figure size 720x432 with 0 Axes>"
      ]
     },
     "metadata": {},
     "output_type": "display_data"
    },
    {
     "data": {
      "text/plain": [
       "<Figure size 720x432 with 0 Axes>"
      ]
     },
     "metadata": {},
     "output_type": "display_data"
    },
    {
     "data": {
      "text/plain": [
       "<Figure size 720x432 with 0 Axes>"
      ]
     },
     "metadata": {},
     "output_type": "display_data"
    },
    {
     "data": {
      "text/plain": [
       "<Figure size 720x432 with 0 Axes>"
      ]
     },
     "metadata": {},
     "output_type": "display_data"
    },
    {
     "data": {
      "text/plain": [
       "<Figure size 720x432 with 0 Axes>"
      ]
     },
     "metadata": {},
     "output_type": "display_data"
    },
    {
     "data": {
      "text/plain": [
       "<Figure size 720x432 with 0 Axes>"
      ]
     },
     "metadata": {},
     "output_type": "display_data"
    },
    {
     "data": {
      "text/plain": [
       "<Figure size 720x432 with 0 Axes>"
      ]
     },
     "metadata": {},
     "output_type": "display_data"
    },
    {
     "data": {
      "text/plain": [
       "<Figure size 720x432 with 0 Axes>"
      ]
     },
     "metadata": {},
     "output_type": "display_data"
    },
    {
     "data": {
      "text/plain": [
       "<Figure size 720x432 with 0 Axes>"
      ]
     },
     "metadata": {},
     "output_type": "display_data"
    },
    {
     "data": {
      "text/plain": [
       "<Figure size 720x432 with 0 Axes>"
      ]
     },
     "metadata": {},
     "output_type": "display_data"
    },
    {
     "data": {
      "text/plain": [
       "<Figure size 720x432 with 0 Axes>"
      ]
     },
     "metadata": {},
     "output_type": "display_data"
    },
    {
     "data": {
      "text/plain": [
       "<Figure size 720x432 with 0 Axes>"
      ]
     },
     "metadata": {},
     "output_type": "display_data"
    },
    {
     "data": {
      "text/plain": [
       "<Figure size 720x432 with 0 Axes>"
      ]
     },
     "metadata": {},
     "output_type": "display_data"
    },
    {
     "data": {
      "text/plain": [
       "<Figure size 720x432 with 0 Axes>"
      ]
     },
     "metadata": {},
     "output_type": "display_data"
    },
    {
     "data": {
      "text/plain": [
       "<Figure size 720x432 with 0 Axes>"
      ]
     },
     "metadata": {},
     "output_type": "display_data"
    },
    {
     "data": {
      "text/plain": [
       "<Figure size 720x432 with 0 Axes>"
      ]
     },
     "metadata": {},
     "output_type": "display_data"
    },
    {
     "data": {
      "text/plain": [
       "<Figure size 720x432 with 0 Axes>"
      ]
     },
     "metadata": {},
     "output_type": "display_data"
    },
    {
     "data": {
      "text/plain": [
       "<Figure size 720x432 with 0 Axes>"
      ]
     },
     "metadata": {},
     "output_type": "display_data"
    },
    {
     "data": {
      "text/plain": [
       "<Figure size 720x432 with 0 Axes>"
      ]
     },
     "metadata": {},
     "output_type": "display_data"
    },
    {
     "data": {
      "text/plain": [
       "<Figure size 720x432 with 0 Axes>"
      ]
     },
     "metadata": {},
     "output_type": "display_data"
    },
    {
     "data": {
      "text/plain": [
       "<Figure size 720x432 with 0 Axes>"
      ]
     },
     "metadata": {},
     "output_type": "display_data"
    },
    {
     "data": {
      "text/plain": [
       "<Figure size 720x432 with 0 Axes>"
      ]
     },
     "metadata": {},
     "output_type": "display_data"
    },
    {
     "data": {
      "text/plain": [
       "<Figure size 720x432 with 0 Axes>"
      ]
     },
     "metadata": {},
     "output_type": "display_data"
    },
    {
     "data": {
      "text/plain": [
       "<Figure size 720x432 with 0 Axes>"
      ]
     },
     "metadata": {},
     "output_type": "display_data"
    },
    {
     "data": {
      "text/plain": [
       "<Figure size 720x432 with 0 Axes>"
      ]
     },
     "metadata": {},
     "output_type": "display_data"
    },
    {
     "data": {
      "text/plain": [
       "<Figure size 720x432 with 0 Axes>"
      ]
     },
     "metadata": {},
     "output_type": "display_data"
    },
    {
     "data": {
      "text/plain": [
       "<Figure size 720x432 with 0 Axes>"
      ]
     },
     "metadata": {},
     "output_type": "display_data"
    },
    {
     "data": {
      "text/plain": [
       "<Figure size 720x432 with 0 Axes>"
      ]
     },
     "metadata": {},
     "output_type": "display_data"
    },
    {
     "data": {
      "text/plain": [
       "<Figure size 720x432 with 0 Axes>"
      ]
     },
     "metadata": {},
     "output_type": "display_data"
    },
    {
     "data": {
      "text/plain": [
       "<Figure size 720x432 with 0 Axes>"
      ]
     },
     "metadata": {},
     "output_type": "display_data"
    },
    {
     "data": {
      "text/plain": [
       "<Figure size 720x432 with 0 Axes>"
      ]
     },
     "metadata": {},
     "output_type": "display_data"
    },
    {
     "data": {
      "text/plain": [
       "<Figure size 720x432 with 0 Axes>"
      ]
     },
     "metadata": {},
     "output_type": "display_data"
    },
    {
     "data": {
      "text/plain": [
       "<Figure size 720x432 with 0 Axes>"
      ]
     },
     "metadata": {},
     "output_type": "display_data"
    },
    {
     "data": {
      "text/plain": [
       "<Figure size 720x432 with 0 Axes>"
      ]
     },
     "metadata": {},
     "output_type": "display_data"
    },
    {
     "data": {
      "text/plain": [
       "<Figure size 720x432 with 0 Axes>"
      ]
     },
     "metadata": {},
     "output_type": "display_data"
    },
    {
     "data": {
      "text/plain": [
       "<Figure size 720x432 with 0 Axes>"
      ]
     },
     "metadata": {},
     "output_type": "display_data"
    },
    {
     "data": {
      "text/plain": [
       "<Figure size 720x432 with 0 Axes>"
      ]
     },
     "metadata": {},
     "output_type": "display_data"
    },
    {
     "data": {
      "text/plain": [
       "<Figure size 720x432 with 0 Axes>"
      ]
     },
     "metadata": {},
     "output_type": "display_data"
    },
    {
     "data": {
      "text/plain": [
       "<Figure size 720x432 with 0 Axes>"
      ]
     },
     "metadata": {},
     "output_type": "display_data"
    },
    {
     "data": {
      "text/plain": [
       "<Figure size 720x432 with 0 Axes>"
      ]
     },
     "metadata": {},
     "output_type": "display_data"
    },
    {
     "data": {
      "text/plain": [
       "<Figure size 720x432 with 0 Axes>"
      ]
     },
     "metadata": {},
     "output_type": "display_data"
    },
    {
     "data": {
      "text/plain": [
       "<Figure size 720x432 with 0 Axes>"
      ]
     },
     "metadata": {},
     "output_type": "display_data"
    },
    {
     "data": {
      "text/plain": [
       "<Figure size 720x432 with 0 Axes>"
      ]
     },
     "metadata": {},
     "output_type": "display_data"
    },
    {
     "data": {
      "text/plain": [
       "<Figure size 720x432 with 0 Axes>"
      ]
     },
     "metadata": {},
     "output_type": "display_data"
    },
    {
     "data": {
      "text/plain": [
       "<Figure size 720x432 with 0 Axes>"
      ]
     },
     "metadata": {},
     "output_type": "display_data"
    },
    {
     "data": {
      "text/plain": [
       "<Figure size 720x432 with 0 Axes>"
      ]
     },
     "metadata": {},
     "output_type": "display_data"
    },
    {
     "data": {
      "text/plain": [
       "<Figure size 720x432 with 0 Axes>"
      ]
     },
     "metadata": {},
     "output_type": "display_data"
    },
    {
     "data": {
      "text/plain": [
       "<Figure size 720x432 with 0 Axes>"
      ]
     },
     "metadata": {},
     "output_type": "display_data"
    },
    {
     "data": {
      "text/plain": [
       "<Figure size 720x432 with 0 Axes>"
      ]
     },
     "metadata": {},
     "output_type": "display_data"
    },
    {
     "data": {
      "text/plain": [
       "<Figure size 720x432 with 0 Axes>"
      ]
     },
     "metadata": {},
     "output_type": "display_data"
    },
    {
     "data": {
      "text/plain": [
       "<Figure size 720x432 with 0 Axes>"
      ]
     },
     "metadata": {},
     "output_type": "display_data"
    },
    {
     "data": {
      "text/plain": [
       "<Figure size 720x432 with 0 Axes>"
      ]
     },
     "metadata": {},
     "output_type": "display_data"
    },
    {
     "data": {
      "text/plain": [
       "<Figure size 720x432 with 0 Axes>"
      ]
     },
     "metadata": {},
     "output_type": "display_data"
    },
    {
     "data": {
      "text/plain": [
       "<Figure size 720x432 with 0 Axes>"
      ]
     },
     "metadata": {},
     "output_type": "display_data"
    },
    {
     "data": {
      "text/plain": [
       "<Figure size 720x432 with 0 Axes>"
      ]
     },
     "metadata": {},
     "output_type": "display_data"
    },
    {
     "data": {
      "text/plain": [
       "<Figure size 720x432 with 0 Axes>"
      ]
     },
     "metadata": {},
     "output_type": "display_data"
    },
    {
     "data": {
      "text/plain": [
       "<Figure size 720x432 with 0 Axes>"
      ]
     },
     "metadata": {},
     "output_type": "display_data"
    },
    {
     "data": {
      "text/plain": [
       "<Figure size 720x432 with 0 Axes>"
      ]
     },
     "metadata": {},
     "output_type": "display_data"
    },
    {
     "data": {
      "text/plain": [
       "<Figure size 720x432 with 0 Axes>"
      ]
     },
     "metadata": {},
     "output_type": "display_data"
    }
   ],
   "source": [
    "calc_vol=CalcVolume(input_path)\n",
    "dat=calc_vol.pipeline()\n",
    "# calc_vol.data.to_csv(args.input_path+'features.csv')"
   ]
  },
  {
   "cell_type": "code",
   "execution_count": 14,
   "metadata": {},
   "outputs": [
    {
     "data": {
      "text/plain": [
       "(7, 648, 648, 648, 648, 648, 648)"
      ]
     },
     "execution_count": 14,
     "metadata": {},
     "output_type": "execute_result"
    }
   ],
   "source": [
    "len(calc_vol.data_frame),len(calc_vol.data_frame[0]),len(calc_vol.data_frame[1]),len(calc_vol.data_frame[2]),len(calc_vol.data_frame[3]),len(calc_vol.data_frame[4]),len(calc_vol.data_frame[5])"
   ]
  },
  {
   "cell_type": "code",
   "execution_count": null,
   "metadata": {},
   "outputs": [],
   "source": [
    "# df = pd.DataFrame({'Path': dat[0],\n",
    "#                    'height_array':dat[1],\n",
    "#                   'mean_heights':dat[2],\n",
    "#                   'est_vols':dat[3]})"
   ]
  },
  {
   "cell_type": "code",
   "execution_count": 44,
   "metadata": {
    "scrolled": true
   },
   "outputs": [],
   "source": [
    "# plt.hist(height_arrays[0].ravel(), 96); \n",
    "# height_arrays[0], mean_heights\n",
    "# calc_vol.data=pd.DataFrame(dat, cols = ['paths', 'raw_heights', 'means', 'vols'])\n",
    "# calc_vol.data.head()"
   ]
  },
  {
   "cell_type": "code",
   "execution_count": 15,
   "metadata": {
    "scrolled": true
   },
   "outputs": [],
   "source": [
    "# calc_vol.data_frame = calc_vol.make_path_csv()"
   ]
  },
  {
   "cell_type": "code",
   "execution_count": 16,
   "metadata": {},
   "outputs": [
    {
     "data": {
      "text/plain": [
       "[(683, 43), (1247, 25), (1319, 554), (677, 581)]"
      ]
     },
     "execution_count": 16,
     "metadata": {},
     "output_type": "execute_result"
    }
   ],
   "source": [
    "calc_vol.data_frame[1][1]"
   ]
  },
  {
   "cell_type": "code",
   "execution_count": 17,
   "metadata": {},
   "outputs": [],
   "source": [
    "path_s= pd.Series(calc_vol.data_frame[0])\n",
    "path_annot=pd.Series(calc_vol.data_frame[1])\n",
    "fimg_s= pd.Series(calc_vol.data_frame[3])\n",
    "froi_s= pd.Series(calc_vol.data_frame[5])\n",
    "bins_s= pd.Series(calc_vol.data_frame[6])\n",
    "depth_s= pd.Series(calc_vol.data_frame[2])\n",
    "depthroi_s= pd.Series(calc_vol.data_frame[4])"
   ]
  },
  {
   "cell_type": "code",
   "execution_count": 18,
   "metadata": {},
   "outputs": [
    {
     "name": "stderr",
     "output_type": "stream",
     "text": [
      "C:\\Users\\sarde\\Anaconda3\\envs\\tensorflow\\lib\\site-packages\\pandas\\core\\generic.py:2505: PerformanceWarning: \n",
      "your performance may suffer as PyTables will pickle object types that it cannot\n",
      "map directly to c-types [inferred_type->mixed,key->values] [items->None]\n",
      "\n",
      "  encoding=encoding,\n"
     ]
    }
   ],
   "source": [
    "path_s.to_hdf('data.h5', key='paths', mode='w')\n",
    "path_annot.to_hdf('data.h5', key='annots')\n",
    "froi_s.to_hdf('data.h5', key='froi')\n",
    "fimg_s.to_hdf('data.h5', key='fimg')\n",
    "bins_s.to_hdf('data.h5', key='bins')\n",
    "depth_s.to_hdf('data.h5', key='depths')\n",
    "depthroi_s.to_hdf('data.h5', key='depthroi')"
   ]
  },
  {
   "cell_type": "code",
   "execution_count": 20,
   "metadata": {},
   "outputs": [
    {
     "data": {
      "text/plain": [
       "[(685, 24), (1249, 16), (1341, 562), (662, 556)]"
      ]
     },
     "execution_count": 20,
     "metadata": {},
     "output_type": "execute_result"
    }
   ],
   "source": [
    "pd.read_hdf('data.h5', 'annots')[0]"
   ]
  },
  {
   "cell_type": "code",
   "execution_count": 46,
   "metadata": {
    "scrolled": true
   },
   "outputs": [],
   "source": [
    "# dframe = np.array(np.hstack((calc_vol.data_frame[1],calc_vol.data_frame[2],calc_vol.data_frame[3])))\n",
    "# pframe=np.array(calc_vol.data_frame[0])\n",
    "\n",
    "# d\n",
    "# df = pd.DataFrame({'Path': calc_vol.data_frame[0],\n",
    "                   \n",
    "#                    'freqs_img':calc_vol.data_frame[1],\n",
    "#                   'freqs_roi':calc_vol.data_frame[2],\n",
    "#                   'bins':calc_vol.data_frame[3]})\n",
    "# df=df.T\n",
    "# df.columns=['Path', 'freqs_img', 'freqs_roi', 'bins']\n",
    "# df.head()\n",
    "# pframe"
   ]
  },
  {
   "cell_type": "code",
   "execution_count": 47,
   "metadata": {},
   "outputs": [],
   "source": [
    "# np.hstack((calc_vol.data_frame[1],calc_vol.data_frame[2],calc_vol.data_frame[3])).shape"
   ]
  },
  {
   "cell_type": "code",
   "execution_count": 48,
   "metadata": {},
   "outputs": [],
   "source": [
    "# df.to_csv(args.input_path+'test_feats.csv')"
   ]
  },
  {
   "cell_type": "code",
   "execution_count": 49,
   "metadata": {},
   "outputs": [],
   "source": [
    "# df = pd.read_csv('D:/00_NCSU/00_Resources/00_Datasets/PSA-oak-d-images/test_feats.csv', dtype={'Path':str,\n",
    "#                                                                                               'freqs_img':np.float64,\n",
    "#                                                                                               'freqs_roi':np.float64,\n",
    "#                                                                                               'bins':np.int32})\n",
    "# df.head()"
   ]
  },
  {
   "cell_type": "code",
   "execution_count": 50,
   "metadata": {
    "scrolled": true
   },
   "outputs": [],
   "source": [
    "# df['freqs_roi'][0]"
   ]
  },
  {
   "cell_type": "markdown",
   "metadata": {
    "id": "0lfunPO7MkWz"
   },
   "source": [
    "# Scratch Cells\n",
    "\n",
    "Testing out improvements"
   ]
  },
  {
   "cell_type": "code",
   "execution_count": null,
   "metadata": {
    "colab": {
     "base_uri": "https://localhost:8080/",
     "height": 240
    },
    "id": "K9twXOS1g3Dq",
    "outputId": "f4bcd62f-443a-4533-a546-b2cae44c08c0"
   },
   "outputs": [],
   "source": [
    "import pickle\n",
    "images = []\n",
    "depths = []\n",
    "\n",
    "for i in range(len(calc_vol.path)):\n",
    "#     print(os.listdir(calc_vol.path[i]))\n",
    "    images.append(cv2.cvtColor(cv2.imread(calc_vol.path[i]+'color.png'), cv2.COLOR_BGR2RGB))\n",
    "#     plt.imshow(im)\n",
    "    depths.append(np.load(calc_vol.path[i]+'/depth.npy'))\n",
    "    file = open(calc_vol.path[i]+'box_annotation.pkl','rb')\n",
    "    object_file = pickle.load(file)\n",
    "    file.close()\n",
    "    annotations.append(object_file)"
   ]
  }
 ],
 "metadata": {
  "accelerator": "GPU",
  "colab": {
   "collapsed_sections": [
    "HInXULRbi50C"
   ],
   "name": "Colab-VolumeEstimation.ipynb",
   "provenance": [],
   "toc_visible": true
  },
  "kernelspec": {
   "display_name": "Python 3",
   "language": "python",
   "name": "python3"
  },
  "language_info": {
   "codemirror_mode": {
    "name": "ipython",
    "version": 3
   },
   "file_extension": ".py",
   "mimetype": "text/x-python",
   "name": "python",
   "nbconvert_exporter": "python",
   "pygments_lexer": "ipython3",
   "version": "3.6.10"
  }
 },
 "nbformat": 4,
 "nbformat_minor": 1
}
